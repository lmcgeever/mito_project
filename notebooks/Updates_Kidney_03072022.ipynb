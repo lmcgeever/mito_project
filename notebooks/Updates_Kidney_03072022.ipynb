{
 "cells": [
  {
   "cell_type": "markdown",
   "id": "f573b658",
   "metadata": {},
   "source": [
    "# Set up and Config"
   ]
  },
  {
   "cell_type": "code",
   "execution_count": 1,
   "id": "f61b36e4",
   "metadata": {},
   "outputs": [],
   "source": [
    "import pandas as pd\n",
    "import numpy as np\n",
    "import scanpy as sc\n",
    "import seaborn as sns\n",
    "import anndata as ad\n",
    "import PyPDF2\n",
    "import matplotlib.pyplot as plt\n",
    "import statistics as st\n",
    "from pathlib import Path\n",
    "import scipy.stats as stats\n",
    "from collections import defaultdict\n",
    "from statannot import add_stat_annotation"
   ]
  },
  {
   "cell_type": "code",
   "execution_count": 2,
   "id": "bb83f5ea",
   "metadata": {},
   "outputs": [
    {
     "name": "stdout",
     "output_type": "stream",
     "text": [
      "scanpy==1.8.2 anndata==0.7.8 umap==0.5.2 numpy==1.20.1 scipy==1.6.2 pandas==1.2.4 scikit-learn==0.24.1 statsmodels==0.12.2 python-igraph==0.9.8 pynndescent==0.5.5\n"
     ]
    }
   ],
   "source": [
    "#Adata Files\n",
    "adata_processed = \"/mnt/ibm_sm/home/lea.mcgeever/ms/notebooks/adata_files/adata_processed__02172022.h5ad\"\n",
    "adata = sc.read_h5ad(adata_processed)\n",
    "\n",
    "adata_tissue = \"/mnt/ibm_sm/home/lea.mcgeever/ms/notebooks/adata_files/adata_kidney_processed_03072022.h5ad\"\n",
    "tissue = sc.read_h5ad(adata_tissue)\n",
    "\n",
    "sc.settings.verbosity = 3             \n",
    "sc.logging.print_header()\n",
    "sc.settings.set_figure_params(dpi=80, facecolor='white')"
   ]
  },
  {
   "cell_type": "code",
   "execution_count": null,
   "id": "440c2312",
   "metadata": {},
   "outputs": [],
   "source": []
  },
  {
   "cell_type": "markdown",
   "id": "4c8b72b7",
   "metadata": {
    "heading_collapsed": true
   },
   "source": [
    "# Clustering"
   ]
  },
  {
   "cell_type": "markdown",
   "id": "410e159d",
   "metadata": {
    "hidden": true
   },
   "source": [
    "Thymus"
   ]
  },
  {
   "cell_type": "code",
   "execution_count": null,
   "id": "40ef792e",
   "metadata": {
    "hidden": true
   },
   "outputs": [],
   "source": [
    "#adata_kidney = adata[adata.obs['tissue'] == \"Kidney\"].copy()\n",
    "#sc.pp.pca(adata_kidney)\n",
    "#sc.pp.neighbors(adata_kidney, n_pcs=9)\n",
    "#sc.tl.leiden(adata_kidney) \n",
    "#sc.tl.umap(adata_kidney)"
   ]
  },
  {
   "cell_type": "code",
   "execution_count": null,
   "id": "8c51526b",
   "metadata": {
    "hidden": true
   },
   "outputs": [],
   "source": [
    "#adata_kidney_processed = \"/mnt/ibm_sm/home/lea.mcgeever/ms/notebooks/adata_files/adata_kidney_processed_03072022.h5ad\"\n",
    "#adata_kidney.write(adata_kidney_processed)\n"
   ]
  },
  {
   "cell_type": "markdown",
   "id": "f88dd806",
   "metadata": {},
   "source": [
    "# Clustering consistancy"
   ]
  },
  {
   "cell_type": "code",
   "execution_count": null,
   "id": "84c70815",
   "metadata": {},
   "outputs": [],
   "source": [
    "sc.pl.umap(tissue, color = ['leiden', 'cell_ontology_class'], wspace= 0.5)"
   ]
  },
  {
   "cell_type": "markdown",
   "id": "d75b950c",
   "metadata": {
    "heading_collapsed": true
   },
   "source": [
    "## Kidney"
   ]
  },
  {
   "cell_type": "markdown",
   "id": "664ab5f8",
   "metadata": {
    "hidden": true
   },
   "source": [
    "### mt genes"
   ]
  },
  {
   "cell_type": "code",
   "execution_count": null,
   "id": "5f703785",
   "metadata": {
    "hidden": true,
    "scrolled": true
   },
   "outputs": [],
   "source": [
    "sc.pl.umap(tissue, color = ['mt-Atp6','mt-Atp8','mt-Co1','mt-Co2','mt-Co3','mt-Cytb','mt-Nd1','mt-Nd2','mt-Nd3','mt-Nd4','mt-Nd4l','mt-Nd5','mt-Nd6','mt-Rnr1','mt-Rnr2','mt-Ta','mt-Te','mt-Tf','mt-Ti','mt-Tl1','mt-Tl2','mt-Tm','mt-Tp','mt-Tq','mt-Tt','mt-Tv'], wspace= 0.5, color_map='Oranges', ncols=3)\n"
   ]
  },
  {
   "cell_type": "markdown",
   "id": "bd3b6888",
   "metadata": {
    "hidden": true
   },
   "source": [
    "* \"Mechanistically, through an autocrine effect, macrophage-derived TSP1 suppressed Smpdl3b expression in liver, which amplified liver proinflammatory signalling (Toll-like receptor 4 signal pathway) and promoted NAFLD progression.\" https://pubmed.ncbi.nlm.nih.gov/33294831/\n",
    "\n",
    "* \"Binding of mycobacterial trehalose 6,6'- dimycolate (TDM) to [Fcer1g] receptor complex leads to phosphorylation of ITAM, triggering activation of SYK, CARD9 and NF-kappa-B, consequently driving maturation of antigen-presenting cells and shaping antigen-specific priming of T-cells toward effector T-helper 1 and T-helper 17 cell subtypes.\" https://www.proteinatlas.org/ENSG00000158869-FCER1G "
   ]
  },
  {
   "cell_type": "code",
   "execution_count": null,
   "id": "03ae4106",
   "metadata": {
    "hidden": true
   },
   "outputs": [],
   "source": [
    "sc.pl.umap(tissue, color = ['Cd36', 'Cd38','Smpdl3b','Thbs1','Tlr4','Nfkb1','Syk','Card9'], wspace= 0.5, color_map='Oranges', ncols=3)"
   ]
  },
  {
   "cell_type": "code",
   "execution_count": null,
   "id": "1e6a1526",
   "metadata": {
    "hidden": true
   },
   "outputs": [],
   "source": [
    "sc.pl.umap(tissue, color = ['leiden', 'age'], wspace=.5)"
   ]
  },
  {
   "cell_type": "code",
   "execution_count": null,
   "id": "62947a51",
   "metadata": {
    "hidden": true
   },
   "outputs": [],
   "source": [
    "sc.pl.umap(tissue, color = ['leiden', 'cell_ontology_class'], wspace= 0.5)"
   ]
  },
  {
   "cell_type": "code",
   "execution_count": null,
   "id": "e4b94609",
   "metadata": {
    "hidden": true
   },
   "outputs": [],
   "source": [
    "sc.pl.umap(tissue, color = ['leiden', 'mouse.id'], wspace= 0.4)"
   ]
  },
  {
   "cell_type": "code",
   "execution_count": null,
   "id": "91e22710",
   "metadata": {
    "hidden": true
   },
   "outputs": [],
   "source": [
    "sc.pl.umap(tissue, color = ['Cd19', 'Cd27','Cd38', 'Cd40lg', 'Il2', 'Il10'], wspace= 0.4, color_map='Oranges', ncols = 3)\n",
    "#B cell marker, Cd19+, Cd27-, Cd38+\n",
    "#Ig Secreting Cells (ISC) can be generated in vitro by culturing human B cells w/T cell-derived stimuli CD40L, IL-2, and IL-10"
   ]
  },
  {
   "cell_type": "markdown",
   "id": "82951515",
   "metadata": {
    "hidden": true
   },
   "source": [
    "### Macrophage inflammatory protein production"
   ]
  },
  {
   "cell_type": "code",
   "execution_count": null,
   "id": "f6f19dc8",
   "metadata": {
    "hidden": true
   },
   "outputs": [],
   "source": [
    "#as noted on geneontology.org \n",
    "sc.pl.umap(tissue, color = ['Mefv', 'Arg2','Mcoln2','Trem2','Nod2','Sirpa','Trpv4'], wspace= 0.5, color_map= 'Oranges', ncols= 3)\n"
   ]
  },
  {
   "cell_type": "markdown",
   "id": "74afc576",
   "metadata": {
    "heading_collapsed": true,
    "hidden": true
   },
   "source": [
    "### B cell receptor complex"
   ]
  },
  {
   "cell_type": "code",
   "execution_count": null,
   "id": "be51b0bd",
   "metadata": {
    "hidden": true
   },
   "outputs": [],
   "source": [
    "#as noted on geneontology.org\n",
    "sc.pl.umap(tissue, color = ['Ighm','Iglc1','Syk','Ighd','Lime1', 'Cd79a','Cd79b'], wspace= 0.5, color_map= 'Oranges', ncols= 3)\n",
    "#sc.pl.umap(tissue, color = ['Ighm','Ighd','Cd79a','Cd79b'], wspace= 0.5, color_map= 'Oranges', ncols= 4)\n"
   ]
  },
  {
   "cell_type": "markdown",
   "id": "f3e8bba1",
   "metadata": {
    "hidden": true
   },
   "source": [
    "### Macrophage regulation"
   ]
  },
  {
   "cell_type": "markdown",
   "id": "90a5316b",
   "metadata": {
    "hidden": true
   },
   "source": [
    "According to Human Protein Atlas\n",
    "* Ulbp1: All immune cells, higest in macrophages\n",
    "* Grn: Many immune cells, most highly in Hofbauer, Kupffer and macrophage cells\n",
    "* Cx3cl1: low in immune cells\n",
    "* Fer1l5: low in immune cells\n",
    "* Cd200: Enriched in B cells, monocytes. most immune cells\n",
    "* Syt11: all immune cells\n",
    "* Bpi: Among immune cells, highest in monocytes\n",
    "* Pla2g10: barely detected in immune cells"
   ]
  },
  {
   "cell_type": "code",
   "execution_count": null,
   "id": "f072b0fd",
   "metadata": {
    "hidden": true,
    "scrolled": true
   },
   "outputs": [],
   "source": [
    "#as noted on geneontology.org\n",
    "sc.pl.umap(tissue, color = ['Ulbp1','Cx3cl1','Fer1l5','Grn','Cd200','Shpk', 'Syt11','Bpi','Pla2g10'], wspace= 0.5, color_map= 'Oranges', ncols= 3)\n"
   ]
  },
  {
   "cell_type": "markdown",
   "id": "8e4eba89",
   "metadata": {
    "heading_collapsed": true,
    "hidden": true
   },
   "source": [
    "### B cell differentiation"
   ]
  },
  {
   "cell_type": "markdown",
   "id": "ed05e432",
   "metadata": {
    "hidden": true
   },
   "source": [
    "* Cd24a: results in acquisition of features of immature B cell\n",
    "* Bcl6: results in acquisition of features of B cell"
   ]
  },
  {
   "cell_type": "code",
   "execution_count": null,
   "id": "27ed3320",
   "metadata": {
    "hidden": true,
    "scrolled": false
   },
   "outputs": [],
   "source": [
    "#as noted on geneontology.org\n",
    "sc.pl.umap(tissue, color = ['Rag1', 'Rag2','Cd24a','Bcl6','Atm','Foxp1','Dock10','Dpp4','Bax','Prdm1','Traf3ip2','Adgrg3','Atp11c', 'Bak1','Plcl2'], wspace= 0.5, color_map= 'Oranges', ncols= 3)\n"
   ]
  },
  {
   "cell_type": "markdown",
   "id": "65feac15",
   "metadata": {
    "hidden": true
   },
   "source": [
    "### Interferon genes"
   ]
  },
  {
   "cell_type": "code",
   "execution_count": null,
   "id": "ddd6b6b2",
   "metadata": {
    "hidden": true
   },
   "outputs": [],
   "source": [
    "sc.pl.umap(tissue, color = ['Ifnlr1','Ifnl3','Ifnar1','Ifnar2','Klhl20','Nfkb1'], wspace= 0.5, color_map= 'Oranges', ncols= 3)\n",
    "#Ifnl3 is interferon lambda\n",
    "#Ifnlr1 is interferon lambda receptor \n",
    "#Ifnar1 IFN-a and -b receptor\n",
    "#Ifnar2 IFN-a and -b receptor\n",
    "#Klhl20 IFN gamma binding\n",
    "#Nfkb1 is Nf-kb"
   ]
  },
  {
   "cell_type": "markdown",
   "id": "9191668e",
   "metadata": {
    "heading_collapsed": true,
    "hidden": true
   },
   "source": [
    "### Macropahge proliferation genes"
   ]
  },
  {
   "cell_type": "code",
   "execution_count": null,
   "id": "8bd47473",
   "metadata": {
    "hidden": true
   },
   "outputs": [],
   "source": [
    "sc.pl.umap(tissue, color = ['Cx3cl1','Ptk2','Gba','Csf1r','Csf1','Il34','Mapk3','Mapk1'], wspace= 0.5, color_map= 'Oranges', ncols= 3)"
   ]
  },
  {
   "cell_type": "markdown",
   "id": "b5e964ed",
   "metadata": {
    "heading_collapsed": true,
    "hidden": true
   },
   "source": [
    "### 'Iglc3','Iglc2','Igkc'"
   ]
  },
  {
   "cell_type": "markdown",
   "id": "4595bdfe",
   "metadata": {
    "hidden": true
   },
   "source": [
    "Highly expressed in B cells and Plasma cells, less so in T cells, not macrophages"
   ]
  },
  {
   "cell_type": "code",
   "execution_count": null,
   "id": "43fb057a",
   "metadata": {
    "hidden": true
   },
   "outputs": [],
   "source": [
    "sc.pl.umap(tissue, color = ['Iglc3','Iglc2','Igkc'], wspace= 0.5, color_map= 'Oranges', ncols= 3)\n"
   ]
  },
  {
   "cell_type": "markdown",
   "id": "c1624c12",
   "metadata": {
    "hidden": true
   },
   "source": [
    "### 'Cd79a','Cd79b','Cd37'"
   ]
  },
  {
   "cell_type": "markdown",
   "id": "79f49b50",
   "metadata": {
    "hidden": true
   },
   "source": [
    "\"CD37 is a tetraspanin expressed prominently on the surface of B cells\" (https://pubmed.ncbi.nlm.nih.gov/33333768/)"
   ]
  },
  {
   "cell_type": "code",
   "execution_count": null,
   "id": "e86ee8a4",
   "metadata": {
    "hidden": true
   },
   "outputs": [],
   "source": [
    "sc.pl.umap(tissue, color = ['Cd79a','Cd79b','Cd37'], wspace= 0.5, color_map= 'Oranges')"
   ]
  },
  {
   "cell_type": "markdown",
   "id": "bb88f2a0",
   "metadata": {
    "hidden": true
   },
   "source": [
    "### Macrophage M1/M2 polarization, Yunna et al. 2020"
   ]
  },
  {
   "cell_type": "code",
   "execution_count": null,
   "id": "d70154f7",
   "metadata": {
    "hidden": true,
    "scrolled": false
   },
   "outputs": [],
   "source": [
    "#M1\n",
    "sc.pl.umap(tissue, color = ['Il6','Il12a','Il12b',\n",
    "                            'Tnf','Cd80','Cd86',\n",
    "                            'Fcgr3','Fcgr4','Fcgr2b'], wspace= 0.5, color_map= 'Oranges',ncols = 3)\n",
    "#M1 overexpress: Cd80, Cd86, Cd16/32\n",
    "#Fcgr3 is Cd16. Fcgr4 similar?\n",
    "#Fcgr2b is Cd32\n",
    "\n",
    "#M1 produce Il-12, Il-6, Tnf"
   ]
  },
  {
   "cell_type": "code",
   "execution_count": null,
   "id": "03a1c059",
   "metadata": {
    "hidden": true,
    "scrolled": false
   },
   "outputs": [],
   "source": [
    "#M2, leiden 10?\n",
    "sc.pl.umap(tissue, color = ['Arg1','Mrc1','Il10',\n",
    "                            'Ccl17','Ccl22', 'Pparg',\n",
    "                           'Ppargc1a'], wspace= 0.5, color_map= 'Oranges',ncols = 3)\n",
    "\n",
    "#M2 overexpress: 'Arg1','Mrc1','Il10','Ccl17','Ccl22'\n",
    "#Mrc1 is Cd206, mannose receptor\n",
    "#Pparg, nuclear transcpxn factor promotes M2, inhibits M1\n",
    "#Ppargc1a, This protein interacts with PPARgamma, It provides a direct link between external physiological stimuli and the regulation of mitochondrial biogenesis, and is a major factor that regulates muscle fiber type determination."
   ]
  },
  {
   "cell_type": "code",
   "execution_count": null,
   "id": "50546152",
   "metadata": {
    "hidden": true
   },
   "outputs": [],
   "source": []
  },
  {
   "cell_type": "code",
   "execution_count": null,
   "id": "0942e734",
   "metadata": {
    "hidden": true
   },
   "outputs": [],
   "source": []
  },
  {
   "cell_type": "markdown",
   "id": "8d628dec",
   "metadata": {
    "hidden": true
   },
   "source": [
    "### Jablonski M1 & M2 marker genes"
   ]
  },
  {
   "cell_type": "code",
   "execution_count": null,
   "id": "46bccf2b",
   "metadata": {
    "hidden": true
   },
   "outputs": [],
   "source": [
    "sc.pl.umap(tissue, color = ['Cd38','Myc','Fpr2','Egr2','Gpr18',\n",
    "                   'Nos2','Il1b','Il6','Il12b','Ccr7',\n",
    "                   'Inhba','Tnf','Arg1','Retnla','Fn1',\n",
    "                   'Mrc1'], wspace= 0.5, color_map= 'Oranges',ncols = 3)"
   ]
  },
  {
   "cell_type": "code",
   "execution_count": null,
   "id": "95c195ea",
   "metadata": {
    "hidden": true
   },
   "outputs": [],
   "source": [
    "M1_short = ['Junb','Cebpd','Cav1','Herpud1','Tgm2','Egr1','Il2rg','Dck','Ifitm3','Srgn','Sqstm1','Atf4','Tapbp','Hspa5']\n",
    "\n",
    "M2_short = ['Egr2','Tns1','Ypel3','Pdcd4','Dnmt1','Gmnn','Rapgef6','Mxi1','H2afv','Nfic','Tsc22d3','AU020206','Dag1','Parp1','Paip2','Erp29','Sash3','Ptpn22','Siva1','Rmnd5a','Selplg','Cdk2ap2','Timp2','Map1lc3b','Ppp2r5c','Cd151','Dusp3','Vamp4','Crip1','Gltp','Ctnnb1','B4galnt1']\n"
   ]
  },
  {
   "cell_type": "code",
   "execution_count": null,
   "id": "5c6663a1",
   "metadata": {
    "hidden": true,
    "scrolled": true
   },
   "outputs": [],
   "source": [
    "#M1 short\n",
    "sc.pl.umap(tissue, color = ['Junb','Cebpd','Cav1','Herpud1','Tgm2',\n",
    "                            'Egr1','Il2rg','Dck','Ifitm3','Srgn','Sqstm1',\n",
    "                            'Atf4','Tapbp','Hspa5'], wspace= 0.5, color_map= 'Oranges',ncols = 3)"
   ]
  },
  {
   "cell_type": "code",
   "execution_count": null,
   "id": "bef961ca",
   "metadata": {
    "hidden": true,
    "scrolled": true
   },
   "outputs": [],
   "source": [
    "#M2 short\n",
    "\n",
    "sc.pl.umap(tissue, color = ['Egr2','Tns1','Ypel3',\n",
    "                            'Pdcd4','Dnmt1','Gmnn',\n",
    "                            'Rapgef6','Mxi1','H2afv',\n",
    "                            'Nfic','Tsc22d3','AU020206',\n",
    "                            'Dag1','Parp1','Paip2',\n",
    "                            'Erp29','Sash3','Ptpn22',\n",
    "                            'Siva1','Rmnd5a','Selplg',\n",
    "                            'Cdk2ap2','Timp2','Map1lc3b',\n",
    "                            'Ppp2r5c','Cd151','Dusp3',\n",
    "                            'Vamp4','Crip1','Gltp',\n",
    "                            'Ctnnb1','B4galnt1'], wspace= 0.5, color_map= 'Oranges',ncols = 3)"
   ]
  },
  {
   "cell_type": "markdown",
   "id": "a5acbe9b",
   "metadata": {},
   "source": [
    "# Lists"
   ]
  },
  {
   "cell_type": "code",
   "execution_count": 3,
   "id": "fae1f4db",
   "metadata": {},
   "outputs": [],
   "source": [
    "mitocarta3_path = \"/mnt/ibm_sm/home/lea.mcgeever/ms/notebooks/Mouse_mt_genes.csv\"\n",
    "mitocarta3_df = pd.read_csv(mitocarta3_path)\n",
    "mt_nc_genes = list(mitocarta3_df['Symbol'])\n",
    "\n",
    "mitocarta_remove = [\"mt-Atp6\",\n",
    "                    \"mt-Atp8\",\n",
    "                    \"mt-Co1\",\n",
    "                    \"mt-Co2\",\n",
    "                    \"mt-Co3\",\n",
    "                    \"mt-Cytb\",\n",
    "                    \"mt-Nd1\",\n",
    "                    \"mt-Nd2\",\n",
    "                    \"mt-Nd3\",\n",
    "                    \"mt-Nd4\",\n",
    "                    \"mt-Nd4l\",\n",
    "                    \"mt-Nd5\",\n",
    "                    \"mt-Nd6\"]\n",
    "\n",
    "#removing mt_encoded genes\n",
    "for m in mitocarta_remove:\n",
    "    mt_nc_genes.remove(m)"
   ]
  },
  {
   "cell_type": "code",
   "execution_count": 4,
   "id": "581f19a8",
   "metadata": {},
   "outputs": [],
   "source": [
    "mt_genes = [\n",
    "    \"mt-Atp6\",\n",
    "    \"mt-Atp8\",\n",
    "    \"mt-Co1\",\n",
    "    \"mt-Co2\",\n",
    "    \"mt-Co3\",\n",
    "    \"mt-Cytb\",\n",
    "    \"mt-Nd1\",\n",
    "    \"mt-Nd2\",\n",
    "    \"mt-Nd3\",\n",
    "    \"mt-Nd4\",\n",
    "    \"mt-Nd4l\",\n",
    "    \"mt-Nd5\",\n",
    "    \"mt-Nd6\",\n",
    "    \"mt-Rnr1\",\n",
    "    \"mt-Rnr2\",\n",
    "    \"mt-Ta\",\n",
    "    \"mt-Te\",\n",
    "    \"mt-Tf\",\n",
    "    \"mt-Ti\",\n",
    "    \"mt-Tl1\",\n",
    "     \"mt-Tl2\",\n",
    "    \"mt-Tm\",\n",
    "    \"mt-Tp\",\n",
    "    \"mt-Tq\",\n",
    "    \"mt-Tt\",\n",
    "    \"mt-Tv\"\n",
    "]"
   ]
  },
  {
   "cell_type": "markdown",
   "id": "a3c62aaa",
   "metadata": {},
   "source": [
    "Genes not in adata.vars"
   ]
  },
  {
   "cell_type": "code",
   "execution_count": 29,
   "id": "9190b5f4",
   "metadata": {},
   "outputs": [],
   "source": [
    "#sc.tl.score_genes_cell_cycle ignored these genes since they're not in .vars\n",
    "ignored = ['Gatd3a', 'Micos10', 'Fdx2', 'Mmut', 'Atp5pb', 'Mtarc2', 'Micos13', 'Mtres1', 'Coa8', 'Tmlhe', 'Mtarc1', 'Prxl2a', 'Marchf5', 'Dmac2l', 'Atp5md', 'Antkmt', 'Atpsckmt', 'Septin4', 'Prorp', 'Htd2', 'Pigbos1']\n"
   ]
  },
  {
   "cell_type": "markdown",
   "id": "18dda26d",
   "metadata": {},
   "source": [
    "Mitocarta3.0 nuclear genes combined with mitochondrial genes"
   ]
  },
  {
   "cell_type": "code",
   "execution_count": 5,
   "id": "42fff3d6",
   "metadata": {},
   "outputs": [],
   "source": [
    "mt_nc = mt_genes + mt_nc_genes"
   ]
  },
  {
   "cell_type": "code",
   "execution_count": 6,
   "id": "36f2ea3a",
   "metadata": {},
   "outputs": [],
   "source": [
    "tis_cells = list(set(tissue.obs['cell_ontology_class']))\n",
    "ages = ['3m','18m','24m']"
   ]
  },
  {
   "cell_type": "code",
   "execution_count": 7,
   "id": "35a92bf8",
   "metadata": {},
   "outputs": [],
   "source": [
    "bcr = ['Ighm','Iglc1','Syk','Ighd','Lime1', 'Cd79a','Cd79b']"
   ]
  },
  {
   "cell_type": "code",
   "execution_count": 8,
   "id": "fcd07042",
   "metadata": {},
   "outputs": [],
   "source": [
    "#leiden 10 \n",
    "leiden10vs15 = ['C1qc','Cdk6','Cd14','Fcgr2b','Mafb','Cd74','Ctsc','C1qb','Hexb','Cxcl16']"
   ]
  },
  {
   "cell_type": "code",
   "execution_count": 9,
   "id": "47729302",
   "metadata": {},
   "outputs": [],
   "source": [
    "#leiden 15\n",
    "leiden15vs10 = ['Vim','S100a6','Tmsb10','S100a4','Il17ra','Samsn1','Cd44','Lsp1','Prr13']"
   ]
  },
  {
   "cell_type": "markdown",
   "id": "d944326a",
   "metadata": {},
   "source": [
    "## Macrophage gene lists"
   ]
  },
  {
   "cell_type": "markdown",
   "id": "02447766",
   "metadata": {},
   "source": [
    "Macrophage Polarization: Different Gene Signatures in M1(LPS+) vs. Classically and M2(LPS–) vs. Alternatively Activated Macrophages\n",
    "Marco Orecchioni et al. 2019.\n",
    "\n",
    "https://www.ncbi.nlm.nih.gov/pmc/articles/PMC6543837/#SM5"
   ]
  },
  {
   "cell_type": "code",
   "execution_count": 10,
   "id": "dccd5328",
   "metadata": {},
   "outputs": [],
   "source": [
    "#Only in vivo M1(=LPS+) UPREG\n",
    "genes1 = ['Irg1','Ccl2','Csf2','Marcksl1','Il23a','Cmpk2','Rtp4','Slc7a11','Maff','Gpr85','Pde4b','Trex1','Ier3','Ifi47','Nfkbie','Oasl2','Gdf15','Cdkn1a','Slc7a2','Gem','F10','Oas2','Il15','Rnd3','Gbp2','Lif','Irf1','Fabp3','Src','Slc39a14','Ccl9','Ripk2','Plagl1','Iigp1','Rel','Tap1','Sphk1','Stat5a','Sh3bp5','Lad1','Adm','Lcp2','Zc3h12a','Calcrl','Irgm1','Arid5a','Arrdc4','Cebpd','Junb','Etv6','Stk40','Nfkb1','Daxx','E2f8','Tlr7','Fam129a','Tmem2','Znfx1','Cav1','Mmp13','Plek','Trib3','Herpud1','Asns','Tgm2','Klf7','Ptprj','Ccdc86','Slc1a4','Nmi','Tpst1','Hk2','Osgin2','Slamf9','Egr1','Akna','Atp10a','Phldb1','Sesn2','Rbpj','Mthfd2','Parp12','Aff1','Slc12a4','Tor3a','Ogfr','Kpna3','Plagl2','Casp7','Ugcg','N4bp1','Igsf8','Rasa2','Tank','Rcsd1','Trim13','Marcks','Siah2','Hivep1','Rbbp8','Tnfaip2','Tcof1','Myd88','Apbb1ip','Dab2','Psmb10','Stip1','Sp100','Myo10','Psme2','Mtmr14','Plaur','Il2rg','Aftph','Tars','Appl1','Myo1g','Dck','Sap30','Fcgr2b','Sertad2','Rabgef1','Azi2','Rnf19b','Nck1','Vav3','Trim34','Itgav','Prdm1','Aebp2','Larp1','Eef1e1','Ifitm3','Rela','Aars','Epsti1','Slc4a7','Rps6ka2','Rnf14','Gars','Tor1aip1','Katna1','Ddx21','Eif2s2','Nampt','Zfand3','Wars','Wdr43','Aida','Ube2f','Rps6ka4','Ptpn2','Sbds','Notch2','Nup62','Txnrd1','Top1','Eif6','Klf6','Gtpbp2','Lztfl1','Hspa9','Mat2a','Abca1','Ptpn12','Surf4','B3gnt2','Ghitm','Gtf2b','Slc3a2','Bcl10','Srgn','Sqstm1','Atf4','Tapbp','Eif3c','Hspa5']\n",
    "M1 = []\n",
    "for i in genes1:\n",
    "    if i in list(tissue.var.index):\n",
    "        M1.append(i)\n",
    "    \n",
    "\n"
   ]
  },
  {
   "cell_type": "code",
   "execution_count": 11,
   "id": "abeb7195",
   "metadata": {},
   "outputs": [],
   "source": [
    "#Only in vivo M2(+LPS-) UPREG\n",
    "genes2 = ['Egr2','Fbxo32','Cebpa','Gadd45g','N4bp2l1','Tns1','Lpin1','Mnt','Rgs2','Gprc5b','Rassf3','Rasa3','Ypel3','Mknk2','Pparg','Tpcn1','Pdcd4','Arhgap18','Dnmt1','Gmnn','Rapgef6','Idh1','Klc4','Mxi1','Dennd4c','H2afv','St6gal1','Ldlrap1','Mef2d','Sgsh','Pcmtd2','Inpp5d','Ift74','Nfic','Fbxl20','Nbr1','Tsc22d3','Zdhhc14','Zrsr1','Appl2','Dio2','Cbr3','Ulk1','Pcyox1','Rab11fip5','AU020206','Cdadc1','Hmha1','Dag1','B3gnt8','Abtb1','Tbl1xr1','Mtss1','Rbl2','Gnpda1','Hdac5','Parp1','Hscb','Paip2','Ctdsp2','Fbxo8','Cnot6l','C3ar1','Hip1','Erp29','Tmem71','Mkl1','Dhcr7','Hacl1','Dgkz','Cnnm3','Sash3','Nr1d2','Ptpn22','Tmem51','Gtf2i','Cdt1','Slc29a3','Glul','0610009B22Rik','Nfam1','Acadm','Siva1','Dguok','Rmnd5a','Zfp36l2','Wdr26','Cbx3','Arhgap9','Cpt1a','Selplg','Tspan14','Hmgcl','Usf2','Slc48a1','Mfsd6','Pla2g15','Adcy7','Numa1','Coro1c','Rgl2','Rab40c','Itgb5','Thap11','Pctp','Tec','Hsd3b7','Gabarapl1','Cdk2ap2','Abhd4','Fam63a','Cd300a','Snap47','Pcyt1a','Rab31','Mbp','Bnip3l','Ivns1abp','Hbp1','Ppp3ca','Pnpla2','Snapin','Lat2','Ip6k1','Rfc2','Kif3a','Sec14l1','Xpr1','Zfand2a','Slc6a8','Pnpla7','Klhdc2','Oxct1','Clip1','Timp2','Maf1','Echs1','Map1lc3b','Ppp2r5c','Hadhb','Ncf2','Cd151','Polr2e','Osbpl9','Ralbp1','1810058I24Rik','Paics','Snx5','Hadh','Fam134b','2900097C17Rik','Hp1bp3','Dusp3','Rnf128','Elp2','Asnsd1','Large','Atxn10','Abhd12','Dap','Soat1','Lipa','Bach1','Vamp4','Rnh1','Cd84','Crip1','Gusb','Gltp','Ctnnb1','Pla2g6','Tmub1','B4galnt1','Arhgap12']\n",
    "M2 = []\n",
    "for i in genes2:\n",
    "    if i in list(tissue.var.index):\n",
    "        M2.append(i)\n"
   ]
  },
  {
   "cell_type": "code",
   "execution_count": 12,
   "id": "25630025",
   "metadata": {},
   "outputs": [],
   "source": [
    "M = M1 + M2"
   ]
  },
  {
   "cell_type": "code",
   "execution_count": 13,
   "id": "9ed4b30e",
   "metadata": {},
   "outputs": [],
   "source": [
    "M1_short = ['Junb','Cebpd','Cav1','Herpud1','Tgm2','Egr1','Il2rg','Dck','Ifitm3','Srgn','Sqstm1','Atf4','Tapbp','Hspa5']\n",
    "\n",
    "M2_short = ['Egr2','Tns1','Ypel3','Pdcd4','Dnmt1','Gmnn','Rapgef6','Mxi1','H2afv','Nfic','Tsc22d3','AU020206','Dag1','Parp1','Paip2','Erp29','Sash3','Ptpn22','Siva1','Rmnd5a','Selplg','Cdk2ap2','Timp2','Map1lc3b','Ppp2r5c','Cd151','Dusp3','Vamp4','Crip1','Gltp','Ctnnb1','B4galnt1']\n"
   ]
  },
  {
   "cell_type": "code",
   "execution_count": 14,
   "id": "a2d21212",
   "metadata": {},
   "outputs": [],
   "source": [
    "#Only in vivo M1(=LPS+) DOWNREG\n",
    "genes3 = ['Irg1','Cd40','Ptgs2','Ccl2','Csf2','Marcksl1','Il12a','Il12b','Icam1','Ifit2','Il23a','Vcam1','Rsad2','Cmpk2','Gpr84','Nfkbiz','Rtp4','Ehd1','Traf1','Ccnd2','Socs3','Adora2a','Slc7a11','Maff','Cish','Ccl7','Ccl22','Serpine1','Serpinb2','Slfn1','Cd38','Inhba','Edn1','Csf1','Lcn2','Mefv','Aqp9','Gpr85','Nfkb2','Pde4b','Hbegf','Trex1','AW112010','Il15ra','Ier3','Ifi47','Nfkbie','Oasl2','Irf7','Zbp1','Pilra','Oas3','Gdf15','Ifih1','Slco3a1','Nfkbia','Met','Sdc4','Cdkn1a','Slc7a2','Gem','F10','Isg20','Stat2','Il15','Rnd3','Batf2','Gbp2','Tlr2','Lif','Chac1','Irf1','Fabp3','Src','Cflar','Slc39a14','Ccl9','Ripk2','Spred1','Plagl1','Iigp1','Rel','Hdc','Nupr1','Igtp','Tap1','Gas7','Mmp14','Dhx58','Agrn','Sphk1','Vcan','Stat5a','Ccl17','Ifi35','Jak2','Sh3bp5','Arg2','Gch1','Ch25h','Lad1','Peli1','Adm','Ddx60','Vasp','Lcp2','Zc3h12a','Zufsp','Calcrl','Irgm1','Eif2ak2','Arid5a','Arrdc4','Sod2','Cd274','Ell2','Cd83','Ptges','Cebpd','Junb','Etv6','Stk40','Nfkb1','Daxx','E2f8','Pvr','Tlr7','Batf','Cxcl9','Slc25a37','Ms4a6c','Pstpip2','Ccl24','Fam129a','Tmem2','Itgal','Parp9','Znfx1','Cav1','Mmp13','A630072M18Rik','Plek','Notch1','Hck','Trib3','Herpud1','Asns','Snx20','Tgm2','Nfkbib','Klf7','Ptprj','Ccdc86','Slc1a4','Nmi','Tpst1','Ccrl2','Samsn1','Dusp2','Cd14','Hk2','Cxcl16','Slfn2','Ddhd1','Jdp2','Shmt2','Osgin2','Tapbpl','Slamf9','Egr1','Akna','Stat1','Atp10a','Phldb1','Sesn2','Rbpj','Mthfd2','Parp12','Rbpms','Aff1','Socs2','Rab32','Map3k5','Slc12a4','Il1rn','Tor3a','Flnb','Ogfr','Kpna3','Birc3','Tap2','Mitd1','Rcn1','Plagl2','Casp7','Ugcg','N4bp1','Igsf8','Rasa2','Tank','Ggct','Tnip1','Rcsd1','Rrs1','Cd86','Trim13','Irf9','Il17ra','Marcks','Siah2','Hivep1','Rbbp8','Trim25','Tnfaip2','Lmo4','Tcof1','Myd88','Apbb1ip','Psmb10','Stip1','Acsl1','Ebi3','Gramd1a','Sp100','Itga5','Myo10','Acp5','Psme2','Mtmr14','Plaur','Rnf114','Il2rg','Agtrap','Iars','Aftph','Tars','Appl1','Psmb9','Ifnar2','Myo1g','Dck','St3gal3','Sap30','Fcgr2b','Sertad2','Rabgef1','Azi2','Rnf19b','Nck1','Vav3','Trim34','Clcn5','Slc31a1','Tnfrsf1b','Mtdh','Itgav','Prdm1','Aebp2','Larp1','Eef1e1','Ifitm3','Rela','Aars','Epsti1','Slc4a7','Zyx','Rps6ka2','Rnf14','Gars','Tor1aip1','Katna1','Ddx21','Eif2s2','Nampt','Zfand3','Clic4','Wars','Wdr43','Aida','Cpd','Ube2f','Rps6ka4','Ptpn2','Sbds','Psmb8','Notch2','Nup62','Skil','Txnrd1','Top1','Pdpn','Eif6','Klf6','Gtpbp2','Lztfl1','Hspa9','Mat2a','Plk2','Abca1','Ptpn12','Surf4','Cd44','B3gnt2','Snx10','Syk','Ghitm','Denr','Gtf2b','Gadd45b','Slc3a2','Rars','Bcl10','Srgn','Slc15a3','Sqstm1','Actn1','Atf4','Tapbp','Eif3c','Hspa5']\n",
    "\n",
    "M1_down = []\n",
    "for i in genes3:\n",
    "    if i in list(tissue.var.index):\n",
    "        M1_down.append(i)\n"
   ]
  },
  {
   "cell_type": "code",
   "execution_count": 15,
   "id": "c77ac27d",
   "metadata": {},
   "outputs": [],
   "source": [
    "#Only in vivo M2(+LPS-) DOWNREG\n",
    "M2_down = ['Fbxo32','Cebpa','Gadd45g','N4bp2l1','Tns1','Lpin1','Mnt','Rgs2','Gprc5b','Rassf3','Rasa3','Ypel3','Mknk2','Pparg','Rhov','Tpcn1','Pdcd4','Arhgap18','Fos','Dnmt1','Gmnn','Rapgef6','Idh1','Klc4','Mxi1','Dennd4c','H2afv','St6gal1','Ldlrap1','Mef2d','Sgsh','Pcmtd2','Inpp5d','Ift74','Nfic','Fbxl20','Nbr1','Tsc22d3','Zdhhc14','Zrsr1','Appl2','P2ry1','Dio2','Dnmt3a','Cbr3','Ulk1','Pcyox1','Rab11fip5','AU020206','Tnfrsf21','Cdadc1','Hmha1','Dag1','Jun','B3gnt8','Abtb1','Tbl1xr1','Mtss1','Rbl2','Gnpda1','Hdac5','Parp1','Hscb','Paip2','Ctdsp2','Ggta1','Fbxo8','Cnot6l','C3ar1','Hip1','Erp29','Tmem71','Mkl1','Mical1','Dhcr7','Hacl1','Dgkz','Cnnm3','Sash3','Gab1','Nr1d2','Ptpn22','Tmem51','Gtf2i','Cdt1','Slc29a3','0610009B22Rik','Nfam1','Acadm','Siva1','Dguok','Rmnd5a','Zfp36l2','Wdr26','Cbx3','Arhgap9','Cpt1a','Dhrs3','Selplg','Tspan14','Hmgcl','Usf2','Slc48a1','Pla2g15','Adcy7','Numa1','Coro1c','Rgl2','Lpxn','Rab40c','Itgb5','Thap11','Pctp','Tec','Hsd3b7','Gabarapl1','Cdk2ap2','Abhd4','Fam63a','Cd300a','Snap47','Pcyt1a','Rab31','Mbp','Bnip3l','Ivns1abp','Hbp1','Ppp3ca','Pnpla2','Snapin','Lat2','Ip6k1','Rfc2','Kif3a','Psen2','Sec14l1','Xpr1','Zfand2a','Slc6a8','Pnpla7','Klhdc2','Oxct1','Clip1','Timp2','Maf1','Echs1','Map1lc3b','Ppp2r5c','Hadhb','Ncf2','Cd151','Polr2e','Osbpl9','Ralbp1','1810058I24Rik','Paics','Snx5','Hadh','Fam134b','2900097C17Rik','Hp1bp3','Dusp3','Rnf128','Elp2','Asnsd1','Sdc1','Large','Atxn10','Abhd12','Dap','Soat1','Bach1','Vamp4','Rnh1','Tuba4a','Cd84','Crip1','Gusb','Gltp','Ctnnb1','Pla2g6','Tmub1','B4galnt1']\n",
    "\n",
    "M2_down = []\n",
    "for i in genes3:\n",
    "    if i in list(tissue.var.index):\n",
    "        M2_down.append(i)"
   ]
  },
  {
   "cell_type": "markdown",
   "id": "03ae6385",
   "metadata": {},
   "source": [
    "Yunna et al, 'Macrophage M1/M2 polarization'"
   ]
  },
  {
   "cell_type": "code",
   "execution_count": 16,
   "id": "9f0b2dd3",
   "metadata": {},
   "outputs": [],
   "source": [
    "yunna = ['Il6','Il12a','Il12b','Tnf','Cd80','Cd86','Fcgr3','Fcgr4','Fcgr2b','Arg1','Mrc1','Il10','Ccl17','Ccl22', 'Pparg']\n"
   ]
  },
  {
   "cell_type": "markdown",
   "id": "ed7c46d2",
   "metadata": {},
   "source": [
    "\"However, the exact functional role of CD38 in macrophages is still unclear. If Cd38 surface expression is correlated with Cd38 gene expression, CD38 might be a good new marker for M1 polarization\""
   ]
  },
  {
   "cell_type": "code",
   "execution_count": 17,
   "id": "218cf6e9",
   "metadata": {},
   "outputs": [],
   "source": [
    "iffy = ['Irf9', 'Irf7', 'Ifi35', 'Ifnar2', 'Isg20', 'Ifit2', 'Ifih1','Il12a','Il12b','Jak2','Stat1','Stat2','Cd38','Cd86','Cd40','Tnfrsf5']\n",
    "\n",
    "\n",
    "IFN = []\n",
    "for i in iffy:\n",
    "    if i in list(tissue.var.index):\n",
    "        IFN.append(i)\n",
    "\n"
   ]
  },
  {
   "cell_type": "code",
   "execution_count": 18,
   "id": "4bb565d0",
   "metadata": {},
   "outputs": [],
   "source": [
    "chem = ['Cxcl16', 'Cxcl9', 'Il15ra', 'Il17ra']\n",
    "\n",
    "Chemokines = []\n",
    "for i in chem:\n",
    "    if i in list(tissue.var.index):\n",
    "        Chemokines.append(i)"
   ]
  },
  {
   "cell_type": "markdown",
   "id": "ca936b56",
   "metadata": {
    "heading_collapsed": true
   },
   "source": [
    "# leiden plots"
   ]
  },
  {
   "cell_type": "markdown",
   "id": "ee579143",
   "metadata": {
    "hidden": true
   },
   "source": [
    "## Kidney"
   ]
  },
  {
   "cell_type": "code",
   "execution_count": null,
   "id": "28b3f21a",
   "metadata": {
    "hidden": true
   },
   "outputs": [],
   "source": [
    "sc.tl.dendrogram(tissue, groupby = 'leiden')\n",
    "sc.pl.dendrogram(tissue, groupby = 'leiden')"
   ]
  },
  {
   "cell_type": "markdown",
   "id": "df9401c8",
   "metadata": {
    "hidden": true
   },
   "source": [
    "### leiden 10 cluster vs leiden 15 cluster (macrophages)"
   ]
  },
  {
   "cell_type": "code",
   "execution_count": null,
   "id": "a5e0e93d",
   "metadata": {
    "hidden": true,
    "scrolled": false
   },
   "outputs": [],
   "source": [
    "sc.tl.rank_genes_groups(tissue, groupby = 'leiden', groups = ['10'], reference='15', method = 'wilcoxon', pts = True)\n",
    "sc.tl.filter_rank_genes_groups(tissue, min_fold_change=2)\n",
    "sc.pl.rank_genes_groups(tissue, key='rank_genes_groups_filtered')\n",
    "sc.pl.rank_genes_groups_dotplot(tissue, key='rank_genes_groups_filtered', swap_axes=True)\n"
   ]
  },
  {
   "cell_type": "markdown",
   "id": "5d07b969",
   "metadata": {
    "hidden": true
   },
   "source": [
    "### leiden 15 cluster vs leiden 10 cluster (macrophages)"
   ]
  },
  {
   "cell_type": "code",
   "execution_count": null,
   "id": "b5e61c3e",
   "metadata": {
    "hidden": true,
    "scrolled": true
   },
   "outputs": [],
   "source": [
    "sc.tl.rank_genes_groups(tissue, groupby = 'leiden', groups = ['15'], reference='10', method = 'wilcoxon', pts = True)\n",
    "sc.tl.filter_rank_genes_groups(tissue, min_fold_change=2)\n",
    "sc.pl.rank_genes_groups(tissue, key='rank_genes_groups_filtered')\n",
    "sc.pl.rank_genes_groups_dotplot(tissue, key='rank_genes_groups_filtered', swap_axes=True)\n"
   ]
  },
  {
   "cell_type": "markdown",
   "id": "a80ffe83",
   "metadata": {
    "hidden": true
   },
   "source": [
    "### leiden 10, 15 vs rest"
   ]
  },
  {
   "cell_type": "code",
   "execution_count": null,
   "id": "d7c23a69",
   "metadata": {
    "hidden": true,
    "scrolled": false
   },
   "outputs": [],
   "source": [
    "sc.tl.rank_genes_groups(tissue, groupby = 'leiden', groups = ['10','15'], method = 'wilcoxon', pts = True)\n",
    "sc.tl.filter_rank_genes_groups(tissue, min_fold_change=3)\n",
    "sc.pl.rank_genes_groups(tissue, key='rank_genes_groups_filtered')\n",
    "sc.pl.rank_genes_groups_dotplot(tissue, key='rank_genes_groups_filtered', swap_axes=True)"
   ]
  },
  {
   "cell_type": "markdown",
   "id": "162bd06c",
   "metadata": {
    "hidden": true
   },
   "source": [
    "### leiden 10, 15 vs 14 (B cells)"
   ]
  },
  {
   "cell_type": "code",
   "execution_count": null,
   "id": "4c5ddffd",
   "metadata": {
    "hidden": true,
    "scrolled": true
   },
   "outputs": [],
   "source": [
    "sc.tl.rank_genes_groups(tissue, groupby = 'leiden', groups = ['10','15'], reference='14', method = 'wilcoxon', pts = True)\n",
    "sc.tl.filter_rank_genes_groups(tissue, min_fold_change=3)\n",
    "sc.pl.rank_genes_groups(tissue, key='rank_genes_groups_filtered')\n",
    "sc.pl.rank_genes_groups_dotplot(tissue, key='rank_genes_groups_filtered', swap_axes=True)"
   ]
  },
  {
   "cell_type": "markdown",
   "id": "c6345066",
   "metadata": {
    "hidden": true
   },
   "source": [
    "###  leiden 10, 15 vs 11 (T cells)"
   ]
  },
  {
   "cell_type": "code",
   "execution_count": null,
   "id": "bf0ab57f",
   "metadata": {
    "hidden": true,
    "scrolled": true
   },
   "outputs": [],
   "source": [
    "sc.tl.rank_genes_groups(tissue, groupby = 'leiden', groups = ['10','15'], reference='11', method = 'wilcoxon', pts = True)\n",
    "sc.tl.filter_rank_genes_groups(tissue, min_fold_change=3)\n",
    "sc.pl.rank_genes_groups(tissue, key='rank_genes_groups_filtered')\n",
    "sc.pl.rank_genes_groups_dotplot(tissue, key='rank_genes_groups_filtered', swap_axes=True)"
   ]
  },
  {
   "cell_type": "markdown",
   "id": "2f6db549",
   "metadata": {
    "hidden": true
   },
   "source": [
    "### all leiden vs rest"
   ]
  },
  {
   "cell_type": "code",
   "execution_count": null,
   "id": "705f745b",
   "metadata": {
    "hidden": true,
    "scrolled": true
   },
   "outputs": [],
   "source": [
    "sc.tl.rank_genes_groups(tissue, groupby = 'leiden', method = 'wilcoxon', pts = True)\n",
    "sc.tl.filter_rank_genes_groups(tissue, min_fold_change=3)\n",
    "sc.pl.rank_genes_groups(tissue, key='rank_genes_groups_filtered')\n",
    "sc.pl.rank_genes_groups_dotplot(tissue, key='rank_genes_groups_filtered', swap_axes=True)"
   ]
  },
  {
   "cell_type": "markdown",
   "id": "3b311f15",
   "metadata": {
    "hidden": true
   },
   "source": [
    "### IFN"
   ]
  },
  {
   "cell_type": "code",
   "execution_count": null,
   "id": "86cfe3fc",
   "metadata": {
    "hidden": true,
    "scrolled": false
   },
   "outputs": [],
   "source": [
    "sc.pl.dotplot(tissue, IFN, groupby='leiden', dendrogram=True, swap_axes=True)"
   ]
  },
  {
   "cell_type": "markdown",
   "id": "c945f5f6",
   "metadata": {
    "hidden": true
   },
   "source": [
    "### Chemokines"
   ]
  },
  {
   "cell_type": "code",
   "execution_count": null,
   "id": "9ef2ccc9",
   "metadata": {
    "hidden": true,
    "scrolled": true
   },
   "outputs": [],
   "source": [
    "sc.pl.dotplot(tissue, Chemokines, groupby='leiden', dendrogram=True, swap_axes=True)"
   ]
  },
  {
   "cell_type": "markdown",
   "id": "4800d865",
   "metadata": {
    "heading_collapsed": true,
    "hidden": true
   },
   "source": [
    "### M1"
   ]
  },
  {
   "cell_type": "code",
   "execution_count": null,
   "id": "6ebd8b11",
   "metadata": {
    "hidden": true,
    "scrolled": true
   },
   "outputs": [],
   "source": [
    "sc.pl.dotplot(tissue, M1, groupby='leiden', dendrogram=True, swap_axes=True)"
   ]
  },
  {
   "cell_type": "code",
   "execution_count": null,
   "id": "09db3e2d",
   "metadata": {
    "hidden": true,
    "scrolled": true
   },
   "outputs": [],
   "source": [
    "sc.pl.dotplot(tissue, M1_short, groupby='leiden', dendrogram=True, swap_axes=True)"
   ]
  },
  {
   "cell_type": "code",
   "execution_count": null,
   "id": "4df174e2",
   "metadata": {
    "hidden": true
   },
   "outputs": [],
   "source": [
    "sc.pl.dotplot(tissue, M1_down, groupby='leiden', dendrogram=True, swap_axes=True)"
   ]
  },
  {
   "cell_type": "markdown",
   "id": "50b8d4ed",
   "metadata": {
    "hidden": true
   },
   "source": [
    "### M2"
   ]
  },
  {
   "cell_type": "code",
   "execution_count": null,
   "id": "a2b2dcbf",
   "metadata": {
    "hidden": true,
    "scrolled": true
   },
   "outputs": [],
   "source": [
    "sc.pl.dotplot(tissue, M2_short, groupby='leiden', dendrogram=True, swap_axes=True)"
   ]
  },
  {
   "cell_type": "code",
   "execution_count": null,
   "id": "34b72186",
   "metadata": {
    "hidden": true
   },
   "outputs": [],
   "source": [
    "sc.pl.dotplot(tissue, M2, groupby='leiden', dendrogram=True, swap_axes=True)"
   ]
  },
  {
   "cell_type": "code",
   "execution_count": null,
   "id": "1ef371b3",
   "metadata": {
    "hidden": true
   },
   "outputs": [],
   "source": []
  },
  {
   "cell_type": "code",
   "execution_count": null,
   "id": "13a3c773",
   "metadata": {
    "hidden": true
   },
   "outputs": [],
   "source": [
    "sc.pl.dotplot(tissue, M2_down, groupby='leiden', dendrogram=True, swap_axes=True)"
   ]
  },
  {
   "cell_type": "markdown",
   "id": "835a186d",
   "metadata": {},
   "source": [
    "# Plots"
   ]
  },
  {
   "cell_type": "code",
   "execution_count": null,
   "id": "4484fab3",
   "metadata": {},
   "outputs": [],
   "source": [
    "''' [] cells expressing [] gene across ages'''\n",
    "g = adata[:,'mt-Nd2'].copy() #only has this gene\n",
    "g = g[g.obs.cell_ontology_class=='B cell'].copy() #or however you want filter\n",
    "g.obs['mt-Nd2']=g[:,'mt-Nd2'].X.toarray().flatten() \n",
    "g = g.obs.copy()\n",
    "\n",
    "sns.catplot(data = g, x='age', y = 'mt-Nd2', col = 'tissue',col_wrap=3, kind = 'box')"
   ]
  },
  {
   "cell_type": "code",
   "execution_count": null,
   "id": "dc721b5b",
   "metadata": {},
   "outputs": [],
   "source": []
  },
  {
   "cell_type": "code",
   "execution_count": null,
   "id": "da7936fd",
   "metadata": {},
   "outputs": [],
   "source": []
  },
  {
   "cell_type": "markdown",
   "id": "a2e4f6a6",
   "metadata": {},
   "source": [
    "# Characterize cell proportions across ages"
   ]
  },
  {
   "cell_type": "code",
   "execution_count": null,
   "id": "0606e8d2",
   "metadata": {},
   "outputs": [],
   "source": [
    "from collections import defaultdict\n",
    "\n",
    "def cell_per_tissue(celltypelist, adata):\n",
    "    ''' Input is cell type list. Output is a pandas DataFrame \n",
    "    of the percentage of that cell type for inputted subsetted adata tissue object'''\n",
    "    \n",
    "    data = defaultdict(list)\n",
    "    \n",
    "    for a in ages:\n",
    "        b = adata[adata.obs['age']== a]#filter by age\n",
    "        for e in celltypelist:#going through keys/tissue types       \n",
    "            c = b[b.obs['cell_ontology_class']== e]#have adata filtered by cell types in list\n",
    "            tissue_cell_count = adata.n_obs\n",
    "            data[\"Age\"].append(a)\n",
    "            data[\"Cell Type\"].append(e)\n",
    "            data[\"Cell Count\"].append(c.n_obs)\n",
    "            data[\"Cell Type/Tissue %\"].append((c.n_obs/b.n_obs)*100)\n",
    "            \n",
    "    df = pd.DataFrame(data)\n",
    "    return df"
   ]
  },
  {
   "cell_type": "code",
   "execution_count": null,
   "id": "0eec8bf6",
   "metadata": {},
   "outputs": [],
   "source": [
    "df = cell_per_tissue(tis_cells,tissue)\n",
    "\n",
    "sns.set_style('whitegrid')\n",
    "fig = plt.figure(figsize=(17, 5))\n",
    "plt.xticks(rotation=90)\n",
    "sns.set(font_scale =1)\n",
    "sns.barplot(data=df, y=\"Cell Type/Tissue %\", x=\"Cell Type\", hue = \"Age\").set(title=\"Cell Type % of Thymus\")"
   ]
  },
  {
   "cell_type": "code",
   "execution_count": null,
   "id": "151c2f8f",
   "metadata": {},
   "outputs": [],
   "source": [
    "mouse_ids = list(set(tissue.obs['mouse.id']))"
   ]
  },
  {
   "cell_type": "code",
   "execution_count": null,
   "id": "92fed76d",
   "metadata": {},
   "outputs": [],
   "source": [
    "from collections import defaultdict\n",
    "\n",
    "def cell_per_tissue2(a_list, adata):\n",
    "    ''' Input is list and adata tissue object. Output is a pandas DataFrame \n",
    "    of the percentage of that cell type for inputted subsetted adata tissue object'''\n",
    "    \n",
    "    data = defaultdict(list)\n",
    "    \n",
    "    for a in a_list:\n",
    "        b = adata[adata.obs['mouse.id']== a]#filter by mouse\n",
    "        for c in tis_cells:       \n",
    "            d = b[b.obs['cell_ontology_class']== c]#have adata filtered by cell types in list\n",
    "            tissue_cell_count = b.n_obs\n",
    "            \n",
    "            data[\"mouse.id\"].append(a)\n",
    "            data[\"Cell Type\"].append(c)\n",
    "            data[\"Cell Count\"].append(d.n_obs)\n",
    "            data[\"Cell Type/Tissue %\"].append((d.n_obs/b.n_obs)*100)\n",
    "            \n",
    "    df = pd.DataFrame(data)\n",
    "    return df"
   ]
  },
  {
   "cell_type": "code",
   "execution_count": null,
   "id": "14210608",
   "metadata": {},
   "outputs": [],
   "source": [
    "df2=cell_per_tissue2(mouse_ids,tissue)"
   ]
  },
  {
   "cell_type": "code",
   "execution_count": null,
   "id": "ae3d2b86",
   "metadata": {},
   "outputs": [],
   "source": [
    "df2.groupby([\"mouse.id\"])[[\"Cell Type/Tissue %\"]].sum()#don't think i need\n",
    "dd = df2.groupby([\"mouse.id\", \"Cell Type\"]).sum()"
   ]
  },
  {
   "cell_type": "code",
   "execution_count": null,
   "id": "79dfe022",
   "metadata": {},
   "outputs": [],
   "source": [
    "dd = dd.reset_index('Cell Type')"
   ]
  },
  {
   "cell_type": "markdown",
   "id": "09bc3d9f",
   "metadata": {},
   "source": [
    "Pivoting pandas DataFrame so that Cell Type column values becomes columns, and Cell Type/Tissue % populate new columns."
   ]
  },
  {
   "cell_type": "code",
   "execution_count": null,
   "id": "2ebd8f56",
   "metadata": {},
   "outputs": [],
   "source": [
    "tmp = dd.pivot_table(values='Cell Type/Tissue %', columns=\"Cell Type\", index=dd.index)"
   ]
  },
  {
   "cell_type": "markdown",
   "id": "b0d7e61b",
   "metadata": {},
   "source": [
    "Reordering mouse.id X axis"
   ]
  },
  {
   "cell_type": "code",
   "execution_count": null,
   "id": "ca9253b6",
   "metadata": {},
   "outputs": [],
   "source": [
    "mouse_id_order = [\n",
    "    '3_8_M', \n",
    "    '3_9_M',\n",
    "    '3_11_M', \n",
    "    '3_38_F', \n",
    "    '3_39_F', \n",
    "    '18_45_M', \n",
    "    '18_46_F', \n",
    "    '18_47_F', \n",
    "    '18_53_M', \n",
    "    '24_58_M', \n",
    "    '24_59_M',\n",
    "    '24_60_M', \n",
    "    '24_61_M', \n",
    "]\n",
    "\n",
    "tmp = tmp.reindex(mouse_id_order)"
   ]
  },
  {
   "cell_type": "markdown",
   "id": "d0a805dc",
   "metadata": {},
   "source": [
    "**Cell Type % of Thymus per Mouse**"
   ]
  },
  {
   "cell_type": "code",
   "execution_count": null,
   "id": "1ffa8ccd",
   "metadata": {},
   "outputs": [],
   "source": [
    "tmp.plot(kind='bar', stacked=True, figsize=(12, 10), color = ['pink','indigo','gold','royalblue','mediumorchid','powderblue','red','green','navy','orange'])\n",
    "plt.legend(bbox_to_anchor=(1.02, 1), loc='upper left', borderaxespad=0, facecolor = 'white')\n",
    "plt.title(\"Cell Type % of Thymus per Mouse\")\n",
    "plt.ylabel('Cell Type %')\n",
    "ax = plt.axes()\n",
    "ax.set_facecolor(\"white\")\n"
   ]
  },
  {
   "cell_type": "markdown",
   "id": "f0a0b3d9",
   "metadata": {},
   "source": [
    "**Cell Type % of Thymus by Age**"
   ]
  },
  {
   "cell_type": "code",
   "execution_count": null,
   "id": "66df2c20",
   "metadata": {},
   "outputs": [],
   "source": [
    "from collections import defaultdict\n",
    "\n",
    "def cell_per_age(a_list, adata):\n",
    "    ''' Input is list and adata tissue object. Output is a pandas DataFrame \n",
    "    of the percentage of that cell type by age for inputted subsetted adata tissue object'''\n",
    "    \n",
    "    data = defaultdict(list)\n",
    "    \n",
    "    for a in a_list:\n",
    "        b = adata[adata.obs['age']== a]#filter by age\n",
    "        for c in tis_cells:       \n",
    "            d = b[b.obs['cell_ontology_class']== c]#have adata filtered by cell types in list\n",
    "            tissue_cell_count = b.n_obs\n",
    "            \n",
    "            data[\"age\"].append(a)\n",
    "            data[\"Cell Type\"].append(c)\n",
    "            #data[\"Cell Count\"].append(d.n_obs)\n",
    "            data[\"Cell Type/Tissue %\"].append((d.n_obs/b.n_obs)*100)\n",
    "            \n",
    "    df = pd.DataFrame(data)\n",
    "    return df"
   ]
  },
  {
   "cell_type": "code",
   "execution_count": null,
   "id": "01358e68",
   "metadata": {},
   "outputs": [],
   "source": [
    "ac = cell_per_age(ages,tissue)"
   ]
  },
  {
   "cell_type": "code",
   "execution_count": null,
   "id": "4a53b460",
   "metadata": {},
   "outputs": [],
   "source": [
    "ad = ac.groupby([\"age\", \"Cell Type\"]).sum()"
   ]
  },
  {
   "cell_type": "code",
   "execution_count": null,
   "id": "8b35f35a",
   "metadata": {},
   "outputs": [],
   "source": [
    "ad = ad.reset_index('Cell Type')"
   ]
  },
  {
   "cell_type": "code",
   "execution_count": null,
   "id": "5218a1be",
   "metadata": {},
   "outputs": [],
   "source": [
    "ae = ad.pivot_table(values='Cell Type/Tissue %', columns=\"Cell Type\", index=ad.index)\n",
    "ae = ae.reindex(ages)"
   ]
  },
  {
   "cell_type": "code",
   "execution_count": null,
   "id": "5d055e5f",
   "metadata": {},
   "outputs": [],
   "source": [
    "ae.plot(kind='bar', stacked=True, figsize=(4, 5), color = ['pink','indigo','gold','royalblue','mediumorchid','powderblue','red','green','navy','orange'])\n",
    "plt.legend(bbox_to_anchor=(1.02, 1), loc='upper left', borderaxespad=0, facecolor = 'white')\n",
    "plt.title(\"Cell Type % of Thymus by Age\")\n",
    "plt.ylabel('Cell Type %')\n",
    "ax = plt.axes()\n",
    "ax.set_facecolor(\"white\")"
   ]
  },
  {
   "cell_type": "markdown",
   "id": "ca221f8e",
   "metadata": {},
   "source": [
    "**Variance of Cell Type % of Thymus across Age**"
   ]
  },
  {
   "cell_type": "markdown",
   "id": "8dc32b71",
   "metadata": {},
   "source": [
    "* I'd like to break apart the macrophage cluster (shows two leiden clusters) into two categories and plot"
   ]
  },
  {
   "cell_type": "code",
   "execution_count": null,
   "id": "d8d331b8",
   "metadata": {},
   "outputs": [],
   "source": [
    "sns.catplot(data = ad, x = 'Cell Type', y = 'Cell Type/Tissue %', kind = \"box\", palette=sns.color_palette(['pink','indigo','gold','royalblue','mediumorchid','powderblue','red','green','navy','orange']))\n",
    "plt.title(\"Variance of Cell Type % of Thymus across Age\")\n",
    "sns.set_style(\"whitegrid\")\n",
    "plt.xticks(rotation=90);\n"
   ]
  },
  {
   "cell_type": "code",
   "execution_count": null,
   "id": "fb9aff56",
   "metadata": {},
   "outputs": [],
   "source": [
    "#Angela's to remove 0's from dataframe below\n",
    "\n",
    "def remove_cats(adata):\n",
    "\n",
    "    cat_columns = adata.obs.select_dtypes(['category']).columns\n",
    "    adata.obs[cat_columns] = adata.obs[cat_columns].astype(str)\n",
    "    \n",
    "    return adata"
   ]
  },
  {
   "cell_type": "code",
   "execution_count": null,
   "id": "01f6de0d",
   "metadata": {},
   "outputs": [],
   "source": [
    "tissue = remove_cats(tissue)"
   ]
  },
  {
   "cell_type": "code",
   "execution_count": null,
   "id": "86279641",
   "metadata": {},
   "outputs": [],
   "source": [
    "'''Angela showing me some pandas tricks and suggestions'''\n",
    "\n",
    "pd.DataFrame(tissue.obs.groupby([\"age\",'mouse.id', 'cell_ontology_class']).agg({\"mouse.id\":[len]}))"
   ]
  },
  {
   "cell_type": "markdown",
   "id": "582d51ea",
   "metadata": {},
   "source": [
    "# Gene expression vars->obs & dataframe"
   ]
  },
  {
   "cell_type": "code",
   "execution_count": 19,
   "id": "79f20345",
   "metadata": {},
   "outputs": [],
   "source": [
    "def remove_cats(adata):\n",
    "\n",
    "    cat_columns = adata.obs.select_dtypes(['category']).columns\n",
    "    adata.obs[cat_columns] = adata.obs[cat_columns].astype(str)\n",
    "    \n",
    "    return adata"
   ]
  },
  {
   "cell_type": "code",
   "execution_count": 20,
   "id": "375d0b54",
   "metadata": {},
   "outputs": [],
   "source": [
    "tissue = remove_cats(tissue)"
   ]
  },
  {
   "cell_type": "markdown",
   "id": "decdc8b4",
   "metadata": {},
   "source": [
    "score_genes on M1, M2 and IFN gene lists"
   ]
  },
  {
   "cell_type": "code",
   "execution_count": null,
   "id": "59581d3c",
   "metadata": {},
   "outputs": [],
   "source": [
    "sc.tl.score_genes(tissue, M1, score_name = 'M1')\n",
    "sc.tl.score_genes(tissue, M2, score_name = 'M2')\n",
    "sc.tl.score_genes(tissue, IFN, score_name = 'IFN')"
   ]
  },
  {
   "cell_type": "code",
   "execution_count": null,
   "id": "23fb47af",
   "metadata": {},
   "outputs": [],
   "source": [
    "#sc.tl.score_genes(tissue, M1, score_name = 'M1_500', ctrl_size = 500)\n",
    "#sc.tl.score_genes(tissue, M2, score_name = 'M2_500',ctrl_size = 500)\n",
    "#sc.tl.score_genes(tissue, IFN, score_name = 'IFN', ctrl_size = 500)"
   ]
  },
  {
   "cell_type": "code",
   "execution_count": null,
   "id": "5e5804a3",
   "metadata": {},
   "outputs": [],
   "source": [
    "#sc.tl.score_genes(tissue, M1, score_name = 'M1_175', ctrl_size = 175)\n",
    "#sc.tl.score_genes(tissue, M2, score_name = 'M2_169',ctrl_size = 169)\n",
    "#sc.tl.score_genes(tissue, IFN, score_name = 'IFN_150', ctrl_size = 150)"
   ]
  },
  {
   "cell_type": "code",
   "execution_count": 21,
   "id": "ae1e1a0b",
   "metadata": {},
   "outputs": [
    {
     "name": "stdout",
     "output_type": "stream",
     "text": [
      "computing score 'leiden10vs15'\n",
      "    finished: added\n",
      "    'leiden10vs15', score of gene set (adata.obs).\n",
      "    100 total control genes are used. (0:00:00)\n"
     ]
    }
   ],
   "source": [
    "sc.tl.score_genes(tissue, leiden10vs15, score_name = 'leiden10vs15')"
   ]
  },
  {
   "cell_type": "code",
   "execution_count": 22,
   "id": "641d6d9f",
   "metadata": {},
   "outputs": [
    {
     "name": "stdout",
     "output_type": "stream",
     "text": [
      "computing score 'leiden15vs10'\n",
      "    finished: added\n",
      "    'leiden15vs10', score of gene set (adata.obs).\n",
      "    150 total control genes are used. (0:00:00)\n"
     ]
    }
   ],
   "source": [
    "sc.tl.score_genes(tissue, leiden15vs10, score_name = 'leiden15vs10')"
   ]
  },
  {
   "cell_type": "code",
   "execution_count": 23,
   "id": "a8dba34d",
   "metadata": {},
   "outputs": [
    {
     "name": "stdout",
     "output_type": "stream",
     "text": [
      "computing score 'BCR'\n",
      "    finished: added\n",
      "    'BCR', score of gene set (adata.obs).\n",
      "    250 total control genes are used. (0:00:00)\n"
     ]
    }
   ],
   "source": [
    "sc.tl.score_genes(tissue, bcr, score_name = 'BCR')"
   ]
  },
  {
   "cell_type": "code",
   "execution_count": 24,
   "id": "ccbdd0e1",
   "metadata": {},
   "outputs": [
    {
     "name": "stdout",
     "output_type": "stream",
     "text": [
      "computing score 'MT_GENES'\n",
      "    finished: added\n",
      "    'MT_GENES', score of gene set (adata.obs).\n",
      "    449 total control genes are used. (0:00:00)\n"
     ]
    }
   ],
   "source": [
    "sc.tl.score_genes(tissue, mt_genes, score_name = 'MT_GENES')"
   ]
  },
  {
   "cell_type": "code",
   "execution_count": 25,
   "id": "63b24498",
   "metadata": {},
   "outputs": [
    {
     "name": "stdout",
     "output_type": "stream",
     "text": [
      "computing score 'NC_MT_GENES'\n",
      "WARNING: genes are not in var_names and ignored: ['Gatd3a', 'Micos10', 'Fdx2', 'Mmut', 'Atp5pb', 'Mtarc2', 'Micos13', 'Mtres1', 'Coa8', 'Tmlhe', 'Mtarc1', 'Prxl2a', 'Marchf5', 'Dmac2l', 'Atp5md', 'Antkmt', 'Atpsckmt', 'Septin4', 'Prorp', 'Htd2', 'Pigbos1']\n",
      "    finished: added\n",
      "    'NC_MT_GENES', score of gene set (adata.obs).\n",
      "    726 total control genes are used. (0:00:00)\n"
     ]
    }
   ],
   "source": [
    "sc.tl.score_genes(tissue, mt_nc_genes, score_name = 'NC_MT_GENES')"
   ]
  },
  {
   "cell_type": "markdown",
   "id": "69802009",
   "metadata": {},
   "source": [
    "To add var gene expression to obs"
   ]
  },
  {
   "cell_type": "code",
   "execution_count": 26,
   "id": "f2877baf",
   "metadata": {},
   "outputs": [],
   "source": [
    "def gene_expression_obs(adata, listy):\n",
    "    '''Takes adata object. \n",
    "    Returns adata copy with var genes where genes \n",
    "    and their expression values are columns in dataframe of adata.'''\n",
    "    adata2 = adata.copy()\n",
    "    \n",
    "    for j in listy:#list(adata2.var.index): took hours & didn't finish\n",
    "        adata2.obs[j] = adata2[:,j].X.toarray().flatten()\n",
    "    \n",
    "    return adata2"
   ]
  },
  {
   "cell_type": "markdown",
   "id": "f389b8de",
   "metadata": {},
   "source": [
    "To make dataframe from obs gene expression adata"
   ]
  },
  {
   "cell_type": "code",
   "execution_count": 27,
   "id": "0d57bc4a",
   "metadata": {},
   "outputs": [],
   "source": [
    "def gene_expression_df(adata, genelist):\n",
    "    '''Takes adata object and a list of genes. \n",
    "    Returns a pandas dataframe where genes and their expression values are columns in dataframe of adata.'''\n",
    "    df = adata.obs.copy()\n",
    "    \n",
    "    for g in genelist:\n",
    "        df[g] = tissue[:,g].X.toarray().flatten()\n",
    "    return df   "
   ]
  },
  {
   "cell_type": "markdown",
   "id": "6864e0c7",
   "metadata": {},
   "source": [
    "Removing genes from MitoCarta gene list that are not in .vars"
   ]
  },
  {
   "cell_type": "code",
   "execution_count": 30,
   "id": "ee400353",
   "metadata": {},
   "outputs": [],
   "source": [
    "genes = list(mt_nc.copy())\n",
    "\n",
    "for i in range(len(ignored)):\n",
    "    for i in ignored:\n",
    "        if i in genes:\n",
    "            genes.remove(i) "
   ]
  },
  {
   "cell_type": "code",
   "execution_count": 31,
   "id": "1c974cef",
   "metadata": {},
   "outputs": [
    {
     "name": "stdout",
     "output_type": "stream",
     "text": [
      "There are 0 duplicate genes in genes list\n"
     ]
    }
   ],
   "source": [
    "'''Checking for duplicate genes'''\n",
    "dupe_genes = []\n",
    "for g in genes:\n",
    "    count = genes.count(g)\n",
    "    if count > 1:\n",
    "        dupe_genes.append(g)\n",
    "print(f'There are {len(dupe_genes)} duplicate genes in genes list')"
   ]
  },
  {
   "cell_type": "code",
   "execution_count": 32,
   "id": "a9d01020",
   "metadata": {},
   "outputs": [
    {
     "name": "stdout",
     "output_type": "stream",
     "text": [
      "mt-Atp6 yes\n",
      "mt-Atp8 yes\n",
      "mt-Co1 yes\n",
      "mt-Co2 yes\n",
      "mt-Co3 yes\n",
      "mt-Cytb yes\n",
      "mt-Nd1 yes\n",
      "mt-Nd2 yes\n",
      "mt-Nd3 yes\n",
      "mt-Nd4 yes\n",
      "mt-Nd4l yes\n",
      "mt-Nd5 yes\n",
      "mt-Nd6 yes\n",
      "mt-Rnr1 yes\n",
      "mt-Rnr2 yes\n",
      "mt-Ta yes\n",
      "mt-Te yes\n",
      "mt-Tf yes\n",
      "mt-Ti yes\n",
      "mt-Tl1 yes\n",
      "mt-Tl2 yes\n",
      "mt-Tm yes\n",
      "mt-Tp yes\n",
      "mt-Tq yes\n",
      "mt-Tt yes\n",
      "mt-Tv yes\n"
     ]
    }
   ],
   "source": [
    "'''Checking that all MT genes are in genes (mt_nc) list'''\n",
    "\n",
    "for m in mt_genes:\n",
    "    if m in genes:\n",
    "        print(m,'yes')\n",
    "    else:\n",
    "        print(m, 'no') "
   ]
  },
  {
   "cell_type": "markdown",
   "id": "35bd7118",
   "metadata": {},
   "source": [
    "**DataFrames**"
   ]
  },
  {
   "cell_type": "code",
   "execution_count": null,
   "id": "60e8f027",
   "metadata": {},
   "outputs": [],
   "source": [
    "#may be too large?\n",
    "\n",
    "#df_nc_mt = gene_expression_df(tissue_sg1,list(tissue_sg1.var.index))"
   ]
  },
  {
   "cell_type": "code",
   "execution_count": null,
   "id": "245d5c69",
   "metadata": {},
   "outputs": [],
   "source": [
    "#tissue_obs = gene_expression_obs(tissue, list(tissue.var.index)) has ALL genes but running for hoooours\n",
    "#need to figure out how to save it"
   ]
  },
  {
   "cell_type": "code",
   "execution_count": 33,
   "id": "b13e118e",
   "metadata": {},
   "outputs": [],
   "source": [
    "#adata has mitochondria and nuclear-encoded mitochondria (MitoCarta3.0) gene expressions in obs\n",
    "tissue2 = gene_expression_obs(tissue, genes)"
   ]
  },
  {
   "cell_type": "code",
   "execution_count": 34,
   "id": "6ce0a6eb",
   "metadata": {},
   "outputs": [],
   "source": [
    "#df has mitochondria and nuclear-encoded mitochondria (MitoCarta3.0) gene expressions\n",
    "tissue3 = gene_expression_df(tissue2, genes)"
   ]
  },
  {
   "cell_type": "code",
   "execution_count": 35,
   "id": "b26e1008",
   "metadata": {},
   "outputs": [],
   "source": [
    "#df has M1 and M2 genes from M1 and M2 gene lists in obs\n",
    "tissueM_obs = gene_expression_obs(tissue, M)\n",
    "\n",
    "tissue_M = gene_expression_df(tissueM_obs, M)"
   ]
  },
  {
   "cell_type": "code",
   "execution_count": null,
   "id": "943b75f7",
   "metadata": {},
   "outputs": [],
   "source": [
    "#df has Chemokine genes from Chemokine gene list\n",
    "tissueChemokines = gene_expression_df(tissue, Chemokines)"
   ]
  },
  {
   "cell_type": "code",
   "execution_count": 36,
   "id": "9871d524",
   "metadata": {},
   "outputs": [],
   "source": [
    "#df has BCR genes\n",
    "tissueBCR_obs = gene_expression_obs(tissue, bcr)\n",
    "tissueBCR = gene_expression_df(tissueBCR_obs, bcr)"
   ]
  },
  {
   "cell_type": "code",
   "execution_count": null,
   "id": "2cb2bc12",
   "metadata": {},
   "outputs": [],
   "source": []
  },
  {
   "cell_type": "code",
   "execution_count": 37,
   "id": "c7c8fcca",
   "metadata": {},
   "outputs": [],
   "source": [
    "j = ['Jchain', 'Ighg2b','Cpt1a', 'Slc2a1','Slc2a3', 'Foxo1', 'Immp2l', 'Cd19','Cd27','Cd38']\n",
    "jchain_kid = gene_expression_obs(tissue, j)\n",
    "df_kid = gene_expression_df(jchain_kid, j)"
   ]
  },
  {
   "cell_type": "code",
   "execution_count": 38,
   "id": "a3634895",
   "metadata": {},
   "outputs": [],
   "source": [
    "l10_obs = gene_expression_obs(tissue, leiden10vs15)\n",
    "l10_df = gene_expression_df(l10_obs,leiden10vs15)"
   ]
  },
  {
   "cell_type": "code",
   "execution_count": 39,
   "id": "fac63ea7",
   "metadata": {},
   "outputs": [],
   "source": [
    "l15_obs = gene_expression_obs(tissue, leiden15vs10)\n",
    "l15_df = gene_expression_df(l10_obs,leiden15vs10)"
   ]
  },
  {
   "cell_type": "code",
   "execution_count": 40,
   "id": "1d76880b",
   "metadata": {},
   "outputs": [],
   "source": [
    "yunna_obs = gene_expression_obs(tissue, yunna)\n",
    "y_df = gene_expression_df(yunna_obs,yunna)"
   ]
  },
  {
   "cell_type": "markdown",
   "id": "f69e59b0",
   "metadata": {
    "heading_collapsed": true
   },
   "source": [
    "## leiden cluster breakdown"
   ]
  },
  {
   "cell_type": "markdown",
   "id": "68c11328",
   "metadata": {
    "hidden": true
   },
   "source": [
    "Only the clusters that have annotated macrophages present"
   ]
  },
  {
   "cell_type": "code",
   "execution_count": null,
   "id": "7601adfc",
   "metadata": {
    "hidden": true
   },
   "outputs": [],
   "source": [
    "leiden0 = tissue[tissue.obs['leiden']=='0']\n",
    "l = pd.crosstab(leiden0.obs['cell_ontology_class'],leiden0.obs['age'], normalize='index')\n",
    "l.plot.bar(stacked=True).legend(loc='upper right')\n",
    "plt.legend(bbox_to_anchor=(1.02, 1), borderaxespad=0, facecolor = 'white')"
   ]
  },
  {
   "cell_type": "code",
   "execution_count": null,
   "id": "976bb706",
   "metadata": {
    "hidden": true
   },
   "outputs": [],
   "source": [
    "leiden1 = tissue[tissue.obs['leiden']=='1']\n",
    "l = pd.crosstab(leiden1.obs['cell_ontology_class'],leiden1.obs['age'], normalize='index')\n",
    "l.plot.bar(stacked=True).legend(loc='upper right')\n",
    "plt.legend(bbox_to_anchor=(1.02, 1), borderaxespad=0, facecolor = 'white')"
   ]
  },
  {
   "cell_type": "code",
   "execution_count": null,
   "id": "216f866b",
   "metadata": {
    "hidden": true
   },
   "outputs": [],
   "source": [
    "leiden3 = tissue[tissue.obs['leiden']=='3']\n",
    "l = pd.crosstab(leiden3.obs['cell_ontology_class'],leiden3.obs['age'], normalize='index')\n",
    "l.plot.bar(stacked=True).legend(loc='upper right')\n",
    "plt.legend(bbox_to_anchor=(1.02, 1), borderaxespad=0, facecolor = 'white')"
   ]
  },
  {
   "cell_type": "code",
   "execution_count": null,
   "id": "3b1e6b43",
   "metadata": {
    "hidden": true
   },
   "outputs": [],
   "source": [
    "leiden5 = tissue[tissue.obs['leiden']=='5']\n",
    "l = pd.crosstab(leiden5.obs['cell_ontology_class'],leiden5.obs['age'], normalize='index')\n",
    "l.plot.bar(stacked=True).legend(loc='upper right')\n",
    "plt.legend(bbox_to_anchor=(1.02, 1), borderaxespad=0, facecolor = 'white')"
   ]
  },
  {
   "cell_type": "code",
   "execution_count": null,
   "id": "9b378333",
   "metadata": {
    "hidden": true
   },
   "outputs": [],
   "source": [
    "leiden6 = tissue[tissue.obs['leiden']=='6']\n",
    "l = pd.crosstab(leiden6.obs['cell_ontology_class'],leiden6.obs['age'], normalize='index')\n",
    "l.plot.bar(stacked=True).legend(loc='upper right')\n",
    "plt.legend(bbox_to_anchor=(1.02, 1), borderaxespad=0, facecolor = 'white')"
   ]
  },
  {
   "cell_type": "code",
   "execution_count": null,
   "id": "0e8a6f87",
   "metadata": {
    "hidden": true
   },
   "outputs": [],
   "source": [
    "leiden7 = tissue[tissue.obs['leiden']=='7']\n",
    "l = pd.crosstab(leiden7.obs['cell_ontology_class'],leiden7.obs['age'], normalize='index')\n",
    "l.plot.bar(stacked=True).legend(loc='upper right')\n",
    "plt.legend(bbox_to_anchor=(1.02, 1), borderaxespad=0, facecolor = 'white')"
   ]
  },
  {
   "cell_type": "code",
   "execution_count": null,
   "id": "dd3e992d",
   "metadata": {
    "hidden": true
   },
   "outputs": [],
   "source": [
    "leiden11 = tissue[tissue.obs['leiden']=='11']\n",
    "l = pd.crosstab(leiden11.obs['cell_ontology_class'],leiden11.obs['age'], normalize='index')\n",
    "l.plot.bar(stacked=True).legend(loc='upper right')\n",
    "plt.legend(bbox_to_anchor=(1.02, 1), borderaxespad=0, facecolor = 'white')"
   ]
  },
  {
   "cell_type": "code",
   "execution_count": null,
   "id": "dfa4437d",
   "metadata": {
    "hidden": true
   },
   "outputs": [],
   "source": [
    "leiden16 = tissue[tissue.obs['leiden']=='16']\n",
    "l = pd.crosstab(leiden16.obs['cell_ontology_class'],leiden16.obs['age'], normalize='index')\n",
    "l.plot.bar(stacked=True).legend(loc='upper right')\n",
    "plt.legend(bbox_to_anchor=(1.02, 1), borderaxespad=0, facecolor = 'white')"
   ]
  },
  {
   "cell_type": "code",
   "execution_count": null,
   "id": "392c27df",
   "metadata": {
    "hidden": true
   },
   "outputs": [],
   "source": [
    "m = tissue[tissue.obs['cell_ontology_class']=='macrophage']\n",
    "mp = pd.crosstab(m.obs['leiden'],m.obs['age'], normalize='index')\n",
    "mp.plot.bar(stacked=True).legend(loc='upper right')"
   ]
  },
  {
   "cell_type": "code",
   "execution_count": null,
   "id": "e4b76194",
   "metadata": {
    "hidden": true
   },
   "outputs": [],
   "source": [
    "tmp = pd.crosstab(tissue.obs['leiden'],tissue.obs['cell_ontology_class'], normalize='index')\n",
    "tmp.plot.bar(stacked=True).legend(loc='upper left')\n",
    "plt.legend(bbox_to_anchor=(1.02, 1), borderaxespad=0, facecolor = 'white')"
   ]
  },
  {
   "cell_type": "markdown",
   "id": "3dc6d3ba",
   "metadata": {
    "heading_collapsed": true
   },
   "source": [
    "# MT and MitoCarta score_genes"
   ]
  },
  {
   "cell_type": "markdown",
   "id": "3bae30ae",
   "metadata": {
    "hidden": true
   },
   "source": [
    "**Save MT score_genes result** (unhash if doing for the first time)\n",
    "\n",
    "* score_genes_cell_cycle(adata, s_genes, g2m_genes)\n",
    "* mt_genes -> s_genes\n",
    "* mt_nc_genes -> g2m_genes"
   ]
  },
  {
   "cell_type": "markdown",
   "id": "5826c8b1",
   "metadata": {
    "hidden": true
   },
   "source": [
    "A function to make a dataframe of gene_scores and gene expression score by cell"
   ]
  },
  {
   "cell_type": "code",
   "execution_count": null,
   "id": "0288e087",
   "metadata": {
    "hidden": true
   },
   "outputs": [],
   "source": [
    "def cell_gene_exp_df(adata, gene):\n",
    "    ''' Input is gene name that has an obs.gene_score. \n",
    "    Output is a pandas DataFrame with two columns: cell index and gene's gene_score'''\n",
    "    \n",
    "    data = defaultdict(list)\n",
    "    \n",
    "    for d in list(adata.obs['cell']):\n",
    "        data[\"Cell\"].append(d)\n",
    "        \n",
    "        cg = adata[adata.obs.cell == d, adata.var.index == gene]\n",
    "        data[\"Gene Expression\"].append(cg.X[0,0]) \n",
    "    \n",
    "    #for g in list(adata.obs[gene]):\n",
    "    #    data[\"gene_score\"].append(g)\n",
    "       \n",
    "    df = pd.DataFrame(data)\n",
    "    return df"
   ]
  },
  {
   "cell_type": "code",
   "execution_count": null,
   "id": "9fb6853d",
   "metadata": {
    "hidden": true
   },
   "outputs": [],
   "source": [
    "#tissue_score_genes = sc.tl.score_genes_cell_cycle(tissue, mt_genes, mt_nc_genes, copy = True)"
   ]
  },
  {
   "cell_type": "code",
   "execution_count": null,
   "id": "d5ffce36",
   "metadata": {
    "hidden": true
   },
   "outputs": [],
   "source": [
    "tissue_score_genes_path = \"/mnt/ibm_sm/home/lea.mcgeever/ms/notebooks/adata_files/tissue_sg1_02172022.h5ad\"\n",
    "#tissue_sg1.write(tissue_score_genes_path)\n",
    "tissue_sg1 = sc.read_h5ad(tissue_score_genes_path)"
   ]
  },
  {
   "cell_type": "code",
   "execution_count": null,
   "id": "1da987ad",
   "metadata": {
    "hidden": true
   },
   "outputs": [],
   "source": [
    "tissue_sg1.obs[['age','cell_ontology_class','S_score','G2M_score']]"
   ]
  },
  {
   "cell_type": "code",
   "execution_count": null,
   "id": "8e5b1f38",
   "metadata": {
    "hidden": true
   },
   "outputs": [],
   "source": []
  },
  {
   "cell_type": "markdown",
   "id": "f423136c",
   "metadata": {
    "hidden": true
   },
   "source": [
    "**Check this out!**  \n",
    "\n",
    "tissue_sg1 is after using it. sc.tl.score_genes_cell_cycle seems to change the Gene Expression values. \n",
    "\n",
    "tissue is the adata before using sc.tl.score_genes_cell_cycle."
   ]
  },
  {
   "cell_type": "markdown",
   "id": "69000bf5",
   "metadata": {
    "hidden": true
   },
   "source": [
    "**Before going through sc.tl.score_genes_cell_cycle there aren't negative gene expression values.**"
   ]
  },
  {
   "cell_type": "code",
   "execution_count": null,
   "id": "831b1720",
   "metadata": {
    "hidden": true
   },
   "outputs": [],
   "source": [
    "cell_gene_exp_df('Nr4a1',tissue)"
   ]
  },
  {
   "cell_type": "markdown",
   "id": "c17e3645",
   "metadata": {
    "hidden": true
   },
   "source": [
    "**But after going through sc.tl.score_genes_cell_cycle the values are now negative**"
   ]
  },
  {
   "cell_type": "code",
   "execution_count": null,
   "id": "6216e337",
   "metadata": {
    "hidden": true
   },
   "outputs": [],
   "source": [
    "cell_gene_exp_df('Nr4a1',tissue_sg1)"
   ]
  },
  {
   "cell_type": "markdown",
   "id": "1d21c459",
   "metadata": {},
   "source": [
    "# Statistics tests on gene expression"
   ]
  },
  {
   "cell_type": "markdown",
   "id": "405970a5",
   "metadata": {},
   "source": [
    "Need to run **7 Gene expression vars -> obs & dataframe** first"
   ]
  },
  {
   "cell_type": "markdown",
   "id": "ef5da937",
   "metadata": {},
   "source": [
    "## statannot plots"
   ]
  },
  {
   "cell_type": "markdown",
   "id": "dfbe7f35",
   "metadata": {},
   "source": [
    "### score_genes for mt genes"
   ]
  },
  {
   "cell_type": "code",
   "execution_count": 41,
   "id": "a6cd93d8",
   "metadata": {
    "scrolled": true
   },
   "outputs": [
    {
     "name": "stderr",
     "output_type": "stream",
     "text": [
      "No handles with labels found to put in legend.\n"
     ]
    },
    {
     "name": "stdout",
     "output_type": "stream",
     "text": [
      "p-value annotation legend:\n",
      "ns: 5.00e-02 < p <= 1.00e+00\n",
      "*: 1.00e-02 < p <= 5.00e-02\n",
      "**: 1.00e-03 < p <= 1.00e-02\n",
      "***: 1.00e-04 < p <= 1.00e-03\n",
      "****: p <= 1.00e-04\n",
      "\n",
      "B cell_3m v.s. B cell_24m: Mann-Whitney-Wilcoxon test two-sided with Bonferroni correction, P_val=1.000e+00 U_stat=3.100e+01\n",
      "B cell_24m v.s. B cell_18m: Mann-Whitney-Wilcoxon test two-sided with Bonferroni correction, P_val=3.695e-02 U_stat=2.510e+02\n",
      "T cell_3m v.s. T cell_24m: Mann-Whitney-Wilcoxon test two-sided with Bonferroni correction, P_val=1.000e+00 U_stat=1.710e+02\n",
      "epithelial cell of proximal tubule_3m v.s. epithelial cell of proximal tubule_24m: Mann-Whitney-Wilcoxon test two-sided with Bonferroni correction, P_val=1.000e+00 U_stat=4.927e+03\n",
      "epithelial cell of proximal tubule_24m v.s. epithelial cell of proximal tubule_18m: Mann-Whitney-Wilcoxon test two-sided with Bonferroni correction, P_val=2.513e-03 U_stat=1.731e+04\n",
      "kidney collecting duct epithelial cell_3m v.s. kidney collecting duct epithelial cell_24m: Mann-Whitney-Wilcoxon test two-sided with Bonferroni correction, P_val=1.000e+00 U_stat=4.468e+03\n",
      "kidney collecting duct epithelial cell_24m v.s. kidney collecting duct epithelial cell_18m: Mann-Whitney-Wilcoxon test two-sided with Bonferroni correction, P_val=4.696e-01 U_stat=1.044e+04\n",
      "kidney collecting duct principal cell_3m v.s. kidney collecting duct principal cell_24m: Mann-Whitney-Wilcoxon test two-sided with Bonferroni correction, P_val=1.000e+00 U_stat=1.635e+03\n",
      "kidney collecting duct principal cell_24m v.s. kidney collecting duct principal cell_18m: Mann-Whitney-Wilcoxon test two-sided with Bonferroni correction, P_val=1.000e+00 U_stat=1.433e+03\n",
      "kidney loop of Henle ascending limb epithelial cell_3m v.s. kidney loop of Henle ascending limb epithelial cell_24m: Mann-Whitney-Wilcoxon test two-sided with Bonferroni correction, P_val=1.000e+00 U_stat=1.515e+03\n",
      "kidney loop of Henle ascending limb epithelial cell_24m v.s. kidney loop of Henle ascending limb epithelial cell_18m: Mann-Whitney-Wilcoxon test two-sided with Bonferroni correction, P_val=1.000e+00 U_stat=7.370e+02\n",
      "macrophage_24m v.s. macrophage_18m: Mann-Whitney-Wilcoxon test two-sided with Bonferroni correction, P_val=1.000e+00 U_stat=1.087e+03\n",
      "mesangial cell_3m v.s. mesangial cell_24m: Mann-Whitney-Wilcoxon test two-sided with Bonferroni correction, P_val=1.000e+00 U_stat=3.980e+02\n",
      "mesangial cell_24m v.s. mesangial cell_18m: Mann-Whitney-Wilcoxon test two-sided with Bonferroni correction, P_val=8.686e-04 U_stat=1.300e+02\n",
      "fenestrated cell_3m v.s. fenestrated cell_24m: Mann-Whitney-Wilcoxon test two-sided with Bonferroni correction, P_val=1.000e+00 U_stat=5.099e+03\n",
      "fenestrated cell_24m v.s. fenestrated cell_18m: Mann-Whitney-Wilcoxon test two-sided with Bonferroni correction, P_val=1.000e+00 U_stat=2.427e+03\n",
      "macrophage_3m v.s. macrophage_24m: Mann-Whitney-Wilcoxon test two-sided with Bonferroni correction, P_val=1.409e-01 U_stat=1.888e+03\n",
      "T cell_24m v.s. T cell_18m: Mann-Whitney-Wilcoxon test two-sided with Bonferroni correction, P_val=1.000e+00 U_stat=5.440e+02\n",
      "kidney interstitial fibroblast_3m v.s. kidney interstitial fibroblast_24m: Mann-Whitney-Wilcoxon test two-sided with Bonferroni correction, P_val=0.000e+00 U_stat=0.000e+00\n"
     ]
    },
    {
     "name": "stderr",
     "output_type": "stream",
     "text": [
      "/mnt/ibm_sm/home/lea.mcgeever/anaconda3/lib/python3.8/site-packages/scipy/stats/stats.py:7171: RuntimeWarning: divide by zero encountered in double_scalars\n",
      "  z = (bigu - meanrank) / sd\n"
     ]
    },
    {
     "name": "stdout",
     "output_type": "stream",
     "text": [
      "kidney interstitial fibroblast_24m v.s. kidney interstitial fibroblast_18m: Mann-Whitney-Wilcoxon test two-sided with Bonferroni correction, P_val=0.000e+00 U_stat=0.000e+00\n",
      "B cell_3m v.s. B cell_18m: Mann-Whitney-Wilcoxon test two-sided with Bonferroni correction, P_val=1.535e-01 U_stat=5.500e+01\n",
      "epithelial cell of proximal tubule_3m v.s. epithelial cell of proximal tubule_18m: Mann-Whitney-Wilcoxon test two-sided with Bonferroni correction, P_val=1.000e+00 U_stat=3.455e+03\n",
      "kidney collecting duct epithelial cell_3m v.s. kidney collecting duct epithelial cell_18m: Mann-Whitney-Wilcoxon test two-sided with Bonferroni correction, P_val=1.947e-03 U_stat=1.951e+04\n",
      "kidney collecting duct principal cell_3m v.s. kidney collecting duct principal cell_18m: Mann-Whitney-Wilcoxon test two-sided with Bonferroni correction, P_val=1.000e+00 U_stat=1.409e+03\n",
      "kidney loop of Henle ascending limb epithelial cell_3m v.s. kidney loop of Henle ascending limb epithelial cell_18m: Mann-Whitney-Wilcoxon test two-sided with Bonferroni correction, P_val=5.067e-02 U_stat=1.662e+03\n",
      "mesangial cell_3m v.s. mesangial cell_18m: Mann-Whitney-Wilcoxon test two-sided with Bonferroni correction, P_val=1.000e+00 U_stat=5.510e+02\n",
      "macrophage_3m v.s. macrophage_18m: Mann-Whitney-Wilcoxon test two-sided with Bonferroni correction, P_val=1.000e+00 U_stat=9.610e+02\n",
      "fenestrated cell_3m v.s. fenestrated cell_18m: Mann-Whitney-Wilcoxon test two-sided with Bonferroni correction, P_val=9.125e-01 U_stat=2.223e+03\n",
      "T cell_3m v.s. T cell_18m: Mann-Whitney-Wilcoxon test two-sided with Bonferroni correction, P_val=1.000e+00 U_stat=8.000e+01\n",
      "kidney interstitial fibroblast_3m v.s. kidney interstitial fibroblast_18m: Mann-Whitney-Wilcoxon test two-sided with Bonferroni correction, P_val=0.000e+00 U_stat=0.000e+00\n"
     ]
    },
    {
     "data": {
      "text/plain": [
       "(<AxesSubplot:xlabel='cell_ontology_class', ylabel='MT_GENES'>,\n",
       " [<statannot.StatResult.StatResult at 0x7f002fd83ac0>,\n",
       "  <statannot.StatResult.StatResult at 0x7f00301458e0>,\n",
       "  <statannot.StatResult.StatResult at 0x7f0030145850>,\n",
       "  <statannot.StatResult.StatResult at 0x7f002fef0b20>,\n",
       "  <statannot.StatResult.StatResult at 0x7f0030a767c0>,\n",
       "  <statannot.StatResult.StatResult at 0x7f0030aa58e0>,\n",
       "  <statannot.StatResult.StatResult at 0x7f002ff75250>,\n",
       "  <statannot.StatResult.StatResult at 0x7f002ff75490>,\n",
       "  <statannot.StatResult.StatResult at 0x7f003040b5e0>,\n",
       "  <statannot.StatResult.StatResult at 0x7f00302fb460>,\n",
       "  <statannot.StatResult.StatResult at 0x7f0030a1b670>,\n",
       "  <statannot.StatResult.StatResult at 0x7f0030089400>,\n",
       "  <statannot.StatResult.StatResult at 0x7f0030a25fd0>,\n",
       "  <statannot.StatResult.StatResult at 0x7f0030a257f0>,\n",
       "  <statannot.StatResult.StatResult at 0x7f00300f7610>,\n",
       "  <statannot.StatResult.StatResult at 0x7f002ff34340>,\n",
       "  <statannot.StatResult.StatResult at 0x7f002ff1b190>,\n",
       "  <statannot.StatResult.StatResult at 0x7f002ff584c0>,\n",
       "  <statannot.StatResult.StatResult at 0x7f002fd37310>,\n",
       "  <statannot.StatResult.StatResult at 0x7f002fd373d0>,\n",
       "  <statannot.StatResult.StatResult at 0x7f002ff58d00>,\n",
       "  <statannot.StatResult.StatResult at 0x7f002fd37070>,\n",
       "  <statannot.StatResult.StatResult at 0x7f002fd2c340>,\n",
       "  <statannot.StatResult.StatResult at 0x7f002feb2d30>,\n",
       "  <statannot.StatResult.StatResult at 0x7f00302fb220>,\n",
       "  <statannot.StatResult.StatResult at 0x7f003040a6a0>,\n",
       "  <statannot.StatResult.StatResult at 0x7f002fe81580>,\n",
       "  <statannot.StatResult.StatResult at 0x7f002fe81bb0>,\n",
       "  <statannot.StatResult.StatResult at 0x7f002ff2de80>,\n",
       "  <statannot.StatResult.StatResult at 0x7f002fd863a0>])"
      ]
     },
     "execution_count": 41,
     "metadata": {},
     "output_type": "execute_result"
    },
    {
     "data": {
      "image/png": "[encoded data removed]",
      "text/plain": [
       "<Figure size 800x400 with 1 Axes>"
      ]
     },
     "metadata": {
      "image/png": {
       "height": 738,
       "width": 692
      }
     },
     "output_type": "display_data"
    }
   ],
   "source": [
    "#Don't really think score_genes can be used for mt-encoded genes\n",
    "\n",
    "df = tissue3[['age','cell_ontology_class','MT_GENES']]\n",
    "\n",
    "x = \"cell_ontology_class\" \n",
    "y = \"MT_GENES\" \n",
    "hue = 'age'\n",
    "hue_order = ['3m', '18m', '24m']\n",
    "\n",
    "box_pairs=[\n",
    "    ((\"B cell\", \"3m\"), (\"B cell\", \"18m\")),\n",
    "    ((\"B cell\", \"3m\"), (\"B cell\", \"24m\")),\n",
    "    ((\"B cell\", \"18m\"), (\"B cell\", \"24m\")),\n",
    "    \n",
    "    ((\"T cell\", \"3m\"), (\"T cell\", \"18m\")),\n",
    "    ((\"T cell\", \"3m\"), (\"T cell\", \"24m\")),\n",
    "    ((\"T cell\", \"18m\"), (\"T cell\", \"24m\")),\n",
    "    \n",
    "    ((\"epithelial cell of proximal tubule\", \"3m\"), (\"epithelial cell of proximal tubule\", \"18m\")),\n",
    "    ((\"epithelial cell of proximal tubule\", \"3m\"), (\"epithelial cell of proximal tubule\", \"24m\")),\n",
    "    ((\"epithelial cell of proximal tubule\", \"18m\"), (\"epithelial cell of proximal tubule\", \"24m\")),\n",
    "    \n",
    "    ((\"fenestrated cell\", \"3m\"), (\"fenestrated cell\", \"18m\")),\n",
    "    ((\"fenestrated cell\", \"3m\"), (\"fenestrated cell\", \"24m\")),\n",
    "    ((\"fenestrated cell\", \"18m\"), (\"fenestrated cell\", \"24m\")),\n",
    "    \n",
    "    ((\"kidney collecting duct epithelial cell\", \"3m\"), (\"kidney collecting duct epithelial cell\", \"18m\")),\n",
    "    ((\"kidney collecting duct epithelial cell\", \"3m\"), (\"kidney collecting duct epithelial cell\", \"24m\")),\n",
    "    ((\"kidney collecting duct epithelial cell\", \"18m\"), (\"kidney collecting duct epithelial cell\", \"24m\")),\n",
    "    \n",
    "    ((\"kidney collecting duct principal cell\", \"3m\"), (\"kidney collecting duct principal cell\", \"18m\")),\n",
    "    ((\"kidney collecting duct principal cell\", \"3m\"), (\"kidney collecting duct principal cell\", \"24m\")),\n",
    "    ((\"kidney collecting duct principal cell\", \"18m\"), (\"kidney collecting duct principal cell\", \"24m\")),\n",
    "    \n",
    "    ((\"kidney interstitial fibroblast\", \"3m\"), (\"kidney interstitial fibroblast\", \"18m\")),\n",
    "    ((\"kidney interstitial fibroblast\", \"3m\"), (\"kidney interstitial fibroblast\", \"24m\")),\n",
    "    ((\"kidney interstitial fibroblast\", \"18m\"), (\"kidney interstitial fibroblast\", \"24m\")),\n",
    "    \n",
    "    ((\"kidney loop of Henle ascending limb epithelial cell\", \"3m\"), (\"kidney loop of Henle ascending limb epithelial cell\", \"18m\")),\n",
    "    ((\"kidney loop of Henle ascending limb epithelial cell\", \"3m\"), (\"kidney loop of Henle ascending limb epithelial cell\", \"24m\")),\n",
    "    ((\"kidney loop of Henle ascending limb epithelial cell\", \"18m\"), (\"kidney loop of Henle ascending limb epithelial cell\", \"24m\")),\n",
    "    \n",
    "    ((\"macrophage\", \"3m\"), (\"macrophage\", \"18m\")),\n",
    "    ((\"macrophage\", \"3m\"), (\"macrophage\", \"24m\")),\n",
    "    ((\"macrophage\", \"18m\"), (\"macrophage\", \"24m\")),\n",
    "       \n",
    "    ((\"mesangial cell\", \"3m\"), (\"mesangial cell\", \"18m\")),\n",
    "    ((\"mesangial cell\", \"3m\"), (\"mesangial cell\", \"24m\")),\n",
    "    ((\"mesangial cell\", \"18m\"), (\"mesangial cell\", \"24m\")),  \n",
    "    ]\n",
    "fig = plt.figure(figsize=(10, 5))\n",
    "plt.legend(loc='upper left', bbox_to_anchor=(1.03, 1))\n",
    "plt.xticks(rotation=90)\n",
    "ax = sns.boxplot(data=df, x=x, y=y, hue=hue)\n",
    "add_stat_annotation(ax, data=df, x=x, y=y,hue=hue,box_pairs=box_pairs,\n",
    "                    test='Mann-Whitney',loc='inside',verbose=2)"
   ]
  },
  {
   "cell_type": "markdown",
   "id": "c14b82ab",
   "metadata": {
    "heading_collapsed": true
   },
   "source": [
    "#### Nc-encoded MT genes"
   ]
  },
  {
   "cell_type": "code",
   "execution_count": null,
   "id": "f3f358ee",
   "metadata": {
    "hidden": true
   },
   "outputs": [],
   "source": [
    "#score_genes\n",
    "df = tissue3[['age','cell_ontology_class','NC_MT_GENES']]\n",
    "\n",
    "x = \"cell_ontology_class\" \n",
    "y = \"NC_MT_GENES\" \n",
    "hue = 'age'\n",
    "hue_order = ['3m', '18m', '24m']\n",
    "\n",
    "box_pairs=[\n",
    "    ((\"B cell\", \"3m\"), (\"B cell\", \"18m\")),\n",
    "    ((\"B cell\", \"3m\"), (\"B cell\", \"24m\")),\n",
    "    ((\"B cell\", \"18m\"), (\"B cell\", \"24m\")),\n",
    "    \n",
    "    ((\"T cell\", \"3m\"), (\"T cell\", \"18m\")),\n",
    "    ((\"T cell\", \"3m\"), (\"T cell\", \"24m\")),\n",
    "    ((\"T cell\", \"18m\"), (\"T cell\", \"24m\")),\n",
    "    \n",
    "    ((\"epithelial cell of proximal tubule\", \"3m\"), (\"epithelial cell of proximal tubule\", \"18m\")),\n",
    "    ((\"epithelial cell of proximal tubule\", \"3m\"), (\"epithelial cell of proximal tubule\", \"24m\")),\n",
    "    ((\"epithelial cell of proximal tubule\", \"18m\"), (\"epithelial cell of proximal tubule\", \"24m\")),\n",
    "    \n",
    "    ((\"fenestrated cell\", \"3m\"), (\"fenestrated cell\", \"18m\")),\n",
    "    ((\"fenestrated cell\", \"3m\"), (\"fenestrated cell\", \"24m\")),\n",
    "    ((\"fenestrated cell\", \"18m\"), (\"fenestrated cell\", \"24m\")),\n",
    "    \n",
    "    ((\"kidney collecting duct epithelial cell\", \"3m\"), (\"kidney collecting duct epithelial cell\", \"18m\")),\n",
    "    ((\"kidney collecting duct epithelial cell\", \"3m\"), (\"kidney collecting duct epithelial cell\", \"24m\")),\n",
    "    ((\"kidney collecting duct epithelial cell\", \"18m\"), (\"kidney collecting duct epithelial cell\", \"24m\")),\n",
    "    \n",
    "    ((\"kidney collecting duct principal cell\", \"3m\"), (\"kidney collecting duct principal cell\", \"18m\")),\n",
    "    ((\"kidney collecting duct principal cell\", \"3m\"), (\"kidney collecting duct principal cell\", \"24m\")),\n",
    "    ((\"kidney collecting duct principal cell\", \"18m\"), (\"kidney collecting duct principal cell\", \"24m\")),\n",
    "    \n",
    "    ((\"kidney interstitial fibroblast\", \"3m\"), (\"kidney interstitial fibroblast\", \"18m\")),\n",
    "    ((\"kidney interstitial fibroblast\", \"3m\"), (\"kidney interstitial fibroblast\", \"24m\")),\n",
    "    ((\"kidney interstitial fibroblast\", \"18m\"), (\"kidney interstitial fibroblast\", \"24m\")),\n",
    "    \n",
    "    ((\"kidney loop of Henle ascending limb epithelial cell\", \"3m\"), (\"kidney loop of Henle ascending limb epithelial cell\", \"18m\")),\n",
    "    ((\"kidney loop of Henle ascending limb epithelial cell\", \"3m\"), (\"kidney loop of Henle ascending limb epithelial cell\", \"24m\")),\n",
    "    ((\"kidney loop of Henle ascending limb epithelial cell\", \"18m\"), (\"kidney loop of Henle ascending limb epithelial cell\", \"24m\")),\n",
    "    \n",
    "    ((\"macrophage\", \"3m\"), (\"macrophage\", \"18m\")),\n",
    "    ((\"macrophage\", \"3m\"), (\"macrophage\", \"24m\")),\n",
    "    ((\"macrophage\", \"18m\"), (\"macrophage\", \"24m\")),\n",
    "       \n",
    "    ((\"mesangial cell\", \"3m\"), (\"mesangial cell\", \"18m\")),\n",
    "    ((\"mesangial cell\", \"3m\"), (\"mesangial cell\", \"24m\")),\n",
    "    ((\"mesangial cell\", \"18m\"), (\"mesangial cell\", \"24m\")),  \n",
    "    ]\n",
    "fig = plt.figure(figsize=(10, 5))\n",
    "plt.legend(loc='upper left', bbox_to_anchor=(1.03, 1))\n",
    "plt.xticks(rotation=90)\n",
    "ax = sns.boxplot(data=df, x=x, y=y, hue=hue)\n",
    "add_stat_annotation(ax, data=df, x=x, y=y,hue=hue,box_pairs=box_pairs,\n",
    "                    test='Mann-Whitney',loc='inside',verbose=2)"
   ]
  },
  {
   "cell_type": "markdown",
   "id": "2427d385",
   "metadata": {
    "heading_collapsed": true
   },
   "source": [
    "#### mt-Atp6"
   ]
  },
  {
   "cell_type": "code",
   "execution_count": null,
   "id": "f92920c8",
   "metadata": {
    "hidden": true
   },
   "outputs": [],
   "source": [
    "df = tissue3[['age','cell_ontology_class','mt-Atp6']]\n",
    "\n",
    "x = \"cell_ontology_class\" \n",
    "y = \"mt-Atp6\" \n",
    "hue = 'age'\n",
    "hue_order = ['3m', '18m', '24m']\n",
    "\n",
    "box_pairs=[\n",
    "    ((\"B cell\", \"3m\"), (\"B cell\", \"18m\")),\n",
    "    ((\"B cell\", \"3m\"), (\"B cell\", \"24m\")),\n",
    "    ((\"B cell\", \"18m\"), (\"B cell\", \"24m\")),\n",
    "    \n",
    "    ((\"T cell\", \"3m\"), (\"T cell\", \"18m\")),\n",
    "    ((\"T cell\", \"3m\"), (\"T cell\", \"24m\")),\n",
    "    ((\"T cell\", \"18m\"), (\"T cell\", \"24m\")),\n",
    "    \n",
    "    ((\"epithelial cell of proximal tubule\", \"3m\"), (\"epithelial cell of proximal tubule\", \"18m\")),\n",
    "    ((\"epithelial cell of proximal tubule\", \"3m\"), (\"epithelial cell of proximal tubule\", \"24m\")),\n",
    "    ((\"epithelial cell of proximal tubule\", \"18m\"), (\"epithelial cell of proximal tubule\", \"24m\")),\n",
    "    \n",
    "    ((\"fenestrated cell\", \"3m\"), (\"fenestrated cell\", \"18m\")),\n",
    "    ((\"fenestrated cell\", \"3m\"), (\"fenestrated cell\", \"24m\")),\n",
    "    ((\"fenestrated cell\", \"18m\"), (\"fenestrated cell\", \"24m\")),\n",
    "    \n",
    "    ((\"kidney collecting duct epithelial cell\", \"3m\"), (\"kidney collecting duct epithelial cell\", \"18m\")),\n",
    "    ((\"kidney collecting duct epithelial cell\", \"3m\"), (\"kidney collecting duct epithelial cell\", \"24m\")),\n",
    "    ((\"kidney collecting duct epithelial cell\", \"18m\"), (\"kidney collecting duct epithelial cell\", \"24m\")),\n",
    "    \n",
    "    ((\"kidney collecting duct principal cell\", \"3m\"), (\"kidney collecting duct principal cell\", \"18m\")),\n",
    "    ((\"kidney collecting duct principal cell\", \"3m\"), (\"kidney collecting duct principal cell\", \"24m\")),\n",
    "    ((\"kidney collecting duct principal cell\", \"18m\"), (\"kidney collecting duct principal cell\", \"24m\")),\n",
    "    \n",
    "    ((\"kidney interstitial fibroblast\", \"3m\"), (\"kidney interstitial fibroblast\", \"18m\")),\n",
    "    ((\"kidney interstitial fibroblast\", \"3m\"), (\"kidney interstitial fibroblast\", \"24m\")),\n",
    "    ((\"kidney interstitial fibroblast\", \"18m\"), (\"kidney interstitial fibroblast\", \"24m\")),\n",
    "    \n",
    "    ((\"kidney loop of Henle ascending limb epithelial cell\", \"3m\"), (\"kidney loop of Henle ascending limb epithelial cell\", \"18m\")),\n",
    "    ((\"kidney loop of Henle ascending limb epithelial cell\", \"3m\"), (\"kidney loop of Henle ascending limb epithelial cell\", \"24m\")),\n",
    "    ((\"kidney loop of Henle ascending limb epithelial cell\", \"18m\"), (\"kidney loop of Henle ascending limb epithelial cell\", \"24m\")),\n",
    "    \n",
    "    ((\"macrophage\", \"3m\"), (\"macrophage\", \"18m\")),\n",
    "    ((\"macrophage\", \"3m\"), (\"macrophage\", \"24m\")),\n",
    "    ((\"macrophage\", \"18m\"), (\"macrophage\", \"24m\")),\n",
    "       \n",
    "    ((\"mesangial cell\", \"3m\"), (\"mesangial cell\", \"18m\")),\n",
    "    ((\"mesangial cell\", \"3m\"), (\"mesangial cell\", \"24m\")),\n",
    "    ((\"mesangial cell\", \"18m\"), (\"mesangial cell\", \"24m\")),  \n",
    "    ]\n",
    "fig = plt.figure(figsize=(10, 5))\n",
    "plt.legend(loc='upper left', bbox_to_anchor=(1.03, 1))\n",
    "plt.xticks(rotation=90)\n",
    "ax = sns.boxplot(data=df, x=x, y=y, hue=hue)\n",
    "add_stat_annotation(ax, data=df, x=x, y=y,hue=hue,box_pairs=box_pairs,\n",
    "                    test='Mann-Whitney',loc='inside',verbose=2)"
   ]
  },
  {
   "cell_type": "markdown",
   "id": "be2cf4fc",
   "metadata": {
    "heading_collapsed": true
   },
   "source": [
    "#### mt-Atp8"
   ]
  },
  {
   "cell_type": "code",
   "execution_count": null,
   "id": "ac351792",
   "metadata": {
    "hidden": true
   },
   "outputs": [],
   "source": [
    "df = tissue3[['age','cell_ontology_class','mt-Atp8']]\n",
    "\n",
    "x = \"cell_ontology_class\" \n",
    "y = \"mt-Atp8\" \n",
    "hue = 'age'\n",
    "hue_order = ['3m', '18m', '24m']\n",
    "\n",
    "box_pairs=[\n",
    "    ((\"B cell\", \"3m\"), (\"B cell\", \"18m\")),\n",
    "    ((\"B cell\", \"3m\"), (\"B cell\", \"24m\")),\n",
    "    ((\"B cell\", \"18m\"), (\"B cell\", \"24m\")),\n",
    "    \n",
    "    ((\"T cell\", \"3m\"), (\"T cell\", \"18m\")),\n",
    "    ((\"T cell\", \"3m\"), (\"T cell\", \"24m\")),\n",
    "    ((\"T cell\", \"18m\"), (\"T cell\", \"24m\")),\n",
    "    \n",
    "    ((\"epithelial cell of proximal tubule\", \"3m\"), (\"epithelial cell of proximal tubule\", \"18m\")),\n",
    "    ((\"epithelial cell of proximal tubule\", \"3m\"), (\"epithelial cell of proximal tubule\", \"24m\")),\n",
    "    ((\"epithelial cell of proximal tubule\", \"18m\"), (\"epithelial cell of proximal tubule\", \"24m\")),\n",
    "    \n",
    "    ((\"fenestrated cell\", \"3m\"), (\"fenestrated cell\", \"18m\")),\n",
    "    ((\"fenestrated cell\", \"3m\"), (\"fenestrated cell\", \"24m\")),\n",
    "    ((\"fenestrated cell\", \"18m\"), (\"fenestrated cell\", \"24m\")),\n",
    "    \n",
    "    ((\"kidney collecting duct epithelial cell\", \"3m\"), (\"kidney collecting duct epithelial cell\", \"18m\")),\n",
    "    ((\"kidney collecting duct epithelial cell\", \"3m\"), (\"kidney collecting duct epithelial cell\", \"24m\")),\n",
    "    ((\"kidney collecting duct epithelial cell\", \"18m\"), (\"kidney collecting duct epithelial cell\", \"24m\")),\n",
    "    \n",
    "    ((\"kidney collecting duct principal cell\", \"3m\"), (\"kidney collecting duct principal cell\", \"18m\")),\n",
    "    ((\"kidney collecting duct principal cell\", \"3m\"), (\"kidney collecting duct principal cell\", \"24m\")),\n",
    "    ((\"kidney collecting duct principal cell\", \"18m\"), (\"kidney collecting duct principal cell\", \"24m\")),\n",
    "    \n",
    "    ((\"kidney interstitial fibroblast\", \"3m\"), (\"kidney interstitial fibroblast\", \"18m\")),\n",
    "    ((\"kidney interstitial fibroblast\", \"3m\"), (\"kidney interstitial fibroblast\", \"24m\")),\n",
    "    ((\"kidney interstitial fibroblast\", \"18m\"), (\"kidney interstitial fibroblast\", \"24m\")),\n",
    "    \n",
    "    ((\"kidney loop of Henle ascending limb epithelial cell\", \"3m\"), (\"kidney loop of Henle ascending limb epithelial cell\", \"18m\")),\n",
    "    ((\"kidney loop of Henle ascending limb epithelial cell\", \"3m\"), (\"kidney loop of Henle ascending limb epithelial cell\", \"24m\")),\n",
    "    ((\"kidney loop of Henle ascending limb epithelial cell\", \"18m\"), (\"kidney loop of Henle ascending limb epithelial cell\", \"24m\")),\n",
    "    \n",
    "    ((\"macrophage\", \"3m\"), (\"macrophage\", \"18m\")),\n",
    "    ((\"macrophage\", \"3m\"), (\"macrophage\", \"24m\")),\n",
    "    ((\"macrophage\", \"18m\"), (\"macrophage\", \"24m\")),\n",
    "       \n",
    "    ((\"mesangial cell\", \"3m\"), (\"mesangial cell\", \"18m\")),\n",
    "    ((\"mesangial cell\", \"3m\"), (\"mesangial cell\", \"24m\")),\n",
    "    ((\"mesangial cell\", \"18m\"), (\"mesangial cell\", \"24m\")),  \n",
    "    ]\n",
    "fig = plt.figure(figsize=(10, 5))\n",
    "plt.legend(loc='upper left', bbox_to_anchor=(1.03, 1))\n",
    "plt.xticks(rotation=90)\n",
    "ax = sns.boxplot(data=df, x=x, y=y, hue=hue)\n",
    "add_stat_annotation(ax, data=df, x=x, y=y,hue=hue,box_pairs=box_pairs,\n",
    "                    test='Mann-Whitney',loc='inside',verbose=2)"
   ]
  },
  {
   "cell_type": "markdown",
   "id": "3ce83c77",
   "metadata": {
    "heading_collapsed": true
   },
   "source": [
    "#### mt-Co1"
   ]
  },
  {
   "cell_type": "code",
   "execution_count": null,
   "id": "e284bd31",
   "metadata": {
    "hidden": true
   },
   "outputs": [],
   "source": [
    "df = tissue3[['age','cell_ontology_class','mt-Co1']]\n",
    "\n",
    "x = \"cell_ontology_class\" \n",
    "y = \"mt-Co1\" \n",
    "hue = 'age'\n",
    "hue_order = ['3m', '18m', '24m']\n",
    "\n",
    "box_pairs=[\n",
    "    ((\"B cell\", \"3m\"), (\"B cell\", \"18m\")),\n",
    "    ((\"B cell\", \"3m\"), (\"B cell\", \"24m\")),\n",
    "    ((\"B cell\", \"18m\"), (\"B cell\", \"24m\")),\n",
    "    \n",
    "    ((\"T cell\", \"3m\"), (\"T cell\", \"18m\")),\n",
    "    ((\"T cell\", \"3m\"), (\"T cell\", \"24m\")),\n",
    "    ((\"T cell\", \"18m\"), (\"T cell\", \"24m\")),\n",
    "    \n",
    "    ((\"epithelial cell of proximal tubule\", \"3m\"), (\"epithelial cell of proximal tubule\", \"18m\")),\n",
    "    ((\"epithelial cell of proximal tubule\", \"3m\"), (\"epithelial cell of proximal tubule\", \"24m\")),\n",
    "    ((\"epithelial cell of proximal tubule\", \"18m\"), (\"epithelial cell of proximal tubule\", \"24m\")),\n",
    "    \n",
    "    ((\"fenestrated cell\", \"3m\"), (\"fenestrated cell\", \"18m\")),\n",
    "    ((\"fenestrated cell\", \"3m\"), (\"fenestrated cell\", \"24m\")),\n",
    "    ((\"fenestrated cell\", \"18m\"), (\"fenestrated cell\", \"24m\")),\n",
    "    \n",
    "    ((\"kidney collecting duct epithelial cell\", \"3m\"), (\"kidney collecting duct epithelial cell\", \"18m\")),\n",
    "    ((\"kidney collecting duct epithelial cell\", \"3m\"), (\"kidney collecting duct epithelial cell\", \"24m\")),\n",
    "    ((\"kidney collecting duct epithelial cell\", \"18m\"), (\"kidney collecting duct epithelial cell\", \"24m\")),\n",
    "    \n",
    "    ((\"kidney collecting duct principal cell\", \"3m\"), (\"kidney collecting duct principal cell\", \"18m\")),\n",
    "    ((\"kidney collecting duct principal cell\", \"3m\"), (\"kidney collecting duct principal cell\", \"24m\")),\n",
    "    ((\"kidney collecting duct principal cell\", \"18m\"), (\"kidney collecting duct principal cell\", \"24m\")),\n",
    "    \n",
    "    ((\"kidney interstitial fibroblast\", \"3m\"), (\"kidney interstitial fibroblast\", \"18m\")),\n",
    "    ((\"kidney interstitial fibroblast\", \"3m\"), (\"kidney interstitial fibroblast\", \"24m\")),\n",
    "    ((\"kidney interstitial fibroblast\", \"18m\"), (\"kidney interstitial fibroblast\", \"24m\")),\n",
    "    \n",
    "    ((\"kidney loop of Henle ascending limb epithelial cell\", \"3m\"), (\"kidney loop of Henle ascending limb epithelial cell\", \"18m\")),\n",
    "    ((\"kidney loop of Henle ascending limb epithelial cell\", \"3m\"), (\"kidney loop of Henle ascending limb epithelial cell\", \"24m\")),\n",
    "    ((\"kidney loop of Henle ascending limb epithelial cell\", \"18m\"), (\"kidney loop of Henle ascending limb epithelial cell\", \"24m\")),\n",
    "    \n",
    "    ((\"macrophage\", \"3m\"), (\"macrophage\", \"18m\")),\n",
    "    ((\"macrophage\", \"3m\"), (\"macrophage\", \"24m\")),\n",
    "    ((\"macrophage\", \"18m\"), (\"macrophage\", \"24m\")),\n",
    "       \n",
    "    ((\"mesangial cell\", \"3m\"), (\"mesangial cell\", \"18m\")),\n",
    "    ((\"mesangial cell\", \"3m\"), (\"mesangial cell\", \"24m\")),\n",
    "    ((\"mesangial cell\", \"18m\"), (\"mesangial cell\", \"24m\")),  \n",
    "    ]\n",
    "fig = plt.figure(figsize=(10, 5))\n",
    "plt.legend(loc='upper left', bbox_to_anchor=(1.03, 1))\n",
    "plt.xticks(rotation=90)\n",
    "ax = sns.boxplot(data=df, x=x, y=y, hue=hue)\n",
    "add_stat_annotation(ax, data=df, x=x, y=y,hue=hue,box_pairs=box_pairs,\n",
    "                    test='Mann-Whitney',loc='inside',verbose=2)"
   ]
  },
  {
   "cell_type": "markdown",
   "id": "78d1bb75",
   "metadata": {
    "heading_collapsed": true
   },
   "source": [
    "#### mt-Co2"
   ]
  },
  {
   "cell_type": "code",
   "execution_count": null,
   "id": "0e9d9f53",
   "metadata": {
    "hidden": true
   },
   "outputs": [],
   "source": [
    "df = tissue3[['age','cell_ontology_class','mt-Co2']]\n",
    "\n",
    "x = \"cell_ontology_class\" \n",
    "y = \"mt-Co2\" \n",
    "hue = 'age'\n",
    "hue_order = ['3m', '18m', '24m']\n",
    "\n",
    "box_pairs=[\n",
    "    ((\"B cell\", \"3m\"), (\"B cell\", \"18m\")),\n",
    "    ((\"B cell\", \"3m\"), (\"B cell\", \"24m\")),\n",
    "    ((\"B cell\", \"18m\"), (\"B cell\", \"24m\")),\n",
    "    \n",
    "    ((\"T cell\", \"3m\"), (\"T cell\", \"18m\")),\n",
    "    ((\"T cell\", \"3m\"), (\"T cell\", \"24m\")),\n",
    "    ((\"T cell\", \"18m\"), (\"T cell\", \"24m\")),\n",
    "    \n",
    "    ((\"epithelial cell of proximal tubule\", \"3m\"), (\"epithelial cell of proximal tubule\", \"18m\")),\n",
    "    ((\"epithelial cell of proximal tubule\", \"3m\"), (\"epithelial cell of proximal tubule\", \"24m\")),\n",
    "    ((\"epithelial cell of proximal tubule\", \"18m\"), (\"epithelial cell of proximal tubule\", \"24m\")),\n",
    "    \n",
    "    ((\"fenestrated cell\", \"3m\"), (\"fenestrated cell\", \"18m\")),\n",
    "    ((\"fenestrated cell\", \"3m\"), (\"fenestrated cell\", \"24m\")),\n",
    "    ((\"fenestrated cell\", \"18m\"), (\"fenestrated cell\", \"24m\")),\n",
    "    \n",
    "    ((\"kidney collecting duct epithelial cell\", \"3m\"), (\"kidney collecting duct epithelial cell\", \"18m\")),\n",
    "    ((\"kidney collecting duct epithelial cell\", \"3m\"), (\"kidney collecting duct epithelial cell\", \"24m\")),\n",
    "    ((\"kidney collecting duct epithelial cell\", \"18m\"), (\"kidney collecting duct epithelial cell\", \"24m\")),\n",
    "    \n",
    "    ((\"kidney collecting duct principal cell\", \"3m\"), (\"kidney collecting duct principal cell\", \"18m\")),\n",
    "    ((\"kidney collecting duct principal cell\", \"3m\"), (\"kidney collecting duct principal cell\", \"24m\")),\n",
    "    ((\"kidney collecting duct principal cell\", \"18m\"), (\"kidney collecting duct principal cell\", \"24m\")),\n",
    "    \n",
    "    ((\"kidney interstitial fibroblast\", \"3m\"), (\"kidney interstitial fibroblast\", \"18m\")),\n",
    "    ((\"kidney interstitial fibroblast\", \"3m\"), (\"kidney interstitial fibroblast\", \"24m\")),\n",
    "    ((\"kidney interstitial fibroblast\", \"18m\"), (\"kidney interstitial fibroblast\", \"24m\")),\n",
    "    \n",
    "    ((\"kidney loop of Henle ascending limb epithelial cell\", \"3m\"), (\"kidney loop of Henle ascending limb epithelial cell\", \"18m\")),\n",
    "    ((\"kidney loop of Henle ascending limb epithelial cell\", \"3m\"), (\"kidney loop of Henle ascending limb epithelial cell\", \"24m\")),\n",
    "    ((\"kidney loop of Henle ascending limb epithelial cell\", \"18m\"), (\"kidney loop of Henle ascending limb epithelial cell\", \"24m\")),\n",
    "    \n",
    "    ((\"macrophage\", \"3m\"), (\"macrophage\", \"18m\")),\n",
    "    ((\"macrophage\", \"3m\"), (\"macrophage\", \"24m\")),\n",
    "    ((\"macrophage\", \"18m\"), (\"macrophage\", \"24m\")),\n",
    "       \n",
    "    ((\"mesangial cell\", \"3m\"), (\"mesangial cell\", \"18m\")),\n",
    "    ((\"mesangial cell\", \"3m\"), (\"mesangial cell\", \"24m\")),\n",
    "    ((\"mesangial cell\", \"18m\"), (\"mesangial cell\", \"24m\")),  \n",
    "    ]\n",
    "fig = plt.figure(figsize=(10, 5))\n",
    "plt.legend(loc='upper left', bbox_to_anchor=(1.03, 1))\n",
    "plt.xticks(rotation=90)\n",
    "ax = sns.boxplot(data=df, x=x, y=y, hue=hue)\n",
    "add_stat_annotation(ax, data=df, x=x, y=y,hue=hue,box_pairs=box_pairs,\n",
    "                    test='Mann-Whitney',loc='inside',verbose=2)"
   ]
  },
  {
   "cell_type": "markdown",
   "id": "a80792ed",
   "metadata": {
    "heading_collapsed": true
   },
   "source": [
    "#### mt-Co3"
   ]
  },
  {
   "cell_type": "code",
   "execution_count": null,
   "id": "8ab005de",
   "metadata": {
    "hidden": true
   },
   "outputs": [],
   "source": [
    "df = tissue3[['age','cell_ontology_class','mt-Co3']]\n",
    "\n",
    "x = \"cell_ontology_class\" \n",
    "y = \"mt-Co3\" \n",
    "hue = 'age'\n",
    "hue_order = ['3m', '18m', '24m']\n",
    "\n",
    "box_pairs=[\n",
    "    ((\"B cell\", \"3m\"), (\"B cell\", \"18m\")),\n",
    "    ((\"B cell\", \"3m\"), (\"B cell\", \"24m\")),\n",
    "    ((\"B cell\", \"18m\"), (\"B cell\", \"24m\")),\n",
    "    \n",
    "    ((\"T cell\", \"3m\"), (\"T cell\", \"18m\")),\n",
    "    ((\"T cell\", \"3m\"), (\"T cell\", \"24m\")),\n",
    "    ((\"T cell\", \"18m\"), (\"T cell\", \"24m\")),\n",
    "    \n",
    "    ((\"epithelial cell of proximal tubule\", \"3m\"), (\"epithelial cell of proximal tubule\", \"18m\")),\n",
    "    ((\"epithelial cell of proximal tubule\", \"3m\"), (\"epithelial cell of proximal tubule\", \"24m\")),\n",
    "    ((\"epithelial cell of proximal tubule\", \"18m\"), (\"epithelial cell of proximal tubule\", \"24m\")),\n",
    "    \n",
    "    ((\"fenestrated cell\", \"3m\"), (\"fenestrated cell\", \"18m\")),\n",
    "    ((\"fenestrated cell\", \"3m\"), (\"fenestrated cell\", \"24m\")),\n",
    "    ((\"fenestrated cell\", \"18m\"), (\"fenestrated cell\", \"24m\")),\n",
    "    \n",
    "    ((\"kidney collecting duct epithelial cell\", \"3m\"), (\"kidney collecting duct epithelial cell\", \"18m\")),\n",
    "    ((\"kidney collecting duct epithelial cell\", \"3m\"), (\"kidney collecting duct epithelial cell\", \"24m\")),\n",
    "    ((\"kidney collecting duct epithelial cell\", \"18m\"), (\"kidney collecting duct epithelial cell\", \"24m\")),\n",
    "    \n",
    "    ((\"kidney collecting duct principal cell\", \"3m\"), (\"kidney collecting duct principal cell\", \"18m\")),\n",
    "    ((\"kidney collecting duct principal cell\", \"3m\"), (\"kidney collecting duct principal cell\", \"24m\")),\n",
    "    ((\"kidney collecting duct principal cell\", \"18m\"), (\"kidney collecting duct principal cell\", \"24m\")),\n",
    "    \n",
    "    ((\"kidney interstitial fibroblast\", \"3m\"), (\"kidney interstitial fibroblast\", \"18m\")),\n",
    "    ((\"kidney interstitial fibroblast\", \"3m\"), (\"kidney interstitial fibroblast\", \"24m\")),\n",
    "    ((\"kidney interstitial fibroblast\", \"18m\"), (\"kidney interstitial fibroblast\", \"24m\")),\n",
    "    \n",
    "    ((\"kidney loop of Henle ascending limb epithelial cell\", \"3m\"), (\"kidney loop of Henle ascending limb epithelial cell\", \"18m\")),\n",
    "    ((\"kidney loop of Henle ascending limb epithelial cell\", \"3m\"), (\"kidney loop of Henle ascending limb epithelial cell\", \"24m\")),\n",
    "    ((\"kidney loop of Henle ascending limb epithelial cell\", \"18m\"), (\"kidney loop of Henle ascending limb epithelial cell\", \"24m\")),\n",
    "    \n",
    "    ((\"macrophage\", \"3m\"), (\"macrophage\", \"18m\")),\n",
    "    ((\"macrophage\", \"3m\"), (\"macrophage\", \"24m\")),\n",
    "    ((\"macrophage\", \"18m\"), (\"macrophage\", \"24m\")),\n",
    "       \n",
    "    ((\"mesangial cell\", \"3m\"), (\"mesangial cell\", \"18m\")),\n",
    "    ((\"mesangial cell\", \"3m\"), (\"mesangial cell\", \"24m\")),\n",
    "    ((\"mesangial cell\", \"18m\"), (\"mesangial cell\", \"24m\")),  \n",
    "    ]\n",
    "fig = plt.figure(figsize=(10, 5))\n",
    "plt.legend(loc='upper left', bbox_to_anchor=(1.03, 1))\n",
    "plt.xticks(rotation=90)\n",
    "ax = sns.boxplot(data=df, x=x, y=y, hue=hue)\n",
    "add_stat_annotation(ax, data=df, x=x, y=y,hue=hue,box_pairs=box_pairs,\n",
    "                    test='Mann-Whitney',loc='inside',verbose=2)"
   ]
  },
  {
   "cell_type": "markdown",
   "id": "67c0133e",
   "metadata": {
    "heading_collapsed": true
   },
   "source": [
    "#### mt-Cytb"
   ]
  },
  {
   "cell_type": "code",
   "execution_count": null,
   "id": "a26d9cb1",
   "metadata": {
    "hidden": true
   },
   "outputs": [],
   "source": [
    "df = tissue3[['age','cell_ontology_class','mt-Cytb']]\n",
    "\n",
    "x = \"cell_ontology_class\" \n",
    "y = \"mt-Cytb\" \n",
    "hue = 'age'\n",
    "hue_order = ['3m', '18m', '24m']\n",
    "\n",
    "box_pairs=[\n",
    "    ((\"B cell\", \"3m\"), (\"B cell\", \"18m\")),\n",
    "    ((\"B cell\", \"3m\"), (\"B cell\", \"24m\")),\n",
    "    ((\"B cell\", \"18m\"), (\"B cell\", \"24m\")),\n",
    "    \n",
    "    ((\"T cell\", \"3m\"), (\"T cell\", \"18m\")),\n",
    "    ((\"T cell\", \"3m\"), (\"T cell\", \"24m\")),\n",
    "    ((\"T cell\", \"18m\"), (\"T cell\", \"24m\")),\n",
    "    \n",
    "    ((\"epithelial cell of proximal tubule\", \"3m\"), (\"epithelial cell of proximal tubule\", \"18m\")),\n",
    "    ((\"epithelial cell of proximal tubule\", \"3m\"), (\"epithelial cell of proximal tubule\", \"24m\")),\n",
    "    ((\"epithelial cell of proximal tubule\", \"18m\"), (\"epithelial cell of proximal tubule\", \"24m\")),\n",
    "    \n",
    "    ((\"fenestrated cell\", \"3m\"), (\"fenestrated cell\", \"18m\")),\n",
    "    ((\"fenestrated cell\", \"3m\"), (\"fenestrated cell\", \"24m\")),\n",
    "    ((\"fenestrated cell\", \"18m\"), (\"fenestrated cell\", \"24m\")),\n",
    "    \n",
    "    ((\"kidney collecting duct epithelial cell\", \"3m\"), (\"kidney collecting duct epithelial cell\", \"18m\")),\n",
    "    ((\"kidney collecting duct epithelial cell\", \"3m\"), (\"kidney collecting duct epithelial cell\", \"24m\")),\n",
    "    ((\"kidney collecting duct epithelial cell\", \"18m\"), (\"kidney collecting duct epithelial cell\", \"24m\")),\n",
    "    \n",
    "    ((\"kidney collecting duct principal cell\", \"3m\"), (\"kidney collecting duct principal cell\", \"18m\")),\n",
    "    ((\"kidney collecting duct principal cell\", \"3m\"), (\"kidney collecting duct principal cell\", \"24m\")),\n",
    "    ((\"kidney collecting duct principal cell\", \"18m\"), (\"kidney collecting duct principal cell\", \"24m\")),\n",
    "    \n",
    "    ((\"kidney interstitial fibroblast\", \"3m\"), (\"kidney interstitial fibroblast\", \"18m\")),\n",
    "    ((\"kidney interstitial fibroblast\", \"3m\"), (\"kidney interstitial fibroblast\", \"24m\")),\n",
    "    ((\"kidney interstitial fibroblast\", \"18m\"), (\"kidney interstitial fibroblast\", \"24m\")),\n",
    "    \n",
    "    ((\"kidney loop of Henle ascending limb epithelial cell\", \"3m\"), (\"kidney loop of Henle ascending limb epithelial cell\", \"18m\")),\n",
    "    ((\"kidney loop of Henle ascending limb epithelial cell\", \"3m\"), (\"kidney loop of Henle ascending limb epithelial cell\", \"24m\")),\n",
    "    ((\"kidney loop of Henle ascending limb epithelial cell\", \"18m\"), (\"kidney loop of Henle ascending limb epithelial cell\", \"24m\")),\n",
    "    \n",
    "    ((\"macrophage\", \"3m\"), (\"macrophage\", \"18m\")),\n",
    "    ((\"macrophage\", \"3m\"), (\"macrophage\", \"24m\")),\n",
    "    ((\"macrophage\", \"18m\"), (\"macrophage\", \"24m\")),\n",
    "       \n",
    "    ((\"mesangial cell\", \"3m\"), (\"mesangial cell\", \"18m\")),\n",
    "    ((\"mesangial cell\", \"3m\"), (\"mesangial cell\", \"24m\")),\n",
    "    ((\"mesangial cell\", \"18m\"), (\"mesangial cell\", \"24m\")),  \n",
    "    ]\n",
    "fig = plt.figure(figsize=(10, 5))\n",
    "plt.legend(loc='upper left', bbox_to_anchor=(1.03, 1))\n",
    "plt.xticks(rotation=90)\n",
    "ax = sns.boxplot(data=df, x=x, y=y, hue=hue)\n",
    "add_stat_annotation(ax, data=df, x=x, y=y,hue=hue,box_pairs=box_pairs,\n",
    "                    test='Mann-Whitney',loc='inside',verbose=2)"
   ]
  },
  {
   "cell_type": "markdown",
   "id": "f6bb2ba0",
   "metadata": {
    "heading_collapsed": true
   },
   "source": [
    "#### mt-Nd1"
   ]
  },
  {
   "cell_type": "code",
   "execution_count": null,
   "id": "a739e538",
   "metadata": {
    "hidden": true
   },
   "outputs": [],
   "source": [
    "df = tissue3[['age','cell_ontology_class','mt-Nd1']]\n",
    "\n",
    "x = \"cell_ontology_class\" \n",
    "y = \"mt-Nd1\" \n",
    "hue = 'age'\n",
    "hue_order = ['3m', '18m', '24m']\n",
    "\n",
    "box_pairs=[\n",
    "    ((\"B cell\", \"3m\"), (\"B cell\", \"18m\")),\n",
    "    ((\"B cell\", \"3m\"), (\"B cell\", \"24m\")),\n",
    "    ((\"B cell\", \"18m\"), (\"B cell\", \"24m\")),\n",
    "    \n",
    "    ((\"T cell\", \"3m\"), (\"T cell\", \"18m\")),\n",
    "    ((\"T cell\", \"3m\"), (\"T cell\", \"24m\")),\n",
    "    ((\"T cell\", \"18m\"), (\"T cell\", \"24m\")),\n",
    "    \n",
    "    ((\"epithelial cell of proximal tubule\", \"3m\"), (\"epithelial cell of proximal tubule\", \"18m\")),\n",
    "    ((\"epithelial cell of proximal tubule\", \"3m\"), (\"epithelial cell of proximal tubule\", \"24m\")),\n",
    "    ((\"epithelial cell of proximal tubule\", \"18m\"), (\"epithelial cell of proximal tubule\", \"24m\")),\n",
    "    \n",
    "    ((\"fenestrated cell\", \"3m\"), (\"fenestrated cell\", \"18m\")),\n",
    "    ((\"fenestrated cell\", \"3m\"), (\"fenestrated cell\", \"24m\")),\n",
    "    ((\"fenestrated cell\", \"18m\"), (\"fenestrated cell\", \"24m\")),\n",
    "    \n",
    "    ((\"kidney collecting duct epithelial cell\", \"3m\"), (\"kidney collecting duct epithelial cell\", \"18m\")),\n",
    "    ((\"kidney collecting duct epithelial cell\", \"3m\"), (\"kidney collecting duct epithelial cell\", \"24m\")),\n",
    "    ((\"kidney collecting duct epithelial cell\", \"18m\"), (\"kidney collecting duct epithelial cell\", \"24m\")),\n",
    "    \n",
    "    ((\"kidney collecting duct principal cell\", \"3m\"), (\"kidney collecting duct principal cell\", \"18m\")),\n",
    "    ((\"kidney collecting duct principal cell\", \"3m\"), (\"kidney collecting duct principal cell\", \"24m\")),\n",
    "    ((\"kidney collecting duct principal cell\", \"18m\"), (\"kidney collecting duct principal cell\", \"24m\")),\n",
    "    \n",
    "    ((\"kidney interstitial fibroblast\", \"3m\"), (\"kidney interstitial fibroblast\", \"18m\")),\n",
    "    ((\"kidney interstitial fibroblast\", \"3m\"), (\"kidney interstitial fibroblast\", \"24m\")),\n",
    "    ((\"kidney interstitial fibroblast\", \"18m\"), (\"kidney interstitial fibroblast\", \"24m\")),\n",
    "    \n",
    "    ((\"kidney loop of Henle ascending limb epithelial cell\", \"3m\"), (\"kidney loop of Henle ascending limb epithelial cell\", \"18m\")),\n",
    "    ((\"kidney loop of Henle ascending limb epithelial cell\", \"3m\"), (\"kidney loop of Henle ascending limb epithelial cell\", \"24m\")),\n",
    "    ((\"kidney loop of Henle ascending limb epithelial cell\", \"18m\"), (\"kidney loop of Henle ascending limb epithelial cell\", \"24m\")),\n",
    "    \n",
    "    ((\"macrophage\", \"3m\"), (\"macrophage\", \"18m\")),\n",
    "    ((\"macrophage\", \"3m\"), (\"macrophage\", \"24m\")),\n",
    "    ((\"macrophage\", \"18m\"), (\"macrophage\", \"24m\")),\n",
    "       \n",
    "    ((\"mesangial cell\", \"3m\"), (\"mesangial cell\", \"18m\")),\n",
    "    ((\"mesangial cell\", \"3m\"), (\"mesangial cell\", \"24m\")),\n",
    "    ((\"mesangial cell\", \"18m\"), (\"mesangial cell\", \"24m\")),  \n",
    "    ]\n",
    "fig = plt.figure(figsize=(10, 5))\n",
    "plt.legend(loc='upper left', bbox_to_anchor=(1.03, 1))\n",
    "plt.xticks(rotation=90)\n",
    "ax = sns.boxplot(data=df, x=x, y=y, hue=hue)\n",
    "add_stat_annotation(ax, data=df, x=x, y=y,hue=hue,box_pairs=box_pairs,\n",
    "                    test='Mann-Whitney',loc='inside',verbose=2)"
   ]
  },
  {
   "cell_type": "markdown",
   "id": "7234843c",
   "metadata": {
    "heading_collapsed": true
   },
   "source": [
    "#### mt-Nd2"
   ]
  },
  {
   "cell_type": "code",
   "execution_count": null,
   "id": "99518f0f",
   "metadata": {
    "hidden": true
   },
   "outputs": [],
   "source": [
    "df = tissue3[['age','cell_ontology_class','mt-Nd2']]\n",
    "\n",
    "x = \"cell_ontology_class\" \n",
    "y = \"mt-Nd2\" \n",
    "hue = 'age'\n",
    "hue_order = ['3m', '18m', '24m']\n",
    "\n",
    "box_pairs=[\n",
    "    ((\"B cell\", \"3m\"), (\"B cell\", \"18m\")),\n",
    "    ((\"B cell\", \"3m\"), (\"B cell\", \"24m\")),\n",
    "    ((\"B cell\", \"18m\"), (\"B cell\", \"24m\")),\n",
    "    \n",
    "    ((\"T cell\", \"3m\"), (\"T cell\", \"18m\")),\n",
    "    ((\"T cell\", \"3m\"), (\"T cell\", \"24m\")),\n",
    "    ((\"T cell\", \"18m\"), (\"T cell\", \"24m\")),\n",
    "    \n",
    "    ((\"epithelial cell of proximal tubule\", \"3m\"), (\"epithelial cell of proximal tubule\", \"18m\")),\n",
    "    ((\"epithelial cell of proximal tubule\", \"3m\"), (\"epithelial cell of proximal tubule\", \"24m\")),\n",
    "    ((\"epithelial cell of proximal tubule\", \"18m\"), (\"epithelial cell of proximal tubule\", \"24m\")),\n",
    "    \n",
    "    ((\"fenestrated cell\", \"3m\"), (\"fenestrated cell\", \"18m\")),\n",
    "    ((\"fenestrated cell\", \"3m\"), (\"fenestrated cell\", \"24m\")),\n",
    "    ((\"fenestrated cell\", \"18m\"), (\"fenestrated cell\", \"24m\")),\n",
    "    \n",
    "    ((\"kidney collecting duct epithelial cell\", \"3m\"), (\"kidney collecting duct epithelial cell\", \"18m\")),\n",
    "    ((\"kidney collecting duct epithelial cell\", \"3m\"), (\"kidney collecting duct epithelial cell\", \"24m\")),\n",
    "    ((\"kidney collecting duct epithelial cell\", \"18m\"), (\"kidney collecting duct epithelial cell\", \"24m\")),\n",
    "    \n",
    "    ((\"kidney collecting duct principal cell\", \"3m\"), (\"kidney collecting duct principal cell\", \"18m\")),\n",
    "    ((\"kidney collecting duct principal cell\", \"3m\"), (\"kidney collecting duct principal cell\", \"24m\")),\n",
    "    ((\"kidney collecting duct principal cell\", \"18m\"), (\"kidney collecting duct principal cell\", \"24m\")),\n",
    "    \n",
    "    ((\"kidney interstitial fibroblast\", \"3m\"), (\"kidney interstitial fibroblast\", \"18m\")),\n",
    "    ((\"kidney interstitial fibroblast\", \"3m\"), (\"kidney interstitial fibroblast\", \"24m\")),\n",
    "    ((\"kidney interstitial fibroblast\", \"18m\"), (\"kidney interstitial fibroblast\", \"24m\")),\n",
    "    \n",
    "    ((\"kidney loop of Henle ascending limb epithelial cell\", \"3m\"), (\"kidney loop of Henle ascending limb epithelial cell\", \"18m\")),\n",
    "    ((\"kidney loop of Henle ascending limb epithelial cell\", \"3m\"), (\"kidney loop of Henle ascending limb epithelial cell\", \"24m\")),\n",
    "    ((\"kidney loop of Henle ascending limb epithelial cell\", \"18m\"), (\"kidney loop of Henle ascending limb epithelial cell\", \"24m\")),\n",
    "    \n",
    "    ((\"macrophage\", \"3m\"), (\"macrophage\", \"18m\")),\n",
    "    ((\"macrophage\", \"3m\"), (\"macrophage\", \"24m\")),\n",
    "    ((\"macrophage\", \"18m\"), (\"macrophage\", \"24m\")),\n",
    "       \n",
    "    ((\"mesangial cell\", \"3m\"), (\"mesangial cell\", \"18m\")),\n",
    "    ((\"mesangial cell\", \"3m\"), (\"mesangial cell\", \"24m\")),\n",
    "    ((\"mesangial cell\", \"18m\"), (\"mesangial cell\", \"24m\")),  \n",
    "    ]\n",
    "fig = plt.figure(figsize=(10, 5))\n",
    "plt.legend(loc='upper left', bbox_to_anchor=(1.03, 1))\n",
    "plt.xticks(rotation=90)\n",
    "ax = sns.boxplot(data=df, x=x, y=y, hue=hue)\n",
    "add_stat_annotation(ax, data=df, x=x, y=y,hue=hue,box_pairs=box_pairs,\n",
    "                    test='Mann-Whitney',loc='inside',verbose=2)"
   ]
  },
  {
   "cell_type": "markdown",
   "id": "e2d68c0a",
   "metadata": {
    "heading_collapsed": true
   },
   "source": [
    "#### mt-Nd3"
   ]
  },
  {
   "cell_type": "code",
   "execution_count": null,
   "id": "d4f4ae50",
   "metadata": {
    "hidden": true
   },
   "outputs": [],
   "source": [
    "df = tissue3[['age','cell_ontology_class','mt-Nd3']]\n",
    "\n",
    "x = \"cell_ontology_class\" \n",
    "y = \"mt-Nd3\" \n",
    "hue = 'age'\n",
    "hue_order = ['3m', '18m', '24m']\n",
    "\n",
    "box_pairs=[\n",
    "    ((\"B cell\", \"3m\"), (\"B cell\", \"18m\")),\n",
    "    ((\"B cell\", \"3m\"), (\"B cell\", \"24m\")),\n",
    "    ((\"B cell\", \"18m\"), (\"B cell\", \"24m\")),\n",
    "    \n",
    "    ((\"T cell\", \"3m\"), (\"T cell\", \"18m\")),\n",
    "    ((\"T cell\", \"3m\"), (\"T cell\", \"24m\")),\n",
    "    ((\"T cell\", \"18m\"), (\"T cell\", \"24m\")),\n",
    "    \n",
    "    ((\"epithelial cell of proximal tubule\", \"3m\"), (\"epithelial cell of proximal tubule\", \"18m\")),\n",
    "    ((\"epithelial cell of proximal tubule\", \"3m\"), (\"epithelial cell of proximal tubule\", \"24m\")),\n",
    "    ((\"epithelial cell of proximal tubule\", \"18m\"), (\"epithelial cell of proximal tubule\", \"24m\")),\n",
    "    \n",
    "    ((\"fenestrated cell\", \"3m\"), (\"fenestrated cell\", \"18m\")),\n",
    "    ((\"fenestrated cell\", \"3m\"), (\"fenestrated cell\", \"24m\")),\n",
    "    ((\"fenestrated cell\", \"18m\"), (\"fenestrated cell\", \"24m\")),\n",
    "    \n",
    "    ((\"kidney collecting duct epithelial cell\", \"3m\"), (\"kidney collecting duct epithelial cell\", \"18m\")),\n",
    "    ((\"kidney collecting duct epithelial cell\", \"3m\"), (\"kidney collecting duct epithelial cell\", \"24m\")),\n",
    "    ((\"kidney collecting duct epithelial cell\", \"18m\"), (\"kidney collecting duct epithelial cell\", \"24m\")),\n",
    "    \n",
    "    ((\"kidney collecting duct principal cell\", \"3m\"), (\"kidney collecting duct principal cell\", \"18m\")),\n",
    "    ((\"kidney collecting duct principal cell\", \"3m\"), (\"kidney collecting duct principal cell\", \"24m\")),\n",
    "    ((\"kidney collecting duct principal cell\", \"18m\"), (\"kidney collecting duct principal cell\", \"24m\")),\n",
    "    \n",
    "    ((\"kidney interstitial fibroblast\", \"3m\"), (\"kidney interstitial fibroblast\", \"18m\")),\n",
    "    ((\"kidney interstitial fibroblast\", \"3m\"), (\"kidney interstitial fibroblast\", \"24m\")),\n",
    "    ((\"kidney interstitial fibroblast\", \"18m\"), (\"kidney interstitial fibroblast\", \"24m\")),\n",
    "    \n",
    "    ((\"kidney loop of Henle ascending limb epithelial cell\", \"3m\"), (\"kidney loop of Henle ascending limb epithelial cell\", \"18m\")),\n",
    "    ((\"kidney loop of Henle ascending limb epithelial cell\", \"3m\"), (\"kidney loop of Henle ascending limb epithelial cell\", \"24m\")),\n",
    "    ((\"kidney loop of Henle ascending limb epithelial cell\", \"18m\"), (\"kidney loop of Henle ascending limb epithelial cell\", \"24m\")),\n",
    "    \n",
    "    ((\"macrophage\", \"3m\"), (\"macrophage\", \"18m\")),\n",
    "    ((\"macrophage\", \"3m\"), (\"macrophage\", \"24m\")),\n",
    "    ((\"macrophage\", \"18m\"), (\"macrophage\", \"24m\")),\n",
    "       \n",
    "    ((\"mesangial cell\", \"3m\"), (\"mesangial cell\", \"18m\")),\n",
    "    ((\"mesangial cell\", \"3m\"), (\"mesangial cell\", \"24m\")),\n",
    "    ((\"mesangial cell\", \"18m\"), (\"mesangial cell\", \"24m\")),  \n",
    "    ]\n",
    "fig = plt.figure(figsize=(10, 5))\n",
    "plt.legend(loc='upper left', bbox_to_anchor=(1.03, 1))\n",
    "plt.xticks(rotation=90)\n",
    "ax = sns.boxplot(data=df, x=x, y=y, hue=hue)\n",
    "add_stat_annotation(ax, data=df, x=x, y=y,hue=hue,box_pairs=box_pairs,\n",
    "                    test='Mann-Whitney',loc='inside',verbose=2)"
   ]
  },
  {
   "cell_type": "markdown",
   "id": "83ab5df5",
   "metadata": {
    "heading_collapsed": true
   },
   "source": [
    "#### mt-Nd4"
   ]
  },
  {
   "cell_type": "code",
   "execution_count": null,
   "id": "33953a33",
   "metadata": {
    "hidden": true
   },
   "outputs": [],
   "source": [
    "df = tissue3[['age','cell_ontology_class','mt-Nd4']]\n",
    "\n",
    "x = \"cell_ontology_class\" \n",
    "y = \"mt-Nd4\" \n",
    "hue = 'age'\n",
    "hue_order = ['3m', '18m', '24m']\n",
    "\n",
    "box_pairs=[\n",
    "    ((\"B cell\", \"3m\"), (\"B cell\", \"18m\")),\n",
    "    ((\"B cell\", \"3m\"), (\"B cell\", \"24m\")),\n",
    "    ((\"B cell\", \"18m\"), (\"B cell\", \"24m\")),\n",
    "    \n",
    "    ((\"T cell\", \"3m\"), (\"T cell\", \"18m\")),\n",
    "    ((\"T cell\", \"3m\"), (\"T cell\", \"24m\")),\n",
    "    ((\"T cell\", \"18m\"), (\"T cell\", \"24m\")),\n",
    "    \n",
    "    ((\"epithelial cell of proximal tubule\", \"3m\"), (\"epithelial cell of proximal tubule\", \"18m\")),\n",
    "    ((\"epithelial cell of proximal tubule\", \"3m\"), (\"epithelial cell of proximal tubule\", \"24m\")),\n",
    "    ((\"epithelial cell of proximal tubule\", \"18m\"), (\"epithelial cell of proximal tubule\", \"24m\")),\n",
    "    \n",
    "    ((\"fenestrated cell\", \"3m\"), (\"fenestrated cell\", \"18m\")),\n",
    "    ((\"fenestrated cell\", \"3m\"), (\"fenestrated cell\", \"24m\")),\n",
    "    ((\"fenestrated cell\", \"18m\"), (\"fenestrated cell\", \"24m\")),\n",
    "    \n",
    "    ((\"kidney collecting duct epithelial cell\", \"3m\"), (\"kidney collecting duct epithelial cell\", \"18m\")),\n",
    "    ((\"kidney collecting duct epithelial cell\", \"3m\"), (\"kidney collecting duct epithelial cell\", \"24m\")),\n",
    "    ((\"kidney collecting duct epithelial cell\", \"18m\"), (\"kidney collecting duct epithelial cell\", \"24m\")),\n",
    "    \n",
    "    ((\"kidney collecting duct principal cell\", \"3m\"), (\"kidney collecting duct principal cell\", \"18m\")),\n",
    "    ((\"kidney collecting duct principal cell\", \"3m\"), (\"kidney collecting duct principal cell\", \"24m\")),\n",
    "    ((\"kidney collecting duct principal cell\", \"18m\"), (\"kidney collecting duct principal cell\", \"24m\")),\n",
    "    \n",
    "    ((\"kidney interstitial fibroblast\", \"3m\"), (\"kidney interstitial fibroblast\", \"18m\")),\n",
    "    ((\"kidney interstitial fibroblast\", \"3m\"), (\"kidney interstitial fibroblast\", \"24m\")),\n",
    "    ((\"kidney interstitial fibroblast\", \"18m\"), (\"kidney interstitial fibroblast\", \"24m\")),\n",
    "    \n",
    "    ((\"kidney loop of Henle ascending limb epithelial cell\", \"3m\"), (\"kidney loop of Henle ascending limb epithelial cell\", \"18m\")),\n",
    "    ((\"kidney loop of Henle ascending limb epithelial cell\", \"3m\"), (\"kidney loop of Henle ascending limb epithelial cell\", \"24m\")),\n",
    "    ((\"kidney loop of Henle ascending limb epithelial cell\", \"18m\"), (\"kidney loop of Henle ascending limb epithelial cell\", \"24m\")),\n",
    "    \n",
    "    ((\"macrophage\", \"3m\"), (\"macrophage\", \"18m\")),\n",
    "    ((\"macrophage\", \"3m\"), (\"macrophage\", \"24m\")),\n",
    "    ((\"macrophage\", \"18m\"), (\"macrophage\", \"24m\")),\n",
    "       \n",
    "    ((\"mesangial cell\", \"3m\"), (\"mesangial cell\", \"18m\")),\n",
    "    ((\"mesangial cell\", \"3m\"), (\"mesangial cell\", \"24m\")),\n",
    "    ((\"mesangial cell\", \"18m\"), (\"mesangial cell\", \"24m\")),  \n",
    "    ]\n",
    "fig = plt.figure(figsize=(10, 5))\n",
    "plt.legend(loc='upper left', bbox_to_anchor=(1.03, 1))\n",
    "plt.xticks(rotation=90)\n",
    "ax = sns.boxplot(data=df, x=x, y=y, hue=hue)\n",
    "add_stat_annotation(ax, data=df, x=x, y=y,hue=hue,box_pairs=box_pairs,\n",
    "                    test='Mann-Whitney',loc='inside',verbose=2)"
   ]
  },
  {
   "cell_type": "markdown",
   "id": "70764da8",
   "metadata": {
    "heading_collapsed": true
   },
   "source": [
    "#### mt-Nd4l"
   ]
  },
  {
   "cell_type": "code",
   "execution_count": null,
   "id": "b54e7f03",
   "metadata": {
    "hidden": true
   },
   "outputs": [],
   "source": [
    "df = tissue3[['age','cell_ontology_class','mt-Nd4l']]\n",
    "\n",
    "x = \"cell_ontology_class\" \n",
    "y = \"mt-Nd4l\" \n",
    "hue = 'age'\n",
    "hue_order = ['3m', '18m', '24m']\n",
    "\n",
    "box_pairs=[\n",
    "    ((\"B cell\", \"3m\"), (\"B cell\", \"18m\")),\n",
    "    ((\"B cell\", \"3m\"), (\"B cell\", \"24m\")),\n",
    "    ((\"B cell\", \"18m\"), (\"B cell\", \"24m\")),\n",
    "    \n",
    "    ((\"T cell\", \"3m\"), (\"T cell\", \"18m\")),\n",
    "    ((\"T cell\", \"3m\"), (\"T cell\", \"24m\")),\n",
    "    ((\"T cell\", \"18m\"), (\"T cell\", \"24m\")),\n",
    "    \n",
    "    ((\"epithelial cell of proximal tubule\", \"3m\"), (\"epithelial cell of proximal tubule\", \"18m\")),\n",
    "    ((\"epithelial cell of proximal tubule\", \"3m\"), (\"epithelial cell of proximal tubule\", \"24m\")),\n",
    "    ((\"epithelial cell of proximal tubule\", \"18m\"), (\"epithelial cell of proximal tubule\", \"24m\")),\n",
    "    \n",
    "    ((\"fenestrated cell\", \"3m\"), (\"fenestrated cell\", \"18m\")),\n",
    "    ((\"fenestrated cell\", \"3m\"), (\"fenestrated cell\", \"24m\")),\n",
    "    ((\"fenestrated cell\", \"18m\"), (\"fenestrated cell\", \"24m\")),\n",
    "    \n",
    "    ((\"kidney collecting duct epithelial cell\", \"3m\"), (\"kidney collecting duct epithelial cell\", \"18m\")),\n",
    "    ((\"kidney collecting duct epithelial cell\", \"3m\"), (\"kidney collecting duct epithelial cell\", \"24m\")),\n",
    "    ((\"kidney collecting duct epithelial cell\", \"18m\"), (\"kidney collecting duct epithelial cell\", \"24m\")),\n",
    "    \n",
    "    ((\"kidney collecting duct principal cell\", \"3m\"), (\"kidney collecting duct principal cell\", \"18m\")),\n",
    "    ((\"kidney collecting duct principal cell\", \"3m\"), (\"kidney collecting duct principal cell\", \"24m\")),\n",
    "    ((\"kidney collecting duct principal cell\", \"18m\"), (\"kidney collecting duct principal cell\", \"24m\")),\n",
    "    \n",
    "    ((\"kidney interstitial fibroblast\", \"3m\"), (\"kidney interstitial fibroblast\", \"18m\")),\n",
    "    ((\"kidney interstitial fibroblast\", \"3m\"), (\"kidney interstitial fibroblast\", \"24m\")),\n",
    "    ((\"kidney interstitial fibroblast\", \"18m\"), (\"kidney interstitial fibroblast\", \"24m\")),\n",
    "    \n",
    "    ((\"kidney loop of Henle ascending limb epithelial cell\", \"3m\"), (\"kidney loop of Henle ascending limb epithelial cell\", \"18m\")),\n",
    "    ((\"kidney loop of Henle ascending limb epithelial cell\", \"3m\"), (\"kidney loop of Henle ascending limb epithelial cell\", \"24m\")),\n",
    "    ((\"kidney loop of Henle ascending limb epithelial cell\", \"18m\"), (\"kidney loop of Henle ascending limb epithelial cell\", \"24m\")),\n",
    "    \n",
    "    ((\"macrophage\", \"3m\"), (\"macrophage\", \"18m\")),\n",
    "    ((\"macrophage\", \"3m\"), (\"macrophage\", \"24m\")),\n",
    "    ((\"macrophage\", \"18m\"), (\"macrophage\", \"24m\")),\n",
    "       \n",
    "    ((\"mesangial cell\", \"3m\"), (\"mesangial cell\", \"18m\")),\n",
    "    ((\"mesangial cell\", \"3m\"), (\"mesangial cell\", \"24m\")),\n",
    "    ((\"mesangial cell\", \"18m\"), (\"mesangial cell\", \"24m\")),  \n",
    "    ]\n",
    "fig = plt.figure(figsize=(10, 5))\n",
    "plt.legend(loc='upper left', bbox_to_anchor=(1.03, 1))\n",
    "plt.xticks(rotation=90)\n",
    "ax = sns.boxplot(data=df, x=x, y=y, hue=hue)\n",
    "add_stat_annotation(ax, data=df, x=x, y=y,hue=hue,box_pairs=box_pairs,\n",
    "                    test='Mann-Whitney',loc='inside',verbose=2)"
   ]
  },
  {
   "cell_type": "markdown",
   "id": "5ec4403c",
   "metadata": {
    "heading_collapsed": true
   },
   "source": [
    "#### mt-Nd5"
   ]
  },
  {
   "cell_type": "code",
   "execution_count": null,
   "id": "75cad114",
   "metadata": {
    "hidden": true
   },
   "outputs": [],
   "source": [
    "df = tissue3[['age','cell_ontology_class','mt-Nd5']]\n",
    "\n",
    "x = \"cell_ontology_class\" \n",
    "y = \"mt-Nd5\" \n",
    "hue = 'age'\n",
    "hue_order = ['3m', '18m', '24m']\n",
    "\n",
    "box_pairs=[\n",
    "    ((\"B cell\", \"3m\"), (\"B cell\", \"18m\")),\n",
    "    ((\"B cell\", \"3m\"), (\"B cell\", \"24m\")),\n",
    "    ((\"B cell\", \"18m\"), (\"B cell\", \"24m\")),\n",
    "    \n",
    "    ((\"T cell\", \"3m\"), (\"T cell\", \"18m\")),\n",
    "    ((\"T cell\", \"3m\"), (\"T cell\", \"24m\")),\n",
    "    ((\"T cell\", \"18m\"), (\"T cell\", \"24m\")),\n",
    "    \n",
    "    ((\"epithelial cell of proximal tubule\", \"3m\"), (\"epithelial cell of proximal tubule\", \"18m\")),\n",
    "    ((\"epithelial cell of proximal tubule\", \"3m\"), (\"epithelial cell of proximal tubule\", \"24m\")),\n",
    "    ((\"epithelial cell of proximal tubule\", \"18m\"), (\"epithelial cell of proximal tubule\", \"24m\")),\n",
    "    \n",
    "    ((\"fenestrated cell\", \"3m\"), (\"fenestrated cell\", \"18m\")),\n",
    "    ((\"fenestrated cell\", \"3m\"), (\"fenestrated cell\", \"24m\")),\n",
    "    ((\"fenestrated cell\", \"18m\"), (\"fenestrated cell\", \"24m\")),\n",
    "    \n",
    "    ((\"kidney collecting duct epithelial cell\", \"3m\"), (\"kidney collecting duct epithelial cell\", \"18m\")),\n",
    "    ((\"kidney collecting duct epithelial cell\", \"3m\"), (\"kidney collecting duct epithelial cell\", \"24m\")),\n",
    "    ((\"kidney collecting duct epithelial cell\", \"18m\"), (\"kidney collecting duct epithelial cell\", \"24m\")),\n",
    "    \n",
    "    ((\"kidney collecting duct principal cell\", \"3m\"), (\"kidney collecting duct principal cell\", \"18m\")),\n",
    "    ((\"kidney collecting duct principal cell\", \"3m\"), (\"kidney collecting duct principal cell\", \"24m\")),\n",
    "    ((\"kidney collecting duct principal cell\", \"18m\"), (\"kidney collecting duct principal cell\", \"24m\")),\n",
    "    \n",
    "    ((\"kidney interstitial fibroblast\", \"3m\"), (\"kidney interstitial fibroblast\", \"18m\")),\n",
    "    ((\"kidney interstitial fibroblast\", \"3m\"), (\"kidney interstitial fibroblast\", \"24m\")),\n",
    "    ((\"kidney interstitial fibroblast\", \"18m\"), (\"kidney interstitial fibroblast\", \"24m\")),\n",
    "    \n",
    "    ((\"kidney loop of Henle ascending limb epithelial cell\", \"3m\"), (\"kidney loop of Henle ascending limb epithelial cell\", \"18m\")),\n",
    "    ((\"kidney loop of Henle ascending limb epithelial cell\", \"3m\"), (\"kidney loop of Henle ascending limb epithelial cell\", \"24m\")),\n",
    "    ((\"kidney loop of Henle ascending limb epithelial cell\", \"18m\"), (\"kidney loop of Henle ascending limb epithelial cell\", \"24m\")),\n",
    "    \n",
    "    ((\"macrophage\", \"3m\"), (\"macrophage\", \"18m\")),\n",
    "    ((\"macrophage\", \"3m\"), (\"macrophage\", \"24m\")),\n",
    "    ((\"macrophage\", \"18m\"), (\"macrophage\", \"24m\")),\n",
    "       \n",
    "    ((\"mesangial cell\", \"3m\"), (\"mesangial cell\", \"18m\")),\n",
    "    ((\"mesangial cell\", \"3m\"), (\"mesangial cell\", \"24m\")),\n",
    "    ((\"mesangial cell\", \"18m\"), (\"mesangial cell\", \"24m\")),  \n",
    "    ]\n",
    "fig = plt.figure(figsize=(10, 5))\n",
    "plt.legend(loc='upper left', bbox_to_anchor=(1.03, 1))\n",
    "plt.xticks(rotation=90)\n",
    "ax = sns.boxplot(data=df, x=x, y=y, hue=hue)\n",
    "add_stat_annotation(ax, data=df, x=x, y=y,hue=hue,box_pairs=box_pairs,\n",
    "                    test='Mann-Whitney',loc='inside',verbose=2)\n"
   ]
  },
  {
   "cell_type": "markdown",
   "id": "9bd04c59",
   "metadata": {
    "heading_collapsed": true
   },
   "source": [
    "#### mt-Nd6"
   ]
  },
  {
   "cell_type": "code",
   "execution_count": null,
   "id": "3fb80c1c",
   "metadata": {
    "hidden": true
   },
   "outputs": [],
   "source": [
    "df = tissue3[['age','cell_ontology_class','mt-Nd6']]\n",
    "\n",
    "x = \"cell_ontology_class\" \n",
    "y = \"mt-Nd6\" \n",
    "hue = 'age'\n",
    "hue_order = ['3m', '18m', '24m']\n",
    "\n",
    "box_pairs=[\n",
    "    ((\"B cell\", \"3m\"), (\"B cell\", \"18m\")),\n",
    "    ((\"B cell\", \"3m\"), (\"B cell\", \"24m\")),\n",
    "    ((\"B cell\", \"18m\"), (\"B cell\", \"24m\")),\n",
    "    \n",
    "    ((\"T cell\", \"3m\"), (\"T cell\", \"18m\")),\n",
    "    ((\"T cell\", \"3m\"), (\"T cell\", \"24m\")),\n",
    "    ((\"T cell\", \"18m\"), (\"T cell\", \"24m\")),\n",
    "    \n",
    "    ((\"epithelial cell of proximal tubule\", \"3m\"), (\"epithelial cell of proximal tubule\", \"18m\")),\n",
    "    ((\"epithelial cell of proximal tubule\", \"3m\"), (\"epithelial cell of proximal tubule\", \"24m\")),\n",
    "    ((\"epithelial cell of proximal tubule\", \"18m\"), (\"epithelial cell of proximal tubule\", \"24m\")),\n",
    "    \n",
    "    ((\"fenestrated cell\", \"3m\"), (\"fenestrated cell\", \"18m\")),\n",
    "    ((\"fenestrated cell\", \"3m\"), (\"fenestrated cell\", \"24m\")),\n",
    "    ((\"fenestrated cell\", \"18m\"), (\"fenestrated cell\", \"24m\")),\n",
    "    \n",
    "    ((\"kidney collecting duct epithelial cell\", \"3m\"), (\"kidney collecting duct epithelial cell\", \"18m\")),\n",
    "    ((\"kidney collecting duct epithelial cell\", \"3m\"), (\"kidney collecting duct epithelial cell\", \"24m\")),\n",
    "    ((\"kidney collecting duct epithelial cell\", \"18m\"), (\"kidney collecting duct epithelial cell\", \"24m\")),\n",
    "    \n",
    "    ((\"kidney collecting duct principal cell\", \"3m\"), (\"kidney collecting duct principal cell\", \"18m\")),\n",
    "    ((\"kidney collecting duct principal cell\", \"3m\"), (\"kidney collecting duct principal cell\", \"24m\")),\n",
    "    ((\"kidney collecting duct principal cell\", \"18m\"), (\"kidney collecting duct principal cell\", \"24m\")),\n",
    "    \n",
    "    ((\"kidney interstitial fibroblast\", \"3m\"), (\"kidney interstitial fibroblast\", \"18m\")),\n",
    "    ((\"kidney interstitial fibroblast\", \"3m\"), (\"kidney interstitial fibroblast\", \"24m\")),\n",
    "    ((\"kidney interstitial fibroblast\", \"18m\"), (\"kidney interstitial fibroblast\", \"24m\")),\n",
    "    \n",
    "    ((\"kidney loop of Henle ascending limb epithelial cell\", \"3m\"), (\"kidney loop of Henle ascending limb epithelial cell\", \"18m\")),\n",
    "    ((\"kidney loop of Henle ascending limb epithelial cell\", \"3m\"), (\"kidney loop of Henle ascending limb epithelial cell\", \"24m\")),\n",
    "    ((\"kidney loop of Henle ascending limb epithelial cell\", \"18m\"), (\"kidney loop of Henle ascending limb epithelial cell\", \"24m\")),\n",
    "    \n",
    "    ((\"macrophage\", \"3m\"), (\"macrophage\", \"18m\")),\n",
    "    ((\"macrophage\", \"3m\"), (\"macrophage\", \"24m\")),\n",
    "    ((\"macrophage\", \"18m\"), (\"macrophage\", \"24m\")),\n",
    "       \n",
    "    ((\"mesangial cell\", \"3m\"), (\"mesangial cell\", \"18m\")),\n",
    "    ((\"mesangial cell\", \"3m\"), (\"mesangial cell\", \"24m\")),\n",
    "    ((\"mesangial cell\", \"18m\"), (\"mesangial cell\", \"24m\")),  \n",
    "    ]\n",
    "fig = plt.figure(figsize=(10, 5))\n",
    "plt.legend(loc='upper left', bbox_to_anchor=(1.03, 1))\n",
    "plt.xticks(rotation=90)\n",
    "ax = sns.boxplot(data=df, x=x, y=y, hue=hue)\n",
    "add_stat_annotation(ax, data=df, x=x, y=y,hue=hue,box_pairs=box_pairs,\n",
    "                    test='Mann-Whitney',loc='inside',verbose=2)\n"
   ]
  },
  {
   "cell_type": "markdown",
   "id": "4fb0c3b5",
   "metadata": {
    "heading_collapsed": true
   },
   "source": [
    "#### mt-Rnr1"
   ]
  },
  {
   "cell_type": "code",
   "execution_count": null,
   "id": "2074bbb6",
   "metadata": {
    "hidden": true
   },
   "outputs": [],
   "source": [
    "df = tissue3[['age','cell_ontology_class','mt-Rnr1']]\n",
    "\n",
    "x = \"cell_ontology_class\" \n",
    "y = \"mt-Rnr1\" \n",
    "hue = 'age'\n",
    "hue_order = ['3m', '18m', '24m']\n",
    "\n",
    "box_pairs=[\n",
    "    ((\"B cell\", \"3m\"), (\"B cell\", \"18m\")),\n",
    "    ((\"B cell\", \"3m\"), (\"B cell\", \"24m\")),\n",
    "    ((\"B cell\", \"18m\"), (\"B cell\", \"24m\")),\n",
    "    \n",
    "    ((\"T cell\", \"3m\"), (\"T cell\", \"18m\")),\n",
    "    ((\"T cell\", \"3m\"), (\"T cell\", \"24m\")),\n",
    "    ((\"T cell\", \"18m\"), (\"T cell\", \"24m\")),\n",
    "    \n",
    "    ((\"epithelial cell of proximal tubule\", \"3m\"), (\"epithelial cell of proximal tubule\", \"18m\")),\n",
    "    ((\"epithelial cell of proximal tubule\", \"3m\"), (\"epithelial cell of proximal tubule\", \"24m\")),\n",
    "    ((\"epithelial cell of proximal tubule\", \"18m\"), (\"epithelial cell of proximal tubule\", \"24m\")),\n",
    "    \n",
    "    ((\"fenestrated cell\", \"3m\"), (\"fenestrated cell\", \"18m\")),\n",
    "    ((\"fenestrated cell\", \"3m\"), (\"fenestrated cell\", \"24m\")),\n",
    "    ((\"fenestrated cell\", \"18m\"), (\"fenestrated cell\", \"24m\")),\n",
    "    \n",
    "    ((\"kidney collecting duct epithelial cell\", \"3m\"), (\"kidney collecting duct epithelial cell\", \"18m\")),\n",
    "    ((\"kidney collecting duct epithelial cell\", \"3m\"), (\"kidney collecting duct epithelial cell\", \"24m\")),\n",
    "    ((\"kidney collecting duct epithelial cell\", \"18m\"), (\"kidney collecting duct epithelial cell\", \"24m\")),\n",
    "    \n",
    "    ((\"kidney collecting duct principal cell\", \"3m\"), (\"kidney collecting duct principal cell\", \"18m\")),\n",
    "    ((\"kidney collecting duct principal cell\", \"3m\"), (\"kidney collecting duct principal cell\", \"24m\")),\n",
    "    ((\"kidney collecting duct principal cell\", \"18m\"), (\"kidney collecting duct principal cell\", \"24m\")),\n",
    "    \n",
    "    ((\"kidney interstitial fibroblast\", \"3m\"), (\"kidney interstitial fibroblast\", \"18m\")),\n",
    "    ((\"kidney interstitial fibroblast\", \"3m\"), (\"kidney interstitial fibroblast\", \"24m\")),\n",
    "    ((\"kidney interstitial fibroblast\", \"18m\"), (\"kidney interstitial fibroblast\", \"24m\")),\n",
    "    \n",
    "    ((\"kidney loop of Henle ascending limb epithelial cell\", \"3m\"), (\"kidney loop of Henle ascending limb epithelial cell\", \"18m\")),\n",
    "    ((\"kidney loop of Henle ascending limb epithelial cell\", \"3m\"), (\"kidney loop of Henle ascending limb epithelial cell\", \"24m\")),\n",
    "    ((\"kidney loop of Henle ascending limb epithelial cell\", \"18m\"), (\"kidney loop of Henle ascending limb epithelial cell\", \"24m\")),\n",
    "    \n",
    "    ((\"macrophage\", \"3m\"), (\"macrophage\", \"18m\")),\n",
    "    ((\"macrophage\", \"3m\"), (\"macrophage\", \"24m\")),\n",
    "    ((\"macrophage\", \"18m\"), (\"macrophage\", \"24m\")),\n",
    "       \n",
    "    ((\"mesangial cell\", \"3m\"), (\"mesangial cell\", \"18m\")),\n",
    "    ((\"mesangial cell\", \"3m\"), (\"mesangial cell\", \"24m\")),\n",
    "    ((\"mesangial cell\", \"18m\"), (\"mesangial cell\", \"24m\")),  \n",
    "    ]\n",
    "fig = plt.figure(figsize=(10, 5))\n",
    "plt.legend(loc='upper left', bbox_to_anchor=(1.03, 1))\n",
    "plt.xticks(rotation=90)\n",
    "ax = sns.boxplot(data=df, x=x, y=y, hue=hue)\n",
    "add_stat_annotation(ax, data=df, x=x, y=y,hue=hue,box_pairs=box_pairs,\n",
    "                    test='Mann-Whitney',loc='inside',verbose=2)\n"
   ]
  },
  {
   "cell_type": "markdown",
   "id": "59d2f194",
   "metadata": {
    "heading_collapsed": true
   },
   "source": [
    "#### mt-Rnr2"
   ]
  },
  {
   "cell_type": "code",
   "execution_count": null,
   "id": "62e4b735",
   "metadata": {
    "hidden": true
   },
   "outputs": [],
   "source": [
    "df = tissue3[['age','cell_ontology_class','mt-Rnr2']]\n",
    "\n",
    "x = \"cell_ontology_class\" \n",
    "y = \"mt-Rnr2\" \n",
    "hue = 'age'\n",
    "hue_order = ['3m', '18m', '24m']\n",
    "\n",
    "box_pairs=[\n",
    "    ((\"B cell\", \"3m\"), (\"B cell\", \"18m\")),\n",
    "    ((\"B cell\", \"3m\"), (\"B cell\", \"24m\")),\n",
    "    ((\"B cell\", \"18m\"), (\"B cell\", \"24m\")),\n",
    "    \n",
    "    ((\"T cell\", \"3m\"), (\"T cell\", \"18m\")),\n",
    "    ((\"T cell\", \"3m\"), (\"T cell\", \"24m\")),\n",
    "    ((\"T cell\", \"18m\"), (\"T cell\", \"24m\")),\n",
    "    \n",
    "    ((\"epithelial cell of proximal tubule\", \"3m\"), (\"epithelial cell of proximal tubule\", \"18m\")),\n",
    "    ((\"epithelial cell of proximal tubule\", \"3m\"), (\"epithelial cell of proximal tubule\", \"24m\")),\n",
    "    ((\"epithelial cell of proximal tubule\", \"18m\"), (\"epithelial cell of proximal tubule\", \"24m\")),\n",
    "    \n",
    "    ((\"fenestrated cell\", \"3m\"), (\"fenestrated cell\", \"18m\")),\n",
    "    ((\"fenestrated cell\", \"3m\"), (\"fenestrated cell\", \"24m\")),\n",
    "    ((\"fenestrated cell\", \"18m\"), (\"fenestrated cell\", \"24m\")),\n",
    "    \n",
    "    ((\"kidney collecting duct epithelial cell\", \"3m\"), (\"kidney collecting duct epithelial cell\", \"18m\")),\n",
    "    ((\"kidney collecting duct epithelial cell\", \"3m\"), (\"kidney collecting duct epithelial cell\", \"24m\")),\n",
    "    ((\"kidney collecting duct epithelial cell\", \"18m\"), (\"kidney collecting duct epithelial cell\", \"24m\")),\n",
    "    \n",
    "    ((\"kidney collecting duct principal cell\", \"3m\"), (\"kidney collecting duct principal cell\", \"18m\")),\n",
    "    ((\"kidney collecting duct principal cell\", \"3m\"), (\"kidney collecting duct principal cell\", \"24m\")),\n",
    "    ((\"kidney collecting duct principal cell\", \"18m\"), (\"kidney collecting duct principal cell\", \"24m\")),\n",
    "    \n",
    "    ((\"kidney interstitial fibroblast\", \"3m\"), (\"kidney interstitial fibroblast\", \"18m\")),\n",
    "    ((\"kidney interstitial fibroblast\", \"3m\"), (\"kidney interstitial fibroblast\", \"24m\")),\n",
    "    ((\"kidney interstitial fibroblast\", \"18m\"), (\"kidney interstitial fibroblast\", \"24m\")),\n",
    "    \n",
    "    ((\"kidney loop of Henle ascending limb epithelial cell\", \"3m\"), (\"kidney loop of Henle ascending limb epithelial cell\", \"18m\")),\n",
    "    ((\"kidney loop of Henle ascending limb epithelial cell\", \"3m\"), (\"kidney loop of Henle ascending limb epithelial cell\", \"24m\")),\n",
    "    ((\"kidney loop of Henle ascending limb epithelial cell\", \"18m\"), (\"kidney loop of Henle ascending limb epithelial cell\", \"24m\")),\n",
    "    \n",
    "    ((\"macrophage\", \"3m\"), (\"macrophage\", \"18m\")),\n",
    "    ((\"macrophage\", \"3m\"), (\"macrophage\", \"24m\")),\n",
    "    ((\"macrophage\", \"18m\"), (\"macrophage\", \"24m\")),\n",
    "       \n",
    "    ((\"mesangial cell\", \"3m\"), (\"mesangial cell\", \"18m\")),\n",
    "    ((\"mesangial cell\", \"3m\"), (\"mesangial cell\", \"24m\")),\n",
    "    ((\"mesangial cell\", \"18m\"), (\"mesangial cell\", \"24m\")),  \n",
    "    ]\n",
    "fig = plt.figure(figsize=(10, 5))\n",
    "plt.legend(loc='upper left', bbox_to_anchor=(1.03, 1))\n",
    "plt.xticks(rotation=90)\n",
    "ax = sns.boxplot(data=df, x=x, y=y, hue=hue)\n",
    "add_stat_annotation(ax, data=df, x=x, y=y,hue=hue,box_pairs=box_pairs,\n",
    "                    test='Mann-Whitney',loc='inside',verbose=2)\n"
   ]
  },
  {
   "cell_type": "markdown",
   "id": "b36d8671",
   "metadata": {},
   "source": [
    "### Genes and score_genes"
   ]
  },
  {
   "cell_type": "markdown",
   "id": "6f40e651",
   "metadata": {},
   "source": [
    "#### histplot"
   ]
  },
  {
   "cell_type": "code",
   "execution_count": null,
   "id": "1ad88160",
   "metadata": {},
   "outputs": [],
   "source": []
  },
  {
   "cell_type": "code",
   "execution_count": null,
   "id": "ee7882bd",
   "metadata": {},
   "outputs": [],
   "source": [
    "sns.histplot(, color='navy')\n",
    "sns.histplot(, color='gold')\n"
   ]
  },
  {
   "cell_type": "markdown",
   "id": "6b5964e4",
   "metadata": {},
   "source": [
    "#### leiden10vs15"
   ]
  },
  {
   "cell_type": "code",
   "execution_count": null,
   "id": "bf2b4ade",
   "metadata": {
    "scrolled": true
   },
   "outputs": [],
   "source": [
    "#score genes \n",
    "df = tissue3[['age','cell_ontology_class','leiden10vs15']]\n",
    "\n",
    "x = \"cell_ontology_class\" \n",
    "y = \"leiden10vs15\" \n",
    "hue = 'age'\n",
    "hue_order = ['3m', '18m', '24m']\n",
    "\n",
    "box_pairs=[\n",
    "    ((\"B cell\", \"3m\"), (\"B cell\", \"18m\")),\n",
    "    ((\"B cell\", \"3m\"), (\"B cell\", \"24m\")),\n",
    "    ((\"B cell\", \"18m\"), (\"B cell\", \"24m\")),\n",
    "    \n",
    "    ((\"T cell\", \"3m\"), (\"T cell\", \"18m\")),\n",
    "    ((\"T cell\", \"3m\"), (\"T cell\", \"24m\")),\n",
    "    ((\"T cell\", \"18m\"), (\"T cell\", \"24m\")),\n",
    "    \n",
    "    ((\"epithelial cell of proximal tubule\", \"3m\"), (\"epithelial cell of proximal tubule\", \"18m\")),\n",
    "    ((\"epithelial cell of proximal tubule\", \"3m\"), (\"epithelial cell of proximal tubule\", \"24m\")),\n",
    "    ((\"epithelial cell of proximal tubule\", \"18m\"), (\"epithelial cell of proximal tubule\", \"24m\")),\n",
    "    \n",
    "    ((\"fenestrated cell\", \"3m\"), (\"fenestrated cell\", \"18m\")),\n",
    "    ((\"fenestrated cell\", \"3m\"), (\"fenestrated cell\", \"24m\")),\n",
    "    ((\"fenestrated cell\", \"18m\"), (\"fenestrated cell\", \"24m\")),\n",
    "    \n",
    "    ((\"kidney collecting duct epithelial cell\", \"3m\"), (\"kidney collecting duct epithelial cell\", \"18m\")),\n",
    "    ((\"kidney collecting duct epithelial cell\", \"3m\"), (\"kidney collecting duct epithelial cell\", \"24m\")),\n",
    "    ((\"kidney collecting duct epithelial cell\", \"18m\"), (\"kidney collecting duct epithelial cell\", \"24m\")),\n",
    "    \n",
    "    ((\"kidney collecting duct principal cell\", \"3m\"), (\"kidney collecting duct principal cell\", \"18m\")),\n",
    "    ((\"kidney collecting duct principal cell\", \"3m\"), (\"kidney collecting duct principal cell\", \"24m\")),\n",
    "    ((\"kidney collecting duct principal cell\", \"18m\"), (\"kidney collecting duct principal cell\", \"24m\")),\n",
    "    \n",
    "    ((\"kidney interstitial fibroblast\", \"3m\"), (\"kidney interstitial fibroblast\", \"18m\")),\n",
    "    ((\"kidney interstitial fibroblast\", \"3m\"), (\"kidney interstitial fibroblast\", \"24m\")),\n",
    "    ((\"kidney interstitial fibroblast\", \"18m\"), (\"kidney interstitial fibroblast\", \"24m\")),\n",
    "    \n",
    "    ((\"kidney loop of Henle ascending limb epithelial cell\", \"3m\"), (\"kidney loop of Henle ascending limb epithelial cell\", \"18m\")),\n",
    "    ((\"kidney loop of Henle ascending limb epithelial cell\", \"3m\"), (\"kidney loop of Henle ascending limb epithelial cell\", \"24m\")),\n",
    "    ((\"kidney loop of Henle ascending limb epithelial cell\", \"18m\"), (\"kidney loop of Henle ascending limb epithelial cell\", \"24m\")),\n",
    "    \n",
    "    ((\"macrophage\", \"3m\"), (\"macrophage\", \"18m\")),\n",
    "    ((\"macrophage\", \"3m\"), (\"macrophage\", \"24m\")),\n",
    "    ((\"macrophage\", \"18m\"), (\"macrophage\", \"24m\")),\n",
    "       \n",
    "    ((\"mesangial cell\", \"3m\"), (\"mesangial cell\", \"18m\")),\n",
    "    ((\"mesangial cell\", \"3m\"), (\"mesangial cell\", \"24m\")),\n",
    "    ((\"mesangial cell\", \"18m\"), (\"mesangial cell\", \"24m\")),  \n",
    "    ]\n",
    "fig = plt.figure(figsize=(10, 5))\n",
    "plt.legend(loc='upper left', bbox_to_anchor=(1.03, 1))\n",
    "plt.xticks(rotation=90)\n",
    "ax = sns.boxplot(data=df, x=x, y=y, hue=hue)\n",
    "add_stat_annotation(ax, data=df, x=x, y=y,hue=hue,box_pairs=box_pairs,\n",
    "                    test='Mann-Whitney',loc='inside',verbose=2)"
   ]
  },
  {
   "cell_type": "markdown",
   "id": "1e4aa983",
   "metadata": {},
   "source": [
    "#### leiden15vs10"
   ]
  },
  {
   "cell_type": "code",
   "execution_count": null,
   "id": "f33869c9",
   "metadata": {
    "scrolled": true
   },
   "outputs": [],
   "source": [
    "#score genes \n",
    "df = tissue3[['age','cell_ontology_class','leiden15vs10']]\n",
    "\n",
    "x = \"cell_ontology_class\" \n",
    "y = \"leiden15vs10\" \n",
    "hue = 'age'\n",
    "hue_order = ['3m', '18m', '24m']\n",
    "\n",
    "box_pairs=[\n",
    "    ((\"B cell\", \"3m\"), (\"B cell\", \"18m\")),\n",
    "    ((\"B cell\", \"3m\"), (\"B cell\", \"24m\")),\n",
    "    ((\"B cell\", \"18m\"), (\"B cell\", \"24m\")),\n",
    "    \n",
    "    ((\"T cell\", \"3m\"), (\"T cell\", \"18m\")),\n",
    "    ((\"T cell\", \"3m\"), (\"T cell\", \"24m\")),\n",
    "    ((\"T cell\", \"18m\"), (\"T cell\", \"24m\")),\n",
    "    \n",
    "    ((\"epithelial cell of proximal tubule\", \"3m\"), (\"epithelial cell of proximal tubule\", \"18m\")),\n",
    "    ((\"epithelial cell of proximal tubule\", \"3m\"), (\"epithelial cell of proximal tubule\", \"24m\")),\n",
    "    ((\"epithelial cell of proximal tubule\", \"18m\"), (\"epithelial cell of proximal tubule\", \"24m\")),\n",
    "    \n",
    "    ((\"fenestrated cell\", \"3m\"), (\"fenestrated cell\", \"18m\")),\n",
    "    ((\"fenestrated cell\", \"3m\"), (\"fenestrated cell\", \"24m\")),\n",
    "    ((\"fenestrated cell\", \"18m\"), (\"fenestrated cell\", \"24m\")),\n",
    "    \n",
    "    ((\"kidney collecting duct epithelial cell\", \"3m\"), (\"kidney collecting duct epithelial cell\", \"18m\")),\n",
    "    ((\"kidney collecting duct epithelial cell\", \"3m\"), (\"kidney collecting duct epithelial cell\", \"24m\")),\n",
    "    ((\"kidney collecting duct epithelial cell\", \"18m\"), (\"kidney collecting duct epithelial cell\", \"24m\")),\n",
    "    \n",
    "    ((\"kidney collecting duct principal cell\", \"3m\"), (\"kidney collecting duct principal cell\", \"18m\")),\n",
    "    ((\"kidney collecting duct principal cell\", \"3m\"), (\"kidney collecting duct principal cell\", \"24m\")),\n",
    "    ((\"kidney collecting duct principal cell\", \"18m\"), (\"kidney collecting duct principal cell\", \"24m\")),\n",
    "    \n",
    "    ((\"kidney interstitial fibroblast\", \"3m\"), (\"kidney interstitial fibroblast\", \"18m\")),\n",
    "    ((\"kidney interstitial fibroblast\", \"3m\"), (\"kidney interstitial fibroblast\", \"24m\")),\n",
    "    ((\"kidney interstitial fibroblast\", \"18m\"), (\"kidney interstitial fibroblast\", \"24m\")),\n",
    "    \n",
    "    ((\"kidney loop of Henle ascending limb epithelial cell\", \"3m\"), (\"kidney loop of Henle ascending limb epithelial cell\", \"18m\")),\n",
    "    ((\"kidney loop of Henle ascending limb epithelial cell\", \"3m\"), (\"kidney loop of Henle ascending limb epithelial cell\", \"24m\")),\n",
    "    ((\"kidney loop of Henle ascending limb epithelial cell\", \"18m\"), (\"kidney loop of Henle ascending limb epithelial cell\", \"24m\")),\n",
    "    \n",
    "    ((\"macrophage\", \"3m\"), (\"macrophage\", \"18m\")),\n",
    "    ((\"macrophage\", \"3m\"), (\"macrophage\", \"24m\")),\n",
    "    ((\"macrophage\", \"18m\"), (\"macrophage\", \"24m\")),\n",
    "       \n",
    "    ((\"mesangial cell\", \"3m\"), (\"mesangial cell\", \"18m\")),\n",
    "    ((\"mesangial cell\", \"3m\"), (\"mesangial cell\", \"24m\")),\n",
    "    ((\"mesangial cell\", \"18m\"), (\"mesangial cell\", \"24m\")),  \n",
    "    ]\n",
    "fig = plt.figure(figsize=(10, 5))\n",
    "plt.legend(loc='upper left', bbox_to_anchor=(1.03, 1))\n",
    "plt.xticks(rotation=90)\n",
    "ax = sns.boxplot(data=df, x=x, y=y, hue=hue)\n",
    "add_stat_annotation(ax, data=df, x=x, y=y,hue=hue,box_pairs=box_pairs,\n",
    "                    test='Mann-Whitney',loc='inside',verbose=2)"
   ]
  },
  {
   "cell_type": "markdown",
   "id": "e9c7286d",
   "metadata": {
    "heading_collapsed": true
   },
   "source": [
    "#### BCR"
   ]
  },
  {
   "cell_type": "code",
   "execution_count": null,
   "id": "b314558c",
   "metadata": {
    "hidden": true,
    "scrolled": true
   },
   "outputs": [],
   "source": [
    "df = tissueBCR[['age','cell_ontology_class','BCR']]\n",
    "\n",
    "x = \"cell_ontology_class\" \n",
    "y = \"BCR\" \n",
    "hue = 'age'\n",
    "hue_order = ['3m', '18m', '24m']\n",
    "\n",
    "box_pairs=[\n",
    "    ((\"B cell\", \"3m\"), (\"B cell\", \"18m\")),\n",
    "    ((\"B cell\", \"3m\"), (\"B cell\", \"24m\")),\n",
    "    ((\"B cell\", \"18m\"), (\"B cell\", \"24m\")),\n",
    "    \n",
    "    ((\"T cell\", \"3m\"), (\"T cell\", \"18m\")),\n",
    "    ((\"T cell\", \"3m\"), (\"T cell\", \"24m\")),\n",
    "    ((\"T cell\", \"18m\"), (\"T cell\", \"24m\")),\n",
    "    \n",
    "    ((\"epithelial cell of proximal tubule\", \"3m\"), (\"epithelial cell of proximal tubule\", \"18m\")),\n",
    "    ((\"epithelial cell of proximal tubule\", \"3m\"), (\"epithelial cell of proximal tubule\", \"24m\")),\n",
    "    ((\"epithelial cell of proximal tubule\", \"18m\"), (\"epithelial cell of proximal tubule\", \"24m\")),\n",
    "    \n",
    "    ((\"fenestrated cell\", \"3m\"), (\"fenestrated cell\", \"18m\")),\n",
    "    ((\"fenestrated cell\", \"3m\"), (\"fenestrated cell\", \"24m\")),\n",
    "    ((\"fenestrated cell\", \"18m\"), (\"fenestrated cell\", \"24m\")),\n",
    "    \n",
    "    ((\"kidney collecting duct epithelial cell\", \"3m\"), (\"kidney collecting duct epithelial cell\", \"18m\")),\n",
    "    ((\"kidney collecting duct epithelial cell\", \"3m\"), (\"kidney collecting duct epithelial cell\", \"24m\")),\n",
    "    ((\"kidney collecting duct epithelial cell\", \"18m\"), (\"kidney collecting duct epithelial cell\", \"24m\")),\n",
    "    \n",
    "    ((\"kidney collecting duct principal cell\", \"3m\"), (\"kidney collecting duct principal cell\", \"18m\")),\n",
    "    ((\"kidney collecting duct principal cell\", \"3m\"), (\"kidney collecting duct principal cell\", \"24m\")),\n",
    "    ((\"kidney collecting duct principal cell\", \"18m\"), (\"kidney collecting duct principal cell\", \"24m\")),\n",
    "    \n",
    "    ((\"kidney interstitial fibroblast\", \"3m\"), (\"kidney interstitial fibroblast\", \"18m\")),\n",
    "    ((\"kidney interstitial fibroblast\", \"3m\"), (\"kidney interstitial fibroblast\", \"24m\")),\n",
    "    ((\"kidney interstitial fibroblast\", \"18m\"), (\"kidney interstitial fibroblast\", \"24m\")),\n",
    "    \n",
    "    ((\"kidney loop of Henle ascending limb epithelial cell\", \"3m\"), (\"kidney loop of Henle ascending limb epithelial cell\", \"18m\")),\n",
    "    ((\"kidney loop of Henle ascending limb epithelial cell\", \"3m\"), (\"kidney loop of Henle ascending limb epithelial cell\", \"24m\")),\n",
    "    ((\"kidney loop of Henle ascending limb epithelial cell\", \"18m\"), (\"kidney loop of Henle ascending limb epithelial cell\", \"24m\")),\n",
    "    \n",
    "    ((\"macrophage\", \"3m\"), (\"macrophage\", \"18m\")),\n",
    "    ((\"macrophage\", \"3m\"), (\"macrophage\", \"24m\")),\n",
    "    ((\"macrophage\", \"18m\"), (\"macrophage\", \"24m\")),\n",
    "       \n",
    "    ((\"mesangial cell\", \"3m\"), (\"mesangial cell\", \"18m\")),\n",
    "    ((\"mesangial cell\", \"3m\"), (\"mesangial cell\", \"24m\")),\n",
    "    ((\"mesangial cell\", \"18m\"), (\"mesangial cell\", \"24m\")),  \n",
    "    ]\n",
    "fig = plt.figure(figsize=(10, 5))\n",
    "plt.legend(loc='upper left', bbox_to_anchor=(1.03, 1))\n",
    "plt.xticks(rotation=90)\n",
    "ax = sns.boxplot(data=df, x=x, y=y, hue=hue)\n",
    "add_stat_annotation(ax, data=df, x=x, y=y,hue=hue,box_pairs=box_pairs,\n",
    "                    test='Mann-Whitney',loc='inside',verbose=2)"
   ]
  },
  {
   "cell_type": "code",
   "execution_count": null,
   "id": "f3ee5ff0",
   "metadata": {
    "hidden": true
   },
   "outputs": [],
   "source": [
    "df = tissueBCR[['age','cell_ontology_class','Cd79a']]\n",
    "\n",
    "x = \"cell_ontology_class\" \n",
    "y = \"Cd79a\" \n",
    "hue = 'age'\n",
    "hue_order = ['3m', '18m', '24m']\n",
    "\n",
    "box_pairs=[\n",
    "    ((\"B cell\", \"3m\"), (\"B cell\", \"18m\")),\n",
    "    ((\"B cell\", \"3m\"), (\"B cell\", \"24m\")),\n",
    "    ((\"B cell\", \"18m\"), (\"B cell\", \"24m\")),\n",
    "    \n",
    "    ((\"T cell\", \"3m\"), (\"T cell\", \"18m\")),\n",
    "    ((\"T cell\", \"3m\"), (\"T cell\", \"24m\")),\n",
    "    ((\"T cell\", \"18m\"), (\"T cell\", \"24m\")),\n",
    "    \n",
    "    ((\"epithelial cell of proximal tubule\", \"3m\"), (\"epithelial cell of proximal tubule\", \"18m\")),\n",
    "    ((\"epithelial cell of proximal tubule\", \"3m\"), (\"epithelial cell of proximal tubule\", \"24m\")),\n",
    "    ((\"epithelial cell of proximal tubule\", \"18m\"), (\"epithelial cell of proximal tubule\", \"24m\")),\n",
    "    \n",
    "    ((\"fenestrated cell\", \"3m\"), (\"fenestrated cell\", \"18m\")),\n",
    "    ((\"fenestrated cell\", \"3m\"), (\"fenestrated cell\", \"24m\")),\n",
    "    ((\"fenestrated cell\", \"18m\"), (\"fenestrated cell\", \"24m\")),\n",
    "    \n",
    "    ((\"kidney collecting duct epithelial cell\", \"3m\"), (\"kidney collecting duct epithelial cell\", \"18m\")),\n",
    "    ((\"kidney collecting duct epithelial cell\", \"3m\"), (\"kidney collecting duct epithelial cell\", \"24m\")),\n",
    "    ((\"kidney collecting duct epithelial cell\", \"18m\"), (\"kidney collecting duct epithelial cell\", \"24m\")),\n",
    "    \n",
    "    ((\"kidney collecting duct principal cell\", \"3m\"), (\"kidney collecting duct principal cell\", \"18m\")),\n",
    "    ((\"kidney collecting duct principal cell\", \"3m\"), (\"kidney collecting duct principal cell\", \"24m\")),\n",
    "    ((\"kidney collecting duct principal cell\", \"18m\"), (\"kidney collecting duct principal cell\", \"24m\")),\n",
    "    \n",
    "    ((\"kidney interstitial fibroblast\", \"3m\"), (\"kidney interstitial fibroblast\", \"18m\")),\n",
    "    ((\"kidney interstitial fibroblast\", \"3m\"), (\"kidney interstitial fibroblast\", \"24m\")),\n",
    "    ((\"kidney interstitial fibroblast\", \"18m\"), (\"kidney interstitial fibroblast\", \"24m\")),\n",
    "    \n",
    "    ((\"kidney loop of Henle ascending limb epithelial cell\", \"3m\"), (\"kidney loop of Henle ascending limb epithelial cell\", \"18m\")),\n",
    "    ((\"kidney loop of Henle ascending limb epithelial cell\", \"3m\"), (\"kidney loop of Henle ascending limb epithelial cell\", \"24m\")),\n",
    "    ((\"kidney loop of Henle ascending limb epithelial cell\", \"18m\"), (\"kidney loop of Henle ascending limb epithelial cell\", \"24m\")),\n",
    "    \n",
    "    ((\"macrophage\", \"3m\"), (\"macrophage\", \"18m\")),\n",
    "    ((\"macrophage\", \"3m\"), (\"macrophage\", \"24m\")),\n",
    "    ((\"macrophage\", \"18m\"), (\"macrophage\", \"24m\")),\n",
    "       \n",
    "    ((\"mesangial cell\", \"3m\"), (\"mesangial cell\", \"18m\")),\n",
    "    ((\"mesangial cell\", \"3m\"), (\"mesangial cell\", \"24m\")),\n",
    "    ((\"mesangial cell\", \"18m\"), (\"mesangial cell\", \"24m\")),  \n",
    "    ]\n",
    "fig = plt.figure(figsize=(10, 5))\n",
    "plt.legend(loc='upper left', bbox_to_anchor=(1.03, 1))\n",
    "plt.xticks(rotation=90)\n",
    "ax = sns.boxplot(data=df, x=x, y=y, hue=hue)\n",
    "add_stat_annotation(ax, data=df, x=x, y=y,hue=hue,box_pairs=box_pairs,\n",
    "                    test='Mann-Whitney',loc='inside',verbose=2)"
   ]
  },
  {
   "cell_type": "markdown",
   "id": "75d3fee8",
   "metadata": {
    "heading_collapsed": true
   },
   "source": [
    "#### Cd79a, maybe interesting"
   ]
  },
  {
   "cell_type": "code",
   "execution_count": null,
   "id": "d210f081",
   "metadata": {
    "hidden": true,
    "scrolled": true
   },
   "outputs": [],
   "source": [
    "df = tissueBCR[['age','cell_ontology_class','Cd79a']]\n",
    "\n",
    "x = \"cell_ontology_class\" \n",
    "y = \"Cd79a\" \n",
    "hue = 'age'\n",
    "hue_order = ['3m', '18m', '24m']\n",
    "\n",
    "box_pairs=[\n",
    "    ((\"B cell\", \"3m\"), (\"B cell\", \"18m\")),\n",
    "    ((\"B cell\", \"3m\"), (\"B cell\", \"24m\")),\n",
    "    ((\"B cell\", \"18m\"), (\"B cell\", \"24m\")),\n",
    "    \n",
    "    ((\"T cell\", \"3m\"), (\"T cell\", \"18m\")),\n",
    "    ((\"T cell\", \"3m\"), (\"T cell\", \"24m\")),\n",
    "    ((\"T cell\", \"18m\"), (\"T cell\", \"24m\")),\n",
    "    \n",
    "    ((\"epithelial cell of proximal tubule\", \"3m\"), (\"epithelial cell of proximal tubule\", \"18m\")),\n",
    "    ((\"epithelial cell of proximal tubule\", \"3m\"), (\"epithelial cell of proximal tubule\", \"24m\")),\n",
    "    ((\"epithelial cell of proximal tubule\", \"18m\"), (\"epithelial cell of proximal tubule\", \"24m\")),\n",
    "    \n",
    "    ((\"fenestrated cell\", \"3m\"), (\"fenestrated cell\", \"18m\")),\n",
    "    ((\"fenestrated cell\", \"3m\"), (\"fenestrated cell\", \"24m\")),\n",
    "    ((\"fenestrated cell\", \"18m\"), (\"fenestrated cell\", \"24m\")),\n",
    "    \n",
    "    ((\"kidney collecting duct epithelial cell\", \"3m\"), (\"kidney collecting duct epithelial cell\", \"18m\")),\n",
    "    ((\"kidney collecting duct epithelial cell\", \"3m\"), (\"kidney collecting duct epithelial cell\", \"24m\")),\n",
    "    ((\"kidney collecting duct epithelial cell\", \"18m\"), (\"kidney collecting duct epithelial cell\", \"24m\")),\n",
    "    \n",
    "    ((\"kidney collecting duct principal cell\", \"3m\"), (\"kidney collecting duct principal cell\", \"18m\")),\n",
    "    ((\"kidney collecting duct principal cell\", \"3m\"), (\"kidney collecting duct principal cell\", \"24m\")),\n",
    "    ((\"kidney collecting duct principal cell\", \"18m\"), (\"kidney collecting duct principal cell\", \"24m\")),\n",
    "    \n",
    "    ((\"kidney interstitial fibroblast\", \"3m\"), (\"kidney interstitial fibroblast\", \"18m\")),\n",
    "    ((\"kidney interstitial fibroblast\", \"3m\"), (\"kidney interstitial fibroblast\", \"24m\")),\n",
    "    ((\"kidney interstitial fibroblast\", \"18m\"), (\"kidney interstitial fibroblast\", \"24m\")),\n",
    "    \n",
    "    ((\"kidney loop of Henle ascending limb epithelial cell\", \"3m\"), (\"kidney loop of Henle ascending limb epithelial cell\", \"18m\")),\n",
    "    ((\"kidney loop of Henle ascending limb epithelial cell\", \"3m\"), (\"kidney loop of Henle ascending limb epithelial cell\", \"24m\")),\n",
    "    ((\"kidney loop of Henle ascending limb epithelial cell\", \"18m\"), (\"kidney loop of Henle ascending limb epithelial cell\", \"24m\")),\n",
    "    \n",
    "    ((\"macrophage\", \"3m\"), (\"macrophage\", \"18m\")),\n",
    "    ((\"macrophage\", \"3m\"), (\"macrophage\", \"24m\")),\n",
    "    ((\"macrophage\", \"18m\"), (\"macrophage\", \"24m\")),\n",
    "       \n",
    "    ((\"mesangial cell\", \"3m\"), (\"mesangial cell\", \"18m\")),\n",
    "    ((\"mesangial cell\", \"3m\"), (\"mesangial cell\", \"24m\")),\n",
    "    ((\"mesangial cell\", \"18m\"), (\"mesangial cell\", \"24m\"))  \n",
    "    ]\n",
    "fig = plt.figure(figsize=(10, 5))\n",
    "plt.legend(loc='upper left', bbox_to_anchor=(1.03, 1))\n",
    "plt.xticks(rotation=90)\n",
    "ax = sns.boxplot(data=df, x=x, y=y, hue=hue)\n",
    "add_stat_annotation(ax, data=df, x=x, y=y,hue=hue,box_pairs=box_pairs,\n",
    "                    test='Mann-Whitney',loc='inside',verbose=2)"
   ]
  },
  {
   "cell_type": "markdown",
   "id": "795696b3",
   "metadata": {
    "heading_collapsed": true
   },
   "source": [
    "#### Cd79b, maybe interesting"
   ]
  },
  {
   "cell_type": "code",
   "execution_count": null,
   "id": "bfbaef87",
   "metadata": {
    "hidden": true,
    "scrolled": true
   },
   "outputs": [],
   "source": [
    "df = tissueBCR[['age','cell_ontology_class','Cd79b']]\n",
    "\n",
    "x = \"cell_ontology_class\" \n",
    "y = \"Cd79b\" \n",
    "hue = 'age'\n",
    "hue_order = ['3m', '18m', '24m']\n",
    "\n",
    "box_pairs=[\n",
    "    ((\"B cell\", \"3m\"), (\"B cell\", \"18m\")),\n",
    "    ((\"B cell\", \"3m\"), (\"B cell\", \"24m\")),\n",
    "    ((\"B cell\", \"18m\"), (\"B cell\", \"24m\")),\n",
    "    \n",
    "    ((\"T cell\", \"3m\"), (\"T cell\", \"18m\")),\n",
    "    ((\"T cell\", \"3m\"), (\"T cell\", \"24m\")),\n",
    "    ((\"T cell\", \"18m\"), (\"T cell\", \"24m\")),\n",
    "    \n",
    "    ((\"epithelial cell of proximal tubule\", \"3m\"), (\"epithelial cell of proximal tubule\", \"18m\")),\n",
    "    ((\"epithelial cell of proximal tubule\", \"3m\"), (\"epithelial cell of proximal tubule\", \"24m\")),\n",
    "    ((\"epithelial cell of proximal tubule\", \"18m\"), (\"epithelial cell of proximal tubule\", \"24m\")),\n",
    "    \n",
    "    ((\"fenestrated cell\", \"3m\"), (\"fenestrated cell\", \"18m\")),\n",
    "    ((\"fenestrated cell\", \"3m\"), (\"fenestrated cell\", \"24m\")),\n",
    "    ((\"fenestrated cell\", \"18m\"), (\"fenestrated cell\", \"24m\")),\n",
    "    \n",
    "    ((\"kidney collecting duct epithelial cell\", \"3m\"), (\"kidney collecting duct epithelial cell\", \"18m\")),\n",
    "    ((\"kidney collecting duct epithelial cell\", \"3m\"), (\"kidney collecting duct epithelial cell\", \"24m\")),\n",
    "    ((\"kidney collecting duct epithelial cell\", \"18m\"), (\"kidney collecting duct epithelial cell\", \"24m\")),\n",
    "    \n",
    "    ((\"kidney collecting duct principal cell\", \"3m\"), (\"kidney collecting duct principal cell\", \"18m\")),\n",
    "    ((\"kidney collecting duct principal cell\", \"3m\"), (\"kidney collecting duct principal cell\", \"24m\")),\n",
    "    ((\"kidney collecting duct principal cell\", \"18m\"), (\"kidney collecting duct principal cell\", \"24m\")),\n",
    "    \n",
    "    ((\"kidney interstitial fibroblast\", \"3m\"), (\"kidney interstitial fibroblast\", \"18m\")),\n",
    "    ((\"kidney interstitial fibroblast\", \"3m\"), (\"kidney interstitial fibroblast\", \"24m\")),\n",
    "    ((\"kidney interstitial fibroblast\", \"18m\"), (\"kidney interstitial fibroblast\", \"24m\")),\n",
    "    \n",
    "    ((\"kidney loop of Henle ascending limb epithelial cell\", \"3m\"), (\"kidney loop of Henle ascending limb epithelial cell\", \"18m\")),\n",
    "    ((\"kidney loop of Henle ascending limb epithelial cell\", \"3m\"), (\"kidney loop of Henle ascending limb epithelial cell\", \"24m\")),\n",
    "    ((\"kidney loop of Henle ascending limb epithelial cell\", \"18m\"), (\"kidney loop of Henle ascending limb epithelial cell\", \"24m\")),\n",
    "    \n",
    "    ((\"macrophage\", \"3m\"), (\"macrophage\", \"18m\")),\n",
    "    ((\"macrophage\", \"3m\"), (\"macrophage\", \"24m\")),\n",
    "    ((\"macrophage\", \"18m\"), (\"macrophage\", \"24m\")),\n",
    "       \n",
    "    ((\"mesangial cell\", \"3m\"), (\"mesangial cell\", \"18m\")),\n",
    "    ((\"mesangial cell\", \"3m\"), (\"mesangial cell\", \"24m\")),\n",
    "    ((\"mesangial cell\", \"18m\"), (\"mesangial cell\", \"24m\")) \n",
    "    ]\n",
    "fig = plt.figure(figsize=(10, 5))\n",
    "plt.legend(loc='upper left', bbox_to_anchor=(1.03, 1))\n",
    "plt.xticks(rotation=90)\n",
    "ax = sns.boxplot(data=df, x=x, y=y, hue=hue)\n",
    "add_stat_annotation(ax, data=df, x=x, y=y,hue=hue,box_pairs=box_pairs,\n",
    "                    test='Mann-Whitney',loc='inside',verbose=2)"
   ]
  },
  {
   "cell_type": "markdown",
   "id": "4bd3b9e9",
   "metadata": {
    "heading_collapsed": true
   },
   "source": [
    "#### Ighg2b, very diff than thymus"
   ]
  },
  {
   "cell_type": "code",
   "execution_count": null,
   "id": "ed9f78a6",
   "metadata": {
    "hidden": true,
    "scrolled": true
   },
   "outputs": [],
   "source": [
    "df = df_kid[['age','cell_ontology_class','Ighg2b']]\n",
    "x = \"cell_ontology_class\" \n",
    "y = \"Ighg2b\" \n",
    "hue = 'age'\n",
    "hue_order = ['3m', '18m', '24m']\n",
    "\n",
    "box_pairs=[\n",
    "    ((\"B cell\", \"3m\"), (\"B cell\", \"18m\")),\n",
    "    ((\"B cell\", \"3m\"), (\"B cell\", \"24m\")),\n",
    "    ((\"B cell\", \"18m\"), (\"B cell\", \"24m\")),\n",
    "    \n",
    "    ((\"T cell\", \"3m\"), (\"T cell\", \"18m\")),\n",
    "    ((\"T cell\", \"3m\"), (\"T cell\", \"24m\")),\n",
    "    ((\"T cell\", \"18m\"), (\"T cell\", \"24m\")),\n",
    "    \n",
    "    ((\"epithelial cell of proximal tubule\", \"3m\"), (\"epithelial cell of proximal tubule\", \"18m\")),\n",
    "    ((\"epithelial cell of proximal tubule\", \"3m\"), (\"epithelial cell of proximal tubule\", \"24m\")),\n",
    "    ((\"epithelial cell of proximal tubule\", \"18m\"), (\"epithelial cell of proximal tubule\", \"24m\")),\n",
    "    \n",
    "    ((\"fenestrated cell\", \"3m\"), (\"fenestrated cell\", \"18m\")),\n",
    "    ((\"fenestrated cell\", \"3m\"), (\"fenestrated cell\", \"24m\")),\n",
    "    ((\"fenestrated cell\", \"18m\"), (\"fenestrated cell\", \"24m\")),\n",
    "    \n",
    "    ((\"kidney collecting duct epithelial cell\", \"3m\"), (\"kidney collecting duct epithelial cell\", \"18m\")),\n",
    "    ((\"kidney collecting duct epithelial cell\", \"3m\"), (\"kidney collecting duct epithelial cell\", \"24m\")),\n",
    "    ((\"kidney collecting duct epithelial cell\", \"18m\"), (\"kidney collecting duct epithelial cell\", \"24m\")),\n",
    "    \n",
    "    ((\"kidney collecting duct principal cell\", \"3m\"), (\"kidney collecting duct principal cell\", \"18m\")),\n",
    "    ((\"kidney collecting duct principal cell\", \"3m\"), (\"kidney collecting duct principal cell\", \"24m\")),\n",
    "    ((\"kidney collecting duct principal cell\", \"18m\"), (\"kidney collecting duct principal cell\", \"24m\")),\n",
    "    \n",
    "    ((\"kidney interstitial fibroblast\", \"3m\"), (\"kidney interstitial fibroblast\", \"18m\")),\n",
    "    ((\"kidney interstitial fibroblast\", \"3m\"), (\"kidney interstitial fibroblast\", \"24m\")),\n",
    "    ((\"kidney interstitial fibroblast\", \"18m\"), (\"kidney interstitial fibroblast\", \"24m\")),\n",
    "    \n",
    "    ((\"kidney loop of Henle ascending limb epithelial cell\", \"3m\"), (\"kidney loop of Henle ascending limb epithelial cell\", \"18m\")),\n",
    "    ((\"kidney loop of Henle ascending limb epithelial cell\", \"3m\"), (\"kidney loop of Henle ascending limb epithelial cell\", \"24m\")),\n",
    "    ((\"kidney loop of Henle ascending limb epithelial cell\", \"18m\"), (\"kidney loop of Henle ascending limb epithelial cell\", \"24m\")),\n",
    "    \n",
    "    ((\"macrophage\", \"3m\"), (\"macrophage\", \"18m\")),\n",
    "    ((\"macrophage\", \"3m\"), (\"macrophage\", \"24m\")),\n",
    "    ((\"macrophage\", \"18m\"), (\"macrophage\", \"24m\")),\n",
    "       \n",
    "    ((\"mesangial cell\", \"3m\"), (\"mesangial cell\", \"18m\")),\n",
    "    ((\"mesangial cell\", \"3m\"), (\"mesangial cell\", \"24m\")),\n",
    "    ((\"mesangial cell\", \"18m\"), (\"mesangial cell\", \"24m\"))\n",
    "    ]\n",
    "fig = plt.figure(figsize=(10, 5))\n",
    "plt.legend(loc='upper left', bbox_to_anchor=(1.03, 1))\n",
    "plt.xticks(rotation=90)\n",
    "ax = sns.boxplot(data=df, x=x, y=y, hue=hue)\n",
    "add_stat_annotation(ax, data=df, x=x, y=y,hue=hue,box_pairs=box_pairs,\n",
    "                    test='Mann-Whitney',loc='inside',verbose=2)"
   ]
  },
  {
   "cell_type": "markdown",
   "id": "0d3cc036",
   "metadata": {
    "heading_collapsed": true
   },
   "source": [
    "#### Cd38, hmmm?"
   ]
  },
  {
   "cell_type": "markdown",
   "id": "6c8242cb",
   "metadata": {
    "hidden": true
   },
   "source": [
    "Cd38 has a zero inflated distribution so I don't think this test works. However it is interesting to see CD38 expression in annotated endothelial cells"
   ]
  },
  {
   "cell_type": "code",
   "execution_count": null,
   "id": "df624032",
   "metadata": {
    "hidden": true
   },
   "outputs": [],
   "source": [
    "df = df_kid[['age','cell_ontology_class','Cd38']]\n",
    "\n",
    "x = \"cell_ontology_class\" \n",
    "y = \"Cd38\" \n",
    "hue = 'age'\n",
    "hue_order = ['3m', '18m', '24m']\n",
    "\n",
    "box_pairs=[\n",
    "    ((\"B cell\", \"3m\"), (\"B cell\", \"18m\")),\n",
    "    ((\"B cell\", \"3m\"), (\"B cell\", \"24m\")),\n",
    "    ((\"B cell\", \"18m\"), (\"B cell\", \"24m\")),\n",
    "    \n",
    "    ((\"T cell\", \"3m\"), (\"T cell\", \"18m\")),\n",
    "    ((\"T cell\", \"3m\"), (\"T cell\", \"24m\")),\n",
    "    ((\"T cell\", \"18m\"), (\"T cell\", \"24m\")),\n",
    "    \n",
    "    ((\"epithelial cell of proximal tubule\", \"3m\"), (\"epithelial cell of proximal tubule\", \"18m\")),\n",
    "    ((\"epithelial cell of proximal tubule\", \"3m\"), (\"epithelial cell of proximal tubule\", \"24m\")),\n",
    "    ((\"epithelial cell of proximal tubule\", \"18m\"), (\"epithelial cell of proximal tubule\", \"24m\")),\n",
    "    \n",
    "    ((\"fenestrated cell\", \"3m\"), (\"fenestrated cell\", \"18m\")),\n",
    "    ((\"fenestrated cell\", \"3m\"), (\"fenestrated cell\", \"24m\")),\n",
    "    ((\"fenestrated cell\", \"18m\"), (\"fenestrated cell\", \"24m\")),\n",
    "    \n",
    "    ((\"kidney collecting duct epithelial cell\", \"3m\"), (\"kidney collecting duct epithelial cell\", \"18m\")),\n",
    "    ((\"kidney collecting duct epithelial cell\", \"3m\"), (\"kidney collecting duct epithelial cell\", \"24m\")),\n",
    "    ((\"kidney collecting duct epithelial cell\", \"18m\"), (\"kidney collecting duct epithelial cell\", \"24m\")),\n",
    "    \n",
    "    ((\"kidney collecting duct principal cell\", \"3m\"), (\"kidney collecting duct principal cell\", \"18m\")),\n",
    "    ((\"kidney collecting duct principal cell\", \"3m\"), (\"kidney collecting duct principal cell\", \"24m\")),\n",
    "    ((\"kidney collecting duct principal cell\", \"18m\"), (\"kidney collecting duct principal cell\", \"24m\")),\n",
    "    \n",
    "    ((\"kidney interstitial fibroblast\", \"3m\"), (\"kidney interstitial fibroblast\", \"18m\")),\n",
    "    ((\"kidney interstitial fibroblast\", \"3m\"), (\"kidney interstitial fibroblast\", \"24m\")),\n",
    "    ((\"kidney interstitial fibroblast\", \"18m\"), (\"kidney interstitial fibroblast\", \"24m\")),\n",
    "    \n",
    "    ((\"kidney loop of Henle ascending limb epithelial cell\", \"3m\"), (\"kidney loop of Henle ascending limb epithelial cell\", \"18m\")),\n",
    "    ((\"kidney loop of Henle ascending limb epithelial cell\", \"3m\"), (\"kidney loop of Henle ascending limb epithelial cell\", \"24m\")),\n",
    "    ((\"kidney loop of Henle ascending limb epithelial cell\", \"18m\"), (\"kidney loop of Henle ascending limb epithelial cell\", \"24m\")),\n",
    "    \n",
    "    ((\"macrophage\", \"3m\"), (\"macrophage\", \"18m\")),\n",
    "    ((\"macrophage\", \"3m\"), (\"macrophage\", \"24m\")),\n",
    "    ((\"macrophage\", \"18m\"), (\"macrophage\", \"24m\")),\n",
    "       \n",
    "    ((\"mesangial cell\", \"3m\"), (\"mesangial cell\", \"18m\")),\n",
    "    ((\"mesangial cell\", \"3m\"), (\"mesangial cell\", \"24m\")),\n",
    "    ((\"mesangial cell\", \"18m\"), (\"mesangial cell\", \"24m\")) \n",
    "    ]\n",
    "fig = plt.figure(figsize=(10, 5))\n",
    "plt.legend(loc='upper left', bbox_to_anchor=(1.03, 1))\n",
    "plt.xticks(rotation=90)\n",
    "ax = sns.boxplot(data=df, x=x, y=y, hue=hue)\n",
    "add_stat_annotation(ax, data=df, x=x, y=y,hue=hue,box_pairs=box_pairs,\n",
    "                    test='Mann-Whitney',loc='inside',verbose=2)"
   ]
  },
  {
   "cell_type": "markdown",
   "id": "dcb9632a",
   "metadata": {
    "heading_collapsed": true
   },
   "source": [
    "#### M1 score_genes, didn't have expected results for me"
   ]
  },
  {
   "cell_type": "code",
   "execution_count": null,
   "id": "7dc23a7a",
   "metadata": {
    "hidden": true
   },
   "outputs": [],
   "source": [
    "df = tissue_M[['age','cell_ontology_class','M1']]\n",
    "\n",
    "x = \"cell_ontology_class\" \n",
    "y = \"M1\" \n",
    "hue = 'age'\n",
    "hue_order = ['3m', '18m', '24m']\n",
    "\n",
    "box_pairs=[\n",
    "    ((\"B cell\", \"3m\"), (\"B cell\", \"18m\")),\n",
    "    ((\"B cell\", \"3m\"), (\"B cell\", \"24m\")),\n",
    "    ((\"B cell\", \"18m\"), (\"B cell\", \"24m\")),\n",
    "    \n",
    "    ((\"T cell\", \"3m\"), (\"T cell\", \"18m\")),\n",
    "    ((\"T cell\", \"3m\"), (\"T cell\", \"24m\")),\n",
    "    ((\"T cell\", \"18m\"), (\"T cell\", \"24m\")),\n",
    "    \n",
    "    ((\"epithelial cell of proximal tubule\", \"3m\"), (\"epithelial cell of proximal tubule\", \"18m\")),\n",
    "    ((\"epithelial cell of proximal tubule\", \"3m\"), (\"epithelial cell of proximal tubule\", \"24m\")),\n",
    "    ((\"epithelial cell of proximal tubule\", \"18m\"), (\"epithelial cell of proximal tubule\", \"24m\")),\n",
    "    \n",
    "    ((\"fenestrated cell\", \"3m\"), (\"fenestrated cell\", \"18m\")),\n",
    "    ((\"fenestrated cell\", \"3m\"), (\"fenestrated cell\", \"24m\")),\n",
    "    ((\"fenestrated cell\", \"18m\"), (\"fenestrated cell\", \"24m\")),\n",
    "    \n",
    "    ((\"kidney collecting duct epithelial cell\", \"3m\"), (\"kidney collecting duct epithelial cell\", \"18m\")),\n",
    "    ((\"kidney collecting duct epithelial cell\", \"3m\"), (\"kidney collecting duct epithelial cell\", \"24m\")),\n",
    "    ((\"kidney collecting duct epithelial cell\", \"18m\"), (\"kidney collecting duct epithelial cell\", \"24m\")),\n",
    "    \n",
    "    ((\"kidney collecting duct principal cell\", \"3m\"), (\"kidney collecting duct principal cell\", \"18m\")),\n",
    "    ((\"kidney collecting duct principal cell\", \"3m\"), (\"kidney collecting duct principal cell\", \"24m\")),\n",
    "    ((\"kidney collecting duct principal cell\", \"18m\"), (\"kidney collecting duct principal cell\", \"24m\")),\n",
    "    \n",
    "    ((\"kidney interstitial fibroblast\", \"3m\"), (\"kidney interstitial fibroblast\", \"18m\")),\n",
    "    ((\"kidney interstitial fibroblast\", \"3m\"), (\"kidney interstitial fibroblast\", \"24m\")),\n",
    "    ((\"kidney interstitial fibroblast\", \"18m\"), (\"kidney interstitial fibroblast\", \"24m\")),\n",
    "    \n",
    "    ((\"kidney loop of Henle ascending limb epithelial cell\", \"3m\"), (\"kidney loop of Henle ascending limb epithelial cell\", \"18m\")),\n",
    "    ((\"kidney loop of Henle ascending limb epithelial cell\", \"3m\"), (\"kidney loop of Henle ascending limb epithelial cell\", \"24m\")),\n",
    "    ((\"kidney loop of Henle ascending limb epithelial cell\", \"18m\"), (\"kidney loop of Henle ascending limb epithelial cell\", \"24m\")),\n",
    "    \n",
    "    ((\"macrophage\", \"3m\"), (\"macrophage\", \"18m\")),\n",
    "    ((\"macrophage\", \"3m\"), (\"macrophage\", \"24m\")),\n",
    "    ((\"macrophage\", \"18m\"), (\"macrophage\", \"24m\")),\n",
    "       \n",
    "    ((\"mesangial cell\", \"3m\"), (\"mesangial cell\", \"18m\")),\n",
    "    ((\"mesangial cell\", \"3m\"), (\"mesangial cell\", \"24m\")),\n",
    "    ((\"mesangial cell\", \"18m\"), (\"mesangial cell\", \"24m\")) \n",
    "    ]\n",
    "fig = plt.figure(figsize=(10, 5))\n",
    "plt.legend(loc='upper left', bbox_to_anchor=(1.03, 1))\n",
    "plt.xticks(rotation=90)\n",
    "ax = sns.boxplot(data=df, x=x, y=y, hue=hue)\n",
    "add_stat_annotation(ax, data=df, x=x, y=y,hue=hue,box_pairs=box_pairs,\n",
    "                    test='Mann-Whitney',loc='inside',verbose=2)"
   ]
  },
  {
   "cell_type": "markdown",
   "id": "e6bc5886",
   "metadata": {},
   "source": [
    "#### M2 score_genes"
   ]
  },
  {
   "cell_type": "code",
   "execution_count": null,
   "id": "adb4ede5",
   "metadata": {},
   "outputs": [],
   "source": [
    "df = tissue_M[['age','cell_ontology_class','M2']]\n",
    "\n",
    "x = \"cell_ontology_class\" \n",
    "y = \"M2\" \n",
    "hue = 'age'\n",
    "hue_order = ['3m', '18m', '24m']\n",
    "\n",
    "box_pairs=[\n",
    "    ((\"B cell\", \"3m\"), (\"B cell\", \"18m\")),\n",
    "    ((\"B cell\", \"3m\"), (\"B cell\", \"24m\")),\n",
    "    ((\"B cell\", \"18m\"), (\"B cell\", \"24m\")),\n",
    "    \n",
    "    ((\"T cell\", \"3m\"), (\"T cell\", \"18m\")),\n",
    "    ((\"T cell\", \"3m\"), (\"T cell\", \"24m\")),\n",
    "    ((\"T cell\", \"18m\"), (\"T cell\", \"24m\")),\n",
    "    \n",
    "    ((\"epithelial cell of proximal tubule\", \"3m\"), (\"epithelial cell of proximal tubule\", \"18m\")),\n",
    "    ((\"epithelial cell of proximal tubule\", \"3m\"), (\"epithelial cell of proximal tubule\", \"24m\")),\n",
    "    ((\"epithelial cell of proximal tubule\", \"18m\"), (\"epithelial cell of proximal tubule\", \"24m\")),\n",
    "    \n",
    "    ((\"fenestrated cell\", \"3m\"), (\"fenestrated cell\", \"18m\")),\n",
    "    ((\"fenestrated cell\", \"3m\"), (\"fenestrated cell\", \"24m\")),\n",
    "    ((\"fenestrated cell\", \"18m\"), (\"fenestrated cell\", \"24m\")),\n",
    "    \n",
    "    ((\"kidney collecting duct epithelial cell\", \"3m\"), (\"kidney collecting duct epithelial cell\", \"18m\")),\n",
    "    ((\"kidney collecting duct epithelial cell\", \"3m\"), (\"kidney collecting duct epithelial cell\", \"24m\")),\n",
    "    ((\"kidney collecting duct epithelial cell\", \"18m\"), (\"kidney collecting duct epithelial cell\", \"24m\")),\n",
    "    \n",
    "    ((\"kidney collecting duct principal cell\", \"3m\"), (\"kidney collecting duct principal cell\", \"18m\")),\n",
    "    ((\"kidney collecting duct principal cell\", \"3m\"), (\"kidney collecting duct principal cell\", \"24m\")),\n",
    "    ((\"kidney collecting duct principal cell\", \"18m\"), (\"kidney collecting duct principal cell\", \"24m\")),\n",
    "    \n",
    "    ((\"kidney interstitial fibroblast\", \"3m\"), (\"kidney interstitial fibroblast\", \"18m\")),\n",
    "    ((\"kidney interstitial fibroblast\", \"3m\"), (\"kidney interstitial fibroblast\", \"24m\")),\n",
    "    ((\"kidney interstitial fibroblast\", \"18m\"), (\"kidney interstitial fibroblast\", \"24m\")),\n",
    "    \n",
    "    ((\"kidney loop of Henle ascending limb epithelial cell\", \"3m\"), (\"kidney loop of Henle ascending limb epithelial cell\", \"18m\")),\n",
    "    ((\"kidney loop of Henle ascending limb epithelial cell\", \"3m\"), (\"kidney loop of Henle ascending limb epithelial cell\", \"24m\")),\n",
    "    ((\"kidney loop of Henle ascending limb epithelial cell\", \"18m\"), (\"kidney loop of Henle ascending limb epithelial cell\", \"24m\")),\n",
    "    \n",
    "    ((\"macrophage\", \"3m\"), (\"macrophage\", \"18m\")),\n",
    "    ((\"macrophage\", \"3m\"), (\"macrophage\", \"24m\")),\n",
    "    ((\"macrophage\", \"18m\"), (\"macrophage\", \"24m\")),\n",
    "       \n",
    "    ((\"mesangial cell\", \"3m\"), (\"mesangial cell\", \"18m\")),\n",
    "    ((\"mesangial cell\", \"3m\"), (\"mesangial cell\", \"24m\")),\n",
    "    ((\"mesangial cell\", \"18m\"), (\"mesangial cell\", \"24m\")) \n",
    "    ]\n",
    "fig = plt.figure(figsize=(10, 5))\n",
    "plt.legend(loc='upper left', bbox_to_anchor=(1.03, 1))\n",
    "plt.xticks(rotation=90)\n",
    "ax = sns.boxplot(data=df, x=x, y=y, hue=hue)\n",
    "add_stat_annotation(ax, data=df, x=x, y=y,hue=hue,box_pairs=box_pairs,\n",
    "                    test='Mann-Whitney',loc='inside',verbose=2)"
   ]
  },
  {
   "cell_type": "markdown",
   "id": "b864b439",
   "metadata": {},
   "source": [
    "### Yunna et al, M1/M2"
   ]
  },
  {
   "cell_type": "code",
   "execution_count": null,
   "id": "14a48855",
   "metadata": {},
   "outputs": [],
   "source": [
    "y = y_df.loc[y_df['cell_ontology_class'] == 'macrophage']\n",
    "yy=y[['age','Fcgr4']]\n",
    "yunna"
   ]
  },
  {
   "cell_type": "markdown",
   "id": "8165cf72",
   "metadata": {},
   "source": [
    "**Is this overpowering the single gene when I don't use all cell types?**\n",
    "\n",
    "significant when only macrophages: Fcgr3, Fcgr4\n",
    "M1: Fcgr3 is Cd16. Fcgr4 similar?"
   ]
  },
  {
   "cell_type": "code",
   "execution_count": null,
   "id": "3b12fcc6",
   "metadata": {},
   "outputs": [],
   "source": [
    "df = yy\n",
    "x = \"age\"\n",
    "y = \"Fcgr4\"\n",
    "order = ['3m', '18m', '24m']\n",
    "ax = sns.boxplot(data=df, x=x, y=y, order=order)\n",
    "test_results = add_stat_annotation(ax, data=df, x=x, y=y, order=order,\n",
    "                                   box_pairs=[(\"3m\", \"18m\"), (\"3m\", \"24m\"), (\"18m\", \"24m\")],\n",
    "                                   test='Mann-Whitney', text_format='star',\n",
    "                                   loc='outside', verbose=2)"
   ]
  },
  {
   "cell_type": "code",
   "execution_count": null,
   "id": "28683bbf",
   "metadata": {},
   "outputs": [],
   "source": [
    "df = y_df[['age','cell_ontology_class','Fcgr4']]\n",
    "\n",
    "x = \"cell_ontology_class\" \n",
    "y = \"Fcgr4\" \n",
    "hue = 'age'\n",
    "hue_order = ['3m', '18m', '24m']\n",
    "\n",
    "box_pairs=[\n",
    "    ((\"B cell\", \"3m\"), (\"B cell\", \"18m\")),\n",
    "    ((\"B cell\", \"3m\"), (\"B cell\", \"24m\")),\n",
    "    ((\"B cell\", \"18m\"), (\"B cell\", \"24m\")),\n",
    "    \n",
    "    ((\"T cell\", \"3m\"), (\"T cell\", \"18m\")),\n",
    "    ((\"T cell\", \"3m\"), (\"T cell\", \"24m\")),\n",
    "    ((\"T cell\", \"18m\"), (\"T cell\", \"24m\")),\n",
    "    \n",
    "    ((\"epithelial cell of proximal tubule\", \"3m\"), (\"epithelial cell of proximal tubule\", \"18m\")),\n",
    "    ((\"epithelial cell of proximal tubule\", \"3m\"), (\"epithelial cell of proximal tubule\", \"24m\")),\n",
    "    ((\"epithelial cell of proximal tubule\", \"18m\"), (\"epithelial cell of proximal tubule\", \"24m\")),\n",
    "    \n",
    "    ((\"fenestrated cell\", \"3m\"), (\"fenestrated cell\", \"18m\")),\n",
    "    ((\"fenestrated cell\", \"3m\"), (\"fenestrated cell\", \"24m\")),\n",
    "    ((\"fenestrated cell\", \"18m\"), (\"fenestrated cell\", \"24m\")),\n",
    "    \n",
    "    ((\"kidney collecting duct epithelial cell\", \"3m\"), (\"kidney collecting duct epithelial cell\", \"18m\")),\n",
    "    ((\"kidney collecting duct epithelial cell\", \"3m\"), (\"kidney collecting duct epithelial cell\", \"24m\")),\n",
    "    ((\"kidney collecting duct epithelial cell\", \"18m\"), (\"kidney collecting duct epithelial cell\", \"24m\")),\n",
    "    \n",
    "    ((\"kidney collecting duct principal cell\", \"3m\"), (\"kidney collecting duct principal cell\", \"18m\")),\n",
    "    ((\"kidney collecting duct principal cell\", \"3m\"), (\"kidney collecting duct principal cell\", \"24m\")),\n",
    "    ((\"kidney collecting duct principal cell\", \"18m\"), (\"kidney collecting duct principal cell\", \"24m\")),\n",
    "    \n",
    "    ((\"kidney interstitial fibroblast\", \"3m\"), (\"kidney interstitial fibroblast\", \"18m\")),\n",
    "    ((\"kidney interstitial fibroblast\", \"3m\"), (\"kidney interstitial fibroblast\", \"24m\")),\n",
    "    ((\"kidney interstitial fibroblast\", \"18m\"), (\"kidney interstitial fibroblast\", \"24m\")),\n",
    "    \n",
    "    ((\"kidney loop of Henle ascending limb epithelial cell\", \"3m\"), (\"kidney loop of Henle ascending limb epithelial cell\", \"18m\")),\n",
    "    ((\"kidney loop of Henle ascending limb epithelial cell\", \"3m\"), (\"kidney loop of Henle ascending limb epithelial cell\", \"24m\")),\n",
    "    ((\"kidney loop of Henle ascending limb epithelial cell\", \"18m\"), (\"kidney loop of Henle ascending limb epithelial cell\", \"24m\")),\n",
    "    \n",
    "    ((\"macrophage\", \"3m\"), (\"macrophage\", \"18m\")),\n",
    "    ((\"macrophage\", \"3m\"), (\"macrophage\", \"24m\")),\n",
    "    ((\"macrophage\", \"18m\"), (\"macrophage\", \"24m\")),\n",
    "       \n",
    "    ((\"mesangial cell\", \"3m\"), (\"mesangial cell\", \"18m\")),\n",
    "    ((\"mesangial cell\", \"3m\"), (\"mesangial cell\", \"24m\")),\n",
    "    ((\"mesangial cell\", \"18m\"), (\"mesangial cell\", \"24m\")) \n",
    "    ]\n",
    "fig = plt.figure(figsize=(10, 5))\n",
    "plt.legend(loc='upper left', bbox_to_anchor=(1.03, 1))\n",
    "plt.xticks(rotation=90)\n",
    "ax = sns.boxplot(data=df, x=x, y=y, hue=hue)\n",
    "add_stat_annotation(ax, data=df, x=x, y=y,hue=hue,box_pairs=box_pairs,\n",
    "                    test='Mann-Whitney',loc='inside',verbose=2)"
   ]
  },
  {
   "cell_type": "code",
   "execution_count": null,
   "id": "58c9c224",
   "metadata": {},
   "outputs": [],
   "source": []
  },
  {
   "cell_type": "markdown",
   "id": "beb42d09",
   "metadata": {},
   "source": [
    "### Exploring Novel Markers to Delineate Murine M1 and M2 Macrophages"
   ]
  },
  {
   "cell_type": "markdown",
   "id": "0570bfc4",
   "metadata": {},
   "source": [
    "'Novel Markers to Delineate Murine M1 and M2 Macrophages' by Jablonski et al. 2015.\n",
    "\n",
    "https://www.ncbi.nlm.nih.gov/pmc/articles/PMC4689374/"
   ]
  },
  {
   "cell_type": "markdown",
   "id": "1dbb4e45",
   "metadata": {},
   "source": [
    "ABSTRACT\n",
    "\"...We validated by real-time PCR an M1-exclusive pattern of expression for **CD38**, G-protein coupled receptor 18 (**Gpr18**) and Formyl peptide receptor 2 (**Fpr2**) whereas Early growth response protein 2 (**Egr2**) and **c-Myc** were M2-exclusive. We further confirmed these data by flow cytometry and show that M1 and M2 macrophages can be distinguished by their relative expression of CD38 and Egr2. Egr2 labeled more M2 macrophages (~70%) than the canonical M2 macrophage marker Arginase-1, which labels 24% of M2 macrophages. Conversely, CD38 labeled most (71%) in vitro M1 macrophages. In vivo, a similar CD38+ population greatly increased after LPS exposure. Overall, this work defines exclusive and common M1 and M2 signatures and provides novel and improved tools to distinguish M1 and M2 murine macrophages.\"\n",
    "\n",
    "\"Therefore, we performed transcriptional mRNA profiling in murine macrophages in either undifferentiated (M0), M1 or M2 conditions.\"\n",
    "\n",
    "\"Among these, 21 genes corresponding to canonical M1 markers such as Nos2, IL-1β, IL-6, IL-12β, CCR7, Inhba and TNF-α were also up-regulated in our M1 array (labeled in Fig 1A). Likewise, known M2 macrophage markers Arg1, Chi3l3/Ym1, Retnla/Fizz1, Egr2, Fn1 and Mrc1/CD206 were also expressed in our M2 dataset (labeled in Fig 1B).\""
   ]
  },
  {
   "cell_type": "markdown",
   "id": "7c92c9c4",
   "metadata": {},
   "source": [
    "**Paper uses Bone marrow derived macrophages (BMDM). Maybe these genes aren't transcribed often in kidney macrophages?**"
   ]
  },
  {
   "cell_type": "markdown",
   "id": "ed6fe94d",
   "metadata": {},
   "source": [
    "### Jablonski"
   ]
  },
  {
   "cell_type": "code",
   "execution_count": null,
   "id": "1053cb2f",
   "metadata": {},
   "outputs": [],
   "source": [
    "Jablonski_genes = ['Cd38','Myc','Fpr2','Egr2','Gpr18','Nos2','Il1b','Il6','Il12b','Ccr7','Inhba','Tnf','Arg1','Retnla','Fn1','Mrc1'\n",
    "                  ]\n",
    "Jablonski_obs = gene_expression_obs(tissue,Jablonski_genes)\n",
    "Jablonski_df = gene_expression_df(Jablonski_obs,Jablonski_genes)"
   ]
  },
  {
   "cell_type": "code",
   "execution_count": null,
   "id": "98514824",
   "metadata": {},
   "outputs": [],
   "source": [
    "ja = Jablonski_df.loc[Jablonski_df['cell_ontology_class'] == 'fenestrated cell']\n",
    "jja=ja[['age','Cd38']]"
   ]
  },
  {
   "cell_type": "markdown",
   "id": "0b5dda76",
   "metadata": {},
   "source": [
    "**overpowering?**"
   ]
  },
  {
   "cell_type": "code",
   "execution_count": null,
   "id": "9b4ec64d",
   "metadata": {},
   "outputs": [],
   "source": [
    "df = jja\n",
    "x = \"age\"\n",
    "y = \"Cd38\"\n",
    "order = ['3m', '18m', '24m']\n",
    "ax = sns.boxplot(data=df, x=x, y=y, order=order)\n",
    "test_results = add_stat_annotation(ax, data=df, x=x, y=y, order=order,\n",
    "                                   box_pairs=[(\"3m\", \"18m\"), (\"3m\", \"24m\"), (\"18m\", \"24m\")],\n",
    "                                   test='Mann-Whitney', text_format='star',\n",
    "                                   loc='outside', verbose=2)"
   ]
  },
  {
   "cell_type": "code",
   "execution_count": null,
   "id": "d6e0f655",
   "metadata": {},
   "outputs": [],
   "source": [
    "df = Jablonski_df[['age','cell_ontology_class','Cd38']]\n",
    "\n",
    "x = \"cell_ontology_class\" \n",
    "y = \"Cd38\" \n",
    "hue = 'age'\n",
    "hue_order = ['3m', '18m', '24m']\n",
    "\n",
    "box_pairs=[\n",
    "    ((\"B cell\", \"3m\"), (\"B cell\", \"18m\")),\n",
    "    ((\"B cell\", \"3m\"), (\"B cell\", \"24m\")),\n",
    "    ((\"B cell\", \"18m\"), (\"B cell\", \"24m\")),\n",
    "    \n",
    "    ((\"T cell\", \"3m\"), (\"T cell\", \"18m\")),\n",
    "    ((\"T cell\", \"3m\"), (\"T cell\", \"24m\")),\n",
    "    ((\"T cell\", \"18m\"), (\"T cell\", \"24m\")),\n",
    "    \n",
    "    ((\"epithelial cell of proximal tubule\", \"3m\"), (\"epithelial cell of proximal tubule\", \"18m\")),\n",
    "    ((\"epithelial cell of proximal tubule\", \"3m\"), (\"epithelial cell of proximal tubule\", \"24m\")),\n",
    "    ((\"epithelial cell of proximal tubule\", \"18m\"), (\"epithelial cell of proximal tubule\", \"24m\")),\n",
    "    \n",
    "    ((\"fenestrated cell\", \"3m\"), (\"fenestrated cell\", \"18m\")),\n",
    "    ((\"fenestrated cell\", \"3m\"), (\"fenestrated cell\", \"24m\")),\n",
    "    ((\"fenestrated cell\", \"18m\"), (\"fenestrated cell\", \"24m\")),\n",
    "    \n",
    "    ((\"kidney collecting duct epithelial cell\", \"3m\"), (\"kidney collecting duct epithelial cell\", \"18m\")),\n",
    "    ((\"kidney collecting duct epithelial cell\", \"3m\"), (\"kidney collecting duct epithelial cell\", \"24m\")),\n",
    "    ((\"kidney collecting duct epithelial cell\", \"18m\"), (\"kidney collecting duct epithelial cell\", \"24m\")),\n",
    "    \n",
    "    ((\"kidney collecting duct principal cell\", \"3m\"), (\"kidney collecting duct principal cell\", \"18m\")),\n",
    "    ((\"kidney collecting duct principal cell\", \"3m\"), (\"kidney collecting duct principal cell\", \"24m\")),\n",
    "    ((\"kidney collecting duct principal cell\", \"18m\"), (\"kidney collecting duct principal cell\", \"24m\")),\n",
    "    \n",
    "    ((\"kidney interstitial fibroblast\", \"3m\"), (\"kidney interstitial fibroblast\", \"18m\")),\n",
    "    ((\"kidney interstitial fibroblast\", \"3m\"), (\"kidney interstitial fibroblast\", \"24m\")),\n",
    "    ((\"kidney interstitial fibroblast\", \"18m\"), (\"kidney interstitial fibroblast\", \"24m\")),\n",
    "    \n",
    "    ((\"kidney loop of Henle ascending limb epithelial cell\", \"3m\"), (\"kidney loop of Henle ascending limb epithelial cell\", \"18m\")),\n",
    "    ((\"kidney loop of Henle ascending limb epithelial cell\", \"3m\"), (\"kidney loop of Henle ascending limb epithelial cell\", \"24m\")),\n",
    "    ((\"kidney loop of Henle ascending limb epithelial cell\", \"18m\"), (\"kidney loop of Henle ascending limb epithelial cell\", \"24m\")),\n",
    "    \n",
    "    ((\"macrophage\", \"3m\"), (\"macrophage\", \"18m\")),\n",
    "    ((\"macrophage\", \"3m\"), (\"macrophage\", \"24m\")),\n",
    "    ((\"macrophage\", \"18m\"), (\"macrophage\", \"24m\")),\n",
    "       \n",
    "    ((\"mesangial cell\", \"3m\"), (\"mesangial cell\", \"18m\")),\n",
    "    ((\"mesangial cell\", \"3m\"), (\"mesangial cell\", \"24m\")),\n",
    "    ((\"mesangial cell\", \"18m\"), (\"mesangial cell\", \"24m\")) \n",
    "    ]\n",
    "fig = plt.figure(figsize=(10, 5))\n",
    "plt.legend(loc='upper left', bbox_to_anchor=(1.03, 1))\n",
    "plt.xticks(rotation=90)\n",
    "ax = sns.boxplot(data=df, x=x, y=y, hue=hue)\n",
    "add_stat_annotation(ax, data=df, x=x, y=y,hue=hue,box_pairs=box_pairs,\n",
    "                    test='Mann-Whitney',loc='inside',verbose=2)"
   ]
  },
  {
   "cell_type": "code",
   "execution_count": null,
   "id": "1e1213a2",
   "metadata": {},
   "outputs": [],
   "source": []
  },
  {
   "cell_type": "markdown",
   "id": "32856ea4",
   "metadata": {
    "heading_collapsed": true
   },
   "source": [
    "#### Mrc1, M2"
   ]
  },
  {
   "cell_type": "code",
   "execution_count": null,
   "id": "21e2cda4",
   "metadata": {
    "hidden": true,
    "scrolled": true
   },
   "outputs": [],
   "source": [
    "df = Jablonski_df[['age','cell_ontology_class','Mrc1']]\n",
    "\n",
    "x = \"cell_ontology_class\" \n",
    "y = \"Mrc1\" \n",
    "hue = 'age'\n",
    "hue_order = ['3m', '18m', '24m']\n",
    "\n",
    "box_pairs=[\n",
    "    ((\"B cell\", \"3m\"), (\"B cell\", \"18m\")),\n",
    "    ((\"B cell\", \"3m\"), (\"B cell\", \"24m\")),\n",
    "    ((\"B cell\", \"18m\"), (\"B cell\", \"24m\")),\n",
    "    \n",
    "    ((\"T cell\", \"3m\"), (\"T cell\", \"18m\")),\n",
    "    ((\"T cell\", \"3m\"), (\"T cell\", \"24m\")),\n",
    "    ((\"T cell\", \"18m\"), (\"T cell\", \"24m\")),\n",
    "    \n",
    "    ((\"epithelial cell of proximal tubule\", \"3m\"), (\"epithelial cell of proximal tubule\", \"18m\")),\n",
    "    ((\"epithelial cell of proximal tubule\", \"3m\"), (\"epithelial cell of proximal tubule\", \"24m\")),\n",
    "    ((\"epithelial cell of proximal tubule\", \"18m\"), (\"epithelial cell of proximal tubule\", \"24m\")),\n",
    "    \n",
    "    ((\"fenestrated cell\", \"3m\"), (\"fenestrated cell\", \"18m\")),\n",
    "    ((\"fenestrated cell\", \"3m\"), (\"fenestrated cell\", \"24m\")),\n",
    "    ((\"fenestrated cell\", \"18m\"), (\"fenestrated cell\", \"24m\")),\n",
    "    \n",
    "    ((\"kidney collecting duct epithelial cell\", \"3m\"), (\"kidney collecting duct epithelial cell\", \"18m\")),\n",
    "    ((\"kidney collecting duct epithelial cell\", \"3m\"), (\"kidney collecting duct epithelial cell\", \"24m\")),\n",
    "    ((\"kidney collecting duct epithelial cell\", \"18m\"), (\"kidney collecting duct epithelial cell\", \"24m\")),\n",
    "    \n",
    "    ((\"kidney collecting duct principal cell\", \"3m\"), (\"kidney collecting duct principal cell\", \"18m\")),\n",
    "    ((\"kidney collecting duct principal cell\", \"3m\"), (\"kidney collecting duct principal cell\", \"24m\")),\n",
    "    ((\"kidney collecting duct principal cell\", \"18m\"), (\"kidney collecting duct principal cell\", \"24m\")),\n",
    "    \n",
    "    ((\"kidney interstitial fibroblast\", \"3m\"), (\"kidney interstitial fibroblast\", \"18m\")),\n",
    "    ((\"kidney interstitial fibroblast\", \"3m\"), (\"kidney interstitial fibroblast\", \"24m\")),\n",
    "    ((\"kidney interstitial fibroblast\", \"18m\"), (\"kidney interstitial fibroblast\", \"24m\")),\n",
    "    \n",
    "    ((\"kidney loop of Henle ascending limb epithelial cell\", \"3m\"), (\"kidney loop of Henle ascending limb epithelial cell\", \"18m\")),\n",
    "    ((\"kidney loop of Henle ascending limb epithelial cell\", \"3m\"), (\"kidney loop of Henle ascending limb epithelial cell\", \"24m\")),\n",
    "    ((\"kidney loop of Henle ascending limb epithelial cell\", \"18m\"), (\"kidney loop of Henle ascending limb epithelial cell\", \"24m\")),\n",
    "    \n",
    "    ((\"macrophage\", \"3m\"), (\"macrophage\", \"18m\")),\n",
    "    ((\"macrophage\", \"3m\"), (\"macrophage\", \"24m\")),\n",
    "    ((\"macrophage\", \"18m\"), (\"macrophage\", \"24m\")),\n",
    "       \n",
    "    ((\"mesangial cell\", \"3m\"), (\"mesangial cell\", \"18m\")),\n",
    "    ((\"mesangial cell\", \"3m\"), (\"mesangial cell\", \"24m\")),\n",
    "    ((\"mesangial cell\", \"18m\"), (\"mesangial cell\", \"24m\")) \n",
    "    ]\n",
    "fig = plt.figure(figsize=(10, 5))\n",
    "plt.legend(loc='upper left', bbox_to_anchor=(1.03, 1))\n",
    "plt.xticks(rotation=90)\n",
    "ax = sns.boxplot(data=df, x=x, y=y, hue=hue)\n",
    "add_stat_annotation(ax, data=df, x=x, y=y,hue=hue,box_pairs=box_pairs,\n",
    "                    test='Mann-Whitney',loc='inside',verbose=2)"
   ]
  },
  {
   "cell_type": "markdown",
   "id": "a8bc6293",
   "metadata": {
    "heading_collapsed": true
   },
   "source": [
    "#### Fn1, M2"
   ]
  },
  {
   "cell_type": "code",
   "execution_count": null,
   "id": "c9fc90f8",
   "metadata": {
    "hidden": true
   },
   "outputs": [],
   "source": [
    "df = Jablonski_df[['age','cell_ontology_class','Fn1']]\n",
    "\n",
    "x = \"cell_ontology_class\" \n",
    "y = \"Fn1\" \n",
    "hue = 'age'\n",
    "hue_order = ['3m', '18m', '24m']\n",
    "\n",
    "box_pairs=[\n",
    "    ((\"B cell\", \"3m\"), (\"B cell\", \"18m\")),\n",
    "    ((\"B cell\", \"3m\"), (\"B cell\", \"24m\")),\n",
    "    ((\"B cell\", \"18m\"), (\"B cell\", \"24m\")),\n",
    "    \n",
    "    ((\"T cell\", \"3m\"), (\"T cell\", \"18m\")),\n",
    "    ((\"T cell\", \"3m\"), (\"T cell\", \"24m\")),\n",
    "    ((\"T cell\", \"18m\"), (\"T cell\", \"24m\")),\n",
    "    \n",
    "    ((\"epithelial cell of proximal tubule\", \"3m\"), (\"epithelial cell of proximal tubule\", \"18m\")),\n",
    "    ((\"epithelial cell of proximal tubule\", \"3m\"), (\"epithelial cell of proximal tubule\", \"24m\")),\n",
    "    ((\"epithelial cell of proximal tubule\", \"18m\"), (\"epithelial cell of proximal tubule\", \"24m\")),\n",
    "    \n",
    "    ((\"fenestrated cell\", \"3m\"), (\"fenestrated cell\", \"18m\")),\n",
    "    ((\"fenestrated cell\", \"3m\"), (\"fenestrated cell\", \"24m\")),\n",
    "    ((\"fenestrated cell\", \"18m\"), (\"fenestrated cell\", \"24m\")),\n",
    "    \n",
    "    ((\"kidney collecting duct epithelial cell\", \"3m\"), (\"kidney collecting duct epithelial cell\", \"18m\")),\n",
    "    ((\"kidney collecting duct epithelial cell\", \"3m\"), (\"kidney collecting duct epithelial cell\", \"24m\")),\n",
    "    ((\"kidney collecting duct epithelial cell\", \"18m\"), (\"kidney collecting duct epithelial cell\", \"24m\")),\n",
    "    \n",
    "    ((\"kidney collecting duct principal cell\", \"3m\"), (\"kidney collecting duct principal cell\", \"18m\")),\n",
    "    ((\"kidney collecting duct principal cell\", \"3m\"), (\"kidney collecting duct principal cell\", \"24m\")),\n",
    "    ((\"kidney collecting duct principal cell\", \"18m\"), (\"kidney collecting duct principal cell\", \"24m\")),\n",
    "    \n",
    "    ((\"kidney interstitial fibroblast\", \"3m\"), (\"kidney interstitial fibroblast\", \"18m\")),\n",
    "    ((\"kidney interstitial fibroblast\", \"3m\"), (\"kidney interstitial fibroblast\", \"24m\")),\n",
    "    ((\"kidney interstitial fibroblast\", \"18m\"), (\"kidney interstitial fibroblast\", \"24m\")),\n",
    "    \n",
    "    ((\"kidney loop of Henle ascending limb epithelial cell\", \"3m\"), (\"kidney loop of Henle ascending limb epithelial cell\", \"18m\")),\n",
    "    ((\"kidney loop of Henle ascending limb epithelial cell\", \"3m\"), (\"kidney loop of Henle ascending limb epithelial cell\", \"24m\")),\n",
    "    ((\"kidney loop of Henle ascending limb epithelial cell\", \"18m\"), (\"kidney loop of Henle ascending limb epithelial cell\", \"24m\")),\n",
    "    \n",
    "    ((\"macrophage\", \"3m\"), (\"macrophage\", \"18m\")),\n",
    "    ((\"macrophage\", \"3m\"), (\"macrophage\", \"24m\")),\n",
    "    ((\"macrophage\", \"18m\"), (\"macrophage\", \"24m\")),\n",
    "       \n",
    "    ((\"mesangial cell\", \"3m\"), (\"mesangial cell\", \"18m\")),\n",
    "    ((\"mesangial cell\", \"3m\"), (\"mesangial cell\", \"24m\")),\n",
    "    ((\"mesangial cell\", \"18m\"), (\"mesangial cell\", \"24m\")) \n",
    "    ]\n",
    "fig = plt.figure(figsize=(10, 5))\n",
    "plt.legend(loc='upper left', bbox_to_anchor=(1.03, 1))\n",
    "plt.xticks(rotation=90)\n",
    "ax = sns.boxplot(data=df, x=x, y=y, hue=hue)\n",
    "add_stat_annotation(ax, data=df, x=x, y=y,hue=hue,box_pairs=box_pairs,\n",
    "                    test='Mann-Whitney',loc='inside',verbose=2)"
   ]
  },
  {
   "cell_type": "code",
   "execution_count": null,
   "id": "088f023d",
   "metadata": {
    "hidden": true
   },
   "outputs": [],
   "source": []
  },
  {
   "cell_type": "markdown",
   "id": "663e45dc",
   "metadata": {
    "heading_collapsed": true
   },
   "source": [
    "#### Retnla, M2"
   ]
  },
  {
   "cell_type": "code",
   "execution_count": null,
   "id": "c4a50b23",
   "metadata": {
    "hidden": true
   },
   "outputs": [],
   "source": [
    "df = Jablonski_df[['age','cell_ontology_class','Retnla']]\n",
    "\n",
    "x = \"cell_ontology_class\" \n",
    "y = \"Retnla\" \n",
    "hue = 'age'\n",
    "hue_order = ['3m', '18m', '24m']\n",
    "\n",
    "box_pairs=[\n",
    "    ((\"B cell\", \"3m\"), (\"B cell\", \"18m\")),\n",
    "    ((\"B cell\", \"3m\"), (\"B cell\", \"24m\")),\n",
    "    ((\"B cell\", \"18m\"), (\"B cell\", \"24m\")),\n",
    "    \n",
    "    ((\"T cell\", \"3m\"), (\"T cell\", \"18m\")),\n",
    "    ((\"T cell\", \"3m\"), (\"T cell\", \"24m\")),\n",
    "    ((\"T cell\", \"18m\"), (\"T cell\", \"24m\")),\n",
    "    \n",
    "    ((\"epithelial cell of proximal tubule\", \"3m\"), (\"epithelial cell of proximal tubule\", \"18m\")),\n",
    "    ((\"epithelial cell of proximal tubule\", \"3m\"), (\"epithelial cell of proximal tubule\", \"24m\")),\n",
    "    ((\"epithelial cell of proximal tubule\", \"18m\"), (\"epithelial cell of proximal tubule\", \"24m\")),\n",
    "    \n",
    "    ((\"fenestrated cell\", \"3m\"), (\"fenestrated cell\", \"18m\")),\n",
    "    ((\"fenestrated cell\", \"3m\"), (\"fenestrated cell\", \"24m\")),\n",
    "    ((\"fenestrated cell\", \"18m\"), (\"fenestrated cell\", \"24m\")),\n",
    "    \n",
    "    ((\"kidney collecting duct epithelial cell\", \"3m\"), (\"kidney collecting duct epithelial cell\", \"18m\")),\n",
    "    ((\"kidney collecting duct epithelial cell\", \"3m\"), (\"kidney collecting duct epithelial cell\", \"24m\")),\n",
    "    ((\"kidney collecting duct epithelial cell\", \"18m\"), (\"kidney collecting duct epithelial cell\", \"24m\")),\n",
    "    \n",
    "    ((\"kidney collecting duct principal cell\", \"3m\"), (\"kidney collecting duct principal cell\", \"18m\")),\n",
    "    ((\"kidney collecting duct principal cell\", \"3m\"), (\"kidney collecting duct principal cell\", \"24m\")),\n",
    "    ((\"kidney collecting duct principal cell\", \"18m\"), (\"kidney collecting duct principal cell\", \"24m\")),\n",
    "    \n",
    "    ((\"kidney interstitial fibroblast\", \"3m\"), (\"kidney interstitial fibroblast\", \"18m\")),\n",
    "    ((\"kidney interstitial fibroblast\", \"3m\"), (\"kidney interstitial fibroblast\", \"24m\")),\n",
    "    ((\"kidney interstitial fibroblast\", \"18m\"), (\"kidney interstitial fibroblast\", \"24m\")),\n",
    "    \n",
    "    ((\"kidney loop of Henle ascending limb epithelial cell\", \"3m\"), (\"kidney loop of Henle ascending limb epithelial cell\", \"18m\")),\n",
    "    ((\"kidney loop of Henle ascending limb epithelial cell\", \"3m\"), (\"kidney loop of Henle ascending limb epithelial cell\", \"24m\")),\n",
    "    ((\"kidney loop of Henle ascending limb epithelial cell\", \"18m\"), (\"kidney loop of Henle ascending limb epithelial cell\", \"24m\")),\n",
    "    \n",
    "    ((\"macrophage\", \"3m\"), (\"macrophage\", \"18m\")),\n",
    "    ((\"macrophage\", \"3m\"), (\"macrophage\", \"24m\")),\n",
    "    ((\"macrophage\", \"18m\"), (\"macrophage\", \"24m\")),\n",
    "       \n",
    "    ((\"mesangial cell\", \"3m\"), (\"mesangial cell\", \"18m\")),\n",
    "    ((\"mesangial cell\", \"3m\"), (\"mesangial cell\", \"24m\")),\n",
    "    ((\"mesangial cell\", \"18m\"), (\"mesangial cell\", \"24m\")) \n",
    "    ]\n",
    "fig = plt.figure(figsize=(10, 5))\n",
    "plt.legend(loc='upper left', bbox_to_anchor=(1.03, 1))\n",
    "plt.xticks(rotation=90)\n",
    "ax = sns.boxplot(data=df, x=x, y=y, hue=hue)\n",
    "add_stat_annotation(ax, data=df, x=x, y=y,hue=hue,box_pairs=box_pairs,\n",
    "                    test='Mann-Whitney',loc='inside',verbose=2)"
   ]
  },
  {
   "cell_type": "code",
   "execution_count": null,
   "id": "5bfa8b03",
   "metadata": {
    "hidden": true
   },
   "outputs": [],
   "source": []
  },
  {
   "cell_type": "markdown",
   "id": "74699149",
   "metadata": {
    "heading_collapsed": true
   },
   "source": [
    "#### Arg1, M2"
   ]
  },
  {
   "cell_type": "code",
   "execution_count": null,
   "id": "d3d8811b",
   "metadata": {
    "hidden": true
   },
   "outputs": [],
   "source": [
    "df = Jablonski_df[['age','cell_ontology_class','Arg1']]\n",
    "\n",
    "x = \"cell_ontology_class\" \n",
    "y = \"Arg1\" \n",
    "hue = 'age'\n",
    "hue_order = ['3m', '18m', '24m']\n",
    "\n",
    "box_pairs=[\n",
    "    ((\"B cell\", \"3m\"), (\"B cell\", \"18m\")),\n",
    "    ((\"B cell\", \"3m\"), (\"B cell\", \"24m\")),\n",
    "    ((\"B cell\", \"18m\"), (\"B cell\", \"24m\")),\n",
    "    \n",
    "    ((\"T cell\", \"3m\"), (\"T cell\", \"18m\")),\n",
    "    ((\"T cell\", \"3m\"), (\"T cell\", \"24m\")),\n",
    "    ((\"T cell\", \"18m\"), (\"T cell\", \"24m\")),\n",
    "    \n",
    "    ((\"epithelial cell of proximal tubule\", \"3m\"), (\"epithelial cell of proximal tubule\", \"18m\")),\n",
    "    ((\"epithelial cell of proximal tubule\", \"3m\"), (\"epithelial cell of proximal tubule\", \"24m\")),\n",
    "    ((\"epithelial cell of proximal tubule\", \"18m\"), (\"epithelial cell of proximal tubule\", \"24m\")),\n",
    "    \n",
    "    ((\"fenestrated cell\", \"3m\"), (\"fenestrated cell\", \"18m\")),\n",
    "    ((\"fenestrated cell\", \"3m\"), (\"fenestrated cell\", \"24m\")),\n",
    "    ((\"fenestrated cell\", \"18m\"), (\"fenestrated cell\", \"24m\")),\n",
    "    \n",
    "    ((\"kidney collecting duct epithelial cell\", \"3m\"), (\"kidney collecting duct epithelial cell\", \"18m\")),\n",
    "    ((\"kidney collecting duct epithelial cell\", \"3m\"), (\"kidney collecting duct epithelial cell\", \"24m\")),\n",
    "    ((\"kidney collecting duct epithelial cell\", \"18m\"), (\"kidney collecting duct epithelial cell\", \"24m\")),\n",
    "    \n",
    "    ((\"kidney collecting duct principal cell\", \"3m\"), (\"kidney collecting duct principal cell\", \"18m\")),\n",
    "    ((\"kidney collecting duct principal cell\", \"3m\"), (\"kidney collecting duct principal cell\", \"24m\")),\n",
    "    ((\"kidney collecting duct principal cell\", \"18m\"), (\"kidney collecting duct principal cell\", \"24m\")),\n",
    "    \n",
    "    ((\"kidney interstitial fibroblast\", \"3m\"), (\"kidney interstitial fibroblast\", \"18m\")),\n",
    "    ((\"kidney interstitial fibroblast\", \"3m\"), (\"kidney interstitial fibroblast\", \"24m\")),\n",
    "    ((\"kidney interstitial fibroblast\", \"18m\"), (\"kidney interstitial fibroblast\", \"24m\")),\n",
    "    \n",
    "    ((\"kidney loop of Henle ascending limb epithelial cell\", \"3m\"), (\"kidney loop of Henle ascending limb epithelial cell\", \"18m\")),\n",
    "    ((\"kidney loop of Henle ascending limb epithelial cell\", \"3m\"), (\"kidney loop of Henle ascending limb epithelial cell\", \"24m\")),\n",
    "    ((\"kidney loop of Henle ascending limb epithelial cell\", \"18m\"), (\"kidney loop of Henle ascending limb epithelial cell\", \"24m\")),\n",
    "    \n",
    "    ((\"macrophage\", \"3m\"), (\"macrophage\", \"18m\")),\n",
    "    ((\"macrophage\", \"3m\"), (\"macrophage\", \"24m\")),\n",
    "    ((\"macrophage\", \"18m\"), (\"macrophage\", \"24m\")),\n",
    "       \n",
    "    ((\"mesangial cell\", \"3m\"), (\"mesangial cell\", \"18m\")),\n",
    "    ((\"mesangial cell\", \"3m\"), (\"mesangial cell\", \"24m\")),\n",
    "    ((\"mesangial cell\", \"18m\"), (\"mesangial cell\", \"24m\")) \n",
    "    ]\n",
    "fig = plt.figure(figsize=(10, 5))\n",
    "plt.legend(loc='upper left', bbox_to_anchor=(1.03, 1))\n",
    "plt.xticks(rotation=90)\n",
    "ax = sns.boxplot(data=df, x=x, y=y, hue=hue)\n",
    "add_stat_annotation(ax, data=df, x=x, y=y,hue=hue,box_pairs=box_pairs,\n",
    "                    test='Mann-Whitney',loc='inside',verbose=2)"
   ]
  },
  {
   "cell_type": "code",
   "execution_count": null,
   "id": "3d982e97",
   "metadata": {
    "hidden": true
   },
   "outputs": [],
   "source": []
  },
  {
   "cell_type": "markdown",
   "id": "da725954",
   "metadata": {},
   "source": [
    "#### Tnf, M1"
   ]
  },
  {
   "cell_type": "code",
   "execution_count": null,
   "id": "d5d7a3b3",
   "metadata": {},
   "outputs": [],
   "source": [
    "df = Jablonski_df[['age','cell_ontology_class','Tnf']]\n",
    "\n",
    "x = \"cell_ontology_class\" \n",
    "y = \"Tnf\" \n",
    "hue = 'age'\n",
    "hue_order = ['3m', '18m', '24m']\n",
    "\n",
    "box_pairs=[\n",
    "    ((\"B cell\", \"3m\"), (\"B cell\", \"18m\")),\n",
    "    ((\"B cell\", \"3m\"), (\"B cell\", \"24m\")),\n",
    "    ((\"B cell\", \"18m\"), (\"B cell\", \"24m\")),\n",
    "    \n",
    "    ((\"T cell\", \"3m\"), (\"T cell\", \"18m\")),\n",
    "    ((\"T cell\", \"3m\"), (\"T cell\", \"24m\")),\n",
    "    ((\"T cell\", \"18m\"), (\"T cell\", \"24m\")),\n",
    "    \n",
    "    ((\"epithelial cell of proximal tubule\", \"3m\"), (\"epithelial cell of proximal tubule\", \"18m\")),\n",
    "    ((\"epithelial cell of proximal tubule\", \"3m\"), (\"epithelial cell of proximal tubule\", \"24m\")),\n",
    "    ((\"epithelial cell of proximal tubule\", \"18m\"), (\"epithelial cell of proximal tubule\", \"24m\")),\n",
    "    \n",
    "    ((\"fenestrated cell\", \"3m\"), (\"fenestrated cell\", \"18m\")),\n",
    "    ((\"fenestrated cell\", \"3m\"), (\"fenestrated cell\", \"24m\")),\n",
    "    ((\"fenestrated cell\", \"18m\"), (\"fenestrated cell\", \"24m\")),\n",
    "    \n",
    "    ((\"kidney collecting duct epithelial cell\", \"3m\"), (\"kidney collecting duct epithelial cell\", \"18m\")),\n",
    "    ((\"kidney collecting duct epithelial cell\", \"3m\"), (\"kidney collecting duct epithelial cell\", \"24m\")),\n",
    "    ((\"kidney collecting duct epithelial cell\", \"18m\"), (\"kidney collecting duct epithelial cell\", \"24m\")),\n",
    "    \n",
    "    ((\"kidney collecting duct principal cell\", \"3m\"), (\"kidney collecting duct principal cell\", \"18m\")),\n",
    "    ((\"kidney collecting duct principal cell\", \"3m\"), (\"kidney collecting duct principal cell\", \"24m\")),\n",
    "    ((\"kidney collecting duct principal cell\", \"18m\"), (\"kidney collecting duct principal cell\", \"24m\")),\n",
    "    \n",
    "    ((\"kidney interstitial fibroblast\", \"3m\"), (\"kidney interstitial fibroblast\", \"18m\")),\n",
    "    ((\"kidney interstitial fibroblast\", \"3m\"), (\"kidney interstitial fibroblast\", \"24m\")),\n",
    "    ((\"kidney interstitial fibroblast\", \"18m\"), (\"kidney interstitial fibroblast\", \"24m\")),\n",
    "    \n",
    "    ((\"kidney loop of Henle ascending limb epithelial cell\", \"3m\"), (\"kidney loop of Henle ascending limb epithelial cell\", \"18m\")),\n",
    "    ((\"kidney loop of Henle ascending limb epithelial cell\", \"3m\"), (\"kidney loop of Henle ascending limb epithelial cell\", \"24m\")),\n",
    "    ((\"kidney loop of Henle ascending limb epithelial cell\", \"18m\"), (\"kidney loop of Henle ascending limb epithelial cell\", \"24m\")),\n",
    "    \n",
    "    ((\"macrophage\", \"3m\"), (\"macrophage\", \"18m\")),\n",
    "    ((\"macrophage\", \"3m\"), (\"macrophage\", \"24m\")),\n",
    "    ((\"macrophage\", \"18m\"), (\"macrophage\", \"24m\")),\n",
    "       \n",
    "    ((\"mesangial cell\", \"3m\"), (\"mesangial cell\", \"18m\")),\n",
    "    ((\"mesangial cell\", \"3m\"), (\"mesangial cell\", \"24m\")),\n",
    "    ((\"mesangial cell\", \"18m\"), (\"mesangial cell\", \"24m\")) \n",
    "    ]\n",
    "fig = plt.figure(figsize=(10, 5))\n",
    "plt.legend(loc='upper left', bbox_to_anchor=(1.03, 1))\n",
    "plt.xticks(rotation=90)\n",
    "ax = sns.boxplot(data=df, x=x, y=y, hue=hue)\n",
    "add_stat_annotation(ax, data=df, x=x, y=y,hue=hue,box_pairs=box_pairs,\n",
    "                    test='Mann-Whitney',loc='inside',verbose=2)"
   ]
  },
  {
   "cell_type": "code",
   "execution_count": null,
   "id": "6d0e9ca1",
   "metadata": {},
   "outputs": [],
   "source": []
  },
  {
   "cell_type": "markdown",
   "id": "650b9864",
   "metadata": {
    "heading_collapsed": true
   },
   "source": [
    "#### Inhba, M1"
   ]
  },
  {
   "cell_type": "code",
   "execution_count": null,
   "id": "f99d61bd",
   "metadata": {
    "hidden": true
   },
   "outputs": [],
   "source": [
    "df = Jablonski_df[['age','cell_ontology_class','Inhba']]\n",
    "\n",
    "x = \"cell_ontology_class\" \n",
    "y = \"Inhba\" \n",
    "hue = 'age'\n",
    "hue_order = ['3m', '18m', '24m']\n",
    "\n",
    "box_pairs=[\n",
    "    ((\"B cell\", \"3m\"), (\"B cell\", \"18m\")),\n",
    "    ((\"B cell\", \"3m\"), (\"B cell\", \"24m\")),\n",
    "    ((\"B cell\", \"18m\"), (\"B cell\", \"24m\")),\n",
    "    \n",
    "    ((\"T cell\", \"3m\"), (\"T cell\", \"18m\")),\n",
    "    ((\"T cell\", \"3m\"), (\"T cell\", \"24m\")),\n",
    "    ((\"T cell\", \"18m\"), (\"T cell\", \"24m\")),\n",
    "    \n",
    "    ((\"epithelial cell of proximal tubule\", \"3m\"), (\"epithelial cell of proximal tubule\", \"18m\")),\n",
    "    ((\"epithelial cell of proximal tubule\", \"3m\"), (\"epithelial cell of proximal tubule\", \"24m\")),\n",
    "    ((\"epithelial cell of proximal tubule\", \"18m\"), (\"epithelial cell of proximal tubule\", \"24m\")),\n",
    "    \n",
    "    ((\"fenestrated cell\", \"3m\"), (\"fenestrated cell\", \"18m\")),\n",
    "    ((\"fenestrated cell\", \"3m\"), (\"fenestrated cell\", \"24m\")),\n",
    "    ((\"fenestrated cell\", \"18m\"), (\"fenestrated cell\", \"24m\")),\n",
    "    \n",
    "    ((\"kidney collecting duct epithelial cell\", \"3m\"), (\"kidney collecting duct epithelial cell\", \"18m\")),\n",
    "    ((\"kidney collecting duct epithelial cell\", \"3m\"), (\"kidney collecting duct epithelial cell\", \"24m\")),\n",
    "    ((\"kidney collecting duct epithelial cell\", \"18m\"), (\"kidney collecting duct epithelial cell\", \"24m\")),\n",
    "    \n",
    "    ((\"kidney collecting duct principal cell\", \"3m\"), (\"kidney collecting duct principal cell\", \"18m\")),\n",
    "    ((\"kidney collecting duct principal cell\", \"3m\"), (\"kidney collecting duct principal cell\", \"24m\")),\n",
    "    ((\"kidney collecting duct principal cell\", \"18m\"), (\"kidney collecting duct principal cell\", \"24m\")),\n",
    "    \n",
    "    ((\"kidney interstitial fibroblast\", \"3m\"), (\"kidney interstitial fibroblast\", \"18m\")),\n",
    "    ((\"kidney interstitial fibroblast\", \"3m\"), (\"kidney interstitial fibroblast\", \"24m\")),\n",
    "    ((\"kidney interstitial fibroblast\", \"18m\"), (\"kidney interstitial fibroblast\", \"24m\")),\n",
    "    \n",
    "    ((\"kidney loop of Henle ascending limb epithelial cell\", \"3m\"), (\"kidney loop of Henle ascending limb epithelial cell\", \"18m\")),\n",
    "    ((\"kidney loop of Henle ascending limb epithelial cell\", \"3m\"), (\"kidney loop of Henle ascending limb epithelial cell\", \"24m\")),\n",
    "    ((\"kidney loop of Henle ascending limb epithelial cell\", \"18m\"), (\"kidney loop of Henle ascending limb epithelial cell\", \"24m\")),\n",
    "    \n",
    "    ((\"macrophage\", \"3m\"), (\"macrophage\", \"18m\")),\n",
    "    ((\"macrophage\", \"3m\"), (\"macrophage\", \"24m\")),\n",
    "    ((\"macrophage\", \"18m\"), (\"macrophage\", \"24m\")),\n",
    "       \n",
    "    ((\"mesangial cell\", \"3m\"), (\"mesangial cell\", \"18m\")),\n",
    "    ((\"mesangial cell\", \"3m\"), (\"mesangial cell\", \"24m\")),\n",
    "    ((\"mesangial cell\", \"18m\"), (\"mesangial cell\", \"24m\")) \n",
    "    ]\n",
    "fig = plt.figure(figsize=(10, 5))\n",
    "plt.legend(loc='upper left', bbox_to_anchor=(1.03, 1))\n",
    "plt.xticks(rotation=90)\n",
    "ax = sns.boxplot(data=df, x=x, y=y, hue=hue)\n",
    "add_stat_annotation(ax, data=df, x=x, y=y,hue=hue,box_pairs=box_pairs,\n",
    "                    test='Mann-Whitney',loc='inside',verbose=2)"
   ]
  },
  {
   "cell_type": "code",
   "execution_count": null,
   "id": "ad090002",
   "metadata": {
    "hidden": true
   },
   "outputs": [],
   "source": []
  },
  {
   "cell_type": "markdown",
   "id": "f41351b3",
   "metadata": {
    "heading_collapsed": true
   },
   "source": [
    "#### Il12b, M1"
   ]
  },
  {
   "cell_type": "code",
   "execution_count": null,
   "id": "9a0131bf",
   "metadata": {
    "hidden": true
   },
   "outputs": [],
   "source": [
    "df = Jablonski_df[['age','cell_ontology_class','Il12b']]\n",
    "\n",
    "x = \"cell_ontology_class\" \n",
    "y = \"Il12b\" \n",
    "hue = 'age'\n",
    "hue_order = ['3m', '18m', '24m']\n",
    "\n",
    "box_pairs=[\n",
    "    ((\"B cell\", \"3m\"), (\"B cell\", \"18m\")),\n",
    "    ((\"B cell\", \"3m\"), (\"B cell\", \"24m\")),\n",
    "    ((\"B cell\", \"18m\"), (\"B cell\", \"24m\")),\n",
    "    \n",
    "    ((\"T cell\", \"3m\"), (\"T cell\", \"18m\")),\n",
    "    ((\"T cell\", \"3m\"), (\"T cell\", \"24m\")),\n",
    "    ((\"T cell\", \"18m\"), (\"T cell\", \"24m\")),\n",
    "    \n",
    "    ((\"epithelial cell of proximal tubule\", \"3m\"), (\"epithelial cell of proximal tubule\", \"18m\")),\n",
    "    ((\"epithelial cell of proximal tubule\", \"3m\"), (\"epithelial cell of proximal tubule\", \"24m\")),\n",
    "    ((\"epithelial cell of proximal tubule\", \"18m\"), (\"epithelial cell of proximal tubule\", \"24m\")),\n",
    "    \n",
    "    ((\"fenestrated cell\", \"3m\"), (\"fenestrated cell\", \"18m\")),\n",
    "    ((\"fenestrated cell\", \"3m\"), (\"fenestrated cell\", \"24m\")),\n",
    "    ((\"fenestrated cell\", \"18m\"), (\"fenestrated cell\", \"24m\")),\n",
    "    \n",
    "    ((\"kidney collecting duct epithelial cell\", \"3m\"), (\"kidney collecting duct epithelial cell\", \"18m\")),\n",
    "    ((\"kidney collecting duct epithelial cell\", \"3m\"), (\"kidney collecting duct epithelial cell\", \"24m\")),\n",
    "    ((\"kidney collecting duct epithelial cell\", \"18m\"), (\"kidney collecting duct epithelial cell\", \"24m\")),\n",
    "    \n",
    "    ((\"kidney collecting duct principal cell\", \"3m\"), (\"kidney collecting duct principal cell\", \"18m\")),\n",
    "    ((\"kidney collecting duct principal cell\", \"3m\"), (\"kidney collecting duct principal cell\", \"24m\")),\n",
    "    ((\"kidney collecting duct principal cell\", \"18m\"), (\"kidney collecting duct principal cell\", \"24m\")),\n",
    "    \n",
    "    ((\"kidney interstitial fibroblast\", \"3m\"), (\"kidney interstitial fibroblast\", \"18m\")),\n",
    "    ((\"kidney interstitial fibroblast\", \"3m\"), (\"kidney interstitial fibroblast\", \"24m\")),\n",
    "    ((\"kidney interstitial fibroblast\", \"18m\"), (\"kidney interstitial fibroblast\", \"24m\")),\n",
    "    \n",
    "    ((\"kidney loop of Henle ascending limb epithelial cell\", \"3m\"), (\"kidney loop of Henle ascending limb epithelial cell\", \"18m\")),\n",
    "    ((\"kidney loop of Henle ascending limb epithelial cell\", \"3m\"), (\"kidney loop of Henle ascending limb epithelial cell\", \"24m\")),\n",
    "    ((\"kidney loop of Henle ascending limb epithelial cell\", \"18m\"), (\"kidney loop of Henle ascending limb epithelial cell\", \"24m\")),\n",
    "    \n",
    "    ((\"macrophage\", \"3m\"), (\"macrophage\", \"18m\")),\n",
    "    ((\"macrophage\", \"3m\"), (\"macrophage\", \"24m\")),\n",
    "    ((\"macrophage\", \"18m\"), (\"macrophage\", \"24m\")),\n",
    "       \n",
    "    ((\"mesangial cell\", \"3m\"), (\"mesangial cell\", \"18m\")),\n",
    "    ((\"mesangial cell\", \"3m\"), (\"mesangial cell\", \"24m\")),\n",
    "    ((\"mesangial cell\", \"18m\"), (\"mesangial cell\", \"24m\")) \n",
    "    ]\n",
    "fig = plt.figure(figsize=(10, 5))\n",
    "plt.legend(loc='upper left', bbox_to_anchor=(1.03, 1))\n",
    "plt.xticks(rotation=90)\n",
    "ax = sns.boxplot(data=df, x=x, y=y, hue=hue)\n",
    "add_stat_annotation(ax, data=df, x=x, y=y,hue=hue,box_pairs=box_pairs,\n",
    "                    test='Mann-Whitney',loc='inside',verbose=2)"
   ]
  },
  {
   "cell_type": "markdown",
   "id": "6bb0002d",
   "metadata": {
    "heading_collapsed": true
   },
   "source": [
    "#### Ccr7, M1"
   ]
  },
  {
   "cell_type": "code",
   "execution_count": null,
   "id": "f052b3ea",
   "metadata": {
    "hidden": true
   },
   "outputs": [],
   "source": [
    "df = Jablonski_df[['age','cell_ontology_class','Ccr7']]\n",
    "\n",
    "x = \"cell_ontology_class\" \n",
    "y = \"Ccr7\" \n",
    "hue = 'age'\n",
    "hue_order = ['3m', '18m', '24m']\n",
    "\n",
    "box_pairs=[\n",
    "    ((\"B cell\", \"3m\"), (\"B cell\", \"18m\")),\n",
    "    ((\"B cell\", \"3m\"), (\"B cell\", \"24m\")),\n",
    "    ((\"B cell\", \"18m\"), (\"B cell\", \"24m\")),\n",
    "    \n",
    "    ((\"T cell\", \"3m\"), (\"T cell\", \"18m\")),\n",
    "    ((\"T cell\", \"3m\"), (\"T cell\", \"24m\")),\n",
    "    ((\"T cell\", \"18m\"), (\"T cell\", \"24m\")),\n",
    "    \n",
    "    ((\"epithelial cell of proximal tubule\", \"3m\"), (\"epithelial cell of proximal tubule\", \"18m\")),\n",
    "    ((\"epithelial cell of proximal tubule\", \"3m\"), (\"epithelial cell of proximal tubule\", \"24m\")),\n",
    "    ((\"epithelial cell of proximal tubule\", \"18m\"), (\"epithelial cell of proximal tubule\", \"24m\")),\n",
    "    \n",
    "    ((\"fenestrated cell\", \"3m\"), (\"fenestrated cell\", \"18m\")),\n",
    "    ((\"fenestrated cell\", \"3m\"), (\"fenestrated cell\", \"24m\")),\n",
    "    ((\"fenestrated cell\", \"18m\"), (\"fenestrated cell\", \"24m\")),\n",
    "    \n",
    "    ((\"kidney collecting duct epithelial cell\", \"3m\"), (\"kidney collecting duct epithelial cell\", \"18m\")),\n",
    "    ((\"kidney collecting duct epithelial cell\", \"3m\"), (\"kidney collecting duct epithelial cell\", \"24m\")),\n",
    "    ((\"kidney collecting duct epithelial cell\", \"18m\"), (\"kidney collecting duct epithelial cell\", \"24m\")),\n",
    "    \n",
    "    ((\"kidney collecting duct principal cell\", \"3m\"), (\"kidney collecting duct principal cell\", \"18m\")),\n",
    "    ((\"kidney collecting duct principal cell\", \"3m\"), (\"kidney collecting duct principal cell\", \"24m\")),\n",
    "    ((\"kidney collecting duct principal cell\", \"18m\"), (\"kidney collecting duct principal cell\", \"24m\")),\n",
    "    \n",
    "    ((\"kidney interstitial fibroblast\", \"3m\"), (\"kidney interstitial fibroblast\", \"18m\")),\n",
    "    ((\"kidney interstitial fibroblast\", \"3m\"), (\"kidney interstitial fibroblast\", \"24m\")),\n",
    "    ((\"kidney interstitial fibroblast\", \"18m\"), (\"kidney interstitial fibroblast\", \"24m\")),\n",
    "    \n",
    "    ((\"kidney loop of Henle ascending limb epithelial cell\", \"3m\"), (\"kidney loop of Henle ascending limb epithelial cell\", \"18m\")),\n",
    "    ((\"kidney loop of Henle ascending limb epithelial cell\", \"3m\"), (\"kidney loop of Henle ascending limb epithelial cell\", \"24m\")),\n",
    "    ((\"kidney loop of Henle ascending limb epithelial cell\", \"18m\"), (\"kidney loop of Henle ascending limb epithelial cell\", \"24m\")),\n",
    "    \n",
    "    ((\"macrophage\", \"3m\"), (\"macrophage\", \"18m\")),\n",
    "    ((\"macrophage\", \"3m\"), (\"macrophage\", \"24m\")),\n",
    "    ((\"macrophage\", \"18m\"), (\"macrophage\", \"24m\")),\n",
    "       \n",
    "    ((\"mesangial cell\", \"3m\"), (\"mesangial cell\", \"18m\")),\n",
    "    ((\"mesangial cell\", \"3m\"), (\"mesangial cell\", \"24m\")),\n",
    "    ((\"mesangial cell\", \"18m\"), (\"mesangial cell\", \"24m\")) \n",
    "    ]\n",
    "fig = plt.figure(figsize=(10, 5))\n",
    "plt.legend(loc='upper left', bbox_to_anchor=(1.03, 1))\n",
    "plt.xticks(rotation=90)\n",
    "ax = sns.boxplot(data=df, x=x, y=y, hue=hue)\n",
    "add_stat_annotation(ax, data=df, x=x, y=y,hue=hue,box_pairs=box_pairs,\n",
    "                    test='Mann-Whitney',loc='inside',verbose=2)"
   ]
  },
  {
   "cell_type": "code",
   "execution_count": null,
   "id": "e09d94fb",
   "metadata": {
    "hidden": true
   },
   "outputs": [],
   "source": []
  },
  {
   "cell_type": "code",
   "execution_count": null,
   "id": "f182991f",
   "metadata": {
    "hidden": true
   },
   "outputs": [],
   "source": []
  },
  {
   "cell_type": "code",
   "execution_count": null,
   "id": "6799e8cc",
   "metadata": {
    "hidden": true
   },
   "outputs": [],
   "source": []
  },
  {
   "cell_type": "code",
   "execution_count": null,
   "id": "30918b92",
   "metadata": {
    "hidden": true
   },
   "outputs": [],
   "source": []
  },
  {
   "cell_type": "code",
   "execution_count": null,
   "id": "ac54a0fb",
   "metadata": {
    "hidden": true
   },
   "outputs": [],
   "source": []
  },
  {
   "cell_type": "code",
   "execution_count": null,
   "id": "31e3ae4c",
   "metadata": {
    "hidden": true
   },
   "outputs": [],
   "source": []
  },
  {
   "cell_type": "markdown",
   "id": "1474b566",
   "metadata": {},
   "source": [
    "#### Il6, M1"
   ]
  },
  {
   "cell_type": "code",
   "execution_count": null,
   "id": "3565b292",
   "metadata": {},
   "outputs": [],
   "source": [
    "df = Jablonski_df[['age','cell_ontology_class','Il6']]\n",
    "\n",
    "x = \"cell_ontology_class\" \n",
    "y = \"Il6\" \n",
    "hue = 'age'\n",
    "hue_order = ['3m', '18m', '24m']\n",
    "\n",
    "box_pairs=[\n",
    "    ((\"B cell\", \"3m\"), (\"B cell\", \"18m\")),\n",
    "    ((\"B cell\", \"3m\"), (\"B cell\", \"24m\")),\n",
    "    ((\"B cell\", \"18m\"), (\"B cell\", \"24m\")),\n",
    "    \n",
    "    ((\"T cell\", \"3m\"), (\"T cell\", \"18m\")),\n",
    "    ((\"T cell\", \"3m\"), (\"T cell\", \"24m\")),\n",
    "    ((\"T cell\", \"18m\"), (\"T cell\", \"24m\")),\n",
    "    \n",
    "    ((\"epithelial cell of proximal tubule\", \"3m\"), (\"epithelial cell of proximal tubule\", \"18m\")),\n",
    "    ((\"epithelial cell of proximal tubule\", \"3m\"), (\"epithelial cell of proximal tubule\", \"24m\")),\n",
    "    ((\"epithelial cell of proximal tubule\", \"18m\"), (\"epithelial cell of proximal tubule\", \"24m\")),\n",
    "    \n",
    "    ((\"fenestrated cell\", \"3m\"), (\"fenestrated cell\", \"18m\")),\n",
    "    ((\"fenestrated cell\", \"3m\"), (\"fenestrated cell\", \"24m\")),\n",
    "    ((\"fenestrated cell\", \"18m\"), (\"fenestrated cell\", \"24m\")),\n",
    "    \n",
    "    ((\"kidney collecting duct epithelial cell\", \"3m\"), (\"kidney collecting duct epithelial cell\", \"18m\")),\n",
    "    ((\"kidney collecting duct epithelial cell\", \"3m\"), (\"kidney collecting duct epithelial cell\", \"24m\")),\n",
    "    ((\"kidney collecting duct epithelial cell\", \"18m\"), (\"kidney collecting duct epithelial cell\", \"24m\")),\n",
    "    \n",
    "    ((\"kidney collecting duct principal cell\", \"3m\"), (\"kidney collecting duct principal cell\", \"18m\")),\n",
    "    ((\"kidney collecting duct principal cell\", \"3m\"), (\"kidney collecting duct principal cell\", \"24m\")),\n",
    "    ((\"kidney collecting duct principal cell\", \"18m\"), (\"kidney collecting duct principal cell\", \"24m\")),\n",
    "    \n",
    "    ((\"kidney interstitial fibroblast\", \"3m\"), (\"kidney interstitial fibroblast\", \"18m\")),\n",
    "    ((\"kidney interstitial fibroblast\", \"3m\"), (\"kidney interstitial fibroblast\", \"24m\")),\n",
    "    ((\"kidney interstitial fibroblast\", \"18m\"), (\"kidney interstitial fibroblast\", \"24m\")),\n",
    "    \n",
    "    ((\"kidney loop of Henle ascending limb epithelial cell\", \"3m\"), (\"kidney loop of Henle ascending limb epithelial cell\", \"18m\")),\n",
    "    ((\"kidney loop of Henle ascending limb epithelial cell\", \"3m\"), (\"kidney loop of Henle ascending limb epithelial cell\", \"24m\")),\n",
    "    ((\"kidney loop of Henle ascending limb epithelial cell\", \"18m\"), (\"kidney loop of Henle ascending limb epithelial cell\", \"24m\")),\n",
    "    \n",
    "    ((\"macrophage\", \"3m\"), (\"macrophage\", \"18m\")),\n",
    "    ((\"macrophage\", \"3m\"), (\"macrophage\", \"24m\")),\n",
    "    ((\"macrophage\", \"18m\"), (\"macrophage\", \"24m\")),\n",
    "       \n",
    "    ((\"mesangial cell\", \"3m\"), (\"mesangial cell\", \"18m\")),\n",
    "    ((\"mesangial cell\", \"3m\"), (\"mesangial cell\", \"24m\")),\n",
    "    ((\"mesangial cell\", \"18m\"), (\"mesangial cell\", \"24m\")) \n",
    "    ]\n",
    "fig = plt.figure(figsize=(10, 5))\n",
    "plt.legend(loc='upper left', bbox_to_anchor=(1.03, 1))\n",
    "plt.xticks(rotation=90)\n",
    "ax = sns.boxplot(data=df, x=x, y=y, hue=hue)\n",
    "add_stat_annotation(ax, data=df, x=x, y=y,hue=hue,box_pairs=box_pairs,\n",
    "                    test='Mann-Whitney',loc='inside',verbose=2)"
   ]
  },
  {
   "cell_type": "code",
   "execution_count": null,
   "id": "a5eefe53",
   "metadata": {},
   "outputs": [],
   "source": []
  },
  {
   "cell_type": "markdown",
   "id": "1c00f242",
   "metadata": {
    "heading_collapsed": true
   },
   "source": [
    "#### Il1b, M1 (at least the macs are expressing THIS one)"
   ]
  },
  {
   "cell_type": "code",
   "execution_count": null,
   "id": "8a6d67cc",
   "metadata": {
    "hidden": true
   },
   "outputs": [],
   "source": [
    "df = Jablonski_df[['age','cell_ontology_class','Il1b']]\n",
    "\n",
    "x = \"cell_ontology_class\" \n",
    "y = \"Il1b\" \n",
    "hue = 'age'\n",
    "hue_order = ['3m', '18m', '24m']\n",
    "\n",
    "box_pairs=[\n",
    "    ((\"B cell\", \"3m\"), (\"B cell\", \"18m\")),\n",
    "    ((\"B cell\", \"3m\"), (\"B cell\", \"24m\")),\n",
    "    ((\"B cell\", \"18m\"), (\"B cell\", \"24m\")),\n",
    "    \n",
    "    ((\"T cell\", \"3m\"), (\"T cell\", \"18m\")),\n",
    "    ((\"T cell\", \"3m\"), (\"T cell\", \"24m\")),\n",
    "    ((\"T cell\", \"18m\"), (\"T cell\", \"24m\")),\n",
    "    \n",
    "    ((\"epithelial cell of proximal tubule\", \"3m\"), (\"epithelial cell of proximal tubule\", \"18m\")),\n",
    "    ((\"epithelial cell of proximal tubule\", \"3m\"), (\"epithelial cell of proximal tubule\", \"24m\")),\n",
    "    ((\"epithelial cell of proximal tubule\", \"18m\"), (\"epithelial cell of proximal tubule\", \"24m\")),\n",
    "    \n",
    "    ((\"fenestrated cell\", \"3m\"), (\"fenestrated cell\", \"18m\")),\n",
    "    ((\"fenestrated cell\", \"3m\"), (\"fenestrated cell\", \"24m\")),\n",
    "    ((\"fenestrated cell\", \"18m\"), (\"fenestrated cell\", \"24m\")),\n",
    "    \n",
    "    ((\"kidney collecting duct epithelial cell\", \"3m\"), (\"kidney collecting duct epithelial cell\", \"18m\")),\n",
    "    ((\"kidney collecting duct epithelial cell\", \"3m\"), (\"kidney collecting duct epithelial cell\", \"24m\")),\n",
    "    ((\"kidney collecting duct epithelial cell\", \"18m\"), (\"kidney collecting duct epithelial cell\", \"24m\")),\n",
    "    \n",
    "    ((\"kidney collecting duct principal cell\", \"3m\"), (\"kidney collecting duct principal cell\", \"18m\")),\n",
    "    ((\"kidney collecting duct principal cell\", \"3m\"), (\"kidney collecting duct principal cell\", \"24m\")),\n",
    "    ((\"kidney collecting duct principal cell\", \"18m\"), (\"kidney collecting duct principal cell\", \"24m\")),\n",
    "    \n",
    "    ((\"kidney interstitial fibroblast\", \"3m\"), (\"kidney interstitial fibroblast\", \"18m\")),\n",
    "    ((\"kidney interstitial fibroblast\", \"3m\"), (\"kidney interstitial fibroblast\", \"24m\")),\n",
    "    ((\"kidney interstitial fibroblast\", \"18m\"), (\"kidney interstitial fibroblast\", \"24m\")),\n",
    "    \n",
    "    ((\"kidney loop of Henle ascending limb epithelial cell\", \"3m\"), (\"kidney loop of Henle ascending limb epithelial cell\", \"18m\")),\n",
    "    ((\"kidney loop of Henle ascending limb epithelial cell\", \"3m\"), (\"kidney loop of Henle ascending limb epithelial cell\", \"24m\")),\n",
    "    ((\"kidney loop of Henle ascending limb epithelial cell\", \"18m\"), (\"kidney loop of Henle ascending limb epithelial cell\", \"24m\")),\n",
    "    \n",
    "    ((\"macrophage\", \"3m\"), (\"macrophage\", \"18m\")),\n",
    "    ((\"macrophage\", \"3m\"), (\"macrophage\", \"24m\")),\n",
    "    ((\"macrophage\", \"18m\"), (\"macrophage\", \"24m\")),\n",
    "       \n",
    "    ((\"mesangial cell\", \"3m\"), (\"mesangial cell\", \"18m\")),\n",
    "    ((\"mesangial cell\", \"3m\"), (\"mesangial cell\", \"24m\")),\n",
    "    ((\"mesangial cell\", \"18m\"), (\"mesangial cell\", \"24m\")) \n",
    "    ]\n",
    "fig = plt.figure(figsize=(10, 5))\n",
    "plt.legend(loc='upper left', bbox_to_anchor=(1.03, 1))\n",
    "plt.xticks(rotation=90)\n",
    "ax = sns.boxplot(data=df, x=x, y=y, hue=hue)\n",
    "add_stat_annotation(ax, data=df, x=x, y=y,hue=hue,box_pairs=box_pairs,\n",
    "                    test='Mann-Whitney',loc='inside',verbose=2)"
   ]
  },
  {
   "cell_type": "markdown",
   "id": "55f68a47",
   "metadata": {
    "heading_collapsed": true
   },
   "source": [
    "#### Nos2, M1"
   ]
  },
  {
   "cell_type": "code",
   "execution_count": null,
   "id": "734dfdb6",
   "metadata": {
    "hidden": true
   },
   "outputs": [],
   "source": [
    "df = Jablonski_df[['age','cell_ontology_class','Nos2']]\n",
    "\n",
    "x = \"cell_ontology_class\" \n",
    "y = \"Nos2\" \n",
    "hue = 'age'\n",
    "hue_order = ['3m', '18m', '24m']\n",
    "\n",
    "box_pairs=[\n",
    "    ((\"B cell\", \"3m\"), (\"B cell\", \"18m\")),\n",
    "    ((\"B cell\", \"3m\"), (\"B cell\", \"24m\")),\n",
    "    ((\"B cell\", \"18m\"), (\"B cell\", \"24m\")),\n",
    "    \n",
    "    ((\"T cell\", \"3m\"), (\"T cell\", \"18m\")),\n",
    "    ((\"T cell\", \"3m\"), (\"T cell\", \"24m\")),\n",
    "    ((\"T cell\", \"18m\"), (\"T cell\", \"24m\")),\n",
    "    \n",
    "    ((\"epithelial cell of proximal tubule\", \"3m\"), (\"epithelial cell of proximal tubule\", \"18m\")),\n",
    "    ((\"epithelial cell of proximal tubule\", \"3m\"), (\"epithelial cell of proximal tubule\", \"24m\")),\n",
    "    ((\"epithelial cell of proximal tubule\", \"18m\"), (\"epithelial cell of proximal tubule\", \"24m\")),\n",
    "    \n",
    "    ((\"fenestrated cell\", \"3m\"), (\"fenestrated cell\", \"18m\")),\n",
    "    ((\"fenestrated cell\", \"3m\"), (\"fenestrated cell\", \"24m\")),\n",
    "    ((\"fenestrated cell\", \"18m\"), (\"fenestrated cell\", \"24m\")),\n",
    "    \n",
    "    ((\"kidney collecting duct epithelial cell\", \"3m\"), (\"kidney collecting duct epithelial cell\", \"18m\")),\n",
    "    ((\"kidney collecting duct epithelial cell\", \"3m\"), (\"kidney collecting duct epithelial cell\", \"24m\")),\n",
    "    ((\"kidney collecting duct epithelial cell\", \"18m\"), (\"kidney collecting duct epithelial cell\", \"24m\")),\n",
    "    \n",
    "    ((\"kidney collecting duct principal cell\", \"3m\"), (\"kidney collecting duct principal cell\", \"18m\")),\n",
    "    ((\"kidney collecting duct principal cell\", \"3m\"), (\"kidney collecting duct principal cell\", \"24m\")),\n",
    "    ((\"kidney collecting duct principal cell\", \"18m\"), (\"kidney collecting duct principal cell\", \"24m\")),\n",
    "    \n",
    "    ((\"kidney interstitial fibroblast\", \"3m\"), (\"kidney interstitial fibroblast\", \"18m\")),\n",
    "    ((\"kidney interstitial fibroblast\", \"3m\"), (\"kidney interstitial fibroblast\", \"24m\")),\n",
    "    ((\"kidney interstitial fibroblast\", \"18m\"), (\"kidney interstitial fibroblast\", \"24m\")),\n",
    "    \n",
    "    ((\"kidney loop of Henle ascending limb epithelial cell\", \"3m\"), (\"kidney loop of Henle ascending limb epithelial cell\", \"18m\")),\n",
    "    ((\"kidney loop of Henle ascending limb epithelial cell\", \"3m\"), (\"kidney loop of Henle ascending limb epithelial cell\", \"24m\")),\n",
    "    ((\"kidney loop of Henle ascending limb epithelial cell\", \"18m\"), (\"kidney loop of Henle ascending limb epithelial cell\", \"24m\")),\n",
    "    \n",
    "    ((\"macrophage\", \"3m\"), (\"macrophage\", \"18m\")),\n",
    "    ((\"macrophage\", \"3m\"), (\"macrophage\", \"24m\")),\n",
    "    ((\"macrophage\", \"18m\"), (\"macrophage\", \"24m\")),\n",
    "       \n",
    "    ((\"mesangial cell\", \"3m\"), (\"mesangial cell\", \"18m\")),\n",
    "    ((\"mesangial cell\", \"3m\"), (\"mesangial cell\", \"24m\")),\n",
    "    ((\"mesangial cell\", \"18m\"), (\"mesangial cell\", \"24m\")) \n",
    "    ]\n",
    "fig = plt.figure(figsize=(10, 5))\n",
    "plt.legend(loc='upper left', bbox_to_anchor=(1.03, 1))\n",
    "plt.xticks(rotation=90)\n",
    "ax = sns.boxplot(data=df, x=x, y=y, hue=hue)\n",
    "add_stat_annotation(ax, data=df, x=x, y=y,hue=hue,box_pairs=box_pairs,\n",
    "                    test='Mann-Whitney',loc='inside',verbose=2)"
   ]
  },
  {
   "cell_type": "code",
   "execution_count": null,
   "id": "28b43b64",
   "metadata": {
    "hidden": true
   },
   "outputs": [],
   "source": []
  },
  {
   "cell_type": "code",
   "execution_count": null,
   "id": "0de9253f",
   "metadata": {
    "hidden": true
   },
   "outputs": [],
   "source": [
    "df = tissueIFN[['age','cell_ontology_class','Cd38']]\n",
    "\n",
    "x = \"cell_ontology_class\" \n",
    "y = \"Cd38\" \n",
    "hue = 'age'\n",
    "hue_order = ['3m', '18m', '24m']\n",
    "\n",
    "box_pairs=[\n",
    "    ((\"macrophage\", \"3m\"), (\"macrophage\", \"18m\")),\n",
    "    ((\"macrophage\", \"3m\"), (\"macrophage\", \"24m\")),\n",
    "    ((\"macrophage\", \"18m\"), (\"macrophage\", \"24m\")),\n",
    "    \n",
    "    ((\"DN4 thymocyte\", \"3m\"), (\"DN4 thymocyte\", \"18m\")),\n",
    "    ((\"DN4 thymocyte\", \"3m\"), (\"DN4 thymocyte\", \"24m\")),\n",
    "    ((\"DN4 thymocyte\", \"18m\"), (\"DN4 thymocyte\", \"24m\")),\n",
    "    \n",
    "    ((\"endothelial cell\", \"3m\"), (\"endothelial cell\", \"18m\")),\n",
    "    ((\"endothelial cell\", \"3m\"), (\"endothelial cell\", \"24m\")),\n",
    "    ((\"endothelial cell\", \"18m\"), (\"endothelial cell\", \"24m\")),\n",
    "    \n",
    "    ((\"epithelial cell of thymus\", \"3m\"), (\"epithelial cell of thymus\", \"18m\")),\n",
    "    ((\"epithelial cell of thymus\", \"3m\"), (\"epithelial cell of thymus\", \"24m\")),\n",
    "    ((\"epithelial cell of thymus\", \"18m\"), (\"epithelial cell of thymus\", \"24m\")),\n",
    "    \n",
    "    ((\"fibroblast\", \"3m\"), (\"fibroblast\", \"18m\")),\n",
    "    ((\"fibroblast\", \"3m\"), (\"fibroblast\", \"24m\")),\n",
    "    ((\"fibroblast\", \"18m\"), (\"fibroblast\", \"24m\")),\n",
    "    \n",
    "    ((\"thymocyte\", \"3m\"), (\"thymocyte\", \"18m\")),\n",
    "    ((\"thymocyte\", \"3m\"), (\"thymocyte\", \"24m\")),\n",
    "    ((\"thymocyte\", \"18m\"), (\"thymocyte\", \"24m\")),\n",
    "    ]\n",
    "fig = plt.figure(figsize=(10, 5))\n",
    "plt.legend(loc='upper left', bbox_to_anchor=(1.03, 1))\n",
    "plt.xticks(rotation=90)\n",
    "ax = sns.boxplot(data=df, x=x, y=y, hue=hue)\n",
    "add_stat_annotation(ax, data=df, x=x, y=y,hue=hue,box_pairs=box_pairs,\n",
    "                    test='Mann-Whitney',loc='inside',verbose=2)"
   ]
  },
  {
   "cell_type": "markdown",
   "id": "d69983ff",
   "metadata": {
    "heading_collapsed": true
   },
   "source": [
    "#### Myc, M2"
   ]
  },
  {
   "cell_type": "code",
   "execution_count": null,
   "id": "561d1fe8",
   "metadata": {
    "hidden": true
   },
   "outputs": [],
   "source": [
    "df = Jablonski_df[['age','cell_ontology_class','Myc']]\n",
    "\n",
    "x = \"cell_ontology_class\" \n",
    "y = \"Myc\" \n",
    "hue = 'age'\n",
    "hue_order = ['3m', '18m', '24m']\n",
    "\n",
    "box_pairs=[\n",
    "    ((\"B cell\", \"3m\"), (\"B cell\", \"18m\")),\n",
    "    ((\"B cell\", \"3m\"), (\"B cell\", \"24m\")),\n",
    "    ((\"B cell\", \"18m\"), (\"B cell\", \"24m\")),\n",
    "    \n",
    "    ((\"T cell\", \"3m\"), (\"T cell\", \"18m\")),\n",
    "    ((\"T cell\", \"3m\"), (\"T cell\", \"24m\")),\n",
    "    ((\"T cell\", \"18m\"), (\"T cell\", \"24m\")),\n",
    "    \n",
    "    ((\"epithelial cell of proximal tubule\", \"3m\"), (\"epithelial cell of proximal tubule\", \"18m\")),\n",
    "    ((\"epithelial cell of proximal tubule\", \"3m\"), (\"epithelial cell of proximal tubule\", \"24m\")),\n",
    "    ((\"epithelial cell of proximal tubule\", \"18m\"), (\"epithelial cell of proximal tubule\", \"24m\")),\n",
    "    \n",
    "    ((\"fenestrated cell\", \"3m\"), (\"fenestrated cell\", \"18m\")),\n",
    "    ((\"fenestrated cell\", \"3m\"), (\"fenestrated cell\", \"24m\")),\n",
    "    ((\"fenestrated cell\", \"18m\"), (\"fenestrated cell\", \"24m\")),\n",
    "    \n",
    "    ((\"kidney collecting duct epithelial cell\", \"3m\"), (\"kidney collecting duct epithelial cell\", \"18m\")),\n",
    "    ((\"kidney collecting duct epithelial cell\", \"3m\"), (\"kidney collecting duct epithelial cell\", \"24m\")),\n",
    "    ((\"kidney collecting duct epithelial cell\", \"18m\"), (\"kidney collecting duct epithelial cell\", \"24m\")),\n",
    "    \n",
    "    ((\"kidney collecting duct principal cell\", \"3m\"), (\"kidney collecting duct principal cell\", \"18m\")),\n",
    "    ((\"kidney collecting duct principal cell\", \"3m\"), (\"kidney collecting duct principal cell\", \"24m\")),\n",
    "    ((\"kidney collecting duct principal cell\", \"18m\"), (\"kidney collecting duct principal cell\", \"24m\")),\n",
    "    \n",
    "    ((\"kidney interstitial fibroblast\", \"3m\"), (\"kidney interstitial fibroblast\", \"18m\")),\n",
    "    ((\"kidney interstitial fibroblast\", \"3m\"), (\"kidney interstitial fibroblast\", \"24m\")),\n",
    "    ((\"kidney interstitial fibroblast\", \"18m\"), (\"kidney interstitial fibroblast\", \"24m\")),\n",
    "    \n",
    "    ((\"kidney loop of Henle ascending limb epithelial cell\", \"3m\"), (\"kidney loop of Henle ascending limb epithelial cell\", \"18m\")),\n",
    "    ((\"kidney loop of Henle ascending limb epithelial cell\", \"3m\"), (\"kidney loop of Henle ascending limb epithelial cell\", \"24m\")),\n",
    "    ((\"kidney loop of Henle ascending limb epithelial cell\", \"18m\"), (\"kidney loop of Henle ascending limb epithelial cell\", \"24m\")),\n",
    "    \n",
    "    ((\"macrophage\", \"3m\"), (\"macrophage\", \"18m\")),\n",
    "    ((\"macrophage\", \"3m\"), (\"macrophage\", \"24m\")),\n",
    "    ((\"macrophage\", \"18m\"), (\"macrophage\", \"24m\")),\n",
    "       \n",
    "    ((\"mesangial cell\", \"3m\"), (\"mesangial cell\", \"18m\")),\n",
    "    ((\"mesangial cell\", \"3m\"), (\"mesangial cell\", \"24m\")),\n",
    "    ((\"mesangial cell\", \"18m\"), (\"mesangial cell\", \"24m\")) \n",
    "    ]\n",
    "fig = plt.figure(figsize=(10, 5))\n",
    "plt.legend(loc='upper left', bbox_to_anchor=(1.03, 1))\n",
    "plt.xticks(rotation=90)\n",
    "ax = sns.boxplot(data=df, x=x, y=y, hue=hue)\n",
    "add_stat_annotation(ax, data=df, x=x, y=y,hue=hue,box_pairs=box_pairs,\n",
    "                    test='Mann-Whitney',loc='inside',verbose=2)"
   ]
  },
  {
   "cell_type": "markdown",
   "id": "3c022b97",
   "metadata": {
    "heading_collapsed": true
   },
   "source": [
    "#### Fpr2, M1"
   ]
  },
  {
   "cell_type": "code",
   "execution_count": null,
   "id": "5755c760",
   "metadata": {
    "hidden": true
   },
   "outputs": [],
   "source": [
    "df = Jablonski_df[['age','cell_ontology_class','Fpr2']]\n",
    "\n",
    "x = \"cell_ontology_class\" \n",
    "y = \"Fpr2\" \n",
    "hue = 'age'\n",
    "hue_order = ['3m', '18m', '24m']\n",
    "\n",
    "box_pairs=[\n",
    "    ((\"B cell\", \"3m\"), (\"B cell\", \"18m\")),\n",
    "    ((\"B cell\", \"3m\"), (\"B cell\", \"24m\")),\n",
    "    ((\"B cell\", \"18m\"), (\"B cell\", \"24m\")),\n",
    "    \n",
    "    ((\"T cell\", \"3m\"), (\"T cell\", \"18m\")),\n",
    "    ((\"T cell\", \"3m\"), (\"T cell\", \"24m\")),\n",
    "    ((\"T cell\", \"18m\"), (\"T cell\", \"24m\")),\n",
    "    \n",
    "    ((\"epithelial cell of proximal tubule\", \"3m\"), (\"epithelial cell of proximal tubule\", \"18m\")),\n",
    "    ((\"epithelial cell of proximal tubule\", \"3m\"), (\"epithelial cell of proximal tubule\", \"24m\")),\n",
    "    ((\"epithelial cell of proximal tubule\", \"18m\"), (\"epithelial cell of proximal tubule\", \"24m\")),\n",
    "    \n",
    "    ((\"fenestrated cell\", \"3m\"), (\"fenestrated cell\", \"18m\")),\n",
    "    ((\"fenestrated cell\", \"3m\"), (\"fenestrated cell\", \"24m\")),\n",
    "    ((\"fenestrated cell\", \"18m\"), (\"fenestrated cell\", \"24m\")),\n",
    "    \n",
    "    ((\"kidney collecting duct epithelial cell\", \"3m\"), (\"kidney collecting duct epithelial cell\", \"18m\")),\n",
    "    ((\"kidney collecting duct epithelial cell\", \"3m\"), (\"kidney collecting duct epithelial cell\", \"24m\")),\n",
    "    ((\"kidney collecting duct epithelial cell\", \"18m\"), (\"kidney collecting duct epithelial cell\", \"24m\")),\n",
    "    \n",
    "    ((\"kidney collecting duct principal cell\", \"3m\"), (\"kidney collecting duct principal cell\", \"18m\")),\n",
    "    ((\"kidney collecting duct principal cell\", \"3m\"), (\"kidney collecting duct principal cell\", \"24m\")),\n",
    "    ((\"kidney collecting duct principal cell\", \"18m\"), (\"kidney collecting duct principal cell\", \"24m\")),\n",
    "    \n",
    "    ((\"kidney interstitial fibroblast\", \"3m\"), (\"kidney interstitial fibroblast\", \"18m\")),\n",
    "    ((\"kidney interstitial fibroblast\", \"3m\"), (\"kidney interstitial fibroblast\", \"24m\")),\n",
    "    ((\"kidney interstitial fibroblast\", \"18m\"), (\"kidney interstitial fibroblast\", \"24m\")),\n",
    "    \n",
    "    ((\"kidney loop of Henle ascending limb epithelial cell\", \"3m\"), (\"kidney loop of Henle ascending limb epithelial cell\", \"18m\")),\n",
    "    ((\"kidney loop of Henle ascending limb epithelial cell\", \"3m\"), (\"kidney loop of Henle ascending limb epithelial cell\", \"24m\")),\n",
    "    ((\"kidney loop of Henle ascending limb epithelial cell\", \"18m\"), (\"kidney loop of Henle ascending limb epithelial cell\", \"24m\")),\n",
    "    \n",
    "    ((\"macrophage\", \"3m\"), (\"macrophage\", \"18m\")),\n",
    "    ((\"macrophage\", \"3m\"), (\"macrophage\", \"24m\")),\n",
    "    ((\"macrophage\", \"18m\"), (\"macrophage\", \"24m\")),\n",
    "       \n",
    "    ((\"mesangial cell\", \"3m\"), (\"mesangial cell\", \"18m\")),\n",
    "    ((\"mesangial cell\", \"3m\"), (\"mesangial cell\", \"24m\")),\n",
    "    ((\"mesangial cell\", \"18m\"), (\"mesangial cell\", \"24m\")) \n",
    "    ]\n",
    "fig = plt.figure(figsize=(10, 5))\n",
    "plt.legend(loc='upper left', bbox_to_anchor=(1.03, 1))\n",
    "plt.xticks(rotation=90)\n",
    "ax = sns.boxplot(data=df, x=x, y=y, hue=hue)\n",
    "add_stat_annotation(ax, data=df, x=x, y=y,hue=hue,box_pairs=box_pairs,\n",
    "                    test='Mann-Whitney',loc='inside',verbose=2)"
   ]
  },
  {
   "cell_type": "markdown",
   "id": "f193d211",
   "metadata": {
    "heading_collapsed": true
   },
   "source": [
    "#### Egr2, M2"
   ]
  },
  {
   "cell_type": "code",
   "execution_count": null,
   "id": "60c2a0fa",
   "metadata": {
    "hidden": true
   },
   "outputs": [],
   "source": [
    "df = Jablonski_df[['age','cell_ontology_class','Egr2']]\n",
    "\n",
    "x = \"cell_ontology_class\" \n",
    "y = \"Egr2\" \n",
    "hue = 'age'\n",
    "hue_order = ['3m', '18m', '24m']\n",
    "\n",
    "box_pairs=[\n",
    "    ((\"B cell\", \"3m\"), (\"B cell\", \"18m\")),\n",
    "    ((\"B cell\", \"3m\"), (\"B cell\", \"24m\")),\n",
    "    ((\"B cell\", \"18m\"), (\"B cell\", \"24m\")),\n",
    "    \n",
    "    ((\"T cell\", \"3m\"), (\"T cell\", \"18m\")),\n",
    "    ((\"T cell\", \"3m\"), (\"T cell\", \"24m\")),\n",
    "    ((\"T cell\", \"18m\"), (\"T cell\", \"24m\")),\n",
    "    \n",
    "    ((\"epithelial cell of proximal tubule\", \"3m\"), (\"epithelial cell of proximal tubule\", \"18m\")),\n",
    "    ((\"epithelial cell of proximal tubule\", \"3m\"), (\"epithelial cell of proximal tubule\", \"24m\")),\n",
    "    ((\"epithelial cell of proximal tubule\", \"18m\"), (\"epithelial cell of proximal tubule\", \"24m\")),\n",
    "    \n",
    "    ((\"fenestrated cell\", \"3m\"), (\"fenestrated cell\", \"18m\")),\n",
    "    ((\"fenestrated cell\", \"3m\"), (\"fenestrated cell\", \"24m\")),\n",
    "    ((\"fenestrated cell\", \"18m\"), (\"fenestrated cell\", \"24m\")),\n",
    "    \n",
    "    ((\"kidney collecting duct epithelial cell\", \"3m\"), (\"kidney collecting duct epithelial cell\", \"18m\")),\n",
    "    ((\"kidney collecting duct epithelial cell\", \"3m\"), (\"kidney collecting duct epithelial cell\", \"24m\")),\n",
    "    ((\"kidney collecting duct epithelial cell\", \"18m\"), (\"kidney collecting duct epithelial cell\", \"24m\")),\n",
    "    \n",
    "    ((\"kidney collecting duct principal cell\", \"3m\"), (\"kidney collecting duct principal cell\", \"18m\")),\n",
    "    ((\"kidney collecting duct principal cell\", \"3m\"), (\"kidney collecting duct principal cell\", \"24m\")),\n",
    "    ((\"kidney collecting duct principal cell\", \"18m\"), (\"kidney collecting duct principal cell\", \"24m\")),\n",
    "    \n",
    "    ((\"kidney interstitial fibroblast\", \"3m\"), (\"kidney interstitial fibroblast\", \"18m\")),\n",
    "    ((\"kidney interstitial fibroblast\", \"3m\"), (\"kidney interstitial fibroblast\", \"24m\")),\n",
    "    ((\"kidney interstitial fibroblast\", \"18m\"), (\"kidney interstitial fibroblast\", \"24m\")),\n",
    "    \n",
    "    ((\"kidney loop of Henle ascending limb epithelial cell\", \"3m\"), (\"kidney loop of Henle ascending limb epithelial cell\", \"18m\")),\n",
    "    ((\"kidney loop of Henle ascending limb epithelial cell\", \"3m\"), (\"kidney loop of Henle ascending limb epithelial cell\", \"24m\")),\n",
    "    ((\"kidney loop of Henle ascending limb epithelial cell\", \"18m\"), (\"kidney loop of Henle ascending limb epithelial cell\", \"24m\")),\n",
    "    \n",
    "    ((\"macrophage\", \"3m\"), (\"macrophage\", \"18m\")),\n",
    "    ((\"macrophage\", \"3m\"), (\"macrophage\", \"24m\")),\n",
    "    ((\"macrophage\", \"18m\"), (\"macrophage\", \"24m\")),\n",
    "       \n",
    "    ((\"mesangial cell\", \"3m\"), (\"mesangial cell\", \"18m\")),\n",
    "    ((\"mesangial cell\", \"3m\"), (\"mesangial cell\", \"24m\")),\n",
    "    ((\"mesangial cell\", \"18m\"), (\"mesangial cell\", \"24m\")) \n",
    "    ]\n",
    "fig = plt.figure(figsize=(10, 5))\n",
    "plt.legend(loc='upper left', bbox_to_anchor=(1.03, 1))\n",
    "plt.xticks(rotation=90)\n",
    "ax = sns.boxplot(data=df, x=x, y=y, hue=hue)\n",
    "add_stat_annotation(ax, data=df, x=x, y=y,hue=hue,box_pairs=box_pairs,\n",
    "                    test='Mann-Whitney',loc='inside',verbose=2)"
   ]
  },
  {
   "cell_type": "markdown",
   "id": "94189ebf",
   "metadata": {
    "heading_collapsed": true
   },
   "source": [
    "#### Gpr18, M1"
   ]
  },
  {
   "cell_type": "code",
   "execution_count": null,
   "id": "fb685539",
   "metadata": {
    "hidden": true
   },
   "outputs": [],
   "source": [
    "df = Jablonski_df[['age','cell_ontology_class','Gpr18']]\n",
    "\n",
    "x = \"cell_ontology_class\" \n",
    "y = \"Gpr18\" \n",
    "hue = 'age'\n",
    "hue_order = ['3m', '18m', '24m']\n",
    "\n",
    "box_pairs=[\n",
    "    ((\"B cell\", \"3m\"), (\"B cell\", \"18m\")),\n",
    "    ((\"B cell\", \"3m\"), (\"B cell\", \"24m\")),\n",
    "    ((\"B cell\", \"18m\"), (\"B cell\", \"24m\")),\n",
    "    \n",
    "    ((\"T cell\", \"3m\"), (\"T cell\", \"18m\")),\n",
    "    ((\"T cell\", \"3m\"), (\"T cell\", \"24m\")),\n",
    "    ((\"T cell\", \"18m\"), (\"T cell\", \"24m\")),\n",
    "    \n",
    "    ((\"epithelial cell of proximal tubule\", \"3m\"), (\"epithelial cell of proximal tubule\", \"18m\")),\n",
    "    ((\"epithelial cell of proximal tubule\", \"3m\"), (\"epithelial cell of proximal tubule\", \"24m\")),\n",
    "    ((\"epithelial cell of proximal tubule\", \"18m\"), (\"epithelial cell of proximal tubule\", \"24m\")),\n",
    "    \n",
    "    ((\"fenestrated cell\", \"3m\"), (\"fenestrated cell\", \"18m\")),\n",
    "    ((\"fenestrated cell\", \"3m\"), (\"fenestrated cell\", \"24m\")),\n",
    "    ((\"fenestrated cell\", \"18m\"), (\"fenestrated cell\", \"24m\")),\n",
    "    \n",
    "    ((\"kidney collecting duct epithelial cell\", \"3m\"), (\"kidney collecting duct epithelial cell\", \"18m\")),\n",
    "    ((\"kidney collecting duct epithelial cell\", \"3m\"), (\"kidney collecting duct epithelial cell\", \"24m\")),\n",
    "    ((\"kidney collecting duct epithelial cell\", \"18m\"), (\"kidney collecting duct epithelial cell\", \"24m\")),\n",
    "    \n",
    "    ((\"kidney collecting duct principal cell\", \"3m\"), (\"kidney collecting duct principal cell\", \"18m\")),\n",
    "    ((\"kidney collecting duct principal cell\", \"3m\"), (\"kidney collecting duct principal cell\", \"24m\")),\n",
    "    ((\"kidney collecting duct principal cell\", \"18m\"), (\"kidney collecting duct principal cell\", \"24m\")),\n",
    "    \n",
    "    ((\"kidney interstitial fibroblast\", \"3m\"), (\"kidney interstitial fibroblast\", \"18m\")),\n",
    "    ((\"kidney interstitial fibroblast\", \"3m\"), (\"kidney interstitial fibroblast\", \"24m\")),\n",
    "    ((\"kidney interstitial fibroblast\", \"18m\"), (\"kidney interstitial fibroblast\", \"24m\")),\n",
    "    \n",
    "    ((\"kidney loop of Henle ascending limb epithelial cell\", \"3m\"), (\"kidney loop of Henle ascending limb epithelial cell\", \"18m\")),\n",
    "    ((\"kidney loop of Henle ascending limb epithelial cell\", \"3m\"), (\"kidney loop of Henle ascending limb epithelial cell\", \"24m\")),\n",
    "    ((\"kidney loop of Henle ascending limb epithelial cell\", \"18m\"), (\"kidney loop of Henle ascending limb epithelial cell\", \"24m\")),\n",
    "    \n",
    "    ((\"macrophage\", \"3m\"), (\"macrophage\", \"18m\")),\n",
    "    ((\"macrophage\", \"3m\"), (\"macrophage\", \"24m\")),\n",
    "    ((\"macrophage\", \"18m\"), (\"macrophage\", \"24m\")),\n",
    "       \n",
    "    ((\"mesangial cell\", \"3m\"), (\"mesangial cell\", \"18m\")),\n",
    "    ((\"mesangial cell\", \"3m\"), (\"mesangial cell\", \"24m\")),\n",
    "    ((\"mesangial cell\", \"18m\"), (\"mesangial cell\", \"24m\")) \n",
    "    ]\n",
    "fig = plt.figure(figsize=(10, 5))\n",
    "plt.legend(loc='upper left', bbox_to_anchor=(1.03, 1))\n",
    "plt.xticks(rotation=90)\n",
    "ax = sns.boxplot(data=df, x=x, y=y, hue=hue)\n",
    "add_stat_annotation(ax, data=df, x=x, y=y,hue=hue,box_pairs=box_pairs,\n",
    "                    test='Mann-Whitney',loc='inside',verbose=2)"
   ]
  },
  {
   "cell_type": "code",
   "execution_count": null,
   "id": "542b0463",
   "metadata": {
    "hidden": true
   },
   "outputs": [],
   "source": []
  },
  {
   "cell_type": "code",
   "execution_count": null,
   "id": "3c108adc",
   "metadata": {
    "hidden": true
   },
   "outputs": [],
   "source": []
  },
  {
   "cell_type": "code",
   "execution_count": null,
   "id": "f549c7e5",
   "metadata": {
    "hidden": true
   },
   "outputs": [],
   "source": []
  },
  {
   "cell_type": "code",
   "execution_count": null,
   "id": "3142c696",
   "metadata": {
    "hidden": true
   },
   "outputs": [],
   "source": []
  },
  {
   "cell_type": "code",
   "execution_count": null,
   "id": "9effd8af",
   "metadata": {
    "hidden": true
   },
   "outputs": [],
   "source": []
  }
 ],
 "metadata": {
  "kernelspec": {
   "display_name": "Python 3",
   "language": "python",
   "name": "python3"
  },
  "language_info": {
   "codemirror_mode": {
    "name": "ipython",
    "version": 3
   },
   "file_extension": ".py",
   "mimetype": "text/x-python",
   "name": "python",
   "nbconvert_exporter": "python",
   "pygments_lexer": "ipython3",
   "version": "3.8.8"
  },
  "toc": {
   "base_numbering": 1,
   "nav_menu": {},
   "number_sections": true,
   "sideBar": true,
   "skip_h1_title": false,
   "title_cell": "Table of Contents",
   "title_sidebar": "Contents",
   "toc_cell": false,
   "toc_position": {
    "height": "calc(100% - 180px)",
    "left": "10px",
    "top": "150px",
    "width": "279.167px"
   },
   "toc_section_display": true,
   "toc_window_display": true
  }
 },
 "nbformat": 4,
 "nbformat_minor": 5
}
