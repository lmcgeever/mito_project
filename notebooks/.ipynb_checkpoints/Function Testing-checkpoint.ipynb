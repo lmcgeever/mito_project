{
 "cells": [
  {
   "cell_type": "code",
   "execution_count": 80,
   "id": "6b81fc5e",
   "metadata": {},
   "outputs": [
    {
     "name": "stdout",
     "output_type": "stream",
     "text": [
      "scanpy==1.8.2 anndata==0.7.8 umap==0.5.2 numpy==1.20.1 scipy==1.6.2 pandas==1.2.4 scikit-learn==0.24.1 statsmodels==0.12.2 python-igraph==0.9.8 pynndescent==0.5.5\n"
     ]
    }
   ],
   "source": [
    "import numpy as np\n",
    "import pandas as pd\n",
    "import scanpy as sc\n",
    "import numpy as np\n",
    "import seaborn as sns\n",
    "import anndata as ad\n",
    "import PyPDF2\n",
    "import matplotlib.pyplot as plt\n",
    "import statistics\n",
    "\n",
    "sc.settings.verbosity = 3             \n",
    "sc.logging.print_header()\n",
    "sc.settings.set_figure_params(dpi=80, facecolor='white')"
   ]
  },
  {
   "cell_type": "code",
   "execution_count": 81,
   "id": "fda93fab",
   "metadata": {},
   "outputs": [],
   "source": [
    "#TMS Adata Files\n",
    "adata_processed = \"/mnt/ibm_sm/home/lea.mcgeever/ms/notebooks/adata_files/adata_processed.h5ad\"\n",
    "adata = sc.read_h5ad(adata_processed)"
   ]
  },
  {
   "cell_type": "code",
   "execution_count": 82,
   "id": "65b1813c",
   "metadata": {},
   "outputs": [],
   "source": [
    "mt_genes = [\n",
    "    \"mt-Atp6\",\n",
    "    \"mt-Atp8\",\n",
    "    \"mt-Co1\",\n",
    "    \"mt-Co2\",\n",
    "    \"mt-Co3\",\n",
    "    \"mt-Cytb\",\n",
    "    \"mt-Nd1\",\n",
    "    \"mt-Nd2\",\n",
    "    \"mt-Nd3\",\n",
    "    \"mt-Nd4\",\n",
    "    \"mt-Nd4l\",\n",
    "    \"mt-Nd5\",\n",
    "    \"mt-Nd6\",\n",
    "    \"mt-Rnr1\",\n",
    "    \"mt-Rnr2\",\n",
    "    \"mt-Ta\",\n",
    "    \"mt-Te\",\n",
    "    \"mt-Tf\",\n",
    "    \"mt-Ti\",\n",
    "    \"mt-Tl1\",\n",
    "#     \"mt-Tl2\",\n",
    "    \"mt-Tm\",\n",
    "    \"mt-Tp\",\n",
    "    \"mt-Tq\",\n",
    "    \"mt-Tt\",\n",
    "    \"mt-Tv\"\n",
    "]"
   ]
  },
  {
   "cell_type": "code",
   "execution_count": 83,
   "id": "b4c609ab",
   "metadata": {},
   "outputs": [],
   "source": [
    "tissues = ['Aorta',\n",
    " 'BAT',\n",
    " 'Bladder',\n",
    " 'Brain_Myeloid',\n",
    " 'Brain_Non-Myeloid',\n",
    " 'Diaphragm',\n",
    " 'GAT',\n",
    " 'Heart',\n",
    " 'Kidney',\n",
    " 'Large_Intestine',\n",
    " 'Limb_Muscle',\n",
    " 'Liver',\n",
    " 'Lung',\n",
    " 'MAT',\n",
    " 'Mammary_Gland',         \n",
    " 'Marrow',\n",
    " 'Pancreas',\n",
    " 'SCAT',\n",
    " 'Skin',\n",
    " 'Spleen',\n",
    " 'Thymus',\n",
    " 'Tongue',\n",
    " 'Trachea'\n",
    "                   ]"
   ]
  },
  {
   "cell_type": "code",
   "execution_count": 84,
   "id": "a173a6fa",
   "metadata": {},
   "outputs": [],
   "source": [
    "def adata_subset_by_age(adata_ob, age_m):\n",
    "    '''Takes adata object and string 3m, 18m, 21m or 24m\n",
    "    Outputs an adata subset by assigned age'''\n",
    "    \n",
    "    return adata_ob[adata_ob.obs['age'] == age_m]\n",
    "\n",
    "def adata_subset_by_tissue(adata_age_subset, tissue):\n",
    "    '''Takes adata subsetted by age, and a string of desired tissue type\n",
    "    Returns a subset of inputted tissue'''\n",
    "    return adata_age_subset[adata_age_subset.obs['tissue']==tissue] "
   ]
  },
  {
   "cell_type": "markdown",
   "id": "eb1caa1e",
   "metadata": {},
   "source": [
    "**Subset by age and tissue**"
   ]
  },
  {
   "cell_type": "code",
   "execution_count": 85,
   "id": "a1d1a475",
   "metadata": {},
   "outputs": [],
   "source": [
    "adata_3m = adata_subset_by_age(adata,'3m')\n",
    "adata_18m = adata_subset_by_age(adata,'18m')\n",
    "adata_21m = adata_subset_by_age(adata,'21m')\n",
    "adata_24m = adata_subset_by_age(adata,'24m')"
   ]
  },
  {
   "cell_type": "code",
   "execution_count": 86,
   "id": "207aad23",
   "metadata": {},
   "outputs": [],
   "source": [
    "'''Subset the different 3m tissues'''\n",
    "adata_3m_aorta = adata_subset_by_tissue(adata_3m,'Aorta')\n",
    "adata_3m_bat = adata_subset_by_tissue(adata_3m,'BAT')\n",
    "adata_3m_bladder = adata_subset_by_tissue(adata_3m,'Bladder')\n",
    "adata_3m_brain_myeloid = adata_subset_by_tissue(adata_3m,'Brain_Myeloid')\n",
    "adata_3m_brain_non_myeloid = adata_subset_by_tissue(adata_3m,'Brain_Non-Myeloid')\n",
    "adata_3m_diaphragm = adata_subset_by_tissue(adata_3m,'Diaphragm')\n",
    "adata_3m_GAT = adata_subset_by_tissue(adata_3m,'GAT')\n",
    "adata_3m_heart = adata_subset_by_tissue(adata_3m,'Heart')\n",
    "adata_3m_kidney = adata_subset_by_tissue(adata_3m,'Kidney')\n",
    "adata_3m_large_intestine = adata_subset_by_tissue(adata_3m,'Large_Intestine')\n",
    "adata_3m_limb_muscle = adata_subset_by_tissue(adata_3m,'Limb_Muscle')\n",
    "adata_3m_liver = adata_subset_by_tissue(adata_3m,'Liver')\n",
    "adata_3m_lung = adata_subset_by_tissue(adata_3m,'Lung')\n",
    "adata_3m_mat = adata_subset_by_tissue(adata_3m,'MAT')\n",
    "adata_3m_mammary_gland = adata_subset_by_tissue(adata_3m,'Mammary_Gland')\n",
    "adata_3m_marrow = adata_subset_by_tissue(adata_3m,'Marrow')\n",
    "adata_3m_pancreas = adata_subset_by_tissue(adata_3m,'Pancreas')\n",
    "adata_3m_scat = adata_subset_by_tissue(adata_3m,'SCAT')\n",
    "adata_3m_skin = adata_subset_by_tissue(adata_3m,'Skin')\n",
    "adata_3m_spleen = adata_subset_by_tissue(adata_3m,'Spleen')\n",
    "adata_3m_thymus = adata_subset_by_tissue(adata_3m,'Thymus')\n",
    "adata_3m_tongue = adata_subset_by_tissue(adata_3m,'Tongue')\n",
    "adata_3m_trachae = adata_subset_by_tissue(adata_3m,'Trachea')"
   ]
  },
  {
   "cell_type": "code",
   "execution_count": 87,
   "id": "696e7853",
   "metadata": {},
   "outputs": [],
   "source": [
    "'''Subset the different 18m tissues'''\n",
    "adata_18m_aorta = adata_subset_by_tissue(adata_18m,'Aorta')\n",
    "adata_18m_bat = adata_subset_by_tissue(adata_18m,'BAT')\n",
    "adata_18m_bladder = adata_subset_by_tissue(adata_18m,'Bladder')\n",
    "adata_18m_brain_myeloid = adata_subset_by_tissue(adata_18m,'Brain_Myeloid')\n",
    "adata_18m_brain_non_myeloid = adata_subset_by_tissue(adata_18m,'Brain_Non-Myeloid')\n",
    "adata_18m_diaphragm = adata_subset_by_tissue(adata_18m,'Diaphragm')\n",
    "adata_18m_GAT = adata_subset_by_tissue(adata_18m,'GAT')\n",
    "adata_18m_heart = adata_subset_by_tissue(adata_18m,'Heart')\n",
    "adata_18m_kidney = adata_subset_by_tissue(adata_18m,'Kidney')\n",
    "adata_18m_large_intestine = adata_subset_by_tissue(adata_18m,'Large_Intestine')\n",
    "adata_18m_limb_muscle = adata_subset_by_tissue(adata_18m,'Limb_Muscle')\n",
    "adata_18m_liver = adata_subset_by_tissue(adata_18m,'Liver')\n",
    "adata_18m_lung = adata_subset_by_tissue(adata_18m,'Lung')\n",
    "adata_18m_mat = adata_subset_by_tissue(adata_18m,'MAT')\n",
    "adata_18m_mammary_gland = adata_subset_by_tissue(adata_18m,'Mammary_Gland')\n",
    "adata_18m_marrow = adata_subset_by_tissue(adata_18m,'Marrow')\n",
    "adata_18m_pancreas = adata_subset_by_tissue(adata_18m,'Pancreas')\n",
    "adata_18m_scat = adata_subset_by_tissue(adata_18m,'SCAT')\n",
    "adata_18m_skin = adata_subset_by_tissue(adata_18m,'Skin')\n",
    "adata_18m_spleen = adata_subset_by_tissue(adata_18m,'Spleen')\n",
    "adata_18m_thymus = adata_subset_by_tissue(adata_18m,'Thymus')\n",
    "adata_18m_tongue = adata_subset_by_tissue(adata_18m,'Tongue')\n",
    "adata_18m_trachae = adata_subset_by_tissue(adata_18m,'Trachea')"
   ]
  },
  {
   "cell_type": "code",
   "execution_count": 88,
   "id": "309f0ddc",
   "metadata": {},
   "outputs": [],
   "source": [
    "'''Subset the 21m into mammary gland'''\n",
    "adata_21m_aorta = adata_subset_by_tissue(adata_21m,'Aorta')\n",
    "adata_21m_bat = adata_subset_by_tissue(adata_21m,'BAT')\n",
    "adata_21m_bladder = adata_subset_by_tissue(adata_21m,'Bladder')\n",
    "adata_21m_brain_myeloid = adata_subset_by_tissue(adata_21m,'Brain_Myeloid')\n",
    "adata_21m_brain_non_myeloid = adata_subset_by_tissue(adata_21m,'Brain_Non-Myeloid')\n",
    "adata_21m_diaphragm = adata_subset_by_tissue(adata_21m,'Diaphragm')\n",
    "adata_21m_GAT = adata_subset_by_tissue(adata_21m,'GAT')\n",
    "adata_21m_heart = adata_subset_by_tissue(adata_21m,'Heart')\n",
    "adata_21m_kidney = adata_subset_by_tissue(adata_21m,'Kidney')\n",
    "adata_21m_large_intestine = adata_subset_by_tissue(adata_21m,'Large_Intestine')\n",
    "adata_21m_limb_muscle = adata_subset_by_tissue(adata_21m,'Limb_Muscle')\n",
    "adata_21m_liver = adata_subset_by_tissue(adata_21m,'Liver')\n",
    "adata_21m_lung = adata_subset_by_tissue(adata_21m,'Lung')\n",
    "adata_21m_mat = adata_subset_by_tissue(adata_21m,'MAT')\n",
    "adata_21m_mammary_gland = adata_subset_by_tissue(adata_21m,'Mammary_Gland')\n",
    "adata_21m_marrow = adata_subset_by_tissue(adata_21m,'Marrow')\n",
    "adata_21m_pancreas = adata_subset_by_tissue(adata_21m,'Pancreas')\n",
    "adata_21m_scat = adata_subset_by_tissue(adata_21m,'SCAT')\n",
    "adata_21m_skin = adata_subset_by_tissue(adata_21m,'Skin')\n",
    "adata_21m_spleen = adata_subset_by_tissue(adata_21m,'Spleen')\n",
    "adata_21m_thymus = adata_subset_by_tissue(adata_21m,'Thymus')\n",
    "adata_21m_tongue = adata_subset_by_tissue(adata_21m,'Tongue')\n",
    "adata_21m_trachae = adata_subset_by_tissue(adata_21m,'Trachea')"
   ]
  },
  {
   "cell_type": "code",
   "execution_count": 89,
   "id": "8b0aec24",
   "metadata": {},
   "outputs": [],
   "source": [
    "'''Subset the different 24m tissues'''\n",
    "adata_24m_aorta = adata_subset_by_tissue(adata_24m,'Aorta')\n",
    "adata_24m_bat = adata_subset_by_tissue(adata_24m,'BAT')\n",
    "adata_24m_bladder = adata_subset_by_tissue(adata_24m,'Bladder')\n",
    "adata_24m_brain_myeloid = adata_subset_by_tissue(adata_24m,'Brain_Myeloid')\n",
    "adata_24m_brain_non_myeloid = adata_subset_by_tissue(adata_24m,'Brain_Non-Myeloid')\n",
    "adata_24m_diaphragm = adata_subset_by_tissue(adata_24m,'Diaphragm')\n",
    "adata_24m_GAT = adata_subset_by_tissue(adata_24m,'GAT')\n",
    "adata_24m_heart = adata_subset_by_tissue(adata_24m,'Heart')\n",
    "adata_24m_kidney = adata_subset_by_tissue(adata_24m,'Kidney')\n",
    "adata_24m_large_intestine = adata_subset_by_tissue(adata_24m,'Large_Intestine')\n",
    "adata_24m_limb_muscle = adata_subset_by_tissue(adata_24m,'Limb_Muscle')\n",
    "adata_24m_liver = adata_subset_by_tissue(adata_24m,'Liver')\n",
    "adata_24m_lung = adata_subset_by_tissue(adata_24m,'Lung')\n",
    "adata_24m_mat = adata_subset_by_tissue(adata_24m,'MAT')\n",
    "adata_24m_mammary_gland = adata_subset_by_tissue(adata_24m,'Mammary_Gland')\n",
    "adata_24m_marrow = adata_subset_by_tissue(adata_24m,'Marrow')\n",
    "adata_24m_pancreas = adata_subset_by_tissue(adata_24m,'Pancreas')\n",
    "adata_24m_scat = adata_subset_by_tissue(adata_24m,'SCAT')\n",
    "adata_24m_skin = adata_subset_by_tissue(adata_24m,'Skin')\n",
    "adata_24m_spleen = adata_subset_by_tissue(adata_24m,'Spleen')\n",
    "adata_24m_thymus = adata_subset_by_tissue(adata_24m,'Thymus')\n",
    "adata_24m_tongue = adata_subset_by_tissue(adata_24m,'Tongue')\n",
    "adata_24m_trachae = adata_subset_by_tissue(adata_24m,'Trachea')"
   ]
  },
  {
   "cell_type": "code",
   "execution_count": 90,
   "id": "abc01c2b",
   "metadata": {},
   "outputs": [],
   "source": [
    "#adata_tissues_ages=[\n",
    "adata_3m_tissues = [\n",
    "                    adata_3m_aorta, \n",
    "                    adata_3m_bat, \n",
    "                    adata_3m_bladder, \n",
    "                    adata_3m_brain_myeloid, \n",
    "                    adata_3m_brain_non_myeloid,\n",
    "                    adata_3m_diaphragm,\n",
    "                    adata_3m_GAT,\n",
    "                    adata_3m_heart,\n",
    "                    adata_3m_kidney,\n",
    "                    adata_3m_large_intestine,\n",
    "                    adata_3m_limb_muscle,\n",
    "                    adata_3m_liver,\n",
    "                    adata_3m_lung,\n",
    "                    adata_3m_mat,\n",
    "                    adata_3m_mammary_gland,\n",
    "                    adata_3m_marrow,\n",
    "                    adata_3m_pancreas,\n",
    "                    adata_3m_scat,\n",
    "                    adata_3m_skin,\n",
    "                    adata_3m_spleen,\n",
    "                    adata_3m_thymus,\n",
    "                    adata_3m_tongue,\n",
    "                    adata_3m_trachae,\n",
    "                   ]\n",
    "adata_18m_tissues = [\n",
    "                    adata_18m_aorta, \n",
    "                    adata_18m_bat, \n",
    "                    adata_18m_bladder, \n",
    "                    adata_18m_brain_myeloid, \n",
    "                    adata_18m_brain_non_myeloid,\n",
    "                    adata_18m_diaphragm,\n",
    "                    adata_18m_GAT,\n",
    "                    adata_18m_heart,\n",
    "                    adata_18m_kidney,\n",
    "                    adata_18m_large_intestine,\n",
    "                    adata_18m_limb_muscle,\n",
    "                    adata_18m_liver,\n",
    "                    adata_18m_lung,\n",
    "                    adata_18m_mat,\n",
    "                    adata_18m_mammary_gland,\n",
    "                    adata_18m_marrow,\n",
    "                    adata_18m_pancreas,\n",
    "                    adata_18m_scat,\n",
    "                    adata_18m_skin,\n",
    "                    adata_18m_spleen,\n",
    "                    adata_18m_thymus,\n",
    "                    adata_18m_tongue,\n",
    "                    adata_18m_trachae,\n",
    "                   ]\n",
    "adata_21m_tissues = [\n",
    "                    adata_21m_aorta, \n",
    "                    adata_21m_bat, \n",
    "                    adata_21m_bladder, \n",
    "                    adata_21m_brain_myeloid, \n",
    "                    adata_21m_brain_non_myeloid,\n",
    "                    adata_21m_diaphragm,\n",
    "                    adata_21m_GAT,\n",
    "                    adata_21m_heart,\n",
    "                    adata_21m_kidney,\n",
    "                    adata_21m_large_intestine,\n",
    "                    adata_21m_limb_muscle,\n",
    "                    adata_21m_liver,\n",
    "                    adata_21m_lung,\n",
    "                    adata_21m_mat,\n",
    "                    adata_21m_mammary_gland,\n",
    "                    adata_21m_marrow,\n",
    "                    adata_21m_pancreas,\n",
    "                    adata_21m_scat,\n",
    "                    adata_21m_skin,\n",
    "                    adata_21m_spleen,\n",
    "                    adata_21m_thymus,\n",
    "                    adata_21m_tongue,\n",
    "                    adata_21m_trachae,\n",
    "                   ]                    \n",
    "adata_24m_tissues = [\n",
    "                    adata_24m_aorta, \n",
    "                    adata_24m_bat, \n",
    "                    adata_24m_bladder, \n",
    "                    adata_24m_brain_myeloid, \n",
    "                    adata_24m_brain_non_myeloid,\n",
    "                    adata_24m_diaphragm,\n",
    "                    adata_24m_GAT,\n",
    "                    adata_24m_heart,\n",
    "                    adata_24m_kidney,\n",
    "                    adata_24m_large_intestine,\n",
    "                    adata_24m_limb_muscle,\n",
    "                    adata_24m_liver,\n",
    "                    adata_24m_lung,\n",
    "                    adata_24m_mat,\n",
    "                    adata_24m_mammary_gland,\n",
    "                    adata_24m_marrow,\n",
    "                    adata_24m_pancreas,\n",
    "                    adata_24m_scat,\n",
    "                    adata_24m_skin,\n",
    "                    adata_24m_spleen,\n",
    "                    adata_24m_thymus,\n",
    "                    adata_24m_tongue,\n",
    "                    adata_24m_trachae\n",
    "]\n"
   ]
  },
  {
   "cell_type": "code",
   "execution_count": 91,
   "id": "98390961",
   "metadata": {},
   "outputs": [],
   "source": [
    "testy = [adata_3m_kidney, \n",
    "adata_3m_liver]"
   ]
  },
  {
   "cell_type": "code",
   "execution_count": 92,
   "id": "52f20a62",
   "metadata": {},
   "outputs": [],
   "source": [
    "def tissue_mt_expression(adata_subset_list):\n",
    "    '''Takes list of adata tissue subsets and returns lists of min, max and mean mt count across tissues'''\n",
    "\n",
    "    tissues_mean_mt_count = []\n",
    "    tissues_min_mt_count = []\n",
    "    tissues_max_mt_count = []\n",
    "    \n",
    "    for t in adata_subset_list:\n",
    "        if len(t.obs['cell']) > 0:      \n",
    "            tissues_min_mt_count.append(sorted(list(t.obs.total_counts_mt))[0])  \n",
    "            tissues_max_mt_count.append(sorted(list(t.obs.total_counts_mt))[-1])\n",
    "            tissues_mean_mt_count.append(int(statistics.mean(list(t.obs.total_counts_mt))))\n",
    "            \n",
    "        if len(t.obs['cell']) == 0:\n",
    "            tissues_min_mt_count.append(0)  \n",
    "            tissues_max_mt_count.append(0)\n",
    "            tissues_mean_mt_count.append(0)    \n",
    "    \n",
    "    dict_tissues_mt_count = {'Tissue':tissues, \n",
    "                           'Min mt count':tissues_min_mt_count, \n",
    "                           'Max mt count': tissues_max_mt_count, \n",
    "                           'Mean mt count':tissues_mean_mt_count}\n",
    "    df = pd.DataFrame(dict_tissues_mt_count)\n",
    "    return df "
   ]
  },
  {
   "cell_type": "code",
   "execution_count": 93,
   "id": "16d17a28",
   "metadata": {},
   "outputs": [],
   "source": [
    "#INPUT IS ALREADY SUBSET BY TISSUE & AGE\n",
    "cell_types = list(set(adata.obs.cell_ontology_class))\n",
    "\n",
    "def mt_mmm_celltypes(adatas):\n",
    "    '''Takes list of adata subsetted by tissue and returns dataframe of \n",
    "    min, max and mean mt count, and normalized mt%, across cell types, tissue and age'''\n",
    "    \n",
    "    tissue_tracker = []\n",
    "    cell_ontology_class = []\n",
    "    tissues_mean_mt_count = []\n",
    "    tissues_min_mt_count = []\n",
    "    tissues_max_mt_count = []\n",
    "    normalized_counts = []\n",
    "    normalized_rounded = []\n",
    "    tissues_age_tracker = []\n",
    "    \n",
    "    \n",
    "    for j in cell_types:\n",
    "        for a in adatas:\n",
    "            d = a[a.obs['cell_ontology_class']== j]\n",
    "\n",
    "            if len(d.obs['cell']) > 0: #now filtered by cell type, age and tissue\n",
    "                tissue_tracker.append(str(d.obs['tissue'][0]))\n",
    "\n",
    "                tissues_min_mt_count.append(sorted(list(d.obs.total_counts_mt))[0])  \n",
    "                \n",
    "                tissues_max_mt_count.append(sorted(list(d.obs.total_counts_mt))[-1])\n",
    "                \n",
    "                tissues_mean_mt_count.append(int(statistics.mean(list(d.obs.total_counts_mt))))\n",
    "                \n",
    "                normalized_counts.append((sum(list(d.obs.total_counts_mt)))/(sum(list(d.obs.total_counts))))\n",
    "                    \n",
    "                tissues_age_tracker.append(str(d.obs['age'][0]))\n",
    "                \n",
    "                cell_ontology_class.append(str(d.obs['cell_ontology_class'][0]))\n",
    "\n",
    "                    \n",
    "                \n",
    "            if len(adata.obs['cell']) == 0:\n",
    "                tissues_min_mt_count.append(0)\n",
    "                cell_ontology_class.append(0)\n",
    "                tissues_max_mt_count.append(0)\n",
    "                tissues_mean_mt_count.append(0)\n",
    "                tissues_age_tracker.append(0)\n",
    "                \n",
    "                \n",
    "    for n in normalized_counts:\n",
    "        normalized_rounded.append((round((n*100),2)))\n",
    "    \n",
    "    dict_tissues_mt_count = {'Tissue':tissue_tracker,\n",
    "                             'Cell Type':cell_ontology_class,\n",
    "                           'Min mt count':tissues_min_mt_count, \n",
    "                           'Max mt count': tissues_max_mt_count, \n",
    "                           'Mean mt count':tissues_mean_mt_count,\n",
    "                           'Normalized mt/total%':normalized_rounded,\n",
    "                           'Age': tissues_age_tracker \n",
    "                            }\n",
    "    df = pd.DataFrame(dict_tissues_mt_count)\n",
    "    return df"
   ]
  },
  {
   "cell_type": "code",
   "execution_count": 94,
   "id": "4649c0f1",
   "metadata": {},
   "outputs": [],
   "source": [
    "'''Read all ages and tissues mt_mmm_celltypes output with pandas'''\n",
    "\n",
    "df = pd.read_csv('/mnt/ibm_sm/home/lea.mcgeever/ms/notebooks/df_tissues_celltypes_ages.csv')"
   ]
  },
  {
   "cell_type": "code",
   "execution_count": 95,
   "id": "e602d258",
   "metadata": {},
   "outputs": [],
   "source": [
    "'''Subset for age 3 month'''\n",
    "\n",
    "df3m = df.loc[df['Age'] == '3m']  \n"
   ]
  },
  {
   "cell_type": "code",
   "execution_count": 96,
   "id": "27af4921",
   "metadata": {},
   "outputs": [
    {
     "data": {
      "text/html": [
       "<div>\n",
       "<style scoped>\n",
       "    .dataframe tbody tr th:only-of-type {\n",
       "        vertical-align: middle;\n",
       "    }\n",
       "\n",
       "    .dataframe tbody tr th {\n",
       "        vertical-align: top;\n",
       "    }\n",
       "\n",
       "    .dataframe thead th {\n",
       "        text-align: right;\n",
       "    }\n",
       "</style>\n",
       "<table border=\"1\" class=\"dataframe\">\n",
       "  <thead>\n",
       "    <tr style=\"text-align: right;\">\n",
       "      <th></th>\n",
       "      <th>Tissue</th>\n",
       "      <th>Min mt count</th>\n",
       "      <th>Max mt count</th>\n",
       "      <th>Mean mt count</th>\n",
       "    </tr>\n",
       "  </thead>\n",
       "  <tbody>\n",
       "    <tr>\n",
       "      <th>18</th>\n",
       "      <td>Skin</td>\n",
       "      <td>17.0</td>\n",
       "      <td>166106.0</td>\n",
       "      <td>15840</td>\n",
       "    </tr>\n",
       "  </tbody>\n",
       "</table>\n",
       "</div>"
      ],
      "text/plain": [
       "   Tissue  Min mt count  Max mt count  Mean mt count\n",
       "18   Skin          17.0      166106.0          15840"
      ]
     },
     "execution_count": 96,
     "metadata": {},
     "output_type": "execute_result"
    }
   ],
   "source": [
    "\n",
    "df_comparison_test = tissue_mt_expression(adata_3m_tissues)\n",
    "df_comparison_test_skin = df_comparison_test.loc[df_comparison_test[\"Tissue\"] == \"Skin\"]\n",
    "df_comparison_test_skin"
   ]
  },
  {
   "cell_type": "code",
   "execution_count": null,
   "id": "fe75d0b1",
   "metadata": {},
   "outputs": [],
   "source": []
  },
  {
   "cell_type": "code",
   "execution_count": 97,
   "id": "f4c78272",
   "metadata": {},
   "outputs": [
    {
     "data": {
      "text/html": [
       "<div>\n",
       "<style scoped>\n",
       "    .dataframe tbody tr th:only-of-type {\n",
       "        vertical-align: middle;\n",
       "    }\n",
       "\n",
       "    .dataframe tbody tr th {\n",
       "        vertical-align: top;\n",
       "    }\n",
       "\n",
       "    .dataframe thead th {\n",
       "        text-align: right;\n",
       "    }\n",
       "</style>\n",
       "<table border=\"1\" class=\"dataframe\">\n",
       "  <thead>\n",
       "    <tr style=\"text-align: right;\">\n",
       "      <th></th>\n",
       "      <th>Unnamed: 0</th>\n",
       "      <th>Tissue</th>\n",
       "      <th>Cell Type</th>\n",
       "      <th>Min mt count</th>\n",
       "      <th>Max mt count</th>\n",
       "      <th>Mean mt count</th>\n",
       "      <th>Normalized mt/total%</th>\n",
       "      <th>Age</th>\n",
       "    </tr>\n",
       "  </thead>\n",
       "  <tbody>\n",
       "    <tr>\n",
       "      <th>35</th>\n",
       "      <td>35</td>\n",
       "      <td>Skin</td>\n",
       "      <td>keratinocyte stem cell</td>\n",
       "      <td>4101.0</td>\n",
       "      <td>30562.0</td>\n",
       "      <td>15681</td>\n",
       "      <td>1.59</td>\n",
       "      <td>3m</td>\n",
       "    </tr>\n",
       "    <tr>\n",
       "      <th>73</th>\n",
       "      <td>73</td>\n",
       "      <td>Skin</td>\n",
       "      <td>T cell</td>\n",
       "      <td>5947.0</td>\n",
       "      <td>31668.0</td>\n",
       "      <td>18997</td>\n",
       "      <td>2.66</td>\n",
       "      <td>3m</td>\n",
       "    </tr>\n",
       "    <tr>\n",
       "      <th>121</th>\n",
       "      <td>121</td>\n",
       "      <td>Skin</td>\n",
       "      <td>macrophage</td>\n",
       "      <td>3423.0</td>\n",
       "      <td>23924.0</td>\n",
       "      <td>10751</td>\n",
       "      <td>1.52</td>\n",
       "      <td>3m</td>\n",
       "    </tr>\n",
       "    <tr>\n",
       "      <th>274</th>\n",
       "      <td>274</td>\n",
       "      <td>Skin</td>\n",
       "      <td>epidermal cell</td>\n",
       "      <td>393.0</td>\n",
       "      <td>60934.0</td>\n",
       "      <td>16473</td>\n",
       "      <td>1.98</td>\n",
       "      <td>3m</td>\n",
       "    </tr>\n",
       "    <tr>\n",
       "      <th>341</th>\n",
       "      <td>341</td>\n",
       "      <td>Skin</td>\n",
       "      <td>basal cell of epidermis</td>\n",
       "      <td>17.0</td>\n",
       "      <td>166106.0</td>\n",
       "      <td>15384</td>\n",
       "      <td>2.11</td>\n",
       "      <td>3m</td>\n",
       "    </tr>\n",
       "    <tr>\n",
       "      <th>445</th>\n",
       "      <td>445</td>\n",
       "      <td>Skin</td>\n",
       "      <td>bulge keratinocyte</td>\n",
       "      <td>208.0</td>\n",
       "      <td>89225.0</td>\n",
       "      <td>15950</td>\n",
       "      <td>2.61</td>\n",
       "      <td>3m</td>\n",
       "    </tr>\n",
       "  </tbody>\n",
       "</table>\n",
       "</div>"
      ],
      "text/plain": [
       "     Unnamed: 0 Tissue                Cell Type  Min mt count  Max mt count  \\\n",
       "35           35   Skin   keratinocyte stem cell        4101.0       30562.0   \n",
       "73           73   Skin                   T cell        5947.0       31668.0   \n",
       "121         121   Skin               macrophage        3423.0       23924.0   \n",
       "274         274   Skin           epidermal cell         393.0       60934.0   \n",
       "341         341   Skin  basal cell of epidermis          17.0      166106.0   \n",
       "445         445   Skin       bulge keratinocyte         208.0       89225.0   \n",
       "\n",
       "     Mean mt count  Normalized mt/total% Age  \n",
       "35           15681                  1.59  3m  \n",
       "73           18997                  2.66  3m  \n",
       "121          10751                  1.52  3m  \n",
       "274          16473                  1.98  3m  \n",
       "341          15384                  2.11  3m  \n",
       "445          15950                  2.61  3m  "
      ]
     },
     "execution_count": 97,
     "metadata": {},
     "output_type": "execute_result"
    }
   ],
   "source": [
    "df3 = df3m.loc[df3m[\"Tissue\"] == \"Skin\"]\n",
    "df3"
   ]
  },
  {
   "cell_type": "code",
   "execution_count": null,
   "id": "023eda0c",
   "metadata": {},
   "outputs": [],
   "source": []
  },
  {
   "cell_type": "markdown",
   "id": "0959c11d",
   "metadata": {},
   "source": [
    "**Verifying mt_mmm_celltypes function**\n",
    "\n",
    "Checked Adata against mt_mmm_celltypes DataFrame output\n",
    "\n",
    "Tissue: Skin \t\n",
    "\n",
    "cell_ontology_class: keratinocyte stem cell \t"
   ]
  },
  {
   "cell_type": "code",
   "execution_count": 119,
   "id": "ff233817",
   "metadata": {},
   "outputs": [],
   "source": [
    "'''Adata subset of 3m keratinocyte stem cell from skin tissue'''\n",
    "a3mskin_kera= adata_3m_skin[adata_3m_skin.obs['cell_ontology_class'] == \"keratinocyte stem cell\"]"
   ]
  },
  {
   "cell_type": "code",
   "execution_count": 178,
   "id": "74ab1321",
   "metadata": {},
   "outputs": [
    {
     "data": {
      "text/plain": [
       "True"
      ]
     },
     "execution_count": 178,
     "metadata": {},
     "output_type": "execute_result"
    }
   ],
   "source": [
    "'''Cell Type'''\n",
    "df3.iloc[[0],2].item() == a3mskin_kera.obs.cell_ontology_class[0]"
   ]
  },
  {
   "cell_type": "code",
   "execution_count": 179,
   "id": "2620cc0b",
   "metadata": {},
   "outputs": [
    {
     "data": {
      "text/plain": [
       "True"
      ]
     },
     "execution_count": 179,
     "metadata": {},
     "output_type": "execute_result"
    }
   ],
   "source": [
    "'''Min mt count'''\n",
    "sorted(list(a3mskin_kera.obs.total_counts_mt))[0] == (df3.iloc[[0],3]).item()"
   ]
  },
  {
   "cell_type": "code",
   "execution_count": 180,
   "id": "7a0a1dd2",
   "metadata": {},
   "outputs": [
    {
     "data": {
      "text/plain": [
       "True"
      ]
     },
     "execution_count": 180,
     "metadata": {},
     "output_type": "execute_result"
    }
   ],
   "source": [
    "'''Max mt count'''\n",
    "sorted(list(a3mskin_kera.obs.total_counts_mt))[-1] == (df3.iloc[[0],4]).item()"
   ]
  },
  {
   "cell_type": "code",
   "execution_count": 181,
   "id": "86796b9e",
   "metadata": {},
   "outputs": [
    {
     "data": {
      "text/plain": [
       "True"
      ]
     },
     "execution_count": 181,
     "metadata": {},
     "output_type": "execute_result"
    }
   ],
   "source": [
    "'''Mean mt count'''\n",
    "int(statistics.mean(list(a3mskin_kera.obs.total_counts_mt))) == (df3.iloc[[0],5]).item()\n"
   ]
  },
  {
   "cell_type": "code",
   "execution_count": 177,
   "id": "4c5d4cb2",
   "metadata": {},
   "outputs": [
    {
     "data": {
      "text/plain": [
       "True"
      ]
     },
     "execution_count": 177,
     "metadata": {},
     "output_type": "execute_result"
    }
   ],
   "source": [
    "'''Normalized mt/total%'''\n",
    "num = sum(list(a3mskin_kera.obs.total_counts_mt)) / sum(list(a3mskin_kera.obs.total_counts))\n",
    "(round((num*100),2)) == (df3.iloc[[0],6]).item()"
   ]
  },
  {
   "cell_type": "code",
   "execution_count": null,
   "id": "e8f296cf",
   "metadata": {},
   "outputs": [],
   "source": []
  },
  {
   "cell_type": "code",
   "execution_count": 174,
   "id": "febc4752",
   "metadata": {},
   "outputs": [
    {
     "data": {
      "text/plain": [
       "True"
      ]
     },
     "execution_count": 174,
     "metadata": {},
     "output_type": "execute_result"
    }
   ],
   "source": [
    "#df3.iloc[[0],7].item() == a3mskin_kera.obs.age[0] #converts to string and then compare to adata string"
   ]
  },
  {
   "cell_type": "code",
   "execution_count": 165,
   "id": "a198a2ff",
   "metadata": {},
   "outputs": [
    {
     "data": {
      "text/plain": [
       "True"
      ]
     },
     "execution_count": 165,
     "metadata": {},
     "output_type": "execute_result"
    }
   ],
   "source": [
    "(df3.iloc[[0],7] == a3mskin_kera.obs.age[0]).item()#series then item grabbed"
   ]
  },
  {
   "cell_type": "code",
   "execution_count": 182,
   "id": "ccb77475",
   "metadata": {},
   "outputs": [
    {
     "data": {
      "text/plain": [
       "True"
      ]
     },
     "execution_count": 182,
     "metadata": {},
     "output_type": "execute_result"
    }
   ],
   "source": [
    "'''Age'''\n",
    "#df3.iloc[[0],7] == a3mskin_kera.obs.age[0]).values[0]#series to array to single value\n",
    "(df3.iloc[[0],7]).item() == a3mskin_kera.obs.age[0]"
   ]
  },
  {
   "cell_type": "code",
   "execution_count": 187,
   "id": "09c46e99",
   "metadata": {},
   "outputs": [
    {
     "name": "stdout",
     "output_type": "stream",
     "text": [
      "You are not a fraud\n"
     ]
    }
   ],
   "source": [
    "'''Comparing pandas dataframe values to adata values for validation'''\n",
    "\n",
    "#Adata subset of 3m keratinocyte stem cell from skin tissue\n",
    "a3mskin_kera= adata_3m_skin[adata_3m_skin.obs['cell_ontology_class'] == \"keratinocyte stem cell\"]\n",
    "\n",
    "#cell type\n",
    "a = (df3.iloc[[0],2]).item()\n",
    "b = a3mskin_kera.obs.cell_ontology_class[0]\n",
    "\n",
    "#Min mt count\n",
    "c = sorted(list(a3mskin_kera.obs.total_counts_mt))[0]\n",
    "d = (df3.iloc[[0],3]).item()\n",
    "#Max mt count\n",
    "e = sorted(list(a3mskin_kera.obs.total_counts_mt))[-1]\n",
    "f = (df3.iloc[[0],4]).item()\n",
    "#Mean mt count\n",
    "g = int(statistics.mean(list(a3mskin_kera.obs.total_counts_mt)))\n",
    "h = (df3.iloc[[0],5]).item()\n",
    "#Normalized mt/total%\n",
    "num = sum(list(a3mskin_kera.obs.total_counts_mt)) / sum(list(a3mskin_kera.obs.total_counts))\n",
    "i = (round((num*100),2))\n",
    "j = (df3.iloc[[0],6]).item()\n",
    "#Age\n",
    "k = (df3.iloc[[0],7]).item()\n",
    "l = a3mskin_kera.obs.age[0]\n",
    " \n",
    "\n",
    "\n",
    "if a==b and c==d and e==f and g==h and i==j and k==l:\n",
    "    print('You are not a fraud')\n"
   ]
  },
  {
   "cell_type": "code",
   "execution_count": null,
   "id": "d5446c2e",
   "metadata": {},
   "outputs": [],
   "source": [
    "   "
   ]
  },
  {
   "cell_type": "code",
   "execution_count": null,
   "id": "b1868e8f",
   "metadata": {},
   "outputs": [],
   "source": []
  }
 ],
 "metadata": {
  "kernelspec": {
   "display_name": "Python 3",
   "language": "python",
   "name": "python3"
  },
  "language_info": {
   "codemirror_mode": {
    "name": "ipython",
    "version": 3
   },
   "file_extension": ".py",
   "mimetype": "text/x-python",
   "name": "python",
   "nbconvert_exporter": "python",
   "pygments_lexer": "ipython3",
   "version": "3.8.8"
  }
 },
 "nbformat": 4,
 "nbformat_minor": 5
}
