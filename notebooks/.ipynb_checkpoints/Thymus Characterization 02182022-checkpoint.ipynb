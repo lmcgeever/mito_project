{
 "cells": [
  {
   "cell_type": "markdown",
   "id": "c2084322",
   "metadata": {},
   "source": [
    "# Setup and Config"
   ]
  },
  {
   "cell_type": "code",
   "execution_count": null,
   "id": "5ecd85cc",
   "metadata": {},
   "outputs": [],
   "source": [
    "import pandas as pd\n",
    "import scanpy as sc\n",
    "import numpy as np\n",
    "import seaborn as sns\n",
    "import anndata as ad\n",
    "import PyPDF2\n",
    "import matplotlib.pyplot as plt\n",
    "import statistics as st\n",
    "from pathlib import Path\n",
    "import scipy.stats as stats\n",
    "from collections import defaultdict\n",
    "\n",
    "\n",
    "\n",
    "#Adata Files\n",
    "adata_processed = \"/mnt/ibm_sm/home/lea.mcgeever/ms/notebooks/adata_files/adata_processed__02172022.h5ad\"\n",
    "adata = sc.read_h5ad(adata_processed)\n",
    "\n",
    "adata_tissue = \"/mnt/ibm_sm/home/lea.mcgeever/ms/notebooks/adata_files/adata_thymus_processed_02172022.h5ad\"\n",
    "tissue = sc.read_h5ad(adata_tissue)\n",
    "\n",
    "#tissue_sg_path = \"/mnt/ibm_sm/home/lea.mcgeever/ms/notebooks/adata_files/tissue_sg1_02172022.h5ad\"\n",
    "#tissue_sg1 = sc.read_h5ad(tissue_sg_path)\n",
    "\n",
    "#don't currently need\n",
    "#tissue_gene_scores_path = \"/mnt/ibm_sm/home/lea.mcgeever/ms/notebooks/adata_files/tissue_gene_scores.h5ad\"\n",
    "#tissue_gene_scores = sc.read_h5ad(tissue_gene_scores_path)\n",
    "\n",
    "sc.settings.verbosity = 3             \n",
    "sc.logging.print_header()\n",
    "sc.settings.set_figure_params(dpi=80, facecolor='white')"
   ]
  },
  {
   "cell_type": "code",
   "execution_count": null,
   "id": "4dfcfaf1",
   "metadata": {},
   "outputs": [],
   "source": [
    "adata_tissue = \"/mnt/ibm_sm/home/lea.mcgeever/ms/notebooks/adata_files/adata_thymus_processed_02172022.h5ad\"\n",
    "tissue = sc.read_h5ad(adata_tissue)"
   ]
  },
  {
   "cell_type": "markdown",
   "id": "e5840578",
   "metadata": {},
   "source": [
    "# Clustering"
   ]
  },
  {
   "cell_type": "code",
   "execution_count": null,
   "id": "69932877",
   "metadata": {},
   "outputs": [],
   "source": [
    "adata_thymus = adata[adata.obs['tissue'] == \"Thymus\"].copy()\n",
    "sc.pp.pca(adata_thymus)\n",
    "sc.pp.neighbors(adata_thymus, n_pcs=9)\n",
    "sc.tl.leiden(adata_thymus) \n",
    "sc.tl.umap(adata_thymus)"
   ]
  },
  {
   "cell_type": "code",
   "execution_count": null,
   "id": "61c48429",
   "metadata": {},
   "outputs": [],
   "source": [
    "#adata_thymus_processed = \"/mnt/ibm_sm/home/lea.mcgeever/ms/notebooks/adata_files/adata_thymus_processed_02172022.h5ad\"\n",
    "#adata_thymus.write(adata_thymus_processed)"
   ]
  },
  {
   "cell_type": "code",
   "execution_count": null,
   "id": "1e21f032",
   "metadata": {},
   "outputs": [],
   "source": [
    "sc.pl.pca_overview(tissue, color = 'cell_ontology_class')"
   ]
  },
  {
   "cell_type": "markdown",
   "id": "a247efe8",
   "metadata": {},
   "source": [
    "# Looking at clustering consistency"
   ]
  },
  {
   "cell_type": "code",
   "execution_count": null,
   "id": "4f8e1c55",
   "metadata": {},
   "outputs": [],
   "source": [
    "sc.pl.umap(tissue, color = ['leiden', 'free_annotation'])\n"
   ]
  },
  {
   "cell_type": "code",
   "execution_count": null,
   "id": "005b9d69",
   "metadata": {},
   "outputs": [],
   "source": [
    "#sc.pl.umap(tissue_sg1, color = ['S_score', 'G2M_score'])\n",
    "#reprocess & cluster tissue_sg1"
   ]
  },
  {
   "cell_type": "code",
   "execution_count": null,
   "id": "596cf3a9",
   "metadata": {},
   "outputs": [],
   "source": [
    "sc.pl.umap(tissue, color = ['leiden', 'cell_ontology_class'])\n"
   ]
  },
  {
   "cell_type": "code",
   "execution_count": null,
   "id": "28ca02ff",
   "metadata": {},
   "outputs": [],
   "source": [
    "sc.pl.umap(tissue, color = ['leiden', 'cell_ontology_class'])"
   ]
  },
  {
   "cell_type": "code",
   "execution_count": null,
   "id": "ff981efb",
   "metadata": {},
   "outputs": [],
   "source": [
    "sc.pl.umap(tissue, color = ['leiden', 'cell_ontology_class'])\n"
   ]
  },
  {
   "cell_type": "code",
   "execution_count": null,
   "id": "4edd7b9b",
   "metadata": {},
   "outputs": [],
   "source": [
    "sc.pl.umap(tissue, color = ['leiden', 'cell_ontology_class'])"
   ]
  },
  {
   "cell_type": "markdown",
   "id": "e9c72857",
   "metadata": {},
   "source": [
    "# Characterize cell proportions across ages"
   ]
  },
  {
   "cell_type": "code",
   "execution_count": null,
   "id": "03650dc1",
   "metadata": {},
   "outputs": [],
   "source": [
    "tis_cells = list(set(tissue.obs['cell_ontology_class']))\n",
    "ages = ['3m','18m','24m']"
   ]
  },
  {
   "cell_type": "code",
   "execution_count": null,
   "id": "4c555495",
   "metadata": {},
   "outputs": [],
   "source": [
    "from collections import defaultdict\n",
    "\n",
    "def cell_per_tissue(celltypelist, adata):\n",
    "    ''' Input is cell type list. Output is a pandas DataFrame \n",
    "    of the percentage of that cell type for inputted subsetted adata tissue object'''\n",
    "    \n",
    "    data = defaultdict(list)\n",
    "    \n",
    "    for a in ages:\n",
    "        b = adata[adata.obs['age']== a]#filter by age\n",
    "        for e in celltypelist:#going through keys/tissue types       \n",
    "            c = b[b.obs['cell_ontology_class']== e]#have adata filtered by cell types in list\n",
    "            tissue_cell_count = adata.n_obs\n",
    "            data[\"Age\"].append(a)\n",
    "            data[\"Cell Type\"].append(e)\n",
    "            data[\"Cell Count\"].append(c.n_obs)\n",
    "            data[\"Cell Type/Tissue %\"].append((c.n_obs/b.n_obs)*100)\n",
    "            \n",
    "    df = pd.DataFrame(data)\n",
    "    return df"
   ]
  },
  {
   "cell_type": "code",
   "execution_count": null,
   "id": "0dc55693",
   "metadata": {},
   "outputs": [],
   "source": [
    "df = cell_per_tissue(tis_cells,tissue)\n",
    "\n",
    "sns.set_style('whitegrid')\n",
    "fig = plt.figure(figsize=(17, 5))\n",
    "plt.xticks(rotation=90)\n",
    "sns.set(font_scale =1)\n",
    "sns.barplot(data=df, y=\"Cell Type/Tissue %\", x=\"Cell Type\", hue = \"Age\").set(title=\"Cell Type % of Thymus\")"
   ]
  },
  {
   "cell_type": "code",
   "execution_count": null,
   "id": "ecc04ebb",
   "metadata": {},
   "outputs": [],
   "source": [
    "mouse_ids = list(set(tissue.obs['mouse.id']))"
   ]
  },
  {
   "cell_type": "code",
   "execution_count": null,
   "id": "df634a97",
   "metadata": {},
   "outputs": [],
   "source": [
    "from collections import defaultdict\n",
    "\n",
    "def cell_per_tissue2(a_list, adata):\n",
    "    ''' Input is list and adata tissue object. Output is a pandas DataFrame \n",
    "    of the percentage of that cell type for inputted subsetted adata tissue object'''\n",
    "    \n",
    "    data = defaultdict(list)\n",
    "    \n",
    "    for a in a_list:\n",
    "        b = adata[adata.obs['mouse.id']== a]#filter by mouse\n",
    "        for c in tis_cells:       \n",
    "            d = b[b.obs['cell_ontology_class']== c]#have adata filtered by cell types in list\n",
    "            tissue_cell_count = b.n_obs\n",
    "            \n",
    "            data[\"mouse.id\"].append(a)\n",
    "            data[\"Cell Type\"].append(c)\n",
    "            data[\"Cell Count\"].append(d.n_obs)\n",
    "            data[\"Cell Type/Tissue %\"].append((d.n_obs/b.n_obs)*100)\n",
    "            \n",
    "    df = pd.DataFrame(data)\n",
    "    return df"
   ]
  },
  {
   "cell_type": "code",
   "execution_count": null,
   "id": "11e9d62e",
   "metadata": {},
   "outputs": [],
   "source": [
    "df2=cell_per_tissue2(mouse_ids,tissue)"
   ]
  },
  {
   "cell_type": "code",
   "execution_count": null,
   "id": "b45e9c2f",
   "metadata": {},
   "outputs": [],
   "source": [
    "#help(pd.DataFrame.agg)"
   ]
  },
  {
   "cell_type": "code",
   "execution_count": null,
   "id": "d9239b7d",
   "metadata": {},
   "outputs": [],
   "source": [
    "#help(pd.DataFrame.groupby)"
   ]
  },
  {
   "cell_type": "code",
   "execution_count": null,
   "id": "bb7082ba",
   "metadata": {},
   "outputs": [],
   "source": [
    "#help(pd.DataFrame.aggregate)"
   ]
  },
  {
   "cell_type": "code",
   "execution_count": null,
   "id": "6914a72f",
   "metadata": {},
   "outputs": [],
   "source": [
    "df2.groupby([\"mouse.id\"])[[\"Cell Type/Tissue %\"]].sum()#don't think i need\n",
    "dd = df2.groupby([\"mouse.id\", \"Cell Type\"]).sum()\n",
    "dd"
   ]
  },
  {
   "cell_type": "code",
   "execution_count": null,
   "id": "43faa52f",
   "metadata": {},
   "outputs": [],
   "source": [
    "dd = dd.reset_index('Cell Type')\n",
    "dd"
   ]
  },
  {
   "cell_type": "markdown",
   "id": "d45102cf",
   "metadata": {},
   "source": [
    "Pivoting pandas DataFrame so that Cell Type column values becomes columns, and Cell Type/Tissue % populate new columns."
   ]
  },
  {
   "cell_type": "code",
   "execution_count": null,
   "id": "20b01f3a",
   "metadata": {},
   "outputs": [],
   "source": [
    "tmp = dd.pivot_table(values='Cell Type/Tissue %', columns=\"Cell Type\", index=dd.index)\n",
    "tmp"
   ]
  },
  {
   "cell_type": "markdown",
   "id": "483ca71f",
   "metadata": {},
   "source": [
    "Reordering mouse.id X axis"
   ]
  },
  {
   "cell_type": "code",
   "execution_count": null,
   "id": "f55ff09b",
   "metadata": {},
   "outputs": [],
   "source": [
    "mouse_id_order = [\n",
    "    '3_8_M', \n",
    "    '3_9_M',\n",
    "    '3_11_M', \n",
    "    '3_38_F', \n",
    "    '3_39_F', \n",
    "    '18_45_M', \n",
    "    '18_46_F', \n",
    "    '18_47_F', \n",
    "    '18_53_M', \n",
    "    '24_58_M', \n",
    "    '24_59_M',\n",
    "    '24_60_M', \n",
    "    '24_61_M', \n",
    "]\n",
    "\n",
    "tmp = tmp.reindex(mouse_id_order)"
   ]
  },
  {
   "cell_type": "markdown",
   "id": "1533a8ce",
   "metadata": {},
   "source": [
    "**Cell Type % of Thymus per Mouse**"
   ]
  },
  {
   "cell_type": "code",
   "execution_count": null,
   "id": "e7df2759",
   "metadata": {},
   "outputs": [],
   "source": [
    "tmp.plot(kind='bar', stacked=True, figsize=(12, 10), color = ['pink','indigo','gold','royalblue','mediumorchid','powderblue'])\n",
    "plt.legend(bbox_to_anchor=(1.02, 1), loc='upper left', borderaxespad=0, facecolor = 'white')\n",
    "plt.title(\"Cell Type % of Thymus per Mouse\")\n",
    "plt.ylabel('Cell Type %')\n",
    "ax = plt.axes()\n",
    "ax.set_facecolor(\"white\")\n"
   ]
  },
  {
   "cell_type": "markdown",
   "id": "24629a58",
   "metadata": {},
   "source": [
    "**Cell Type % of Thymus by Age**"
   ]
  },
  {
   "cell_type": "code",
   "execution_count": null,
   "id": "0314c366",
   "metadata": {},
   "outputs": [],
   "source": [
    "from collections import defaultdict\n",
    "\n",
    "def cell_per_age(a_list, adata):\n",
    "    ''' Input is list and adata tissue object. Output is a pandas DataFrame \n",
    "    of the percentage of that cell type by age for inputted subsetted adata tissue object'''\n",
    "    \n",
    "    data = defaultdict(list)\n",
    "    \n",
    "    for a in a_list:\n",
    "        b = adata[adata.obs['age']== a]#filter by age\n",
    "        for c in tis_cells:       \n",
    "            d = b[b.obs['cell_ontology_class']== c]#have adata filtered by cell types in list\n",
    "            tissue_cell_count = b.n_obs\n",
    "            \n",
    "            data[\"age\"].append(a)\n",
    "            data[\"Cell Type\"].append(c)\n",
    "            #data[\"Cell Count\"].append(d.n_obs)\n",
    "            data[\"Cell Type/Tissue %\"].append((d.n_obs/b.n_obs)*100)\n",
    "            \n",
    "    df = pd.DataFrame(data)\n",
    "    return df"
   ]
  },
  {
   "cell_type": "code",
   "execution_count": null,
   "id": "3326aa29",
   "metadata": {},
   "outputs": [],
   "source": [
    "ac = cell_per_age(ages,tissue)"
   ]
  },
  {
   "cell_type": "code",
   "execution_count": null,
   "id": "6fb8ea2c",
   "metadata": {},
   "outputs": [],
   "source": [
    "ad = ac.groupby([\"age\", \"Cell Type\"]).sum()"
   ]
  },
  {
   "cell_type": "code",
   "execution_count": null,
   "id": "bae16549",
   "metadata": {},
   "outputs": [],
   "source": [
    "ad = ad.reset_index('Cell Type')"
   ]
  },
  {
   "cell_type": "code",
   "execution_count": null,
   "id": "d1f26c2f",
   "metadata": {},
   "outputs": [],
   "source": [
    "ae = ad.pivot_table(values='Cell Type/Tissue %', columns=\"Cell Type\", index=ad.index)\n",
    "ae = ae.reindex(ages)"
   ]
  },
  {
   "cell_type": "code",
   "execution_count": null,
   "id": "4e16e646",
   "metadata": {},
   "outputs": [],
   "source": [
    "ae.plot(kind='bar', stacked=True, figsize=(4, 5), color = ['pink','indigo','gold','royalblue','mediumorchid','powderblue'])\n",
    "plt.legend(bbox_to_anchor=(1.02, 1), loc='upper left', borderaxespad=0, facecolor = 'white')\n",
    "plt.title(\"Cell Type % of Thymus by Age\")\n",
    "plt.ylabel('Cell Type %')\n",
    "ax = plt.axes()\n",
    "ax.set_facecolor(\"white\")"
   ]
  },
  {
   "cell_type": "markdown",
   "id": "eadc1372",
   "metadata": {},
   "source": [
    "**Variance of Cell Type % of Thymus across Age**"
   ]
  },
  {
   "cell_type": "markdown",
   "id": "60950197",
   "metadata": {},
   "source": [
    "* I'd like to break apart the macrophage cluster (shows two leiden clusters) into two categories and plot"
   ]
  },
  {
   "cell_type": "code",
   "execution_count": null,
   "id": "818ee1b6",
   "metadata": {},
   "outputs": [],
   "source": [
    "sns.catplot(data = ad, x = 'Cell Type', y = 'Cell Type/Tissue %', kind = \"box\", palette=sns.color_palette(['pink','indigo','gold','royalblue','mediumorchid','powderblue']))\n",
    "plt.title(\"Variance of Cell Type % of Thymus across Age\")\n",
    "sns.set_style(\"whitegrid\")\n",
    "plt.xticks(rotation=90);\n"
   ]
  },
  {
   "cell_type": "code",
   "execution_count": null,
   "id": "21a0feea",
   "metadata": {},
   "outputs": [],
   "source": []
  },
  {
   "cell_type": "code",
   "execution_count": null,
   "id": "780af7a8",
   "metadata": {},
   "outputs": [],
   "source": []
  },
  {
   "cell_type": "code",
   "execution_count": null,
   "id": "1c2907a7",
   "metadata": {},
   "outputs": [],
   "source": [
    "def remove_cats(adata):\n",
    "\n",
    "    cat_columns = adata.obs.select_dtypes(['category']).columns\n",
    "    adata.obs[cat_columns] = adata.obs[cat_columns].astype(str)\n",
    "    \n",
    "    return adata"
   ]
  },
  {
   "cell_type": "code",
   "execution_count": null,
   "id": "60e394b8",
   "metadata": {},
   "outputs": [],
   "source": [
    "tissue2 = remove_cats(tissue)"
   ]
  },
  {
   "cell_type": "code",
   "execution_count": null,
   "id": "4f13f7cc",
   "metadata": {},
   "outputs": [],
   "source": [
    "'''Angela showing me some pandas tricks and suggestions'''\n",
    "\n",
    "pd.DataFrame(tissue2.obs.groupby([\"age\",'mouse.id', 'cell_ontology_class']).agg({\"mouse.id\":[len]}))\n",
    "#make a dataframe and count by mouse.id, aggregate\n",
    "#seaborn, 3 columns x = cell, hue =age y = len"
   ]
  },
  {
   "cell_type": "code",
   "execution_count": null,
   "id": "0dc9b29f",
   "metadata": {},
   "outputs": [],
   "source": []
  },
  {
   "cell_type": "code",
   "execution_count": null,
   "id": "0da0971a",
   "metadata": {},
   "outputs": [],
   "source": []
  },
  {
   "cell_type": "code",
   "execution_count": null,
   "id": "c8c9e976",
   "metadata": {},
   "outputs": [],
   "source": []
  },
  {
   "cell_type": "code",
   "execution_count": null,
   "id": "74f97b73",
   "metadata": {},
   "outputs": [],
   "source": []
  },
  {
   "cell_type": "markdown",
   "id": "486dec2e",
   "metadata": {
    "heading_collapsed": true
   },
   "source": [
    "# Gene lists for macrophage subtypes"
   ]
  },
  {
   "cell_type": "markdown",
   "id": "4979d0dd",
   "metadata": {
    "hidden": true
   },
   "source": [
    "**The transcription factor NR4A1 is essential for the development of a novel macrophage subset in the thymus** by Tacke et al.\n",
    "\n",
    "https://pubmed.ncbi.nlm.nih.gov/26091486/\n",
    "2015 Jun 19;5:10055.\n",
    "doi: 10.1038/srep10055. "
   ]
  },
  {
   "cell_type": "code",
   "execution_count": null,
   "id": "68691128",
   "metadata": {
    "hidden": true
   },
   "outputs": [],
   "source": [
    "'''Thymic macropahge subset of CD11b−F4/80+'''\n",
    "\n",
    "CD11b_neg_F4_80_pos_express = ['Tim4','CD45', 'CSF1R','Mertk', 'CD64','MHCII']\n",
    "#enrichment Axl, Tyro3, Mfg-e8\n",
    "CD11b_neg_F4_80_pos_repress = ['Ly6C','CD11c','Siglec F','Ly6G', 'Dx5','B220']\n"
   ]
  },
  {
   "cell_type": "markdown",
   "id": "76aa1be0",
   "metadata": {
    "hidden": true
   },
   "source": [
    "\"Tim4 was used as a marker for thymic CD11b−F4/80+ cells during the histological analysis due to the exclusive expression within this population in the thymus.\""
   ]
  },
  {
   "cell_type": "code",
   "execution_count": null,
   "id": "b9987c3e",
   "metadata": {
    "hidden": true
   },
   "outputs": [],
   "source": []
  },
  {
   "cell_type": "code",
   "execution_count": null,
   "id": "255f84aa",
   "metadata": {
    "hidden": true
   },
   "outputs": [],
   "source": []
  },
  {
   "cell_type": "markdown",
   "id": "86dca676",
   "metadata": {
    "heading_collapsed": true
   },
   "source": [
    "# ID macrophage subtype clusters"
   ]
  },
  {
   "cell_type": "code",
   "execution_count": null,
   "id": "8a87ce7a",
   "metadata": {
    "hidden": true
   },
   "outputs": [],
   "source": []
  },
  {
   "cell_type": "code",
   "execution_count": null,
   "id": "74d5943a",
   "metadata": {
    "hidden": true
   },
   "outputs": [],
   "source": []
  },
  {
   "cell_type": "code",
   "execution_count": null,
   "id": "d070d100",
   "metadata": {
    "hidden": true
   },
   "outputs": [],
   "source": []
  },
  {
   "cell_type": "code",
   "execution_count": null,
   "id": "95b05f9b",
   "metadata": {
    "hidden": true
   },
   "outputs": [],
   "source": []
  },
  {
   "cell_type": "code",
   "execution_count": null,
   "id": "8e22955b",
   "metadata": {
    "hidden": true
   },
   "outputs": [],
   "source": []
  },
  {
   "cell_type": "code",
   "execution_count": null,
   "id": "2fba589d",
   "metadata": {
    "hidden": true
   },
   "outputs": [],
   "source": []
  },
  {
   "cell_type": "markdown",
   "id": "270e29c8",
   "metadata": {},
   "source": [
    "# Characterize alterations of macropahge MT reads across ages"
   ]
  },
  {
   "cell_type": "markdown",
   "id": "83beb187",
   "metadata": {},
   "source": [
    "The **MitoCarta3.0** mouse inventory is a collection of 1140 nuclear and mtDNA genes encoding proteins with strong support of mitochondrial localization. This table provides a summary of evidence supporting mitochondrial localization, the protein distribution across 14 tissues, as well as annotation of biological pathways (based on manual literature review) and sub-compartment (based on annotator's \"best guess\" integrating sequence features, experimental data, literature, and pathway context; note all subunits of protein complexes are assigned the same compartment). The genes are ordered by strength of mitochondrial evidence. More complete information is available for download in file Mouse.MitoCarta3.0.xls. See also MitoCarta3.0 home for a description of the project and MitoCarta3.0 documentation for information on the columns below. "
   ]
  },
  {
   "cell_type": "code",
   "execution_count": null,
   "id": "5fba1921",
   "metadata": {},
   "outputs": [],
   "source": [
    "help(sc.pp.highly_variable_genes)"
   ]
  },
  {
   "cell_type": "markdown",
   "id": "91f56f04",
   "metadata": {},
   "source": [
    "## MitoCarta3.0 Gene List"
   ]
  },
  {
   "cell_type": "code",
   "execution_count": null,
   "id": "a9ef12a7",
   "metadata": {},
   "outputs": [],
   "source": [
    "mitocarta3_path = \"/mnt/ibm_sm/home/lea.mcgeever/ms/notebooks/Mouse_mt_genes.csv\"\n",
    "mitocarta3_df = pd.read_csv(mitocarta3_path)\n",
    "mt_nc_genes = list(mitocarta3_df['Symbol'])"
   ]
  },
  {
   "cell_type": "markdown",
   "id": "d32209da",
   "metadata": {},
   "source": [
    "## MT Gene List"
   ]
  },
  {
   "cell_type": "code",
   "execution_count": null,
   "id": "701dd374",
   "metadata": {},
   "outputs": [],
   "source": [
    "mt_genes = [\n",
    "    \"mt-Atp6\",\n",
    "    \"mt-Atp8\",\n",
    "    \"mt-Co1\",\n",
    "    \"mt-Co2\",\n",
    "    \"mt-Co3\",\n",
    "    \"mt-Cytb\",\n",
    "    \"mt-Nd1\",\n",
    "    \"mt-Nd2\",\n",
    "    \"mt-Nd3\",\n",
    "    \"mt-Nd4\",\n",
    "    \"mt-Nd4l\",\n",
    "    \"mt-Nd5\",\n",
    "    \"mt-Nd6\",\n",
    "    \"mt-Rnr1\",\n",
    "    \"mt-Rnr2\",\n",
    "    \"mt-Ta\",\n",
    "    \"mt-Te\",\n",
    "    \"mt-Tf\",\n",
    "    \"mt-Ti\",\n",
    "    \"mt-Tl1\",\n",
    "     \"mt-Tl2\",\n",
    "    \"mt-Tm\",\n",
    "    \"mt-Tp\",\n",
    "    \"mt-Tq\",\n",
    "    \"mt-Tt\",\n",
    "    \"mt-Tv\"\n",
    "]\n",
    "\n",
    "mitocarta_remove = [\"mt-Atp6\",\n",
    "                    \"mt-Atp8\",\n",
    "                    \"mt-Co1\",\n",
    "                    \"mt-Co2\",\n",
    "                    \"mt-Co3\",\n",
    "                    \"mt-Cytb\",\n",
    "                    \"mt-Nd1\",\n",
    "                    \"mt-Nd2\",\n",
    "                    \"mt-Nd3\",\n",
    "                    \"mt-Nd4\",\n",
    "                    \"mt-Nd4l\",\n",
    "                    \"mt-Nd5\",\n",
    "                    \"mt-Nd6\"]\n",
    "\n",
    "#removing mt_encoded genes\n",
    "for m in mitocarta_remove:\n",
    "    mt_nc_genes.remove(m)"
   ]
  },
  {
   "cell_type": "markdown",
   "id": "38f7ed91",
   "metadata": {},
   "source": [
    "Genes not in adata.vars"
   ]
  },
  {
   "cell_type": "code",
   "execution_count": null,
   "id": "c34d4f97",
   "metadata": {},
   "outputs": [],
   "source": [
    "ignored = ['Gatd3a', 'Micos10', 'Fdx2', 'Mmut', 'Atp5pb', 'Mtarc2', 'Micos13', 'Mtres1', 'Coa8', 'Tmlhe', 'Mtarc1', 'Prxl2a', 'Marchf5', 'Dmac2l', 'Atp5md', 'Antkmt', 'Atpsckmt', 'Septin4', 'Prorp', 'Htd2', 'Pigbos1']\n"
   ]
  },
  {
   "cell_type": "markdown",
   "id": "80ecca44",
   "metadata": {},
   "source": [
    "Mitocarta3.0 nuclear genes combined with mitochondrial genes"
   ]
  },
  {
   "cell_type": "code",
   "execution_count": null,
   "id": "bcabb77d",
   "metadata": {},
   "outputs": [],
   "source": [
    "mt_nc = mt_genes + mt_nc_genes"
   ]
  },
  {
   "cell_type": "code",
   "execution_count": null,
   "id": "35e972e9",
   "metadata": {},
   "outputs": [],
   "source": [
    "def gene_expression_df(adata, genelist):\n",
    "    '''Takes adata object and a list of genes. \n",
    "    Returns a pandas dataframe where genes and their expression scores are columns in dataframe of adata.'''\n",
    "    df = adata.obs.copy()\n",
    "    \n",
    "    for g in genelist:\n",
    "        df[g] = tissue[:,g].X.toarray().flatten()\n",
    "    return df   "
   ]
  },
  {
   "cell_type": "code",
   "execution_count": null,
   "id": "a2cf340e",
   "metadata": {},
   "outputs": [],
   "source": [
    "'''Removing genes from MitoCarta gene list that are not in vars'''\n",
    "\n",
    "genes = list(mt_nc.copy())\n",
    "\n",
    "for i in range(len(ignored)):\n",
    "    for i in ignored:\n",
    "        if i in genes:\n",
    "            genes.remove(i)   "
   ]
  },
  {
   "cell_type": "code",
   "execution_count": null,
   "id": "284c783e",
   "metadata": {},
   "outputs": [],
   "source": [
    "dupe_genes = []\n",
    "for g in genes:\n",
    "    count = genes.count(g)\n",
    "    if count > 1:\n",
    "        dupe_genes.append(g)\n",
    "print(f'There are {len(dupe_genes)} duplicate genes in genes list')"
   ]
  },
  {
   "cell_type": "code",
   "execution_count": null,
   "id": "7049f477",
   "metadata": {},
   "outputs": [],
   "source": [
    "df_nc_mt = gene_expression_df(tissue,genes)"
   ]
  },
  {
   "cell_type": "code",
   "execution_count": null,
   "id": "9ed28927",
   "metadata": {},
   "outputs": [],
   "source": [
    "'''Getting column names that are not genes'''\n",
    "columns = set(df_nc_mt.columns)\n",
    "\n",
    "og_obs = []\n",
    "for c in columns:\n",
    "    if c not in genes:\n",
    "        og_obs.append(c)"
   ]
  },
  {
   "cell_type": "code",
   "execution_count": null,
   "id": "65aa56cc",
   "metadata": {},
   "outputs": [],
   "source": [
    "len(og_obs) + len(genes) ==len(list(df_nc_mt.columns))"
   ]
  },
  {
   "cell_type": "code",
   "execution_count": null,
   "id": "948b0e61",
   "metadata": {},
   "outputs": [],
   "source": [
    "'''Checking that all MT genes are in genes (mt_nc) list'''\n",
    "\n",
    "for m in mt_genes:\n",
    "    if m in mt_nc:\n",
    "        print(m,'yes')\n",
    "    else:\n",
    "        print(m, 'no')      "
   ]
  },
  {
   "cell_type": "markdown",
   "id": "39815633",
   "metadata": {},
   "source": [
    "## MT and MitoCarta score_genes"
   ]
  },
  {
   "cell_type": "markdown",
   "id": "c8c04022",
   "metadata": {},
   "source": [
    "**Function for looping through MT and Mitocarta gene list for sc.tl.score_genes()**"
   ]
  },
  {
   "cell_type": "code",
   "execution_count": 361,
   "id": "03703aaf",
   "metadata": {},
   "outputs": [
    {
     "name": "stdout",
     "output_type": "stream",
     "text": [
      "Help on function score_genes_cell_cycle in module scanpy.tools._score_genes:\n",
      "\n",
      "score_genes_cell_cycle(adata: anndata._core.anndata.AnnData, s_genes: Sequence[str], g2m_genes: Sequence[str], copy: bool = False, **kwargs) -> Union[anndata._core.anndata.AnnData, NoneType]\n",
      "    Score cell cycle genes [Satija15]_.\n",
      "    \n",
      "    Given two lists of genes associated to S phase and G2M phase, calculates\n",
      "    scores and assigns a cell cycle phase (G1, S or G2M). See\n",
      "    :func:`~scanpy.tl.score_genes` for more explanation.\n",
      "    \n",
      "    Parameters\n",
      "    ----------\n",
      "    adata\n",
      "        The annotated data matrix.\n",
      "    s_genes\n",
      "        List of genes associated with S phase.\n",
      "    g2m_genes\n",
      "        List of genes associated with G2M phase.\n",
      "    copy\n",
      "        Copy `adata` or modify it inplace.\n",
      "    **kwargs\n",
      "        Are passed to :func:`~scanpy.tl.score_genes`. `ctrl_size` is not\n",
      "        possible, as it's set as `min(len(s_genes), len(g2m_genes))`.\n",
      "    \n",
      "    Returns\n",
      "    -------\n",
      "    Depending on `copy`, returns or updates `adata` with the following fields.\n",
      "    \n",
      "    **S_score** : `adata.obs`, dtype `object`\n",
      "        The score for S phase for each cell.\n",
      "    **G2M_score** : `adata.obs`, dtype `object`\n",
      "        The score for G2M phase for each cell.\n",
      "    **phase** : `adata.obs`, dtype `object`\n",
      "        The cell cycle phase (`S`, `G2M` or `G1`) for each cell.\n",
      "    \n",
      "    See also\n",
      "    --------\n",
      "    score_genes\n",
      "    \n",
      "    Examples\n",
      "    --------\n",
      "    See this `notebook <https://github.com/theislab/scanpy_usage/tree/master/180209_cell_cycle>`__.\n",
      "\n"
     ]
    }
   ],
   "source": [
    "help(sc.tl.score_genes_cell_cycle)"
   ]
  },
  {
   "cell_type": "markdown",
   "id": "ab3cbe43",
   "metadata": {},
   "source": [
    "**Save MT score_genes result** (unhash if doing for the first time)\n",
    "\n",
    "* score_genes_cell_cycle(adata, s_genes, g2m_genes)\n",
    "* mt_genes -> s_genes\n",
    "* mt_nc_genes -> g2m_genes"
   ]
  },
  {
   "cell_type": "code",
   "execution_count": 367,
   "id": "8de5be73",
   "metadata": {},
   "outputs": [
    {
     "name": "stdout",
     "output_type": "stream",
     "text": [
      "calculating cell cycle phase\n",
      "computing score 'S_score'\n",
      "    finished: added\n",
      "    'S_score', score of gene set (adata.obs).\n",
      "    234 total control genes are used. (0:00:00)\n",
      "computing score 'G2M_score'\n",
      "WARNING: genes are not in var_names and ignored: ['Gatd3a', 'Micos10', 'Fdx2', 'Mmut', 'Atp5pb', 'Mtarc2', 'Micos13', 'Mtres1', 'Coa8', 'Tmlhe', 'Mtarc1', 'Prxl2a', 'Marchf5', 'Dmac2l', 'Atp5md', 'Antkmt', 'Atpsckmt', 'Septin4', 'Prorp', 'Htd2', 'Pigbos1']\n",
      "    finished: added\n",
      "    'G2M_score', score of gene set (adata.obs).\n",
      "    505 total control genes are used. (0:00:00)\n",
      "-->     'phase', cell cycle phase (adata.obs)\n"
     ]
    }
   ],
   "source": [
    "#tissue_score_genes = sc.tl.score_genes_cell_cycle(tissue, mt_genes, mt_nc_genes, copy = True)"
   ]
  },
  {
   "cell_type": "code",
   "execution_count": 368,
   "id": "ba8c5e72",
   "metadata": {},
   "outputs": [],
   "source": [
    "tissue_score_genes_path = \"/mnt/ibm_sm/home/lea.mcgeever/ms/notebooks/adata_files/tissue_sg1_02172022.h5ad\"\n",
    "#tissue_sg1.write(tissue_score_genes_path)"
   ]
  },
  {
   "cell_type": "code",
   "execution_count": 372,
   "id": "cf711c19",
   "metadata": {},
   "outputs": [],
   "source": [
    "tissue_sg1 = sc.read_h5ad(tissue_score_genes_path)"
   ]
  },
  {
   "cell_type": "code",
   "execution_count": 374,
   "id": "8a116b5d",
   "metadata": {},
   "outputs": [
    {
     "data": {
      "text/html": [
       "<div>\n",
       "<style scoped>\n",
       "    .dataframe tbody tr th:only-of-type {\n",
       "        vertical-align: middle;\n",
       "    }\n",
       "\n",
       "    .dataframe tbody tr th {\n",
       "        vertical-align: top;\n",
       "    }\n",
       "\n",
       "    .dataframe thead th {\n",
       "        text-align: right;\n",
       "    }\n",
       "</style>\n",
       "<table border=\"1\" class=\"dataframe\">\n",
       "  <thead>\n",
       "    <tr style=\"text-align: right;\">\n",
       "      <th></th>\n",
       "      <th>age</th>\n",
       "      <th>cell_ontology_class</th>\n",
       "      <th>S_score</th>\n",
       "      <th>G2M_score</th>\n",
       "    </tr>\n",
       "    <tr>\n",
       "      <th>index</th>\n",
       "      <th></th>\n",
       "      <th></th>\n",
       "      <th></th>\n",
       "      <th></th>\n",
       "    </tr>\n",
       "  </thead>\n",
       "  <tbody>\n",
       "    <tr>\n",
       "      <th>A10.MAA000609.3_8_M.1.1-1-1-0-0-0</th>\n",
       "      <td>3m</td>\n",
       "      <td>thymocyte</td>\n",
       "      <td>0.796745</td>\n",
       "      <td>0.291137</td>\n",
       "    </tr>\n",
       "    <tr>\n",
       "      <th>A13.MAA000609.3_8_M.1.1-1-1-0-0-0</th>\n",
       "      <td>3m</td>\n",
       "      <td>DN4 thymocyte</td>\n",
       "      <td>0.726157</td>\n",
       "      <td>0.121809</td>\n",
       "    </tr>\n",
       "    <tr>\n",
       "      <th>A21.MAA000609.3_8_M.1.1-1-1-0-0-0</th>\n",
       "      <td>3m</td>\n",
       "      <td>thymocyte</td>\n",
       "      <td>0.820534</td>\n",
       "      <td>0.228290</td>\n",
       "    </tr>\n",
       "    <tr>\n",
       "      <th>A22.MAA000609.3_8_M.1.1-1-1-0-0-0</th>\n",
       "      <td>3m</td>\n",
       "      <td>thymocyte</td>\n",
       "      <td>0.725058</td>\n",
       "      <td>0.144226</td>\n",
       "    </tr>\n",
       "    <tr>\n",
       "      <th>A3.MAA000609.3_8_M.1.1-1-1-0-0-0</th>\n",
       "      <td>3m</td>\n",
       "      <td>thymocyte</td>\n",
       "      <td>0.731966</td>\n",
       "      <td>0.170257</td>\n",
       "    </tr>\n",
       "    <tr>\n",
       "      <th>...</th>\n",
       "      <td>...</td>\n",
       "      <td>...</td>\n",
       "      <td>...</td>\n",
       "      <td>...</td>\n",
       "    </tr>\n",
       "    <tr>\n",
       "      <th>M20_B000235_B007504_S308.mm10-plus-0-0-1-0-0</th>\n",
       "      <td>18m</td>\n",
       "      <td>endothelial cell</td>\n",
       "      <td>1.127306</td>\n",
       "      <td>0.102458</td>\n",
       "    </tr>\n",
       "    <tr>\n",
       "      <th>M21_B000235_B007504_S309.mm10-plus-0-0-1-0-0</th>\n",
       "      <td>18m</td>\n",
       "      <td>endothelial cell</td>\n",
       "      <td>0.953228</td>\n",
       "      <td>0.096130</td>\n",
       "    </tr>\n",
       "    <tr>\n",
       "      <th>M22_B000235_B007504_S310.mm10-plus-0-0-1-0-0</th>\n",
       "      <td>18m</td>\n",
       "      <td>endothelial cell</td>\n",
       "      <td>0.943676</td>\n",
       "      <td>0.097423</td>\n",
       "    </tr>\n",
       "    <tr>\n",
       "      <th>N18_B000235_B007504_S330.mm10-plus-0-0-1-0-0</th>\n",
       "      <td>18m</td>\n",
       "      <td>epithelial cell of thymus</td>\n",
       "      <td>0.617220</td>\n",
       "      <td>0.107329</td>\n",
       "    </tr>\n",
       "    <tr>\n",
       "      <th>N19_B000235_B007504_S331.mm10-plus-0-0-1-0-0</th>\n",
       "      <td>18m</td>\n",
       "      <td>epithelial cell of thymus</td>\n",
       "      <td>0.604604</td>\n",
       "      <td>0.148223</td>\n",
       "    </tr>\n",
       "  </tbody>\n",
       "</table>\n",
       "<p>4032 rows × 4 columns</p>\n",
       "</div>"
      ],
      "text/plain": [
       "                                              age        cell_ontology_class  \\\n",
       "index                                                                          \n",
       "A10.MAA000609.3_8_M.1.1-1-1-0-0-0              3m                  thymocyte   \n",
       "A13.MAA000609.3_8_M.1.1-1-1-0-0-0              3m              DN4 thymocyte   \n",
       "A21.MAA000609.3_8_M.1.1-1-1-0-0-0              3m                  thymocyte   \n",
       "A22.MAA000609.3_8_M.1.1-1-1-0-0-0              3m                  thymocyte   \n",
       "A3.MAA000609.3_8_M.1.1-1-1-0-0-0               3m                  thymocyte   \n",
       "...                                           ...                        ...   \n",
       "M20_B000235_B007504_S308.mm10-plus-0-0-1-0-0  18m           endothelial cell   \n",
       "M21_B000235_B007504_S309.mm10-plus-0-0-1-0-0  18m           endothelial cell   \n",
       "M22_B000235_B007504_S310.mm10-plus-0-0-1-0-0  18m           endothelial cell   \n",
       "N18_B000235_B007504_S330.mm10-plus-0-0-1-0-0  18m  epithelial cell of thymus   \n",
       "N19_B000235_B007504_S331.mm10-plus-0-0-1-0-0  18m  epithelial cell of thymus   \n",
       "\n",
       "                                               S_score  G2M_score  \n",
       "index                                                              \n",
       "A10.MAA000609.3_8_M.1.1-1-1-0-0-0             0.796745   0.291137  \n",
       "A13.MAA000609.3_8_M.1.1-1-1-0-0-0             0.726157   0.121809  \n",
       "A21.MAA000609.3_8_M.1.1-1-1-0-0-0             0.820534   0.228290  \n",
       "A22.MAA000609.3_8_M.1.1-1-1-0-0-0             0.725058   0.144226  \n",
       "A3.MAA000609.3_8_M.1.1-1-1-0-0-0              0.731966   0.170257  \n",
       "...                                                ...        ...  \n",
       "M20_B000235_B007504_S308.mm10-plus-0-0-1-0-0  1.127306   0.102458  \n",
       "M21_B000235_B007504_S309.mm10-plus-0-0-1-0-0  0.953228   0.096130  \n",
       "M22_B000235_B007504_S310.mm10-plus-0-0-1-0-0  0.943676   0.097423  \n",
       "N18_B000235_B007504_S330.mm10-plus-0-0-1-0-0  0.617220   0.107329  \n",
       "N19_B000235_B007504_S331.mm10-plus-0-0-1-0-0  0.604604   0.148223  \n",
       "\n",
       "[4032 rows x 4 columns]"
      ]
     },
     "execution_count": 374,
     "metadata": {},
     "output_type": "execute_result"
    }
   ],
   "source": [
    "tissue_sg1.obs[['age','cell_ontology_class','S_score','G2M_score']]"
   ]
  },
  {
   "cell_type": "markdown",
   "id": "86be7c88",
   "metadata": {},
   "source": [
    "Checking out the distribution gene_score for \"mt-Nd4\" gene"
   ]
  },
  {
   "cell_type": "code",
   "execution_count": 375,
   "id": "d3ec8251",
   "metadata": {},
   "outputs": [
    {
     "data": {
      "text/plain": [
       "<AxesSubplot:ylabel='Count'>"
      ]
     },
     "execution_count": 375,
     "metadata": {},
     "output_type": "execute_result"
    },
    {
     "data": {
      "image/png": "[encoded data removed]",
      "text/plain": [
       "<Figure size 320x320 with 1 Axes>"
      ]
     },
     "metadata": {
      "image/png": {
       "height": 281,
       "width": 316
      }
     },
     "output_type": "display_data"
    }
   ],
   "source": [
    "sns.histplot(list(tissue_mtsg.obs[\"mt-Nd4\"]))"
   ]
  },
  {
   "cell_type": "markdown",
   "id": "48c8ec4f",
   "metadata": {},
   "source": [
    "A function to make a dataframe of gene_scores and gene expression score by cell"
   ]
  },
  {
   "cell_type": "code",
   "execution_count": 376,
   "id": "9eb84dfe",
   "metadata": {},
   "outputs": [],
   "source": [
    "def cell_gene_score_df(gene, adata):\n",
    "    ''' Input is gene name that has an obs.gene_score. \n",
    "    Output is a pandas DataFrame with two columns: cell index and gene's gene_score'''\n",
    "    \n",
    "    data = defaultdict(list)\n",
    "    \n",
    "    for d in list(adata.obs['cell']):\n",
    "        data[\"Cell\"].append(d)\n",
    "        \n",
    "        cg = adata[adata.obs.cell == d, adata.var.index == gene]\n",
    "        data[\"Gene Expression\"].append(cg.X[0,0]) \n",
    "    \n",
    "    for g in list(adata.obs[gene]):\n",
    "        data[\"gene_score\"].append(g)\n",
    "       \n",
    "    df = pd.DataFrame(data)\n",
    "    return df"
   ]
  },
  {
   "cell_type": "code",
   "execution_count": null,
   "id": "6c873eb9",
   "metadata": {},
   "outputs": [],
   "source": []
  },
  {
   "cell_type": "markdown",
   "id": "0e300932",
   "metadata": {},
   "source": [
    "gene_score:\n",
    "\n",
    "The score is the average expression of a set of genes subtracted with the\n",
    "    average expression of a reference set of genes. The reference set is\n",
    "    randomly sampled from the `gene_pool` for each binned expression value."
   ]
  },
  {
   "cell_type": "markdown",
   "id": "73377d2a",
   "metadata": {},
   "source": [
    "**tissue_gene_scores** had 50 genes for score_genes and no random state set."
   ]
  },
  {
   "cell_type": "markdown",
   "id": "f9e62606",
   "metadata": {},
   "source": [
    "* Get mean of scored genes and see what's most varied.\n",
    "* Compare ages of mean scores against all ages\n",
    "* subset by age, see how genes score and vary within age groups and compare that against other ages\n",
    "* Redo score_genes with a few diff random seeds and more genes to make sure results still hold\n"
   ]
  },
  {
   "cell_type": "markdown",
   "id": "e49b1f30",
   "metadata": {},
   "source": [
    "## score_genes analysis"
   ]
  },
  {
   "cell_type": "markdown",
   "id": "068e5aaf",
   "metadata": {},
   "source": [
    "Load Thymus adata w/ S_score & G2M_score"
   ]
  },
  {
   "cell_type": "code",
   "execution_count": 377,
   "id": "e21b29f4",
   "metadata": {},
   "outputs": [],
   "source": [
    "tissue_score_genes_path = \"/mnt/ibm_sm/home/lea.mcgeever/ms/notebooks/adata_files/tissue_sg1_02172022.h5ad\"\n",
    "tissue_sg1 = sc.read_h5ad(tissue_score_genes_path)"
   ]
  },
  {
   "cell_type": "markdown",
   "id": "a777b628",
   "metadata": {},
   "source": [
    "Comparing ages of mean scores against all ages"
   ]
  },
  {
   "cell_type": "markdown",
   "id": "fb6dc4cc",
   "metadata": {},
   "source": [
    "**Lists**"
   ]
  },
  {
   "cell_type": "code",
   "execution_count": null,
   "id": "b9e84d0f",
   "metadata": {},
   "outputs": [],
   "source": [
    "tissue_obs_genes = ['Cyc1', 'Pdha1', 'Atp5d', 'Isca2', 'Pdhb', 'Uqcrc1', 'Coq9', 'Mrpl12', 'Mrps35', 'Cox5a', 'Uqcrfs1', 'Coq7', 'Sdha', 'Sdhb', 'Atp5a1', 'Sdhaf4', 'Pmpcb', 'Sdhd', 'Uqcrc2', 'Coq5', 'Ogdh', 'Uqcrq', 'Mdh2', 'Dbt', 'Dlat', 'Lrpprc', 'Mrpl53', 'Dlst', 'Pdhx', 'Gfm1', 'Grpel1', 'Mpc2', 'Uqcr10', 'Coq3', 'Atp5e', 'Slc25a3', 'Mrpl34', 'Mrps15', 'Sdhc', 'Atp5b', 'Mrps23', 'Etfa', 'Fh1', 'Mrps27', 'Isca1', 'Idh3a', 'Ndufs1', 'Auh', 'Afg3l2', 'Pmpca', 'Cox11', 'Sucla2', 'Lars2', 'Atp5o', 'Mrpl46', 'Cox15', 'Higd2a', 'Uqcrh', 'Etfdh', 'Timm10', 'Echs1', 'Hadha', 'Bckdha', 'Suclg1', 'Cs', 'Cox6a1', 'Acads', 'Ndufv2', 'Iars2', 'Coq6', 'Atp5k', 'Idh3b', 'Ndufa6', 'Letm1', 'Atpaf2', 'Rtn4ip1', 'Mrpl43', 'Abhd11', 'Timm50', 'Mrpl28', 'Sdhaf2', 'Ndufb8', 'Dld', 'Ndufs2', 'Ndufv1', 'Opa1', 'Immt', 'Apool', 'Lonp1', 'Letmd1', 'Pdk4', 'Mtif2', 'Ndufs8', 'Ndufs7', 'Mrrf', 'Mrpl2', 'Gfm2', 'Timm9', 'Pitrm1', 'Acadm', 'Supv3l1', 'Mrpl1', 'Aco2', 'Coq10a', 'Samm50', 'Mrps2', 'Surf1', 'Mrpl44', 'Phb', 'Guf1', 'Polrmt', 'Ghitm', 'Timm13', 'Cpt2', 'Mrpl10', 'Mto1', 'Prdx3', 'Cox7a2', 'Atp5j', 'Iba57', 'Mrpl40', 'Hibch', 'Ndufs6', 'Oxct1', 'Ndufb9', 'Cox6c', 'Sod2', 'Ndufb5', 'Hadh', 'Fech', 'Lias', 'Nfs1', 'Fdx1', 'Mrm1', 'Mrps18a', 'Malsu1', 'Gatb', 'Yars2', 'Fxn', 'Idh3g', 'Mrps28', 'Timm44', 'Clpx', 'Mrpl3', 'Mecr', 'Slc25a20', 'Slc25a4', 'Mtch2', 'Pdk2', 'Cox6b1', 'Vdac1', 'Mrpl4', 'Mrps14', 'Hspa9', 'Ndufa9', 'Ndufa2', 'Iscu', 'C1qbp', 'Afg1l', 'Cox17', 'Uqcc1', 'Mrpl33', 'Acadl', 'Ndufs4', 'Phb2', 'Bckdhb', 'Mrps12', 'Mcat', 'Mrpl24', 'Mrpl13', 'Pcca', 'Mrpl17', 'Aifm1', 'Cox4i1', 'Ndufaf4', 'Slc25a35', 'Dap3', 'Atp5c1', 'Slc25a11', 'Timm8b', 'Sdhaf1', 'Mrpl15', 'Alas1', 'Cmc2', 'Pptc7', 'Bckdk', 'Txn2', 'Suclg2', 'Mfn1', 'Ndufb6', 'Ndufa5', 'Mtx2', 'Ogdhl', 'Acat1', 'Echdc3', 'Mrpl21', 'Nfu1', 'Mrpl55', 'Taco1', 'Sdhaf3', 'Mrpl11', 'Echdc2', 'Cox5b', 'Acadsb', 'Eral1', 'Abcb10', 'Bcs1l', 'Hsdl2', 'Cmc1', 'Me3', 'Hspd1', 'Lyrm7', 'Tsfm', 'Ethe1', 'Aldh4a1', 'Vdac2', 'Coa6', 'Coq4', 'Ivd', 'Acadvl', 'Slc25a1', 'Slc25a42', 'Abcb8', 'Ndufs5', 'Mrps7', 'Mccc1', 'Mrpl49', 'Ndufaf5', 'Mrps9', 'Ndufb10', 'Dnaja3', 'Mrpl19', 'Mipep', 'Tomm40l', 'Adhfe1', 'Coq8a', 'Bdh1', 'Tomm7', 'Hccs', 'Mrpl16', 'Prodh', 'Mrpl30', 'Ndufa10', 'Mars2', 'Clpp', 'Ak3', 'Spg7', 'Sco1', 'Atpif1', 'Chchd3', 'Acad12', 'Hibadh', 'Gatc', 'Cox8b', 'Clpb', 'Tmem126a', 'Aldh6a1', 'Mrps18c', 'Pdk1', 'Ppif', 'Lyrm4', 'Ech1', 'Acaa2', 'Ndufa7', 'Mrpl35', 'Pccb', 'Coq2', 'Mrpl20', 'Timm17a', 'Timm22', 'Mrpl54', 'Tomm22', 'Crat', 'Mrps5', 'Dhtkd1', 'Tmem70', 'Alkbh7', 'Mrps22', 'Uqcrb', 'Cox7c', 'Ndufaf1', 'Acad8', 'Wars2', 'Mrps34', 'Ndufv3', 'Ndufb2', 'Slc25a12', 'Slc25a5', 'Mrps21', 'Msrb2', 'Glrx5', 'Chchd10', 'Coq10b', 'Slc25a30', 'Slc25a13', 'Slc25a10', 'Cox7a1', 'Slc25a19', 'Smdt1', 'Mrpl22', 'Mrps10', 'Afg3l1', 'Fdxr', 'Slirp', 'Poldip2', 'Acsf3', 'Oxa1l', 'Idh2', 'Atp5l', 'Bola1', 'Fahd2a', 'Etfrf1', 'Ndufc2', 'Ndufa8', 'Mthfd1l', 'Pdk3', 'Cox14', 'Gcdh', 'Mrpl51', 'Hagh', 'Mtx1', 'Fars2', 'Cbr4', 'Mrpl32', '2310061I04Rik', 'mt-Co2', 'mt-Atp6', 'Trap1', 'Gpd2', 'Abcb7', 'Hsd17b10', 'Glud1', 'Aldh2', 'Tufm', 'Stoml2', 'Dhrs4', 'Aldh9a1', 'Nars2', 'Vwa8', 'Mrps26', 'Adck5', 'Cars2', 'Cox10', 'Ndufb11', 'Pdha2', 'Ssbp1', 'Hscb', 'Mrpl27', 'Hint2', 'Etfb', 'Slc25a15', 'Oxnad1', 'Cyct', 'Cycs', 'Mrpl23', 'Mrpl9', 'Chchd1', 'Atad3a', 'Cisd1', 'Dars2', 'Aldh18a1', 'Mrpl50', 'Cox8a', 'Mrps6', 'Hspe1', 'Ppa2', 'Pcx', 'Gldc', 'Tamm41', 'Atp5g3', 'Mrpl38', 'Ndufa12', 'Pdf', 'Acad10', 'Ptges2', 'Ccdc58', 'Slc25a31', 'Atp5h', 'Mrpl41', 'Txnrd2', 'Mcee', 'Mccc2', 'Ptcd2', 'Ak4', 'Slc25a25', 'Tomm40', 'Clybl', 'Mterf2', 'Dnajc11', 'Decr1', 'Ndufaf6', 'Ptrh1', 'Rmnd1', 'Gcat', 'Pyurf', 'Acsm1', 'Atad1', 'Tmem14c', 'C030006K11Rik', 'Nit2', 'Slc25a26', 'Timm21', 'Ndufa4', 'Rexo2', 'Me2', 'Sars2', 'Dnlz', 'Ckmt2', 'Spryd4', 'Bphl', 'Chchd4', 'Mrpl37', 'Slc25a51', 'Immp1l', 'Fam210a', 'Mrps24', 'Timm17b', 'Hars2', 'Cox16', 'Pdss2', 'Eci1', 'Ndufs3', 'Hmgcs2', 'L2hgdh', 'Zadh2', 'Aurkaip1', 'Coa5', 'H2-Ke6', 'Ndufb7', 'Nipsnap2', 'Mrpl47', 'Ndufaf7', 'Acad9', 'Nags', 'Ldhd', 'Sardh', 'Spr', 'Naxe', 'Timm23', 'Mpv17', 'Mtg1', 'Ide', 'Trnt1', 'Mrps25', 'Mrpl14', 'Mrps30', 'Mrps16', 'Prelid2', 'Shmt2', 'Suox', 'Ccdc90b', 'Rmdn1', 'Acsm5', 'Mrpl36', 'Gstk1', 'Fmc1', 'Mrpl58', 'Cpt1a', 'Ak2', '2810006K23Rik', 'Gls', 'Them4', 'Pdss1', 'Mtg2', 'Mrps11', 'Mlycd', 'Tcaim', 'Ndufc1', 'Gsr', 'Rars2', 'Slc25a24', 'Slc25a18', 'Slc25a22', 'Mpc1', 'Timm8a1', 'Vdac3', 'Akap1', 'Eci2', 'Mrm2', 'Lipt2', 'Nubpl', 'Sfxn1', 'Slc30a9', 'Gatm', 'Triap1', 'Cpox', 'Xpnpep3', 'Pnpla8', 'Gadd45gip1', 'Gfer', 'Ngrn', 'Mrpl57', 'Ndufa3', 'Ptcd3', 'Mrpl45', 'Slc25a16', 'Ucp1', 'Tars2', 'Trit1', 'Ndufab1', 'Csl', 'Slc25a39', 'Prelid3b', 'Mtch1', 'Dele1', 'Acaa1a', 'Acot13', 'Ndufa13', 'Agxt2', 'Selenoo', 'Oxld1', 'Mfn2', 'Chdh', 'Msra', 'Nit1', 'Cox4i2', 'Lactb', 'Tst', 'Prodh2', 'Cox7b', 'Glrx2', 'Aldh1b1', 'Ndufb3', 'Ehhadh', 'Echdc1', 'Trmu', 'Vars2', 'Mettl17', 'Aass', 'Aadat', 'Ndufa11', 'Gm4984', 'Slc25a21', 'Slc25a29', 'Mthfd2', 'Mmab', 'Hsd17b4', 'Nnt', 'Tmem11', 'Mrm3', 'Rida', 'Cox6a2', 'Sco2', 'Cox18', 'Gcsh', 'Dmgdh', 'Rdh13', 'Lyrm2', 'Prdx5', 'Maip1', 'Gstz1', 'Twnk', 'Tefm', 'Coa3', 'Mcur1', 'Pck2', 'Hmgcl', 'Abhd10', 'BC003965', 'Acot2', 'Alas2', 'Acsm3', 'Romo1', 'Mrpl39', 'Rhot2', 'Higd1a', 'Tbrg4', 'Apoo', 'Pdp1', 'Dnajc15', 'Bcat2', 'Abcd3', 'Cps1', 'Atp5mpl', 'Oat', 'Hao2', 'Tha1', 'Hadhb', 'Rdh14', 'Fastkd1', 'Car5b', 'Grpel2', 'Mrps17', 'Lipt1', 'Slc25a44', 'Dut', 'Immp2l', 'Cox19', 'Aldh1l2', 'Chchd2', 'Pisd', 'Crot', 'Noa1', 'Ndufaf8', 'Acaa1b', 'Mtrf1l', 'Atp23', 'Yme1l1', 'Hdhd5', 'Aldh7a1', 'Chchd7', 'Pdpr', 'Nln', 'Ndufaf2', 'Fastkd2', 'Dcakd', 'Sdr39u1', 'Gars', 'Uqcr11', 'Ears2', 'Cox6b2', 'Timm10b', 'Atpaf1', 'Sfxn3', 'Abcd2', 'Sqor', 'Sirt5', 'Nudt13', 'Acad11', 'Ppox', 'D2hgdh', 'Diablo', 'Slc25a45', 'Ttc19', 'Agxt', 'Dglucy', 'Mtfmt', 'mt-Co1', 'Endog', 'Fam162a', 'Atp5j2', 'Gls2', 'Timmdc1', 'Mrps33', 'Tfam', 'Ecsit', 'Mrs2', 'Abcb6', 'Mtfr1l', 'Lap3', 'Acsf2', 'Gpt2', 'Grhpr', 'Stom', 'Glod4', 'Tomm6', 'Mrps36', 'Tmem65', 'Tomm70a', 'Fhit', 'Osgepl1', 'Crls1', 'Mocs1', 'Aldh1l1', 'Rfk', 'Dhrs1', 'Polg', 'Prelid3a', 'Timm8a2', 'Slc25a14', 'Rhot1', 'Gpx1', 'Slc25a46', 'mt-Nd5', 'mt-Nd4', 'mt-Nd2', 'Prelid1', 'Tstd3', 'Slc25a32', 'Mcu', 'Nipsnap1', 'Pus1', 'Pdp2', 'Lypla1', 'Mthfd2l', 'Mtrf1', 'Coq8b', 'Hemk1', 'Akr7a5', 'Cyp27a1', 'Oxct2a', 'Mrpl52', 'Fis1', 'Amt', 'Exog', 'Mpst', 'Pnpo', 'Mpv17l2', 'Fundc2', 'Mrpl18', 'Atp5g2', 'Mettl5', 'Slc25a38', 'Slc25a36', 'Trmt2b', 'Abat', 'Aldh5a1', 'Got2', 'Ckmt1', 'Gtpbp3', 'Sirt3', 'C330018D20Rik', 'Parl', 'Bloc1s1', 'Cox8c', 'Acly', 'Sfxn5', 'Slc25a40', 'Slc25a27', 'Slc25a23', 'Ucp3', 'Htra2', 'Nadk2', 'mt-Cytb', 'Chchd5', 'Mrps31', 'Ndufa1', 'Hoga1', 'Aldh3a2', 'Pam16', 'Tomm5', 'Ndufb4', 'Fam136a', 'Mpv17l', 'Gykl1', 'Cpt1b', 'Akr1b10', 'Slc25a2', 'Slc25a53', 'Opa3', 'Fahd1', 'Pxmp4', 'Nif3l1', 'Grsf1', 'Macrod1', 'Cisd3', 'Nmnat3', 'Nudt8', 'Cat', 'Dnajc19', 'Elac2', 'Sugct', 'Hint3', 'Kars', 'Dnajc28', 'Cyb5b', 'Nudt2', 'Phyh', 'Guk1', 'Nudt19', 'mt-Co3', 'Mrpl42', 'Dhrs7b', 'Nt5m', 'Mthfsl', 'Mthfs', 'Nme4', 'Oma1', 'Acsl6', 'Rpusd3', 'Acss1', 'Dguok', 'Pars2', 'Htatip2', 'Qrsl1', 'Naxd', 'Chchd6', 'Pcbd2', 'Agmat', 'Micu2', 'Akr1b7', 'Scp2', 'Rab24', 'Mcub', 'Lyplal1', 'Spata19', 'mt-Atp8', 'Ldhal6b', 'Aldh1a7', 'Kyat3', 'Oxsm', 'mt-Nd3', 'Adck1', 'Slc25a33', 'Mgst1', 'Ung', 'Nsun4', 'Tmem205', 'Dbi', 'Coasy', 'Stard7', 'Letm2', 'Ptcd1', 'Mtfp1', 'Coa4', 'Ephx2', 'Nrd1', 'Acacb', 'Mavs', 'Tmem143', 'Mtpap', 'Sdsl', 'Cmpk2', 'Glyctk', 'Rpusd4', 'Smim20', 'Mterf4', 'Top1mt', 'Arg2', 'Ptrh2', 'Lyrm1', 'Aars2', 'Acsl1', 'Dnajc30', 'Bax', 'Cryzl2', 'Dnm1l', 'Pxmp2', 'Cox20', 'Tmem177', 'Tk2', 'Fundc1', 'Pgs1', 'Fasn', 'Cbr2', 'Chpt1', 'Atp5g1', 'Fam210b', 'Sfxn2', 'Mmadhc', 'Otc', 'Txnrd1', 'Arf5', 'Fpgs', 'Trmt10c', 'Them7', 'Lactb2', 'Smim26', 'Pgam5', 'Ptpmt1', 'Hebp1', 'Abcd1', 'Hsdl1', 'Cbr3', 'Prdx6', 'Dnajc4', 'Cebpzos', 'Foxred1', 'Eri3', 'Dhx30', 'Bcl2l13', 'Acp6', 'Cox7a2l', 'Tstd1', 'Qdpr', 'Acsm2', 'Adck2', 'Osbpl1a', 'Trmt1', 'Mtif3', 'Pet100', 'Mtfr1', 'Tfb1m', 'Fth1', 'Tspo', 'Glyat', 'Rbfa', 'Rnaseh1', 'Tmem186', 'Pex11b', 'Nudt5', 'Sod1', 'Star', 'Gtpbp10', 'Acss3', 'Ccdc51', 'Acot9', 'Ndufaf3', 'Flad1', 'Acaca', 'Kmo', 'Mterf3', 'Oxr1', 'Nudt9', 'Thnsl1', 'Pycr2', 'Hint1', 'Slc25a34', 'Slc25a48', 'Slc25a28', 'Slc25a43', 'Slc25a47', 'Slc25a41', 'Slc25a54', 'Slc25a37', 'Ucp2', 'Ybey', 'Ogg1', 'Gm4952', 'Fabp1', 'Mettl15', 'Metap1d', 'Ldhb', 'Lyrm9', 'Recql4', 'Plpbp', 'Mul1', 'Nudt6', 'Pink1', 'Vps13d', 'Dmac2', 'Micu1', 'Nt5dc3', 'Nipsnap3a', 'Top3a', 'Amacr', 'Trmt5', 'Micu3', 'Pnkd', 'Car5a', 'Nthl1', 'Arl2', 'Synj2bp', 'Mettl8', 'Mterf1b', 'Rsad1', 'Fdps', 'Ociad1', 'Fastk', 'Acsm4', 'Nme6', 'Ahcyl1', 'Smim8', 'Idi1', 'Mtx3', 'Tmem126b', 'Bnip3', 'Fkbp8', 'Mcrip2', 'Bola3', 'Pnpt1', 'Pde12', 'Usp30', 'Tfb2m', 'Mrps18b', 'Maob', 'Mgst3', 'Dhodh', 'Mrpl48', 'Gdap1', 'Bak1', 'mt-Nd1', 'Ociad2', 'Taz', 'Dcxr', 'Pmaip1', 'Nipsnap3b', 'Mmaa', 'Cyp11a1', 'Aifm2', 'Prdx2', 'Sfxn4', 'Ifi27', 'Abca9', 'Ddx28', 'Acot7', 'Msrb3', '2300009A05Rik', 'Agpat5', 'Acod1', 'Fbxl4', 'Ftmt', 'Gpam', 'Qtrt1', 'Hpdl', 'Isoc2a', 'Cyp11b1', 'Cyp11b2', 'Pet117', 'Dhrs2', 'Cdk5rap1', 'Snd1', 'Cyb5r3', 'Maoa', 'Mff', 'Nlrx1', 'Fam185a', 'Mief1', 'Coa7', 'Acot11', 'Pusl1', 'Polq', 'Rmdn3', 'Tomm20', 'Bnip3l', 'Aifm3', 'Timm29', 'Ppm1k', 'Sirt4', 'Park7', 'Mterf1a', 'mt-Nd4l', 'AA467197', 'Uqcc2', 'Nme3', 'Gtpbp6', 'Them5', 'Prkaca', 'Miga2', 'Mgarp', 'Mcl1', 'Myg1', 'Etfbkmt', 'Mutyh', 'Fastkd5', 'Paics', 'Cpt1c', 'Rcc1l', 'Uqcc3', 'Prdx4', 'Pycr1', 'Cryz', 'Angel2', 'Mgme1', 'Agpat4', 'Comtd1', 'Neu4', 'Cyp27b1', 'Noct', 'Hdhd3', 'Slc8b1', 'mt-Nd6', 'Dmac1', 'Bco2', 'Tdrkh', 'Gpx4', 'Comt', 'Mtfr2', 'Bik', 'Lig3', 'Cry1', 'Trub2', 'Tomm20l', 'Ccdc127', 'Yrdc', 'Prepl', 'Myo19', 'Thg1l', 'Pif1', 'Rab5if', 'Cep89', 'Acot10', 'Efhd1', 'Bid', 'Cyp24a1', 'Sptlc2', 'Apex1', 'E130311K13Rik', 'Agk', 'Dus2', 'Pank2', 'Polg2', 'Gpat2', 'Tomm34', 'Plscr3', 'Fkbp10', 'Exd2', 'Bcl2l1', 'Golph3', 'Nt5dc2', 'Armc10', 'Alkbh1', 'Akap10', 'Serac1', 'Fastkd3', 'Bcl2l11', 'Nbr1', 'Rpia', 'Bok', 'Miga1', 'Stx17', 'Primpol', 'Dna2', 'Adcy10', 'Prss35', 'Mief2', 'Nsun3', 'Pabpc5', 'Styxl1', 'Sphk2', 'Prkn', 'Nsun2', 'Pick1', 'Dmpk', 'Casp9', 'Casp8', 'Casp3', 'Bcl2l2', 'Bcl2l10', 'Bcl2a1d', 'Bcl2', 'Bad', 'Pde2a', 'Spata20', 'Plgrkt', 'Pld6', 'Bbc3', 'Cstad', '1700066M21Rik', 'Spire1', 'Armcx1', 'Armcx2', 'Armcx6', 'Nat8l', 'Sphkap', 'Mettl4', 'Armcx3', 'Snap29', 'Polb']\n",
    "#genes from doing gene by gene score_genes"
   ]
  },
  {
   "cell_type": "markdown",
   "id": "e451115a",
   "metadata": {},
   "source": [
    "* tis_cells (thymus cell types)\n",
    "* ages \n",
    "* mt_genes\n",
    "* mt_nc_genes\n",
    "\n",
    "mt_genes -> s_genes\n",
    "\n",
    "mt_nc_genes -> g2m_genes"
   ]
  },
  {
   "cell_type": "markdown",
   "id": "8063c59d",
   "metadata": {},
   "source": [
    "Don't need to run again."
   ]
  },
  {
   "cell_type": "code",
   "execution_count": null,
   "id": "7ab1ef10",
   "metadata": {},
   "outputs": [],
   "source": [
    "#Saved file. \n",
    "#tissue_sg1 = sc.tl.score_genes_cell_cycle(tissue, mt_genes, mt_nc_genes, copy = True)"
   ]
  },
  {
   "cell_type": "markdown",
   "id": "2b172dea",
   "metadata": {},
   "source": [
    "**Save Results**"
   ]
  },
  {
   "cell_type": "code",
   "execution_count": null,
   "id": "566eab4c",
   "metadata": {},
   "outputs": [],
   "source": [
    "#Saved. Loaded in first cell.\n",
    "\n",
    "#tissue_sg_path = \"/mnt/ibm_sm/home/lea.mcgeever/ms/notebooks/adata_files/tissue_sg1.h5ad\"\n",
    "#tissue_sg1.write(tissue_sg_path)\n",
    "#tissue_sg1 = sc.read_h5ad(tissue_sg_path)\n"
   ]
  },
  {
   "cell_type": "markdown",
   "id": "0ed56667",
   "metadata": {},
   "source": [
    "Following genes are not in var_names and ignored:"
   ]
  },
  {
   "cell_type": "code",
   "execution_count": null,
   "id": "d603e4b4",
   "metadata": {},
   "outputs": [],
   "source": [
    "ignored = ['Gatd3a', 'Micos10', 'Fdx2', 'Mmut', 'Atp5pb', 'Mtarc2', 'Micos13', 'Mtres1', 'Coa8', 'Tmlhe', 'Mtarc1', 'Prxl2a', 'Marchf5', 'Dmac2l', 'Atp5md', 'Antkmt', 'Atpsckmt', 'Septin4', 'Prorp', 'Htd2', 'Pigbos1']\n",
    "#mt_genes -> s_genes\n",
    "#mt_nc_genes -> g2m_genes\n"
   ]
  },
  {
   "cell_type": "code",
   "execution_count": null,
   "id": "7f9e14a7",
   "metadata": {},
   "outputs": [],
   "source": [
    "def mean_med_gscore(adata):\n",
    "    ''' Input is adata. Output is a pandas DataFrame with columns: \n",
    "        age, tissue cell types, gene, average score_genes for gene'''\n",
    "    \n",
    "    data = defaultdict(list)\n",
    "    \n",
    "    for a in ages:\n",
    "        b = adata[adata.obs['age']== a]#filter by age\n",
    "        for e in tis_cells:#going through keys/tissue types       \n",
    "            c = b[b.obs['cell_ontology_class']== e]#have adata filtered by cell types in list\n",
    "            f = list(c.obs['S_score'])\n",
    "            g = list(c.obs['G2M_score'])\n",
    "            \n",
    "            #h =st.mean(f)\n",
    "            \n",
    "            data[\"Age\"].append(a)\n",
    "            data[\"Cell Type\"].append(e)\n",
    "            data['N'].append(c.n_obs)\n",
    "            \n",
    "            data[\"mt mean\"].append(st.mean(f)) \n",
    "            data[\"nc mean\"].append(st.mean(g))\n",
    "            \n",
    "            data[\"mt stdev\"].append(st.stdev(f)) \n",
    "            data[\"nc stdev\"].append(st.stdev(g))\n",
    "    \n",
    "    df = pd.DataFrame(data)\n",
    "    return df"
   ]
  },
  {
   "cell_type": "code",
   "execution_count": null,
   "id": "d1ded670",
   "metadata": {},
   "outputs": [],
   "source": [
    "sg1 = mean_med_gscore(tissue_sg1)\n",
    "sg1"
   ]
  },
  {
   "cell_type": "markdown",
   "id": "1b02bf42",
   "metadata": {},
   "source": [
    "**ttest_ind(a, b, equal_var=True)**\n",
    "\n",
    "where:\n",
    "\n",
    "    a: an array of sample observations for group 1\n",
    "    b: an array of sample observations for group 2\n",
    "    equal_var: if True, perform a standard independent 2 sample t-test that assumes equal population variances. If False, perform Welch’s t-test, which does not assume equal population variances. This is True by default.\n"
   ]
  },
  {
   "cell_type": "code",
   "execution_count": null,
   "id": "7f3d921c",
   "metadata": {},
   "outputs": [],
   "source": [
    "# first row check [0]\n",
    "book = tissue_sg1[tissue_sg1.obs['age']== '3m']\n",
    "chapter = book[book.obs['cell_ontology_class']=='epithelial cell of thymus']\n",
    "page1 = list(chapter.obs['S_score'])\n",
    "page2 = list(chapter.obs['G2M_score'])\n",
    "st.mean(page1),st.mean(page2), st.stdev(page1), st.stdev(page2)"
   ]
  },
  {
   "cell_type": "code",
   "execution_count": null,
   "id": "fb74fb51",
   "metadata": {},
   "outputs": [],
   "source": [
    "# middle row check [9]\n",
    "book = tissue_sg1[tissue_sg1.obs['age']== '18m']\n",
    "chapter = book[book.obs['cell_ontology_class']=='macrophage']\n",
    "page1 = list(chapter.obs['S_score'])\n",
    "page2 = list(chapter.obs['G2M_score'])\n",
    "st.mean(page1),st.mean(page2), st.stdev(page1), st.stdev(page2)"
   ]
  },
  {
   "cell_type": "code",
   "execution_count": null,
   "id": "e6cdeded",
   "metadata": {},
   "outputs": [],
   "source": [
    "# last row check[17]\n",
    "book = tissue_sg1[tissue_sg1.obs['age']== '24m']\n",
    "chapter = book[book.obs['cell_ontology_class']=='thymocyte']\n",
    "page1 = list(chapter.obs['S_score'])\n",
    "page2 = list(chapter.obs['G2M_score'])\n",
    "st.mean(page1),st.mean(page2),st.stdev(page1), st.stdev(page2)"
   ]
  },
  {
   "cell_type": "markdown",
   "id": "8993c58b",
   "metadata": {},
   "source": [
    "**Plotting MT gene score_genes**"
   ]
  },
  {
   "cell_type": "code",
   "execution_count": null,
   "id": "14281ea0",
   "metadata": {},
   "outputs": [],
   "source": [
    "sns.catplot(data = sg1, x = 'Cell Type', y = 'mt mean', kind = \"box\", palette=sns.color_palette(['pink','indigo','gold','royalblue','mediumorchid','powderblue']))\n",
    "sns.set_style(\"whitegrid\")\n",
    "plt.title(\"Mean MT endcoded MT genes score_genes of Thymus Cell Types, All Ages\")\n",
    "plt.xticks(rotation=90);\n"
   ]
  },
  {
   "cell_type": "code",
   "execution_count": null,
   "id": "aa11d99b",
   "metadata": {},
   "outputs": [],
   "source": [
    "sns.catplot(data = sg1, x = 'Cell Type', y = 'nc mean', kind = \"box\", palette=sns.color_palette(['pink','indigo','gold','royalblue','mediumorchid','powderblue']))\n",
    "sns.set_style(\"whitegrid\")\n",
    "plt.title(\"Mean Nuclear encoded MT score_genes of Thymus Cell Types, All Ages\")\n",
    "plt.xticks(rotation=90);"
   ]
  },
  {
   "cell_type": "code",
   "execution_count": null,
   "id": "c89d9d42",
   "metadata": {},
   "outputs": [],
   "source": [
    "sns.catplot(data = sg1, x = 'Cell Type', y = 'mt stdev', kind = \"box\", palette=sns.color_palette(['pink','indigo','gold','royalblue','mediumorchid','powderblue']))\n",
    "sns.set_style(\"whitegrid\")\n",
    "plt.title(\"Mean Nuclear encoded MT score_genes of Thymus Cell Types, All Ages\")\n",
    "plt.xticks(rotation=90);"
   ]
  },
  {
   "cell_type": "code",
   "execution_count": null,
   "id": "8cb55554",
   "metadata": {},
   "outputs": [],
   "source": [
    "sns.catplot(data = sg1, x = 'Cell Type', y = 'nc stdev', kind = \"box\", palette=sns.color_palette(['pink','indigo','gold','royalblue','mediumorchid','powderblue']))\n",
    "sns.set_style(\"whitegrid\")\n",
    "plt.title(\"Mean Nuclear encoded MT score_genes of Thymus Cell Types, All Ages\")\n",
    "plt.xticks(rotation=90);"
   ]
  },
  {
   "cell_type": "markdown",
   "id": "0590cd21",
   "metadata": {},
   "source": [
    "## Mean score_genes of mitochondrial genes, one by one"
   ]
  },
  {
   "cell_type": "code",
   "execution_count": null,
   "id": "bd1af3fe",
   "metadata": {},
   "outputs": [],
   "source": [
    "#specifically for MT-genes\n",
    "\n",
    "def mean_gscore_MT(adata):\n",
    "    ''' Input is adata. Output is a pandas DataFrame with columns: \n",
    "        age, tissue cell types, gene, average score_genes for gene'''\n",
    "    \n",
    "    data = defaultdict(list)\n",
    "    \n",
    "    for a in ages:\n",
    "        b = adata[adata.obs['age']== a]#filter by age\n",
    "        for e in tis_cells:#going through cell types       \n",
    "            c = b[b.obs['cell_ontology_class']== e]#have adata filtered by cell types in list\n",
    "                \n",
    "            data[\"Age\"].append(a)\n",
    "            data[\"Cell Type\"].append(e)\n",
    "             \n",
    "            #data[m].append(st.mean(p))\n",
    "            \n",
    "            data['mt-Atp6'].append(st.mean(set(c.obs['mt-Atp6'])))\n",
    "            data['mt-Atp8'].append(st.mean(set(c.obs['mt-Atp8'])))\n",
    "            data['mt-Co1'].append(st.mean(set(c.obs['mt-Co1'])))\n",
    "            data['mt-Co2'].append(st.mean(set(c.obs['mt-Co2'])))\n",
    "            data['mt-Co3'].append(st.mean(set(c.obs['mt-Co3'])))\n",
    "            data['mt-Cytb'].append(st.mean(set(c.obs['mt-Cytb'])))\n",
    "            data['mt-Nd1'].append(st.mean(set(c.obs['mt-Nd1'])))\n",
    "            data['mt-Nd2'].append(st.mean(set(c.obs['mt-Nd2'])))\n",
    "            data['mt-Nd3'].append(st.mean(set(c.obs['mt-Nd3'])))\n",
    "            data['mt-Nd4'].append(st.mean(set(c.obs['mt-Nd4'])))\n",
    "            data['mt-Nd4l'].append(st.mean(set(c.obs['mt-Nd4l'])))\n",
    "            data['mt-Nd5'].append(st.mean(set(c.obs['mt-Nd5'])))\n",
    "            data['mt-Nd6'].append(st.mean(set(c.obs['mt-Nd6'])))\n",
    "            data['mt-Rnr1'].append(st.mean(set(c.obs['mt-Rnr1'])))\n",
    "            data['mt-Rnr2'].append(st.mean(set(c.obs['mt-Rnr2'])))\n",
    "            data['mt-Ta'].append(st.mean(set(c.obs['mt-Ta'])))\n",
    "            data['mt-Te'].append(st.mean(set(c.obs['mt-Te'])))\n",
    "            data['mt-Tf'].append(st.mean(set(c.obs['mt-Tf'])))\n",
    "            data['mt-Ti'].append(st.mean(set(c.obs['mt-Ti'])))\n",
    "            data['mt-Tl1'].append(st.mean(set(c.obs['mt-Tl1'])))\n",
    "            data['mt-Tl2'].append(st.mean(set(c.obs['mt-Tl2'])))\n",
    "            data['mt-Tm'].append(st.mean(set(c.obs['mt-Tm'])))\n",
    "            data['mt-Tp'].append(st.mean(set(c.obs['mt-Tp'])))\n",
    "            data['mt-Tq'].append(st.mean(set(c.obs['mt-Tq'])))\n",
    "            data['mt-Tt'].append(st.mean(set(c.obs['mt-Tt'])))\n",
    "            data['mt-Tv'].append(st.mean(set(c.obs['mt-Tv'])))\n",
    "    \n",
    "    df = pd.DataFrame(data)\n",
    "    return df"
   ]
  },
  {
   "cell_type": "code",
   "execution_count": null,
   "id": "72b8ff58",
   "metadata": {},
   "outputs": [],
   "source": [
    "mf = mean_gscore_MT(tissue_mtsg)\n",
    "gmf = mf.groupby([\"Age\", \"Cell Type\"]).sum()\n",
    "mf[['Cell Type','Age','mt-Nd4l']]"
   ]
  },
  {
   "cell_type": "markdown",
   "id": "a9b23fd3",
   "metadata": {
    "heading_collapsed": true
   },
   "source": [
    "### Catplots of MT means across age"
   ]
  },
  {
   "cell_type": "code",
   "execution_count": null,
   "id": "84cd53d3",
   "metadata": {
    "hidden": true
   },
   "outputs": [],
   "source": [
    "sns.catplot(data = mf, x = 'Cell Type', y = 'mt-Atp6', kind = \"box\", palette=sns.color_palette(['pink','indigo','gold','royalblue','mediumorchid','powderblue']))\n",
    "plt.title(\"Mean mt-Atp6 score_genes of Thymus Cell Types, All Ages\")\n",
    "plt.xticks(rotation=90)\n",
    "sns.set_style(\"whitegrid\");"
   ]
  },
  {
   "cell_type": "code",
   "execution_count": null,
   "id": "679d595e",
   "metadata": {
    "hidden": true
   },
   "outputs": [],
   "source": [
    "sns.catplot(data = mf, x = 'Cell Type', y = 'mt-Atp8', kind = \"box\", palette=sns.color_palette(['pink','indigo','gold','royalblue','mediumorchid','powderblue']))\n",
    "plt.title(\"Mean mt-Atp8 score_genes of Thymus Cell Types, All Ages\")\n",
    "plt.xticks(rotation=90)\n",
    "sns.set_style(\"whitegrid\");"
   ]
  },
  {
   "cell_type": "code",
   "execution_count": null,
   "id": "f496cfb2",
   "metadata": {
    "hidden": true
   },
   "outputs": [],
   "source": [
    "sns.catplot(data = mf, x = 'Cell Type', y = 'mt-Co1', kind = \"box\", palette=sns.color_palette(['pink','indigo','gold','royalblue','mediumorchid','powderblue']))\n",
    "plt.title(\"Mean mt-Co1 score_genes of Thymus Cell Types, All Ages\")\n",
    "plt.xticks(rotation=90)\n",
    "sns.set_style(\"whitegrid\");"
   ]
  },
  {
   "cell_type": "code",
   "execution_count": null,
   "id": "aef1d71c",
   "metadata": {
    "hidden": true
   },
   "outputs": [],
   "source": [
    "sns.catplot(data = mf, x = 'Cell Type', y = 'mt-Co2', kind = \"box\", palette=sns.color_palette(['pink','indigo','gold','royalblue','mediumorchid','powderblue']))\n",
    "plt.title(\"Mean mt-Co2 score_genes of Thymus Cell Types, All Ages\")\n",
    "plt.xticks(rotation=90)\n",
    "sns.set_style(\"whitegrid\");"
   ]
  },
  {
   "cell_type": "code",
   "execution_count": null,
   "id": "ab5830cb",
   "metadata": {
    "hidden": true
   },
   "outputs": [],
   "source": [
    "sns.catplot(data = mf, x = 'Cell Type', y = 'mt-Co3', kind = \"box\", palette=sns.color_palette(['pink','indigo','gold','royalblue','mediumorchid','powderblue']))\n",
    "plt.title(\"Mean mt-Co3 score_genes of Thymus Cell Types, All Ages\")\n",
    "plt.xticks(rotation=90)\n",
    "sns.set_style(\"whitegrid\");"
   ]
  },
  {
   "cell_type": "code",
   "execution_count": null,
   "id": "839a08c5",
   "metadata": {
    "hidden": true
   },
   "outputs": [],
   "source": [
    "sns.catplot(data = mf, x = 'Cell Type', y = 'mt-Cytb', kind = \"box\", palette=sns.color_palette(['pink','indigo','gold','royalblue','mediumorchid','powderblue']))\n",
    "plt.title(\"Mean mt-Cytb score_genes of Thymus Cell Types, All Ages\")\n",
    "plt.xticks(rotation=90)\n",
    "sns.set_style(\"whitegrid\");"
   ]
  },
  {
   "cell_type": "code",
   "execution_count": null,
   "id": "49a46d62",
   "metadata": {
    "hidden": true
   },
   "outputs": [],
   "source": [
    "sns.catplot(data = mf, x = 'Cell Type', y = 'mt-Nd1', kind = \"box\", palette=sns.color_palette(['pink','indigo','gold','royalblue','mediumorchid','powderblue']))\n",
    "plt.title(\"Mean mt-Nd1 score_genes of Thymus Cell Types, All Ages\")\n",
    "plt.xticks(rotation=90)\n",
    "sns.set_style(\"whitegrid\");"
   ]
  },
  {
   "cell_type": "code",
   "execution_count": null,
   "id": "1ac19c8d",
   "metadata": {
    "hidden": true
   },
   "outputs": [],
   "source": [
    "sns.catplot(data = mf, x = 'Cell Type', y = 'mt-Nd2', kind = \"box\", palette=sns.color_palette(['pink','indigo','gold','royalblue','mediumorchid','powderblue']))\n",
    "plt.title(\"Mean mt-Nd2 score_genes of Thymus Cell Types, All Ages\")\n",
    "plt.xticks(rotation=90)\n",
    "sns.set_style(\"whitegrid\");"
   ]
  },
  {
   "cell_type": "code",
   "execution_count": null,
   "id": "ffe8e1fd",
   "metadata": {
    "hidden": true
   },
   "outputs": [],
   "source": [
    "sns.catplot(data = mf, x = 'Cell Type', y = 'mt-Nd3', kind = \"box\", palette=sns.color_palette(['pink','indigo','gold','royalblue','mediumorchid','powderblue']))\n",
    "plt.title(\"Mean mt-Nd3 score_genes of Thymus Cell Types, All Ages\")\n",
    "plt.xticks(rotation=90)\n",
    "sns.set_style(\"whitegrid\");"
   ]
  },
  {
   "cell_type": "code",
   "execution_count": null,
   "id": "29e4511a",
   "metadata": {
    "hidden": true
   },
   "outputs": [],
   "source": [
    "sns.catplot(data = mf, x = 'Cell Type', y = 'mt-Nd4', kind = \"box\", palette=sns.color_palette(['pink','indigo','gold','royalblue','mediumorchid','powderblue']))\n",
    "plt.title(\"Mean mt-Nd4 score_genes of Thymus Cell Types, All Ages\")\n",
    "plt.xticks(rotation=90)\n",
    "sns.set_style(\"whitegrid\");"
   ]
  },
  {
   "cell_type": "code",
   "execution_count": null,
   "id": "36b63268",
   "metadata": {
    "hidden": true
   },
   "outputs": [],
   "source": [
    "sns.catplot(data = mf, x = 'Cell Type', y = 'mt-Nd4l', kind = \"box\", palette=sns.color_palette(['pink','indigo','gold','royalblue','mediumorchid','powderblue']))\n",
    "plt.title(\"Mean mt-Nd4l score_genes of Thymus Cell Types, All Ages\")\n",
    "plt.xticks(rotation=90)\n",
    "sns.set_style(\"whitegrid\");"
   ]
  },
  {
   "cell_type": "code",
   "execution_count": null,
   "id": "3ea62e9e",
   "metadata": {
    "hidden": true
   },
   "outputs": [],
   "source": [
    "sns.catplot(data = mf, x = 'Cell Type', y = 'mt-Nd5', kind = \"box\", palette=sns.color_palette(['pink','indigo','gold','royalblue','mediumorchid','powderblue']))\n",
    "plt.title(\"Mean mt-Nd5 score_genes of Thymus Cell Types, All Ages\")\n",
    "plt.xticks(rotation=90)\n",
    "sns.set_style(\"whitegrid\");"
   ]
  },
  {
   "cell_type": "code",
   "execution_count": null,
   "id": "2ce03eab",
   "metadata": {
    "hidden": true
   },
   "outputs": [],
   "source": [
    "sns.catplot(data = mf, x = 'Cell Type', y = 'mt-Nd6', kind = \"box\", palette=sns.color_palette(['pink','indigo','gold','royalblue','mediumorchid','powderblue']))\n",
    "plt.title(\"Mean mt-Nd6 score_genes of Thymus Cell Types, All Ages\")\n",
    "plt.xticks(rotation=90)\n",
    "sns.set_style(\"whitegrid\");"
   ]
  },
  {
   "cell_type": "code",
   "execution_count": null,
   "id": "10de2016",
   "metadata": {
    "hidden": true
   },
   "outputs": [],
   "source": [
    "sns.catplot(data = mf, x = 'Cell Type', y = 'mt-Rnr1', kind = \"box\", palette=sns.color_palette(['pink','indigo','gold','royalblue','mediumorchid','powderblue']))\n",
    "plt.title(\"Mean mt-Rnr1 score_genes of Thymus Cell Types, All Ages\")\n",
    "plt.xticks(rotation=90)\n",
    "sns.set_style(\"whitegrid\");"
   ]
  },
  {
   "cell_type": "code",
   "execution_count": null,
   "id": "e8625438",
   "metadata": {
    "hidden": true
   },
   "outputs": [],
   "source": [
    "sns.catplot(data = mf, x = 'Cell Type', y = 'mt-Rnr2', kind = \"box\", palette=sns.color_palette(['pink','indigo','gold','royalblue','mediumorchid','powderblue']))\n",
    "plt.title(\"Mean mt-Rnr2 score_genes of Thymus Cell Types, All Ages\")\n",
    "plt.xticks(rotation=90)\n",
    "sns.set_style(\"whitegrid\");"
   ]
  },
  {
   "cell_type": "code",
   "execution_count": null,
   "id": "aba35db6",
   "metadata": {
    "hidden": true
   },
   "outputs": [],
   "source": []
  },
  {
   "cell_type": "code",
   "execution_count": null,
   "id": "21c74140",
   "metadata": {
    "hidden": true
   },
   "outputs": [],
   "source": []
  },
  {
   "cell_type": "code",
   "execution_count": null,
   "id": "fc1e3870",
   "metadata": {
    "hidden": true
   },
   "outputs": [],
   "source": []
  },
  {
   "cell_type": "markdown",
   "id": "612ce87f",
   "metadata": {},
   "source": [
    "## ttest_scores function"
   ]
  },
  {
   "cell_type": "markdown",
   "id": "eb4cd7b8",
   "metadata": {},
   "source": [
    "**Function to make dictionary for mt and nc gene lists t-tests**"
   ]
  },
  {
   "cell_type": "code",
   "execution_count": null,
   "id": "8f39de0c",
   "metadata": {},
   "outputs": [],
   "source": [
    "#mt_genes -> s_genes\n",
    "#mt_nc_genes -> g2m_genes\n",
    "\n",
    "def S_G2M_score_dy(adata):\n",
    "    ''' Input is adata. Output is a dictionary with keys: \n",
    "        Age, Cell Type, N (number of cells), \n",
    "        \"mt scores\": value of list of score_genes for S_genes (mt genes) and\n",
    "        \"nc scores\": value of G2M_genes(nc encoded mt genes)'''\n",
    "    \n",
    "    data = defaultdict(list)\n",
    "    \n",
    "    for a in ages:\n",
    "        b = adata[adata.obs['age']== a]#filter by age\n",
    "        for e in tis_cells:#going through keys/tissue types       \n",
    "            c = b[b.obs['cell_ontology_class']== e]#have adata filtered by cell types in list\n",
    "            f = list(c.obs['S_score'])\n",
    "            g = list(c.obs['G2M_score'])\n",
    "            \n",
    "            data[\"Age\"].append(a)\n",
    "            data[\"Cell Type\"].append(e)\n",
    "            data['N'].append(c.n_obs) \n",
    "            data[\"mt scores\"].append(f) \n",
    "            data[\"nc scores\"].append(g)\n",
    "    \n",
    "    return data"
   ]
  },
  {
   "cell_type": "code",
   "execution_count": null,
   "id": "f79b061b",
   "metadata": {},
   "outputs": [],
   "source": [
    "scores_dy = S_G2M_score_dy(tissue_sg1)"
   ]
  },
  {
   "cell_type": "code",
   "execution_count": null,
   "id": "af598f72",
   "metadata": {},
   "outputs": [],
   "source": []
  },
  {
   "cell_type": "markdown",
   "id": "a70b9256",
   "metadata": {},
   "source": [
    "**Function for dictionary for individual MT gene t-test**"
   ]
  },
  {
   "cell_type": "code",
   "execution_count": null,
   "id": "f9fa8a99",
   "metadata": {},
   "outputs": [],
   "source": [
    "def MT_score_dy(adata):\n",
    "    ''' Input is adata. Output is a dictionary with columns: \n",
    "        Age, Cell Type, N (number of cells), \n",
    "        MT genes with list of score per cell type.'''\n",
    "    \n",
    "    data = defaultdict(list)\n",
    "    \n",
    "    for a in ages:\n",
    "        b = adata[adata.obs['age']== a]#filter by age\n",
    "        for e in tis_cells:#going through keys/tissue types       \n",
    "            c = b[b.obs['cell_ontology_class']== e]#have adata filtered by cell types in list\n",
    "            \n",
    "            data[\"Age\"].append(a)\n",
    "            data[\"Cell Type\"].append(e)\n",
    "            data['N'].append(c.n_obs) \n",
    "            data['mt-Atp6'].append(list(set(c.obs['mt-Atp6'])))\n",
    "            data['mt-Atp8'].append(list(set(c.obs['mt-Atp8'])))\n",
    "            data['mt-Co1'].append(list(set(c.obs['mt-Co1'])))\n",
    "            data['mt-Co2'].append(list(set(c.obs['mt-Co2'])))\n",
    "            data['mt-Co3'].append(list(set(c.obs['mt-Co3'])))\n",
    "            data['mt-Cytb'].append(list(set(c.obs['mt-Cytb'])))\n",
    "            data['mt-Nd1'].append(list(set(c.obs['mt-Nd1'])))\n",
    "            data['mt-Nd2'].append(list(set(c.obs['mt-Nd2'])))\n",
    "            data['mt-Nd3'].append(list(set(c.obs['mt-Nd3'])))\n",
    "            data['mt-Nd4'].append(list(set(c.obs['mt-Nd4'])))\n",
    "            data['mt-Nd4l'].append(list(set(c.obs['mt-Nd4l'])))\n",
    "            data['mt-Nd5'].append(list(set(c.obs['mt-Nd5'])))\n",
    "            data['mt-Nd6'].append(list(set(c.obs['mt-Nd6'])))\n",
    "            data['mt-Rnr1'].append(list(set(c.obs['mt-Rnr1'])))\n",
    "            data['mt-Rnr2'].append(list(set(c.obs['mt-Rnr2'])))\n",
    "            data['mt-Ta'].append(list(set(c.obs['mt-Ta'])))\n",
    "            data['mt-Te'].append(list(set(c.obs['mt-Te'])))\n",
    "            data['mt-Tf'].append(list(set(c.obs['mt-Tf'])))\n",
    "            data['mt-Ti'].append(list(set(c.obs['mt-Ti'])))\n",
    "            data['mt-Tl1'].append(list(set(c.obs['mt-Tl1'])))\n",
    "            data['mt-Tl2'].append(list(set(c.obs['mt-Tl2'])))\n",
    "            data['mt-Tm'].append(list(set(c.obs['mt-Tm'])))\n",
    "            data['mt-Tp'].append(list(set(c.obs['mt-Tp'])))\n",
    "            data['mt-Tq'].append(list(set(c.obs['mt-Tq'])))\n",
    "            data['mt-Tt'].append(list(set(c.obs['mt-Tt'])))\n",
    "            data['mt-Tv'].append(list(set(c.obs['mt-Tv'])))\n",
    "        \n",
    "    \n",
    "    return data"
   ]
  },
  {
   "cell_type": "code",
   "execution_count": null,
   "id": "154f5c14",
   "metadata": {},
   "outputs": [],
   "source": [
    "mf_dic = MT_score_dy(tissue_mtsg)"
   ]
  },
  {
   "cell_type": "markdown",
   "id": "351faf55",
   "metadata": {},
   "source": [
    "**Function for mt gene list t-test**"
   ]
  },
  {
   "cell_type": "code",
   "execution_count": null,
   "id": "9c8664db",
   "metadata": {},
   "outputs": [],
   "source": [
    "def ttest_scores_mt(dictionary):\n",
    "    '''Input is a dictionary with 'mt scores' for score_genes of mt_genes,  \n",
    "    \n",
    "    associated 'Age' and 'Cell Type' columns.\n",
    "    \n",
    "    T-test is done between 3m vs. 18m, 3m vs. 24m, and 18m vs. 24m.\n",
    "    \n",
    "    Results that have a pvalue equal or less than 0.05 are added to a dictionary.\n",
    "    \n",
    "    That dictionary of significant results is returned.'''\n",
    "    \n",
    "    data = defaultdict(list)\n",
    "    \n",
    "    for i in range(0,6):\n",
    "        #3m vs 18m\n",
    "        a = (dictionary.get(\"mt scores\")[i])\n",
    "        b = (dictionary.get(\"mt scores\")[i+6])\n",
    "        c = stats.ttest_ind(a,b)\n",
    "        #print(c)\n",
    "        if c[1] <= 0.05:\n",
    "        \n",
    "            data['Significant'].append([(dictionary.get(\"Age\")[i]),(dictionary.get(\"Age\")[i+6]),(dictionary.get(\"Cell Type\")[i]), (dictionary.get(\"Cell Type\")[i+6]),c[1]])\n",
    "            \n",
    "    for i in range(0,6):\n",
    "        #3m vs 24m\n",
    "        a = (dictionary.get(\"mt scores\")[i])\n",
    "        b = (dictionary.get(\"mt scores\")[i+12])\n",
    "        c = stats.ttest_ind(a,b)\n",
    "        #print(c)\n",
    "        if c[1] <= 0.05:\n",
    "        \n",
    "            data['Significant'].append([(dictionary.get(\"Age\")[i]),(dictionary.get(\"Age\")[i+12]),(dictionary.get(\"Cell Type\")[i]), (dictionary.get(\"Cell Type\")[i+12]),c[1]])\n",
    "    for i in range(6,12):\n",
    "        #18m vs 24m\n",
    "        a = (dictionary.get(\"mt scores\")[i])\n",
    "        b = (dictionary.get(\"mt scores\")[i+6])\n",
    "        c = stats.ttest_ind(a,b)\n",
    "        #print(c)\n",
    "        if c[1] <= 0.05:\n",
    "        \n",
    "            data['Significant'].append([(dictionary.get(\"Age\")[i]),(dictionary.get(\"Age\")[i+6]),(dictionary.get(\"Cell Type\")[i]), (dictionary.get(\"Cell Type\")[i+6]),c[1]])\n",
    "    \n",
    "    \n",
    "    return data\n",
    "        "
   ]
  },
  {
   "cell_type": "code",
   "execution_count": null,
   "id": "7e075aa3",
   "metadata": {},
   "outputs": [],
   "source": [
    "mt_ttest = ttest_scores_mt(scores_dy)"
   ]
  },
  {
   "cell_type": "markdown",
   "id": "d02a9591",
   "metadata": {},
   "source": [
    "**Function for nc gene list t-test**"
   ]
  },
  {
   "cell_type": "code",
   "execution_count": null,
   "id": "e609cb50",
   "metadata": {},
   "outputs": [],
   "source": [
    "def ttest_scores_nc(dictionary):\n",
    "\n",
    "    '''Input is a dictionary with 'nc genes' for score_genes of mt_nc_genes \n",
    "    \n",
    "    (nuclear encoded mt genes, mitocarta3.0), associated 'Age' and 'Cell Type' columns.\n",
    "    \n",
    "    T-test is done between 3m vs. 18m, 3m vs. 24m, and 18m vs. 24m.\n",
    "    \n",
    "    Results that have a pvalue equal or less than 0.05 are added to a dictionary.\n",
    "    \n",
    "    That dictionary of significant results is returned.'''\n",
    "    \n",
    "    data = defaultdict(list)\n",
    "    \n",
    "    for i in range(0,6):\n",
    "        #3m vs 18m\n",
    "        a = (dictionary.get(\"nc scores\")[i])\n",
    "        b = (dictionary.get(\"nc scores\")[i+6])\n",
    "        c = stats.ttest_ind(a,b)\n",
    "        #print(c)\n",
    "        if c[1] <= 0.05:\n",
    "        \n",
    "            data['Significant'].append([(dictionary.get(\"Age\")[i]),(dictionary.get(\"Age\")[i+6]),(dictionary.get(\"Cell Type\")[i]), (dictionary.get(\"Cell Type\")[i+6]),c[1]])\n",
    "            \n",
    "    for i in range(0,6):\n",
    "        #3m vs 24m\n",
    "        a = (dictionary.get(\"nc scores\")[i])\n",
    "        b = (dictionary.get(\"nc scores\")[i+12])\n",
    "        c = stats.ttest_ind(a,b)\n",
    "        #print(c)\n",
    "        if c[1] <= 0.05:\n",
    "        \n",
    "            data['Significant'].append([(dictionary.get(\"Age\")[i]),(dictionary.get(\"Age\")[i+12]),(dictionary.get(\"Cell Type\")[i]), (dictionary.get(\"Cell Type\")[i+12]),c[1]])\n",
    "    for i in range(6,12):\n",
    "        #18m vs 24m\n",
    "        a = (dictionary.get(\"nc scores\")[i])\n",
    "        b = (dictionary.get(\"nc scores\")[i+6])\n",
    "        c = stats.ttest_ind(a,b)\n",
    "        #print(c)\n",
    "        if c[1] <= 0.05:\n",
    "        \n",
    "            data['Significant'].append([(dictionary.get(\"Age\")[i]),(dictionary.get(\"Age\")[i+6]),(dictionary.get(\"Cell Type\")[i]), (dictionary.get(\"Cell Type\")[i+6]),c[1]])\n",
    "    \n",
    "    \n",
    "    return data"
   ]
  },
  {
   "cell_type": "code",
   "execution_count": null,
   "id": "97e6b0a0",
   "metadata": {},
   "outputs": [],
   "source": [
    "nc_ttest = ttest_scores_nc(scores_dy)"
   ]
  },
  {
   "cell_type": "markdown",
   "id": "52e9df3a",
   "metadata": {},
   "source": [
    "**Function for individual MT genes t-test**"
   ]
  },
  {
   "cell_type": "code",
   "execution_count": null,
   "id": "67dadeb1",
   "metadata": {},
   "outputs": [],
   "source": [
    "def ttest_scores_MTs(dictionary):\n",
    "\n",
    "    '''Input is a dictionary with score_genes of individual mitochondrial genes, \n",
    "    associated 'Age' and 'Cell Type' columns.\n",
    "    \n",
    "    T-test is done between 3m vs. 18m, 3m vs. 24m, and 18m vs. 24m.\n",
    "    \n",
    "    Results that have a pvalue equal or less than 0.05 are added to a dictionary.\n",
    "    \n",
    "    That dictionary of significant results is returned.'''\n",
    "    \n",
    "    data = defaultdict(list)\n",
    "    for m in mt_genes:\n",
    "        for i in range(0,6):\n",
    "            #3m vs 18m\n",
    "            a = (dictionary.get(m)[i])\n",
    "            b = (dictionary.get(m)[i+6])\n",
    "            c = stats.ttest_ind(a,b)\n",
    "            #print(c)\n",
    "            if c[1] <= 0.05:\n",
    "            \n",
    "                data['Significant'].append([m,(dictionary.get(\"Age\")[i]),(dictionary.get(\"Age\")[i+6]),(dictionary.get(\"Cell Type\")[i]), (dictionary.get(\"Cell Type\")[i+6]),c[1]])\n",
    "                \n",
    "        for i in range(0,6):\n",
    "            #3m vs 24m\n",
    "            a = (dictionary.get(m)[i])\n",
    "            b = (dictionary.get(m)[i+12])\n",
    "            c = stats.ttest_ind(a,b)\n",
    "            #print(c)\n",
    "            if c[1] <= 0.05:\n",
    "            \n",
    "                data['Significant'].append([m,(dictionary.get(\"Age\")[i]),(dictionary.get(\"Age\")[i+12]),(dictionary.get(\"Cell Type\")[i]), (dictionary.get(\"Cell Type\")[i+12]),c[1]])\n",
    "        for i in range(6,12):\n",
    "            #18m vs 24m\n",
    "            a = (dictionary.get(m)[i])\n",
    "            b = (dictionary.get(m)[i+6])\n",
    "            c = stats.ttest_ind(a,b)\n",
    "            #print(c)\n",
    "            if c[1] <= 0.05:\n",
    "            \n",
    "                data['Significant'].append([m,(dictionary.get(\"Age\")[i]),(dictionary.get(\"Age\")[i+6]),(dictionary.get(\"Cell Type\")[i]), (dictionary.get(\"Cell Type\")[i+6]),c[1]])\n",
    "    \n",
    "    \n",
    "    return data"
   ]
  },
  {
   "cell_type": "code",
   "execution_count": null,
   "id": "76ff072f",
   "metadata": {},
   "outputs": [],
   "source": [
    "def ttest_scores_MTs0005(dictionary):\n",
    "\n",
    "    '''Input is a dictionary with score_genes of individual mitochondrial genes, \n",
    "    associated 'Age' and 'Cell Type' columns.\n",
    "    \n",
    "    T-test is done between 3m vs. 18m, 3m vs. 24m, and 18m vs. 24m.\n",
    "    \n",
    "    Results that have a pvalue equal or less than 0.05 are added to a dictionary.\n",
    "    \n",
    "    That dictionary of significant results is returned.'''\n",
    "    \n",
    "    data = defaultdict(list)\n",
    "    for m in mt_genes:\n",
    "        for i in range(0,6):\n",
    "            #3m vs 18m\n",
    "            a = (dictionary.get(m)[i])\n",
    "            b = (dictionary.get(m)[i+6])\n",
    "            c = stats.ttest_ind(a,b)\n",
    "            #print(c)\n",
    "            if c[1] <= 0.0005:\n",
    "            \n",
    "                data['Significant'].append([m,(dictionary.get(\"Age\")[i]),(dictionary.get(\"Age\")[i+6]),(dictionary.get(\"Cell Type\")[i]), (dictionary.get(\"Cell Type\")[i+6]),c[1]])\n",
    "                \n",
    "        for i in range(0,6):\n",
    "            #3m vs 24m\n",
    "            a = (dictionary.get(m)[i])\n",
    "            b = (dictionary.get(m)[i+12])\n",
    "            c = stats.ttest_ind(a,b)\n",
    "            #print(c)\n",
    "            if c[1] <= 0.0005:\n",
    "            \n",
    "                data['Significant'].append([m,(dictionary.get(\"Age\")[i]),(dictionary.get(\"Age\")[i+12]),(dictionary.get(\"Cell Type\")[i]), (dictionary.get(\"Cell Type\")[i+12]),c[1]])\n",
    "        for i in range(6,12):\n",
    "            #18m vs 24m\n",
    "            a = (dictionary.get(m)[i])\n",
    "            b = (dictionary.get(m)[i+6])\n",
    "            c = stats.ttest_ind(a,b)\n",
    "            #print(c)\n",
    "            if c[1] <= 0.0005:\n",
    "            \n",
    "                data['Significant'].append([m,(dictionary.get(\"Age\")[i]),(dictionary.get(\"Age\")[i+6]),(dictionary.get(\"Cell Type\")[i]), (dictionary.get(\"Cell Type\")[i+6]),c[1]])\n",
    "    \n",
    "    \n",
    "    return data"
   ]
  },
  {
   "cell_type": "code",
   "execution_count": null,
   "id": "0bfd9760",
   "metadata": {},
   "outputs": [],
   "source": [
    "mf_1x1_ttest = ttest_scores_MTs(mf_dic)"
   ]
  },
  {
   "cell_type": "code",
   "execution_count": null,
   "id": "02a543f8",
   "metadata": {},
   "outputs": [],
   "source": [
    "mf_1x1_ttest0005 = ttest_scores_MTs0005(mf_dic)"
   ]
  },
  {
   "cell_type": "markdown",
   "id": "920d452e",
   "metadata": {
    "heading_collapsed": true
   },
   "source": [
    "### Checking that indexes are correct"
   ]
  },
  {
   "cell_type": "code",
   "execution_count": null,
   "id": "5ff16f6f",
   "metadata": {
    "hidden": true
   },
   "outputs": [],
   "source": [
    "scores_dy = S_G2M_score_dy(tissue_sg1)\n",
    "a0 = scores_dy.get(\"mt scores\")[0]\n",
    "a6 = scores_dy.get(\"mt scores\")[6]\n",
    "stats.ttest_ind(a0,a6), scores_dy.get(\"Age\")[0],scores_dy.get(\"Age\")[6], scores_dy.get(\"Cell Type\")[0],scores_dy.get(\"Cell Type\")[6]"
   ]
  },
  {
   "cell_type": "code",
   "execution_count": null,
   "id": "63b580f4",
   "metadata": {
    "hidden": true
   },
   "outputs": [],
   "source": [
    "a1 = scores_dy.get(\"mt scores\")[1]\n",
    "a7 = scores_dy.get(\"mt scores\")[7]\n",
    "stats.ttest_ind(a1,a7),scores_dy.get(\"Age\")[1],scores_dy.get(\"Age\")[7],scores_dy.get(\"Cell Type\")[1],scores_dy.get(\"Cell Type\")[7]\n"
   ]
  },
  {
   "cell_type": "code",
   "execution_count": null,
   "id": "f1a8fd60",
   "metadata": {
    "hidden": true
   },
   "outputs": [],
   "source": [
    "a2 = scores_dy.get(\"mt scores\")[2]\n",
    "a8 = scores_dy.get(\"mt scores\")[8]\n",
    "stats.ttest_ind(a2,a8), scores_dy.get(\"Age\")[2],scores_dy.get(\"Age\")[8], scores_dy.get(\"Cell Type\")[2],scores_dy.get(\"Cell Type\")[8]\n"
   ]
  },
  {
   "cell_type": "code",
   "execution_count": null,
   "id": "680b536a",
   "metadata": {
    "hidden": true
   },
   "outputs": [],
   "source": [
    "a3 = scores_dy.get(\"mt scores\")[3]\n",
    "a10 = scores_dy.get(\"mt scores\")[9]\n",
    "stats.ttest_ind(a3,a10), scores_dy.get(\"Age\")[3],scores_dy.get(\"Age\")[9], scores_dy.get(\"Cell Type\")[3],scores_dy.get(\"Cell Type\")[9]\n"
   ]
  },
  {
   "cell_type": "code",
   "execution_count": null,
   "id": "e80f0f2c",
   "metadata": {
    "hidden": true
   },
   "outputs": [],
   "source": [
    "a4 = scores_dy.get(\"mt scores\")[4]\n",
    "a11 = scores_dy.get(\"mt scores\")[10]\n",
    "stats.ttest_ind(a4,a11), scores_dy.get(\"Age\")[4],scores_dy.get(\"Age\")[10], scores_dy.get(\"Cell Type\")[4],scores_dy.get(\"Cell Type\")[10]\n"
   ]
  },
  {
   "cell_type": "code",
   "execution_count": null,
   "id": "266f872a",
   "metadata": {
    "hidden": true
   },
   "outputs": [],
   "source": [
    "a5 = scores_dy.get(\"mt scores\")[5]\n",
    "a12 = scores_dy.get(\"mt scores\")[11]\n",
    "stats.ttest_ind(a5,a12), scores_dy.get(\"Age\")[5],scores_dy.get(\"Age\")[11], scores_dy.get(\"Cell Type\")[5],scores_dy.get(\"Cell Type\")[11]\n"
   ]
  },
  {
   "cell_type": "code",
   "execution_count": null,
   "id": "6a50b913",
   "metadata": {
    "hidden": true
   },
   "outputs": [],
   "source": [
    "nc_ttest['Significant'][0][0:2]"
   ]
  },
  {
   "cell_type": "markdown",
   "id": "c731559c",
   "metadata": {},
   "source": [
    "## ttest_scores results"
   ]
  },
  {
   "cell_type": "code",
   "execution_count": null,
   "id": "5bc10158",
   "metadata": {},
   "outputs": [],
   "source": [
    "def ttest_df(d):\n",
    "    data = defaultdict(list)\n",
    "    '''Input is dictionary from ttest_scores_mt or ttest_scores_nc.\n",
    "    Output is a pandas DataFrame of dictionary'''\n",
    "    for k in range(len(d['Significant'][0:-1])+1):       \n",
    "        \n",
    "        data['Ages'].append(d['Significant'][k][0:2])\n",
    "        data['Cell Type'].append(d['Significant'][k][2])\n",
    "        data['pvalue'].append(d['Significant'][k][4])\n",
    "    \n",
    "    \n",
    "    df = pd.DataFrame(data)\n",
    "    return df"
   ]
  },
  {
   "cell_type": "code",
   "execution_count": null,
   "id": "046c9b0b",
   "metadata": {},
   "outputs": [],
   "source": [
    "def ttest_df2(d):\n",
    "    '''Input is dictionary from ttest_scores_MTs or same function but with lower pvalue (ie ttest_scores_MTs0005.\n",
    "    Output is a pandas DataFrame of dictionary'''\n",
    "    data = defaultdict(list)\n",
    "    \n",
    "    for k in range(len(d['Significant'][0:-1])+1):       \n",
    "        data['MT gene'].append(d['Significant'][k][0])\n",
    "        data['Ages'].append(d['Significant'][k][1:3])\n",
    "        data['Cell Type'].append(d['Significant'][k][3])\n",
    "        data['pvalue'].append(d['Significant'][k][5])\n",
    "    \n",
    "    \n",
    "    df = pd.DataFrame(data)\n",
    "    return df"
   ]
  },
  {
   "cell_type": "code",
   "execution_count": null,
   "id": "dfe20c26",
   "metadata": {},
   "outputs": [],
   "source": [
    "ttest_df(nc_ttest)"
   ]
  },
  {
   "cell_type": "code",
   "execution_count": null,
   "id": "11338734",
   "metadata": {},
   "outputs": [],
   "source": [
    "ttest_df(mt_ttest)"
   ]
  },
  {
   "cell_type": "code",
   "execution_count": null,
   "id": "9135e671",
   "metadata": {},
   "outputs": [],
   "source": [
    "p = ttest_df2(mf_1x1_ttest)#pvlaue <= 0.05\n",
    "p[p['Cell Type']=='macrophage']\n"
   ]
  },
  {
   "cell_type": "code",
   "execution_count": null,
   "id": "44cfb633",
   "metadata": {},
   "outputs": [],
   "source": [
    "q = ttest_df2(mf_1x1_ttest0005) #pvalue <= 0.0005\n",
    "q[q['Cell Type']=='macrophage']"
   ]
  },
  {
   "cell_type": "code",
   "execution_count": null,
   "id": "dab528e7",
   "metadata": {},
   "outputs": [],
   "source": [
    "mf_dic['Age'][0],mf_dic['Age'][6], mf_dic['Cell Type'][0],mf_dic['Cell Type'][6]\n",
    "#refer to mf dataframe for index numbers"
   ]
  },
  {
   "cell_type": "markdown",
   "id": "379f1380",
   "metadata": {},
   "source": [
    "### Mitochondria Encoded, Individual Genes, Macrophages"
   ]
  },
  {
   "cell_type": "code",
   "execution_count": null,
   "id": "8def086d",
   "metadata": {},
   "outputs": [],
   "source": [
    "mt1 = mf_dic.get(\"mt-Atp6\")[5]\n",
    "mt2 = mf_dic.get(\"mt-Atp6\")[17]\n",
    "\n",
    "sns.histplot(mt1, color = 'indigo', legend = True)#darker\n",
    "plt.title(\"3m vs 24m Macrophage mt-Atp6 score_genes Results\")\n",
    "sns.histplot(mt2, color = 'thistle')#lighter"
   ]
  },
  {
   "cell_type": "code",
   "execution_count": null,
   "id": "225b0adf",
   "metadata": {},
   "outputs": [],
   "source": [
    "mt3 = mf_dic.get(\"mt-Atp6\")[11]\n",
    "mt4 = mf_dic.get(\"mt-Atp6\")[17]\n",
    "\n",
    "sns.histplot(mt3, color = 'indigo', legend = True)#darker\n",
    "plt.title(\"18m vs 24m Macrophage mt-Atp6 score_genes Results\")\n",
    "sns.histplot(mt4, color = 'thistle')#lighter"
   ]
  },
  {
   "cell_type": "code",
   "execution_count": null,
   "id": "8615294d",
   "metadata": {},
   "outputs": [],
   "source": [
    "mt5 = mf_dic.get(\"mt-Atp8\")[11]\n",
    "mt6 = mf_dic.get(\"mt-Atp8\")[17]\n",
    "\n",
    "sns.histplot(mt5, color = 'indigo', legend = True)#darker\n",
    "plt.title(\"18m vs 24m Macrophage mt-Atp8 score_genes Results\")\n",
    "sns.histplot(mt6, color = 'thistle')#lighter"
   ]
  },
  {
   "cell_type": "code",
   "execution_count": null,
   "id": "1636a9e1",
   "metadata": {},
   "outputs": [],
   "source": [
    "mt7 = mf_dic.get(\"mt-Co1\")[11]\n",
    "mt8 = mf_dic.get(\"mt-Co1\")[17]\n",
    "\n",
    "sns.histplot(mt7, color = 'indigo', legend = True)#darker\n",
    "plt.title(\"18m vs 24m Macrophage mt-Co1 score_genes Results\")\n",
    "sns.histplot(mt8, color = 'thistle')#lighter"
   ]
  },
  {
   "cell_type": "code",
   "execution_count": null,
   "id": "5e3500fd",
   "metadata": {},
   "outputs": [],
   "source": [
    "mt9 = mf_dic.get(\"mt-Co2\")[5]\n",
    "mt10 = mf_dic.get(\"mt-Co2\")[11]\n",
    "\n",
    "sns.histplot(mt9, color = 'indigo', legend = True)#darker, 3m\n",
    "plt.title(\"3m vs 18m Macrophage mt-Co2 score_genes Results\")\n",
    "sns.histplot(mt10, color = 'thistle')#lighter, 18m"
   ]
  },
  {
   "cell_type": "code",
   "execution_count": null,
   "id": "b0ad7a95",
   "metadata": {},
   "outputs": [],
   "source": [
    "mt11 = mf_dic.get(\"mt-Co2\")[5]\n",
    "mt12 = mf_dic.get(\"mt-Co2\")[17]\n",
    "\n",
    "sns.histplot(mt11, color = 'indigo', legend = True)#darker 3m\n",
    "plt.title(\"3m vs 24m Macrophage mt-Co2 score_genes Results\")\n",
    "sns.histplot(mt12, color = 'thistle')#lighter 24m"
   ]
  },
  {
   "cell_type": "code",
   "execution_count": null,
   "id": "eb648b80",
   "metadata": {},
   "outputs": [],
   "source": [
    "mt11 = mf_dic.get(\"mt-Co2\")[11]\n",
    "mt12 = mf_dic.get(\"mt-Co2\")[17]\n",
    "\n",
    "sns.histplot(mt11, color = 'indigo', legend = True)#darker 18m\n",
    "plt.title(\"18m vs 24m Macrophage mt-Co2 score_genes Results\")\n",
    "sns.histplot(mt12, color = 'thistle')#lighter 24m"
   ]
  },
  {
   "cell_type": "code",
   "execution_count": null,
   "id": "67e99e56",
   "metadata": {},
   "outputs": [],
   "source": [
    "mt13 = mf_dic.get(\"mt-Co3\")[5]\n",
    "mt14 = mf_dic.get(\"mt-Co3\")[11]\n",
    "\n",
    "sns.histplot(mt13, color = 'indigo', legend = True)#darker 3m\n",
    "plt.title(\"3m vs 18m Macrophage mt-Co3 score_genes Results\")\n",
    "sns.histplot(mt14, color = 'thistle')#lighter 18m"
   ]
  },
  {
   "cell_type": "code",
   "execution_count": null,
   "id": "3d6fd30b",
   "metadata": {},
   "outputs": [],
   "source": [
    "mt15 = mf_dic.get(\"mt-Co3\")[5]\n",
    "mt16 = mf_dic.get(\"mt-Co3\")[17]\n",
    "\n",
    "sns.histplot(mt15, color = 'indigo', legend = True)#darker 3m\n",
    "plt.title(\"3m vs 24m Macrophage mt-Co3 score_genes Results\")\n",
    "sns.histplot(mt16, color = 'thistle')#lighter 24m"
   ]
  },
  {
   "cell_type": "code",
   "execution_count": null,
   "id": "74429499",
   "metadata": {},
   "outputs": [],
   "source": [
    "mt17 = mf_dic.get(\"mt-Cytb\")[5]\n",
    "mt18 = mf_dic.get(\"mt-Cytb\")[11]\n",
    "\n",
    "sns.histplot(mt17, color = 'indigo', legend = True)#darker 3m\n",
    "plt.title(\"3m vs 18m Macrophage mt-Cytb score_genes Results\")\n",
    "sns.histplot(mt18, color = 'thistle')#lighter 18m"
   ]
  },
  {
   "cell_type": "code",
   "execution_count": null,
   "id": "f6adc62d",
   "metadata": {},
   "outputs": [],
   "source": [
    "mt19 = mf_dic.get(\"mt-Cytb\")[11]\n",
    "mt20 = mf_dic.get(\"mt-Cytb\")[17]\n",
    "\n",
    "sns.histplot(mt19, color = 'indigo', legend = True)#darker 18m\n",
    "plt.title(\"18m vs 24m Macrophage mt-Cytb score_genes Results\")\n",
    "sns.histplot(mt20, color = 'thistle')#lighter 24m"
   ]
  },
  {
   "cell_type": "code",
   "execution_count": null,
   "id": "0f280182",
   "metadata": {},
   "outputs": [],
   "source": [
    "mt21 = mf_dic.get(\"mt-Nd1\")[11]\n",
    "mt22 = mf_dic.get(\"mt-Nd1\")[17]\n",
    "\n",
    "sns.histplot(mt21, color = 'indigo', legend = True)#darker 18m\n",
    "plt.title(\"18m vs 24m Macrophage mt-Nd1 score_genes Results\")\n",
    "sns.histplot(mt22, color = 'thistle')#lighter 24m"
   ]
  },
  {
   "cell_type": "code",
   "execution_count": null,
   "id": "f0d354a7",
   "metadata": {},
   "outputs": [],
   "source": [
    "mt23 = mf_dic.get(\"mt-Nd2\")[11]\n",
    "mt24 = mf_dic.get(\"mt-Nd2\")[17]\n",
    "\n",
    "sns.histplot(mt23, color = 'indigo', legend = True)#darker 18m\n",
    "plt.title(\"18m vs 24m Macrophage mt-Nd2 score_genes Results\")\n",
    "sns.histplot(mt24, color = 'thistle')#lighter 24m"
   ]
  },
  {
   "cell_type": "code",
   "execution_count": null,
   "id": "63903e82",
   "metadata": {},
   "outputs": [],
   "source": [
    "mt25 = mf_dic.get(\"mt-Nd3\")[11]\n",
    "mt26 = mf_dic.get(\"mt-Nd3\")[17]\n",
    "\n",
    "sns.histplot(mt25, color = 'indigo', legend = True)#darker 18m\n",
    "plt.title(\"18m vs 24m Macrophage mt-Nd3 score_genes Results\")\n",
    "sns.histplot(mt26, color = 'thistle')#lighter 24m"
   ]
  },
  {
   "cell_type": "code",
   "execution_count": null,
   "id": "a7ae531c",
   "metadata": {},
   "outputs": [],
   "source": [
    "mt27 = mf_dic.get(\"mt-Nd4\")[11]\n",
    "mt28 = mf_dic.get(\"mt-Nd4\")[17]\n",
    "\n",
    "sns.histplot(mt27, color = 'indigo', legend = True)#darker 18m\n",
    "plt.title(\"18m vs 24m Macrophage mt-Nd4 score_genes Results\")\n",
    "sns.histplot(mt28, color = 'thistle')#lighter 24m"
   ]
  },
  {
   "cell_type": "code",
   "execution_count": null,
   "id": "69f3117e",
   "metadata": {},
   "outputs": [],
   "source": [
    "#mt-Nd4l 3m vs 18m is 0.0005 < pvalue < 0.05\n",
    "mt29a = mf_dic.get(\"mt-Nd4l\")[5] \n",
    "mt30a = mf_dic.get(\"mt-Nd4l\")[11]\n",
    "\n",
    "sns.histplot(mt29a, color = 'indigo', legend = True)#darker 3m\n",
    "plt.title(\"3m vs 18m Macrophage mt-Nd1 score_genes Results\")\n",
    "sns.histplot(mt30a, color = 'thistle')#lighter 18m"
   ]
  },
  {
   "cell_type": "code",
   "execution_count": null,
   "id": "3de26f44",
   "metadata": {},
   "outputs": [],
   "source": [
    "#isoform mt-Nd4l decreased between 18m to 24m\n",
    "\n",
    "mt29b = mf_dic.get(\"mt-Nd4l\")[11]\n",
    "mt30b = mf_dic.get(\"mt-Nd4l\")[17]\n",
    "\n",
    "sns.histplot(mt29b, color = 'indigo', legend = True)#darker 18m\n",
    "plt.title(\"18m vs 24m Macrophage mt-Nd1 score_genes Results\")\n",
    "sns.histplot(mt30b, color = 'thistle')#lighter 24m"
   ]
  },
  {
   "cell_type": "code",
   "execution_count": null,
   "id": "2d76e901",
   "metadata": {},
   "outputs": [],
   "source": [
    "mt31 = mf_dic.get(\"mt-Nd5\")[5]\n",
    "mt32 = mf_dic.get(\"mt-Nd5\")[11]\n",
    "\n",
    "sns.histplot(mt31, color = 'indigo', legend = True)#darker 3m\n",
    "plt.title(\"3m vs 18m Macrophage mt-Nd1 score_genes Results\")\n",
    "sns.histplot(mt32, color = 'thistle')#lighter 18m"
   ]
  },
  {
   "cell_type": "code",
   "execution_count": null,
   "id": "b84d73d0",
   "metadata": {},
   "outputs": [],
   "source": [
    "mt33 = mf_dic.get(\"mt-Nd5\")[11]\n",
    "mt34 = mf_dic.get(\"mt-Nd5\")[17]\n",
    "\n",
    "sns.histplot(mt33, color = 'indigo', legend = True)#darker 18m\n",
    "plt.title(\"18m vs 24m Macrophage mt-Nd1 score_genes Results\")\n",
    "sns.histplot(mt34, color = 'thistle')#lighter 24m"
   ]
  },
  {
   "cell_type": "code",
   "execution_count": null,
   "id": "69181822",
   "metadata": {},
   "outputs": [],
   "source": [
    "mt35 = mf_dic.get(\"mt-Nd6\")[11]\n",
    "mt36 = mf_dic.get(\"mt-Nd6\")[17]\n",
    "\n",
    "sns.histplot(mt35, color = 'indigo', legend = True)#darker 18m\n",
    "plt.title(\"18m vs 24m Macrophage mt-Nd6 score_genes Results\")\n",
    "sns.histplot(mt36, color = 'thistle')#lighter 24m"
   ]
  },
  {
   "cell_type": "code",
   "execution_count": null,
   "id": "b88f0b4d",
   "metadata": {},
   "outputs": [],
   "source": [
    "#Increase in mt ribosome (Rnr1) from 3m to 24m\n",
    "\n",
    "mt37 = mf_dic.get(\"mt-Rnr1\")[5]\n",
    "mt38 = mf_dic.get(\"mt-Rnr1\")[17]\n",
    "\n",
    "sns.histplot(mt37, color = 'indigo', legend = True)#darker 3m\n",
    "plt.title(\"3m vs 24m Macrophage mt-Rnr1 score_genes Results\")\n",
    "sns.histplot(mt38, color = 'thistle')#lighter 24m"
   ]
  },
  {
   "cell_type": "code",
   "execution_count": null,
   "id": "e4aa4bdb",
   "metadata": {},
   "outputs": [],
   "source": [
    "#Increase in mt ribosome (Rnr1) from 3m to 24m\n",
    "\n",
    "mt39 = mf_dic.get(\"mt-Rnr1\")[11]\n",
    "mt40 = mf_dic.get(\"mt-Rnr1\")[17]\n",
    "\n",
    "sns.histplot(mt39, color = 'indigo', legend = True)#darker 18m\n",
    "plt.title(\"18m vs 24m Macrophage mt-Rnr1 score_genes Results\")\n",
    "sns.histplot(mt40, color = 'thistle')#lighter 24m"
   ]
  },
  {
   "cell_type": "markdown",
   "id": "55b3db21",
   "metadata": {},
   "source": [
    "### Mitochondria Encoded Genes (list)"
   ]
  },
  {
   "cell_type": "code",
   "execution_count": null,
   "id": "87da5839",
   "metadata": {},
   "outputs": [],
   "source": [
    "#refer to sg1 dataframe for index numbers\n",
    "aa = scores_dy.get(\"mt scores\")[4]\n",
    "ab = scores_dy.get(\"mt scores\")[10]\n",
    "\n",
    "sns.histplot(aa, color = 'indigo', legend = True)#darker\n",
    "plt.title(\"3m vs 18 DN4 Thymocyte Mitochondria Encoded Genes score_genes Results\")\n",
    "sns.histplot(ab, color = 'thistle')#lighter"
   ]
  },
  {
   "cell_type": "code",
   "execution_count": null,
   "id": "dc00a2bf",
   "metadata": {},
   "outputs": [],
   "source": [
    "ba = scores_dy.get(\"mt scores\")[5]\n",
    "bb = scores_dy.get(\"mt scores\")[11]\n",
    "\n",
    "sns.histplot(ba, color = 'indigo', legend = True)#darker\n",
    "plt.title(\"3m vs 18 Thymocyte Mitochondria Encoded Genes score_genes Results\")\n",
    "sns.histplot(bb, color = 'thistle')#lighter"
   ]
  },
  {
   "cell_type": "code",
   "execution_count": null,
   "id": "3d1747c7",
   "metadata": {},
   "outputs": [],
   "source": [
    "ca = scores_dy.get(\"mt scores\")[1]\n",
    "cb = scores_dy.get(\"mt scores\")[13]\n",
    "\n",
    "sns.histplot(ca, color = 'indigo', legend = True)#darker\n",
    "plt.title(\"3m vs 24m Endothelial Mitochondria Encoded Genes score_genes Results\")\n",
    "sns.histplot(cb, color = 'thistle')#lighter"
   ]
  },
  {
   "cell_type": "code",
   "execution_count": null,
   "id": "b9214fa9",
   "metadata": {},
   "outputs": [],
   "source": [
    "da = scores_dy.get(\"mt scores\")[4]\n",
    "db = scores_dy.get(\"mt scores\")[16]\n",
    "\n",
    "sns.histplot(da, color = 'indigo', legend = True)#darker\n",
    "plt.title(\"3m vs 24m DN4 Thymocyte Mitochondria Encoded Genes score_genes Results\")\n",
    "sns.histplot(db, color = 'thistle')#lighter"
   ]
  },
  {
   "cell_type": "code",
   "execution_count": null,
   "id": "bbdac580",
   "metadata": {},
   "outputs": [],
   "source": [
    "ea = scores_dy.get(\"mt scores\")[8]\n",
    "eb = scores_dy.get(\"mt scores\")[14]\n",
    "\n",
    "sns.histplot(ba, color = 'indigo', legend = True)#darker\n",
    "plt.title(\"18m vs 24 Fibroblast Mitochondria Encoded Genes score_genes Results\")\n",
    "sns.histplot(bb, color = 'thistle')#lighter"
   ]
  },
  {
   "cell_type": "code",
   "execution_count": null,
   "id": "f0f6b638",
   "metadata": {},
   "outputs": [],
   "source": [
    "fa = scores_dy.get(\"mt scores\")[9]\n",
    "fb = scores_dy.get(\"mt scores\")[15]\n",
    "\n",
    "sns.histplot(fa, color = 'indigo', legend = True)#18m darker\n",
    "plt.title(\"18m vs 24m Macrophage Mitochondria Encoded Genes score_genes Results\")\n",
    "sns.histplot(fb, color = 'thistle')#24m lighter"
   ]
  },
  {
   "cell_type": "code",
   "execution_count": null,
   "id": "dc07562b",
   "metadata": {},
   "outputs": [],
   "source": [
    "ga = scores_dy.get(\"mt scores\")[10]\n",
    "gb = scores_dy.get(\"mt scores\")[16]\n",
    "\n",
    "sns.histplot(ga, color = 'indigo', legend = True)# darker\n",
    "plt.title(\"18m vs 24m DN4 Thymocyte Mitochondria Encoded Genes score_genes Results\")\n",
    "sns.histplot(gb, color = 'thistle')#lighter"
   ]
  },
  {
   "cell_type": "code",
   "execution_count": null,
   "id": "b2a1f88e",
   "metadata": {},
   "outputs": [],
   "source": [
    "ha = scores_dy.get(\"mt scores\")[11]\n",
    "hb = scores_dy.get(\"mt scores\")[17]\n",
    "\n",
    "sns.histplot(ha, color = 'indigo', legend = True)# darker\n",
    "plt.title(\"18m vs 24m Thymocyte Mitochondria Encoded Genes score_genes Results\")\n",
    "sns.histplot(hb, color = 'thistle')#lighter"
   ]
  },
  {
   "cell_type": "markdown",
   "id": "cbbfbc09",
   "metadata": {
    "heading_collapsed": true
   },
   "source": [
    "### Nuclear Encoded Mitochondria Associated Genes, MitoCarta3.0"
   ]
  },
  {
   "cell_type": "code",
   "execution_count": null,
   "id": "a0e23f48",
   "metadata": {
    "hidden": true
   },
   "outputs": [],
   "source": [
    "ia = scores_dy.get(\"nc scores\")[0]\n",
    "ib = scores_dy.get(\"nc scores\")[6]\n",
    "\n",
    "sns.histplot(ia, color = 'teal', legend = True)# darker\n",
    "plt.title(\"3m vs 18m Epithelial Nuclear Encoded MT Genes score_genes Results\")\n",
    "sns.histplot(ib, color = 'lightcyan')#lighter"
   ]
  },
  {
   "cell_type": "code",
   "execution_count": null,
   "id": "ffda4129",
   "metadata": {
    "hidden": true
   },
   "outputs": [],
   "source": [
    "ja = scores_dy.get(\"nc scores\")[1]\n",
    "jb = scores_dy.get(\"nc scores\")[7]\n",
    "\n",
    "sns.histplot(ja, color = 'teal', legend = True)# darker\n",
    "plt.title(\"3m vs 18m Endothelial Nuclear Encoded MT Genes score_genes Results\")\n",
    "sns.histplot(jb, color = 'lightcyan')#lighter"
   ]
  },
  {
   "cell_type": "code",
   "execution_count": null,
   "id": "2fe8f940",
   "metadata": {
    "hidden": true
   },
   "outputs": [],
   "source": [
    "ka = scores_dy.get(\"nc scores\")[5]\n",
    "kb = scores_dy.get(\"nc scores\")[11]\n",
    "\n",
    "sns.histplot(ka, color = 'teal', legend = True)# darker\n",
    "plt.title(\"3m vs 18m Thymocyte Nuclear Encoded MT Genes score_genes Results\")\n",
    "sns.histplot(kb, color = 'lightcyan')#lighter"
   ]
  },
  {
   "cell_type": "code",
   "execution_count": null,
   "id": "489e2207",
   "metadata": {
    "hidden": true
   },
   "outputs": [],
   "source": [
    "la = scores_dy.get(\"nc scores\")[1]\n",
    "lb = scores_dy.get(\"nc scores\")[13]\n",
    "\n",
    "sns.histplot(la, color = 'teal', legend = True)# darker\n",
    "plt.title(\"3m vs 24m Endothelial Nuclear Encoded MT Genes score_genes Results\")\n",
    "sns.histplot(lb, color = 'lightcyan')#lighter"
   ]
  },
  {
   "cell_type": "code",
   "execution_count": null,
   "id": "e6f9d98a",
   "metadata": {
    "hidden": true
   },
   "outputs": [],
   "source": [
    "ma = scores_dy.get(\"nc scores\")[2]\n",
    "mb = scores_dy.get(\"nc scores\")[14]\n",
    "\n",
    "sns.histplot(ma, color = 'teal', legend = True)# darker\n",
    "plt.title(\"3m vs 24m Fibroblast Nuclear Encoded MT Genes score_genes Results\")\n",
    "sns.histplot(mb, color = 'lightcyan')#lighter"
   ]
  },
  {
   "cell_type": "code",
   "execution_count": null,
   "id": "9ab1eb64",
   "metadata": {
    "hidden": true
   },
   "outputs": [],
   "source": [
    "na = scores_dy.get(\"nc scores\")[4]\n",
    "nb = scores_dy.get(\"nc scores\")[16]\n",
    "\n",
    "sns.histplot(na, color = 'teal', legend = True)# darker\n",
    "plt.title(\"3m vs 24m DN4 Thymocyte Nuclear Encoded MT Genes score_genes Results\")\n",
    "sns.histplot(nb, color = 'lightcyan')#lighter"
   ]
  },
  {
   "cell_type": "code",
   "execution_count": null,
   "id": "9deb7997",
   "metadata": {
    "hidden": true
   },
   "outputs": [],
   "source": [
    "oa = scores_dy.get(\"nc scores\")[5]\n",
    "ob = scores_dy.get(\"nc scores\")[17]\n",
    "\n",
    "sns.histplot(oa, color = 'teal', legend = True)# darker\n",
    "plt.title(\"3m vs 24m Thymocyte Nuclear Encoded MT Genes score_genes Results\")\n",
    "sns.histplot(ob, color = 'lightcyan')#lighter"
   ]
  },
  {
   "cell_type": "code",
   "execution_count": null,
   "id": "c8d77f12",
   "metadata": {
    "hidden": true
   },
   "outputs": [],
   "source": [
    "pa = scores_dy.get(\"nc scores\")[2]\n",
    "pb = scores_dy.get(\"nc scores\")[14]\n",
    "\n",
    "sns.histplot(pa, color = 'teal', legend = True)# darker\n",
    "plt.title(\"3m vs 24m Fibroblast Nuclear Encoded MT Genes score_genes Results\")\n",
    "sns.histplot(pb, color = 'lightcyan')#lighter"
   ]
  },
  {
   "cell_type": "code",
   "execution_count": null,
   "id": "0272c4cd",
   "metadata": {
    "hidden": true
   },
   "outputs": [],
   "source": [
    "qa = scores_dy.get(\"nc scores\")[9]\n",
    "qb = scores_dy.get(\"nc scores\")[15]\n",
    "\n",
    "sns.histplot(qa, color = 'teal', legend = True)# darker\n",
    "plt.title(\"18m vs 24m Macrophage Nuclear Encoded MT Genes score_genes Results\")\n",
    "sns.histplot(qb, color = 'lightcyan')#lighter"
   ]
  },
  {
   "cell_type": "code",
   "execution_count": null,
   "id": "b652d713",
   "metadata": {
    "hidden": true
   },
   "outputs": [],
   "source": [
    "ra = scores_dy.get(\"nc scores\")[11]\n",
    "rb = scores_dy.get(\"nc scores\")[17]\n",
    "\n",
    "sns.histplot(ra, color = 'teal', legend = True)# darker\n",
    "plt.title(\"18m vs 24m Thymocyte Nuclear Encoded MT Genes score_genes Results\")\n",
    "sns.histplot(rb, color = 'lightcyan')#lighter"
   ]
  },
  {
   "cell_type": "code",
   "execution_count": null,
   "id": "9e58eb76",
   "metadata": {
    "hidden": true
   },
   "outputs": [],
   "source": []
  },
  {
   "cell_type": "code",
   "execution_count": null,
   "id": "f23a2511",
   "metadata": {
    "hidden": true
   },
   "outputs": [],
   "source": []
  },
  {
   "cell_type": "code",
   "execution_count": null,
   "id": "2c147242",
   "metadata": {
    "hidden": true
   },
   "outputs": [],
   "source": []
  },
  {
   "cell_type": "code",
   "execution_count": null,
   "id": "cf0e0197",
   "metadata": {
    "hidden": true
   },
   "outputs": [],
   "source": [
    "\n"
   ]
  },
  {
   "cell_type": "code",
   "execution_count": null,
   "id": "9a5430fc",
   "metadata": {
    "hidden": true
   },
   "outputs": [],
   "source": []
  },
  {
   "cell_type": "code",
   "execution_count": null,
   "id": "eddfaf47",
   "metadata": {
    "hidden": true
   },
   "outputs": [],
   "source": []
  },
  {
   "cell_type": "code",
   "execution_count": null,
   "id": "d3a9d46b",
   "metadata": {
    "hidden": true
   },
   "outputs": [],
   "source": []
  },
  {
   "cell_type": "code",
   "execution_count": null,
   "id": "46198cbb",
   "metadata": {
    "hidden": true
   },
   "outputs": [],
   "source": []
  },
  {
   "cell_type": "markdown",
   "id": "37d30273",
   "metadata": {
    "hidden": true
   },
   "source": []
  },
  {
   "cell_type": "code",
   "execution_count": null,
   "id": "56c6602e",
   "metadata": {
    "hidden": true
   },
   "outputs": [],
   "source": []
  },
  {
   "cell_type": "markdown",
   "id": "c3c373fa",
   "metadata": {
    "heading_collapsed": true
   },
   "source": [
    "## examples"
   ]
  },
  {
   "cell_type": "markdown",
   "id": "1f762ffe",
   "metadata": {
    "hidden": true
   },
   "source": [
    "Some pandas DataFrame commands"
   ]
  },
  {
   "cell_type": "code",
   "execution_count": null,
   "id": "4c530612",
   "metadata": {
    "hidden": true
   },
   "outputs": [],
   "source": [
    "df.columns #to get column names"
   ]
  },
  {
   "cell_type": "code",
   "execution_count": null,
   "id": "0810ed99",
   "metadata": {
    "hidden": true
   },
   "outputs": [],
   "source": [
    "df[df.index ==\"3_9_M\"] #to just get rows with this index name"
   ]
  },
  {
   "cell_type": "code",
   "execution_count": null,
   "id": "af04b465",
   "metadata": {
    "hidden": true
   },
   "outputs": [],
   "source": [
    "tissue.obs.groupby([\"age\",'mouse.id', 'cell_ontology_class'])['cell'].count()"
   ]
  },
  {
   "cell_type": "markdown",
   "id": "c3569185",
   "metadata": {
    "hidden": true
   },
   "source": [
    "Aaron explained what this graph represents, max, min and median of y input."
   ]
  },
  {
   "cell_type": "code",
   "execution_count": null,
   "id": "bd17d5bc",
   "metadata": {
    "hidden": true
   },
   "outputs": [],
   "source": [
    "dd = df2.groupby([\"mouse.id\", \"Cell Type\"]).sum().reset_index()\n",
    "\n",
    "sns.catplot(data = dd, x = 'mouse.id', y = 'Cell Type/Tissue %', kind = \"box\")\n",
    "plt.xticks(rotation=90);"
   ]
  },
  {
   "cell_type": "code",
   "execution_count": null,
   "id": "a6a05fdd",
   "metadata": {
    "hidden": true
   },
   "outputs": [],
   "source": [
    "dd[dd['mouse.id'] == '18_45_M'].median() #can see median here is same as median in catplot graph"
   ]
  },
  {
   "cell_type": "code",
   "execution_count": null,
   "id": "550ea0f8",
   "metadata": {
    "hidden": true
   },
   "outputs": [],
   "source": []
  },
  {
   "cell_type": "markdown",
   "id": "f5b53a20",
   "metadata": {
    "hidden": true
   },
   "source": [
    "Example of creating a dataframe straight from adata object"
   ]
  },
  {
   "cell_type": "code",
   "execution_count": null,
   "id": "b874a779",
   "metadata": {
    "hidden": true
   },
   "outputs": [],
   "source": [
    "df=pd.DataFrame(tissue.obs.groupby([\"age\",'mouse.id', 'cell_ontology_class'])[\"cell\"].count()).reset_index()\n",
    "#get intermediate sums per mouse.id\n",
    "sns.catplot(data = df, x = 'cell_ontology_class', y = 'cell', hue = 'age', kind = \"box\")\n",
    "#get cell to %, to proportions"
   ]
  },
  {
   "cell_type": "markdown",
   "id": "d7263288",
   "metadata": {
    "hidden": true
   },
   "source": [
    "Example of how to look at particular genes"
   ]
  },
  {
   "cell_type": "code",
   "execution_count": null,
   "id": "a5dbfce1",
   "metadata": {
    "hidden": true
   },
   "outputs": [],
   "source": [
    "#mt-Atp6\n",
    "adata_mtAtp6 = adata[:,'mt-Atp6'].copy() \n",
    "#subsets adata object by cells that have this gene. var=mt-Atp6\n",
    "#AnnData object with n_obs × n_vars = 103180 × 1\n",
    "\n",
    "adata_mtAtp6 = adata_mtAtp6[adata_mtAtp6.obs.cell_ontology_class=='macrophage'].copy() \n",
    "#now filtering to just macrophages\n",
    "#Should loop through macrophages_in_tissues dictionary\n",
    "\n",
    "adata_mtAtp6.obs[\"mt-Atp6\"]=adata_mtAtp6.X #creates mt-Atp6 column!\n",
    "\n",
    "adata_mtAtp6 = adata_mtAtp6.obs.copy()"
   ]
  },
  {
   "cell_type": "markdown",
   "id": "131ad62a",
   "metadata": {
    "hidden": true
   },
   "source": [
    "Example of how to plot gene"
   ]
  },
  {
   "cell_type": "code",
   "execution_count": null,
   "id": "84009f6f",
   "metadata": {
    "hidden": true
   },
   "outputs": [],
   "source": [
    "\n",
    "sns.catplot(data = adata_mtAtp6, x='age', y = 'mt-Atp6', col = 'tissue',col_wrap=3, kind = 'box')"
   ]
  },
  {
   "cell_type": "markdown",
   "id": "8215fe07",
   "metadata": {
    "heading_collapsed": true
   },
   "source": [
    "# STATISTICS"
   ]
  },
  {
   "cell_type": "code",
   "execution_count": null,
   "id": "66a668b2",
   "metadata": {
    "hidden": true
   },
   "outputs": [],
   "source": []
  },
  {
   "cell_type": "code",
   "execution_count": null,
   "id": "4a03d81d",
   "metadata": {
    "hidden": true
   },
   "outputs": [],
   "source": []
  },
  {
   "cell_type": "markdown",
   "id": "77837e25",
   "metadata": {
    "heading_collapsed": true
   },
   "source": [
    "# Play Area"
   ]
  },
  {
   "cell_type": "code",
   "execution_count": null,
   "id": "45463eca",
   "metadata": {
    "hidden": true
   },
   "outputs": [],
   "source": [
    "import dash_bio"
   ]
  },
  {
   "cell_type": "code",
   "execution_count": null,
   "id": "1a505a31",
   "metadata": {
    "hidden": true
   },
   "outputs": [],
   "source": [
    "#dash_bio.VolcanoPlot(\n",
    "#    dataframe=checkin,\n",
    "#)\n",
    "help(dash_bio.VolcanoPlot)"
   ]
  },
  {
   "cell_type": "code",
   "execution_count": null,
   "id": "9e11ea95",
   "metadata": {
    "hidden": true
   },
   "outputs": [],
   "source": []
  },
  {
   "cell_type": "code",
   "execution_count": null,
   "id": "baa7c350",
   "metadata": {
    "hidden": true
   },
   "outputs": [],
   "source": [
    "tissue_gene_scores.var.index.tolist().index(\"Uqcrc1\")"
   ]
  },
  {
   "cell_type": "code",
   "execution_count": null,
   "id": "469be955",
   "metadata": {
    "hidden": true
   },
   "outputs": [],
   "source": [
    "tissue_gene_scores.obs.cell.tolist().index(\"G20_B000236\")"
   ]
  },
  {
   "cell_type": "code",
   "execution_count": null,
   "id": "70c87458",
   "metadata": {
    "hidden": true
   },
   "outputs": [],
   "source": [
    "dd = tissue_gene_scores[tissue_gene_scores.obs.cell == \"C1.B000827.3_38_F.1.1\", tissue_gene_scores.var.index == \"Uqcrc1\"]\n",
    "\n",
    "dd.X[0,0]"
   ]
  },
  {
   "cell_type": "code",
   "execution_count": null,
   "id": "23b64424",
   "metadata": {
    "hidden": true
   },
   "outputs": [],
   "source": [
    "tissue_gene_scores.X[3669, 52319]  "
   ]
  },
  {
   "cell_type": "code",
   "execution_count": null,
   "id": "d1b28604",
   "metadata": {
    "hidden": true
   },
   "outputs": [],
   "source": [
    "Uqcrc1 = tissue_gene_scores[:,'Uqcrc1'].copy()\n",
    "Uqcrc1.var"
   ]
  },
  {
   "cell_type": "code",
   "execution_count": null,
   "id": "40669c1e",
   "metadata": {
    "hidden": true
   },
   "outputs": [],
   "source": []
  }
 ],
 "metadata": {
  "kernelspec": {
   "display_name": "Python 3",
   "language": "python",
   "name": "python3"
  },
  "language_info": {
   "codemirror_mode": {
    "name": "ipython",
    "version": 3
   },
   "file_extension": ".py",
   "mimetype": "text/x-python",
   "name": "python",
   "nbconvert_exporter": "python",
   "pygments_lexer": "ipython3",
   "version": "3.8.8"
  },
  "toc": {
   "base_numbering": 1,
   "nav_menu": {},
   "number_sections": false,
   "sideBar": true,
   "skip_h1_title": false,
   "title_cell": "Table of Contents",
   "title_sidebar": "Contents",
   "toc_cell": false,
   "toc_position": {
    "height": "calc(100% - 180px)",
    "left": "10px",
    "top": "150px",
    "width": "224.4px"
   },
   "toc_section_display": true,
   "toc_window_display": true
  }
 },
 "nbformat": 4,
 "nbformat_minor": 5
}
