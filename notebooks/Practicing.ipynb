{
 "cells": [
  {
   "cell_type": "code",
   "execution_count": 1,
   "id": "republican-cabinet",
   "metadata": {},
   "outputs": [],
   "source": [
    "import numpy as np\n",
    "import pandas as pd\n",
    "import scanpy as sc\n"
   ]
  },
  {
   "cell_type": "code",
   "execution_count": 2,
   "id": "revolutionary-feature",
   "metadata": {},
   "outputs": [
    {
     "name": "stdout",
     "output_type": "stream",
     "text": [
      "scanpy==1.8.2 anndata==0.7.8 umap==0.5.2 numpy==1.20.1 scipy==1.6.2 pandas==1.2.4 scikit-learn==0.24.1 statsmodels==0.12.2 pynndescent==0.5.5\n"
     ]
    }
   ],
   "source": [
    "sc.settings.verbosity = 3             \n",
    "sc.logging.print_header()\n",
    "sc.settings.set_figure_params(dpi=80, facecolor='white')"
   ]
  },
  {
   "cell_type": "code",
   "execution_count": null,
   "id": "aeb37e6e",
   "metadata": {},
   "outputs": [],
   "source": [
    "#scanpy.read_10x_h5(filename, genome=None, gex_only=True, backup_url=None)\n",
    "#scanpy.read_csv(filename, delimiter=',', first_column_names=None, dtype='float32')"
   ]
  },
  {
   "cell_type": "code",
   "execution_count": null,
   "id": "f087b212",
   "metadata": {},
   "outputs": [],
   "source": [
    "results_file = 'write/practice_smartseq2.h5ad' "
   ]
  },
  {
   "cell_type": "code",
   "execution_count": null,
   "id": "a13ae253",
   "metadata": {},
   "outputs": [],
   "source": [
    "adata = scanpy.read_csv(\n",
    "    '/mnt/ibm_sm/maca/raw_cellxgene_csvs/180911_A00111_0207_BHC7KNDSXX$/MACA_180911_A00111_0207_BHC7KNDSXX.csv',\n",
    "    delimiter=',',\n",
    "    first_column_names = X)         \n",
    "    \n",
    "    # the directory with the,                 \n",
    "    # use gene symbols for the variable names (variables-axis index)                               \n",
    "    # write a cache file for faster subsequent reading\n"
   ]
  },
  {
   "cell_type": "code",
   "execution_count": null,
   "id": "743caeed",
   "metadata": {},
   "outputs": [],
   "source": [
    "adata"
   ]
  },
  {
   "cell_type": "code",
   "execution_count": 2,
   "id": "fe47b07c",
   "metadata": {},
   "outputs": [],
   "source": [
    "test_file= \"/mnt/ibm_sm/home/lea.mcgeever/ms/notebooks/test.h5ad\"\n",
    "#adata.write(\"pathway\")\n",
    "#test_file.write()"
   ]
  },
  {
   "cell_type": "code",
   "execution_count": 3,
   "id": "0373ba84",
   "metadata": {},
   "outputs": [
    {
     "ename": "NameError",
     "evalue": "name 'adata' is not defined",
     "output_type": "error",
     "traceback": [
      "\u001b[0;31m---------------------------------------------------------------------------\u001b[0m",
      "\u001b[0;31mNameError\u001b[0m                                 Traceback (most recent call last)",
      "\u001b[0;32m<ipython-input-3-63e257fe1f8a>\u001b[0m in \u001b[0;36m<module>\u001b[0;34m\u001b[0m\n\u001b[0;32m----> 1\u001b[0;31m \u001b[0mhelp\u001b[0m\u001b[0;34m(\u001b[0m\u001b[0madata\u001b[0m\u001b[0;34m.\u001b[0m\u001b[0mwrite\u001b[0m\u001b[0;34m)\u001b[0m\u001b[0;34m\u001b[0m\u001b[0;34m\u001b[0m\u001b[0m\n\u001b[0m",
      "\u001b[0;31mNameError\u001b[0m: name 'adata' is not defined"
     ]
    }
   ],
   "source": [
    "help(anndata.write)"
   ]
  },
  {
   "cell_type": "code",
   "execution_count": null,
   "id": "2b1c3e4b",
   "metadata": {},
   "outputs": [],
   "source": []
  }
 ],
 "metadata": {
  "kernelspec": {
   "display_name": "Python 3",
   "language": "python",
   "name": "python3"
  },
  "language_info": {
   "codemirror_mode": {
    "name": "ipython",
    "version": 3
   },
   "file_extension": ".py",
   "mimetype": "text/x-python",
   "name": "python",
   "nbconvert_exporter": "python",
   "pygments_lexer": "ipython3",
   "version": "3.8.8"
  }
 },
 "nbformat": 4,
 "nbformat_minor": 5
}
