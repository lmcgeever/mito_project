{
 "cells": [
  {
   "cell_type": "code",
   "execution_count": 4,
   "id": "3ae57d47",
   "metadata": {},
   "outputs": [],
   "source": [
    "import numpy as np\n",
    "import pandas as pd\n",
    "import scanpy as sc\n",
    "import numpy as np"
   ]
  },
  {
   "cell_type": "code",
   "execution_count": 5,
   "id": "ea504855",
   "metadata": {},
   "outputs": [],
   "source": [
    "CSV_FILE = \"/mnt/ibm_sm/maca/raw_cellxgene_csvs/190116_A00111_0256_BHH237DSXX/190116_A00111_0256_BHH237DSXX.csv\""
   ]
  },
  {
   "cell_type": "code",
   "execution_count": 6,
   "id": "a3b74881",
   "metadata": {},
   "outputs": [],
   "source": [
    "adata_untransposed = sc.read_csv(CSV_FILE,\n",
    "    delimiter=',',\n",
    "    first_column_names = None) "
   ]
  },
  {
   "cell_type": "code",
   "execution_count": 7,
   "id": "f61b9c15",
   "metadata": {},
   "outputs": [],
   "source": [
    "adata = adata_untransposed.T"
   ]
  },
  {
   "cell_type": "code",
   "execution_count": 8,
   "id": "14da351a",
   "metadata": {},
   "outputs": [
    {
     "data": {
      "text/plain": [
       "Index(['0610005C13Rik', '0610006L08Rik', '0610009B22Rik', '0610009E02Rik',\n",
       "       '0610009L18Rik', '0610010F05Rik', '0610010K14Rik', '0610012D04Rik',\n",
       "       '0610012G03Rik', '0610025J13Rik',\n",
       "       ...\n",
       "       'n-R5s96', 'n-R5s97', 'n-R5s98', 'n-TSaga9', 'n-TStga1', '__no_feature',\n",
       "       '__ambiguous', '__too_low_aQual', '__not_aligned',\n",
       "       '__alignment_not_unique'],\n",
       "      dtype='object', length=54449)"
      ]
     },
     "execution_count": 8,
     "metadata": {},
     "output_type": "execute_result"
    }
   ],
   "source": [
    "adata.var.index"
   ]
  },
  {
   "cell_type": "code",
   "execution_count": null,
   "id": "548fed16",
   "metadata": {},
   "outputs": [],
   "source": [
    "#Mrps34', 'RNAseH1', 'Twinkle', 'Nsun4', 'Mterf4', 'Tymp', 'CD38'\n"
   ]
  },
  {
   "cell_type": "code",
   "execution_count": 9,
   "id": "a385d91e",
   "metadata": {},
   "outputs": [
    {
     "name": "stdout",
     "output_type": "stream",
     "text": [
      "mt-Atp6\n",
      "mt-Atp8\n",
      "mt-Co1\n",
      "mt-Co2\n",
      "mt-Co3\n",
      "mt-Cytb\n",
      "mt-Nd1\n",
      "mt-Nd2\n",
      "mt-Nd3\n",
      "mt-Nd4\n",
      "mt-Nd4l\n",
      "mt-Nd5\n",
      "mt-Nd6\n",
      "mt-Rnr1\n",
      "mt-Rnr2\n",
      "mt-Ta\n",
      "mt-Tc\n",
      "mt-Td\n",
      "mt-Te\n",
      "mt-Tf\n",
      "mt-Tg\n",
      "mt-Th\n",
      "mt-Ti\n",
      "mt-Tk\n",
      "mt-Tl1\n",
      "mt-Tl2\n",
      "mt-Tm\n",
      "mt-Tn\n",
      "mt-Tp\n",
      "mt-Tq\n",
      "mt-Tr\n",
      "mt-Ts1\n",
      "mt-Ts2\n",
      "mt-Tt\n",
      "mt-Tv\n",
      "mt-Tw\n",
      "mt-Ty\n"
     ]
    }
   ],
   "source": [
    "for gene in list(adata.var.index):\n",
    "    if 'mt-' == gene[:3]:\n",
    "        print(gene)"
   ]
  },
  {
   "cell_type": "code",
   "execution_count": 12,
   "id": "a941ad3c",
   "metadata": {},
   "outputs": [
    {
     "name": "stdout",
     "output_type": "stream",
     "text": [
      "Mrps34\n",
      "Mterf4\n",
      "Nsun4\n",
      "Tymp\n"
     ]
    }
   ],
   "source": [
    "genes = ['Mrps34', 'RNAseH1', 'Twinkle', 'Nsun4', 'Mterf4', 'Tymp', 'CD38']\n",
    "\n",
    "for gene in list(adata.var.index):\n",
    "    for i in genes:\n",
    "        if gene == i:\n",
    "            print(gene)"
   ]
  },
  {
   "cell_type": "code",
   "execution_count": null,
   "id": "c727f763",
   "metadata": {},
   "outputs": [],
   "source": []
  }
 ],
 "metadata": {
  "kernelspec": {
   "display_name": "Python 3",
   "language": "python",
   "name": "python3"
  },
  "language_info": {
   "codemirror_mode": {
    "name": "ipython",
    "version": 3
   },
   "file_extension": ".py",
   "mimetype": "text/x-python",
   "name": "python",
   "nbconvert_exporter": "python",
   "pygments_lexer": "ipython3",
   "version": "3.8.8"
  },
  "toc": {
   "base_numbering": 1,
   "nav_menu": {},
   "number_sections": true,
   "sideBar": true,
   "skip_h1_title": false,
   "title_cell": "Table of Contents",
   "title_sidebar": "Contents",
   "toc_cell": false,
   "toc_position": {},
   "toc_section_display": true,
   "toc_window_display": false
  }
 },
 "nbformat": 4,
 "nbformat_minor": 5
}
