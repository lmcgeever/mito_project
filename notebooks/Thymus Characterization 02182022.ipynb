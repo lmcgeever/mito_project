{
 "cells": [
  {
   "cell_type": "markdown",
   "id": "c2084322",
   "metadata": {},
   "source": [
    "# Setup and Config"
   ]
  },
  {
   "cell_type": "code",
   "execution_count": 151,
   "id": "5ecd85cc",
   "metadata": {},
   "outputs": [
    {
     "name": "stdout",
     "output_type": "stream",
     "text": [
      "scanpy==1.8.2 anndata==0.7.8 umap==0.5.2 numpy==1.20.1 scipy==1.6.2 pandas==1.2.4 scikit-learn==0.24.1 statsmodels==0.12.2 python-igraph==0.9.8 pynndescent==0.5.5\n"
     ]
    }
   ],
   "source": [
    "import pandas as pd\n",
    "import scanpy as sc\n",
    "import numpy as np\n",
    "import seaborn as sns\n",
    "import anndata as ad\n",
    "import PyPDF2\n",
    "import matplotlib.pyplot as plt\n",
    "import statistics as st\n",
    "from pathlib import Path\n",
    "import scipy.stats as stats\n",
    "from collections import defaultdict\n",
    "\n",
    "\n",
    "\n",
    "#Adata Files\n",
    "adata_processed = \"/mnt/ibm_sm/home/lea.mcgeever/ms/notebooks/adata_files/adata_processed__02172022.h5ad\"\n",
    "adata = sc.read_h5ad(adata_processed)\n",
    "\n",
    "adata_tissue = \"/mnt/ibm_sm/home/lea.mcgeever/ms/notebooks/adata_files/adata_thymus_processed_02172022.h5ad\"\n",
    "tissue = sc.read_h5ad(adata_tissue)\n",
    "\n",
    "tissue_sg_path = \"/mnt/ibm_sm/home/lea.mcgeever/ms/notebooks/adata_files/tissue_sg1_02172022.h5ad\"\n",
    "tissue_sg1 = sc.read_h5ad(tissue_sg_path)\n",
    "\n",
    "sc.settings.verbosity = 3             \n",
    "sc.logging.print_header()\n",
    "sc.settings.set_figure_params(dpi=80, facecolor='white')"
   ]
  },
  {
   "cell_type": "code",
   "execution_count": 152,
   "id": "7b61e7ed",
   "metadata": {},
   "outputs": [],
   "source": [
    "from statannot import add_stat_annotation"
   ]
  },
  {
   "cell_type": "markdown",
   "id": "e5840578",
   "metadata": {
    "heading_collapsed": true
   },
   "source": [
    "# Clustering"
   ]
  },
  {
   "cell_type": "code",
   "execution_count": null,
   "id": "69932877",
   "metadata": {
    "hidden": true
   },
   "outputs": [],
   "source": [
    "adata_thymus = adata[adata.obs['tissue'] == \"Thymus\"].copy()\n",
    "sc.pp.pca(adata_thymus)\n",
    "sc.pp.neighbors(adata_thymus, n_pcs=9)\n",
    "sc.tl.leiden(adata_thymus) \n",
    "sc.tl.umap(adata_thymus)"
   ]
  },
  {
   "cell_type": "code",
   "execution_count": null,
   "id": "61c48429",
   "metadata": {
    "hidden": true
   },
   "outputs": [],
   "source": [
    "#adata_thymus_processed = \"/mnt/ibm_sm/home/lea.mcgeever/ms/notebooks/adata_files/adata_thymus_processed_02172022.h5ad\"\n",
    "#adata_thymus.write(adata_thymus_processed)"
   ]
  },
  {
   "cell_type": "code",
   "execution_count": null,
   "id": "1e21f032",
   "metadata": {
    "hidden": true
   },
   "outputs": [],
   "source": [
    "sc.pl.pca_overview(tissue, color = 'cell_ontology_class')"
   ]
  },
  {
   "cell_type": "markdown",
   "id": "a247efe8",
   "metadata": {
    "heading_collapsed": true
   },
   "source": [
    "# Looking at clustering consistency"
   ]
  },
  {
   "cell_type": "code",
   "execution_count": null,
   "id": "4f8e1c55",
   "metadata": {
    "hidden": true
   },
   "outputs": [],
   "source": [
    "sc.pl.umap(tissue, color = ['leiden', 'free_annotation'])\n"
   ]
  },
  {
   "cell_type": "code",
   "execution_count": null,
   "id": "005b9d69",
   "metadata": {
    "hidden": true
   },
   "outputs": [],
   "source": [
    "#sc.pl.umap(tissue_sg1, color = ['S_score', 'G2M_score'])\n",
    "#reprocess & cluster tissue_sg1"
   ]
  },
  {
   "cell_type": "code",
   "execution_count": null,
   "id": "596cf3a9",
   "metadata": {
    "hidden": true
   },
   "outputs": [],
   "source": [
    "sc.pl.umap(tissue, color = ['leiden', 'cell_ontology_class'])\n"
   ]
  },
  {
   "cell_type": "code",
   "execution_count": null,
   "id": "28ca02ff",
   "metadata": {
    "hidden": true
   },
   "outputs": [],
   "source": [
    "sc.pl.umap(tissue, color = ['leiden', 'cell_ontology_class'])"
   ]
  },
  {
   "cell_type": "code",
   "execution_count": null,
   "id": "ff981efb",
   "metadata": {
    "hidden": true
   },
   "outputs": [],
   "source": [
    "sc.pl.umap(tissue, color = ['leiden', 'cell_ontology_class'])\n"
   ]
  },
  {
   "cell_type": "code",
   "execution_count": null,
   "id": "4edd7b9b",
   "metadata": {
    "hidden": true
   },
   "outputs": [],
   "source": [
    "sc.pl.umap(tissue, color = ['leiden', 'cell_ontology_class'])"
   ]
  },
  {
   "cell_type": "markdown",
   "id": "e9c72857",
   "metadata": {},
   "source": [
    "# Characterize cell proportions across ages"
   ]
  },
  {
   "cell_type": "code",
   "execution_count": 153,
   "id": "03650dc1",
   "metadata": {},
   "outputs": [],
   "source": [
    "tis_cells = list(set(tissue.obs['cell_ontology_class']))\n",
    "ages = ['3m','18m','24m']"
   ]
  },
  {
   "cell_type": "code",
   "execution_count": 154,
   "id": "4c555495",
   "metadata": {},
   "outputs": [],
   "source": [
    "from collections import defaultdict\n",
    "\n",
    "def cell_per_tissue(celltypelist, adata):\n",
    "    ''' Input is cell type list. Output is a pandas DataFrame \n",
    "    of the percentage of that cell type for inputted subsetted adata tissue object'''\n",
    "    \n",
    "    data = defaultdict(list)\n",
    "    \n",
    "    for a in ages:\n",
    "        b = adata[adata.obs['age']== a]#filter by age\n",
    "        for e in celltypelist:#going through keys/tissue types       \n",
    "            c = b[b.obs['cell_ontology_class']== e]#have adata filtered by cell types in list\n",
    "            tissue_cell_count = adata.n_obs\n",
    "            data[\"Age\"].append(a)\n",
    "            data[\"Cell Type\"].append(e)\n",
    "            data[\"Cell Count\"].append(c.n_obs)\n",
    "            data[\"Cell Type/Tissue %\"].append((c.n_obs/b.n_obs)*100)\n",
    "            \n",
    "    df = pd.DataFrame(data)\n",
    "    return df"
   ]
  },
  {
   "cell_type": "code",
   "execution_count": 155,
   "id": "0dc55693",
   "metadata": {},
   "outputs": [
    {
     "data": {
      "text/plain": [
       "[Text(0.5, 1.0, 'Cell Type % of Thymus')]"
      ]
     },
     "execution_count": 155,
     "metadata": {},
     "output_type": "execute_result"
    },
    {
     "data": {
      "image/png": "[encoded data removed]",
      "text/plain": [
       "<Figure size 1360x400 with 1 Axes>"
      ]
     },
     "metadata": {
      "image/png": {
       "height": 553,
       "width": 1127
      }
     },
     "output_type": "display_data"
    }
   ],
   "source": [
    "df = cell_per_tissue(tis_cells,tissue)\n",
    "\n",
    "sns.set_style('whitegrid')\n",
    "fig = plt.figure(figsize=(17, 5))\n",
    "plt.xticks(rotation=90)\n",
    "sns.set(font_scale =1)\n",
    "sns.barplot(data=df, y=\"Cell Type/Tissue %\", x=\"Cell Type\", hue = \"Age\").set(title=\"Cell Type % of Thymus\")"
   ]
  },
  {
   "cell_type": "code",
   "execution_count": 156,
   "id": "ecc04ebb",
   "metadata": {},
   "outputs": [],
   "source": [
    "mouse_ids = list(set(tissue.obs['mouse.id']))"
   ]
  },
  {
   "cell_type": "code",
   "execution_count": 157,
   "id": "df634a97",
   "metadata": {},
   "outputs": [],
   "source": [
    "from collections import defaultdict\n",
    "\n",
    "def cell_per_tissue2(a_list, adata):\n",
    "    ''' Input is list and adata tissue object. Output is a pandas DataFrame \n",
    "    of the percentage of that cell type for inputted subsetted adata tissue object'''\n",
    "    \n",
    "    data = defaultdict(list)\n",
    "    \n",
    "    for a in a_list:\n",
    "        b = adata[adata.obs['mouse.id']== a]#filter by mouse\n",
    "        for c in tis_cells:       \n",
    "            d = b[b.obs['cell_ontology_class']== c]#have adata filtered by cell types in list\n",
    "            tissue_cell_count = b.n_obs\n",
    "            \n",
    "            data[\"mouse.id\"].append(a)\n",
    "            data[\"Cell Type\"].append(c)\n",
    "            data[\"Cell Count\"].append(d.n_obs)\n",
    "            data[\"Cell Type/Tissue %\"].append((d.n_obs/b.n_obs)*100)\n",
    "            \n",
    "    df = pd.DataFrame(data)\n",
    "    return df"
   ]
  },
  {
   "cell_type": "code",
   "execution_count": 158,
   "id": "11e9d62e",
   "metadata": {},
   "outputs": [],
   "source": [
    "df2=cell_per_tissue2(mouse_ids,tissue)"
   ]
  },
  {
   "cell_type": "code",
   "execution_count": null,
   "id": "b45e9c2f",
   "metadata": {},
   "outputs": [],
   "source": [
    "#help(pd.DataFrame.agg)"
   ]
  },
  {
   "cell_type": "code",
   "execution_count": null,
   "id": "d9239b7d",
   "metadata": {},
   "outputs": [],
   "source": [
    "#help(pd.DataFrame.groupby)"
   ]
  },
  {
   "cell_type": "code",
   "execution_count": null,
   "id": "bb7082ba",
   "metadata": {},
   "outputs": [],
   "source": [
    "#help(pd.DataFrame.aggregate)"
   ]
  },
  {
   "cell_type": "code",
   "execution_count": 159,
   "id": "6914a72f",
   "metadata": {},
   "outputs": [],
   "source": [
    "df2.groupby([\"mouse.id\"])[[\"Cell Type/Tissue %\"]].sum()#don't think i need\n",
    "dd = df2.groupby([\"mouse.id\", \"Cell Type\"]).sum()"
   ]
  },
  {
   "cell_type": "code",
   "execution_count": 160,
   "id": "43faa52f",
   "metadata": {},
   "outputs": [],
   "source": [
    "dd = dd.reset_index('Cell Type')"
   ]
  },
  {
   "cell_type": "markdown",
   "id": "d45102cf",
   "metadata": {},
   "source": [
    "Pivoting pandas DataFrame so that Cell Type column values becomes columns, and Cell Type/Tissue % populate new columns."
   ]
  },
  {
   "cell_type": "code",
   "execution_count": 161,
   "id": "20b01f3a",
   "metadata": {},
   "outputs": [],
   "source": [
    "tmp = dd.pivot_table(values='Cell Type/Tissue %', columns=\"Cell Type\", index=dd.index)"
   ]
  },
  {
   "cell_type": "markdown",
   "id": "483ca71f",
   "metadata": {},
   "source": [
    "Reordering mouse.id X axis"
   ]
  },
  {
   "cell_type": "code",
   "execution_count": 162,
   "id": "f55ff09b",
   "metadata": {},
   "outputs": [],
   "source": [
    "mouse_id_order = [\n",
    "    '3_8_M', \n",
    "    '3_9_M',\n",
    "    '3_11_M', \n",
    "    '3_38_F', \n",
    "    '3_39_F', \n",
    "    '18_45_M', \n",
    "    '18_46_F', \n",
    "    '18_47_F', \n",
    "    '18_53_M', \n",
    "    '24_58_M', \n",
    "    '24_59_M',\n",
    "    '24_60_M', \n",
    "    '24_61_M', \n",
    "]\n",
    "\n",
    "tmp = tmp.reindex(mouse_id_order)"
   ]
  },
  {
   "cell_type": "markdown",
   "id": "1533a8ce",
   "metadata": {},
   "source": [
    "**Cell Type % of Thymus per Mouse**"
   ]
  },
  {
   "cell_type": "code",
   "execution_count": 163,
   "id": "e7df2759",
   "metadata": {},
   "outputs": [
    {
     "name": "stderr",
     "output_type": "stream",
     "text": [
      "<ipython-input-163-1a8c41979784>:5: MatplotlibDeprecationWarning: Adding an axes using the same arguments as a previous axes currently reuses the earlier instance.  In a future version, a new instance will always be created and returned.  Meanwhile, this warning can be suppressed, and the future behavior ensured, by passing a unique label to each axes instance.\n",
      "  ax = plt.axes()\n"
     ]
    },
    {
     "data": {
      "image/png": "[encoded data removed]",
      "text/plain": [
       "<Figure size 960x800 with 1 Axes>"
      ]
     },
     "metadata": {
      "image/png": {
       "height": 722,
       "width": 998
      }
     },
     "output_type": "display_data"
    }
   ],
   "source": [
    "tmp.plot(kind='bar', stacked=True, figsize=(12, 10), color = ['pink','indigo','gold','royalblue','mediumorchid','powderblue'])\n",
    "plt.legend(bbox_to_anchor=(1.02, 1), loc='upper left', borderaxespad=0, facecolor = 'white')\n",
    "plt.title(\"Cell Type % of Thymus per Mouse\")\n",
    "plt.ylabel('Cell Type %')\n",
    "ax = plt.axes()\n",
    "ax.set_facecolor(\"white\")\n"
   ]
  },
  {
   "cell_type": "markdown",
   "id": "24629a58",
   "metadata": {},
   "source": [
    "**Cell Type % of Thymus by Age**"
   ]
  },
  {
   "cell_type": "code",
   "execution_count": 164,
   "id": "0314c366",
   "metadata": {},
   "outputs": [],
   "source": [
    "from collections import defaultdict\n",
    "\n",
    "def cell_per_age(a_list, adata):\n",
    "    ''' Input is list and adata tissue object. Output is a pandas DataFrame \n",
    "    of the percentage of that cell type by age for inputted subsetted adata tissue object'''\n",
    "    \n",
    "    data = defaultdict(list)\n",
    "    \n",
    "    for a in a_list:\n",
    "        b = adata[adata.obs['age']== a]#filter by age\n",
    "        for c in tis_cells:       \n",
    "            d = b[b.obs['cell_ontology_class']== c]#have adata filtered by cell types in list\n",
    "            tissue_cell_count = b.n_obs\n",
    "            \n",
    "            data[\"age\"].append(a)\n",
    "            data[\"Cell Type\"].append(c)\n",
    "            #data[\"Cell Count\"].append(d.n_obs)\n",
    "            data[\"Cell Type/Tissue %\"].append((d.n_obs/b.n_obs)*100)\n",
    "            \n",
    "    df = pd.DataFrame(data)\n",
    "    return df"
   ]
  },
  {
   "cell_type": "code",
   "execution_count": 165,
   "id": "3326aa29",
   "metadata": {},
   "outputs": [],
   "source": [
    "ac = cell_per_age(ages,tissue)"
   ]
  },
  {
   "cell_type": "code",
   "execution_count": 166,
   "id": "6fb8ea2c",
   "metadata": {},
   "outputs": [],
   "source": [
    "ad = ac.groupby([\"age\", \"Cell Type\"]).sum()"
   ]
  },
  {
   "cell_type": "code",
   "execution_count": 167,
   "id": "bae16549",
   "metadata": {},
   "outputs": [],
   "source": [
    "ad = ad.reset_index('Cell Type')"
   ]
  },
  {
   "cell_type": "code",
   "execution_count": 168,
   "id": "d1f26c2f",
   "metadata": {},
   "outputs": [],
   "source": [
    "ae = ad.pivot_table(values='Cell Type/Tissue %', columns=\"Cell Type\", index=ad.index)\n",
    "ae = ae.reindex(ages)"
   ]
  },
  {
   "cell_type": "code",
   "execution_count": 169,
   "id": "4e16e646",
   "metadata": {},
   "outputs": [
    {
     "name": "stderr",
     "output_type": "stream",
     "text": [
      "<ipython-input-169-8b10e0581ed1>:5: MatplotlibDeprecationWarning: Adding an axes using the same arguments as a previous axes currently reuses the earlier instance.  In a future version, a new instance will always be created and returned.  Meanwhile, this warning can be suppressed, and the future behavior ensured, by passing a unique label to each axes instance.\n",
      "  ax = plt.axes()\n"
     ]
    },
    {
     "data": {
      "image/png": "[encoded data removed]",
      "text/plain": [
       "<Figure size 320x400 with 1 Axes>"
      ]
     },
     "metadata": {
      "image/png": {
       "height": 392,
       "width": 489
      }
     },
     "output_type": "display_data"
    }
   ],
   "source": [
    "ae.plot(kind='bar', stacked=True, figsize=(4, 5), color = ['pink','indigo','gold','royalblue','mediumorchid','powderblue'])\n",
    "plt.legend(bbox_to_anchor=(1.02, 1), loc='upper left', borderaxespad=0, facecolor = 'white')\n",
    "plt.title(\"Cell Type % of Thymus by Age\")\n",
    "plt.ylabel('Cell Type %')\n",
    "ax = plt.axes()\n",
    "ax.set_facecolor(\"white\")"
   ]
  },
  {
   "cell_type": "markdown",
   "id": "eadc1372",
   "metadata": {},
   "source": [
    "**Variance of Cell Type % of Thymus across Age**"
   ]
  },
  {
   "cell_type": "markdown",
   "id": "60950197",
   "metadata": {},
   "source": [
    "* I'd like to break apart the macrophage cluster (shows two leiden clusters) into two categories and plot"
   ]
  },
  {
   "cell_type": "code",
   "execution_count": 170,
   "id": "818ee1b6",
   "metadata": {},
   "outputs": [
    {
     "data": {
      "image/png": "[encoded data removed]",
      "text/plain": [
       "<Figure size 400x400 with 1 Axes>"
      ]
     },
     "metadata": {
      "image/png": {
       "height": 555,
       "width": 399
      }
     },
     "output_type": "display_data"
    }
   ],
   "source": [
    "sns.catplot(data = ad, x = 'Cell Type', y = 'Cell Type/Tissue %', kind = \"box\", palette=sns.color_palette(['pink','indigo','gold','royalblue','mediumorchid','powderblue']))\n",
    "plt.title(\"Variance of Cell Type % of Thymus across Age\")\n",
    "sns.set_style(\"whitegrid\")\n",
    "plt.xticks(rotation=90);\n"
   ]
  },
  {
   "cell_type": "code",
   "execution_count": null,
   "id": "1c2907a7",
   "metadata": {},
   "outputs": [],
   "source": [
    "def remove_cats(adata):\n",
    "\n",
    "    cat_columns = adata.obs.select_dtypes(['category']).columns\n",
    "    adata.obs[cat_columns] = adata.obs[cat_columns].astype(str)\n",
    "    \n",
    "    return adata"
   ]
  },
  {
   "cell_type": "code",
   "execution_count": null,
   "id": "60e394b8",
   "metadata": {},
   "outputs": [],
   "source": [
    "tissue = remove_cats(tissue)"
   ]
  },
  {
   "cell_type": "code",
   "execution_count": null,
   "id": "4f13f7cc",
   "metadata": {},
   "outputs": [],
   "source": [
    "'''Angela showing me some pandas tricks and suggestions'''\n",
    "\n",
    "pd.DataFrame(tissue2.obs.groupby([\"age\",'mouse.id', 'cell_ontology_class']).agg({\"mouse.id\":[len]}))\n",
    "#make a dataframe and count by mouse.id, aggregate\n",
    "#seaborn, 3 columns x = cell, hue =age y = len"
   ]
  },
  {
   "cell_type": "markdown",
   "id": "486dec2e",
   "metadata": {
    "heading_collapsed": true
   },
   "source": [
    "# Gene lists for macrophage subtypes"
   ]
  },
  {
   "cell_type": "markdown",
   "id": "4979d0dd",
   "metadata": {
    "hidden": true
   },
   "source": [
    "**The transcription factor NR4A1 is essential for the development of a novel macrophage subset in the thymus** by Tacke et al.\n",
    "\n",
    "https://pubmed.ncbi.nlm.nih.gov/26091486/\n",
    "2015 Jun 19;5:10055.\n",
    "doi: 10.1038/srep10055. "
   ]
  },
  {
   "cell_type": "code",
   "execution_count": null,
   "id": "68691128",
   "metadata": {
    "hidden": true
   },
   "outputs": [],
   "source": [
    "'''Thymic macropahge subset of CD11b−F4/80+'''\n",
    "\n",
    "CD11b_neg_F4_80_pos_express = ['Tim4','CD45', 'CSF1R','Mertk', 'CD64','MHCII']\n",
    "#enrichment Axl, Tyro3, Mfg-e8\n",
    "CD11b_neg_F4_80_pos_repress = ['Ly6C','CD11c','Siglec F','Ly6G', 'Dx5','B220']\n"
   ]
  },
  {
   "cell_type": "markdown",
   "id": "76aa1be0",
   "metadata": {
    "hidden": true
   },
   "source": [
    "\"Tim4 was used as a marker for thymic CD11b−F4/80+ cells during the histological analysis due to the exclusive expression within this population in the thymus.\""
   ]
  },
  {
   "cell_type": "code",
   "execution_count": null,
   "id": "b9987c3e",
   "metadata": {
    "hidden": true
   },
   "outputs": [],
   "source": []
  },
  {
   "cell_type": "code",
   "execution_count": null,
   "id": "255f84aa",
   "metadata": {
    "hidden": true
   },
   "outputs": [],
   "source": []
  },
  {
   "cell_type": "markdown",
   "id": "86dca676",
   "metadata": {
    "heading_collapsed": true
   },
   "source": [
    "# ID macrophage subtype clusters"
   ]
  },
  {
   "cell_type": "code",
   "execution_count": null,
   "id": "8a87ce7a",
   "metadata": {
    "hidden": true
   },
   "outputs": [],
   "source": []
  },
  {
   "cell_type": "code",
   "execution_count": null,
   "id": "74d5943a",
   "metadata": {
    "hidden": true
   },
   "outputs": [],
   "source": []
  },
  {
   "cell_type": "code",
   "execution_count": null,
   "id": "d070d100",
   "metadata": {
    "hidden": true
   },
   "outputs": [],
   "source": []
  },
  {
   "cell_type": "code",
   "execution_count": null,
   "id": "95b05f9b",
   "metadata": {
    "hidden": true
   },
   "outputs": [],
   "source": []
  },
  {
   "cell_type": "code",
   "execution_count": null,
   "id": "8e22955b",
   "metadata": {
    "hidden": true
   },
   "outputs": [],
   "source": []
  },
  {
   "cell_type": "code",
   "execution_count": null,
   "id": "2fba589d",
   "metadata": {
    "hidden": true
   },
   "outputs": [],
   "source": []
  },
  {
   "cell_type": "markdown",
   "id": "270e29c8",
   "metadata": {},
   "source": [
    "# Characterize alterations of macropahge MT reads across ages"
   ]
  },
  {
   "cell_type": "markdown",
   "id": "83beb187",
   "metadata": {},
   "source": [
    "The **MitoCarta3.0** mouse inventory is a collection of 1140 nuclear and mtDNA genes encoding proteins with strong support of mitochondrial localization. This table provides a summary of evidence supporting mitochondrial localization, the protein distribution across 14 tissues, as well as annotation of biological pathways (based on manual literature review) and sub-compartment (based on annotator's \"best guess\" integrating sequence features, experimental data, literature, and pathway context; note all subunits of protein complexes are assigned the same compartment). The genes are ordered by strength of mitochondrial evidence. More complete information is available for download in file Mouse.MitoCarta3.0.xls. See also MitoCarta3.0 home for a description of the project and MitoCarta3.0 documentation for information on the columns below. "
   ]
  },
  {
   "cell_type": "code",
   "execution_count": null,
   "id": "5fba1921",
   "metadata": {},
   "outputs": [],
   "source": [
    "help(sc.pp.highly_variable_genes)"
   ]
  },
  {
   "cell_type": "markdown",
   "id": "91f56f04",
   "metadata": {},
   "source": [
    "## MitoCarta3.0 Gene List"
   ]
  },
  {
   "cell_type": "code",
   "execution_count": 171,
   "id": "a9ef12a7",
   "metadata": {},
   "outputs": [],
   "source": [
    "mitocarta3_path = \"/mnt/ibm_sm/home/lea.mcgeever/ms/notebooks/Mouse_mt_genes.csv\"\n",
    "mitocarta3_df = pd.read_csv(mitocarta3_path)\n",
    "mt_nc_genes = list(mitocarta3_df['Symbol'])"
   ]
  },
  {
   "cell_type": "markdown",
   "id": "d32209da",
   "metadata": {
    "heading_collapsed": true
   },
   "source": [
    "## Gene lists"
   ]
  },
  {
   "cell_type": "code",
   "execution_count": 172,
   "id": "701dd374",
   "metadata": {
    "hidden": true
   },
   "outputs": [],
   "source": [
    "mt_genes = [\n",
    "    \"mt-Atp6\",\n",
    "    \"mt-Atp8\",\n",
    "    \"mt-Co1\",\n",
    "    \"mt-Co2\",\n",
    "    \"mt-Co3\",\n",
    "    \"mt-Cytb\",\n",
    "    \"mt-Nd1\",\n",
    "    \"mt-Nd2\",\n",
    "    \"mt-Nd3\",\n",
    "    \"mt-Nd4\",\n",
    "    \"mt-Nd4l\",\n",
    "    \"mt-Nd5\",\n",
    "    \"mt-Nd6\",\n",
    "    \"mt-Rnr1\",\n",
    "    \"mt-Rnr2\",\n",
    "    \"mt-Ta\",\n",
    "    \"mt-Te\",\n",
    "    \"mt-Tf\",\n",
    "    \"mt-Ti\",\n",
    "    \"mt-Tl1\",\n",
    "     \"mt-Tl2\",\n",
    "    \"mt-Tm\",\n",
    "    \"mt-Tp\",\n",
    "    \"mt-Tq\",\n",
    "    \"mt-Tt\",\n",
    "    \"mt-Tv\"\n",
    "]\n",
    "\n",
    "mitocarta_remove = [\"mt-Atp6\",\n",
    "                    \"mt-Atp8\",\n",
    "                    \"mt-Co1\",\n",
    "                    \"mt-Co2\",\n",
    "                    \"mt-Co3\",\n",
    "                    \"mt-Cytb\",\n",
    "                    \"mt-Nd1\",\n",
    "                    \"mt-Nd2\",\n",
    "                    \"mt-Nd3\",\n",
    "                    \"mt-Nd4\",\n",
    "                    \"mt-Nd4l\",\n",
    "                    \"mt-Nd5\",\n",
    "                    \"mt-Nd6\"]\n",
    "\n",
    "#removing mt_encoded genes\n",
    "for m in mitocarta_remove:\n",
    "    mt_nc_genes.remove(m)"
   ]
  },
  {
   "cell_type": "markdown",
   "id": "0439dd4f",
   "metadata": {
    "hidden": true
   },
   "source": [
    "Genes not in adata.vars"
   ]
  },
  {
   "cell_type": "code",
   "execution_count": 173,
   "id": "5acd4a79",
   "metadata": {
    "hidden": true
   },
   "outputs": [],
   "source": [
    "#sc.tl.score_genes_cell_cycle ignored these genes since they're not in .vars\n",
    "ignored = ['Gatd3a', 'Micos10', 'Fdx2', 'Mmut', 'Atp5pb', 'Mtarc2', 'Micos13', 'Mtres1', 'Coa8', 'Tmlhe', 'Mtarc1', 'Prxl2a', 'Marchf5', 'Dmac2l', 'Atp5md', 'Antkmt', 'Atpsckmt', 'Septin4', 'Prorp', 'Htd2', 'Pigbos1']\n"
   ]
  },
  {
   "cell_type": "markdown",
   "id": "2da87894",
   "metadata": {
    "hidden": true
   },
   "source": [
    "Mitocarta3.0 nuclear genes combined with mitochondrial genes"
   ]
  },
  {
   "cell_type": "code",
   "execution_count": 174,
   "id": "b60b73b5",
   "metadata": {
    "hidden": true
   },
   "outputs": [],
   "source": [
    "mt_nc = mt_genes + mt_nc_genes"
   ]
  },
  {
   "cell_type": "markdown",
   "id": "5ed8b106",
   "metadata": {},
   "source": [
    "## Gene expression dataframe"
   ]
  },
  {
   "cell_type": "code",
   "execution_count": 175,
   "id": "0c4d54f0",
   "metadata": {},
   "outputs": [],
   "source": [
    "def gene_expression_df(adata, genelist):\n",
    "    '''Takes adata object and a list of genes. \n",
    "    Returns a pandas dataframe where genes and their expression values are columns in dataframe of adata.'''\n",
    "    df = adata.obs.copy()\n",
    "    \n",
    "    for g in genelist:\n",
    "        df[g] = tissue[:,g].X.toarray().flatten()\n",
    "    return df   "
   ]
  },
  {
   "cell_type": "code",
   "execution_count": 176,
   "id": "2a3640ab",
   "metadata": {},
   "outputs": [],
   "source": [
    "'''Removing genes from MitoCarta gene list that are not in .vars'''\n",
    "\n",
    "genes = list(mt_nc.copy())\n",
    "\n",
    "for i in range(len(ignored)):\n",
    "    for i in ignored:\n",
    "        if i in genes:\n",
    "            genes.remove(i)   "
   ]
  },
  {
   "cell_type": "code",
   "execution_count": 177,
   "id": "28084585",
   "metadata": {},
   "outputs": [
    {
     "name": "stdout",
     "output_type": "stream",
     "text": [
      "There are 0 duplicate genes in genes list\n"
     ]
    }
   ],
   "source": [
    "'''Checking for duplicate genes'''\n",
    "dupe_genes = []\n",
    "for g in genes:\n",
    "    count = genes.count(g)\n",
    "    if count > 1:\n",
    "        dupe_genes.append(g)\n",
    "print(f'There are {len(dupe_genes)} duplicate genes in genes list')"
   ]
  },
  {
   "cell_type": "code",
   "execution_count": null,
   "id": "a66e1ef6",
   "metadata": {},
   "outputs": [],
   "source": [
    "'''Checking that all MT genes are in genes (mt_nc) list'''\n",
    "\n",
    "for m in mt_genes:\n",
    "    if m in genes:\n",
    "        print(m,'yes')\n",
    "    else:\n",
    "        print(m, 'no') "
   ]
  },
  {
   "cell_type": "code",
   "execution_count": null,
   "id": "cc7c5db1",
   "metadata": {},
   "outputs": [],
   "source": [
    "#may be too large?\n",
    "df_nc_mt = gene_expression_df(tissue_sg1,list(tissue_sg1.var.index))"
   ]
  },
  {
   "cell_type": "code",
   "execution_count": null,
   "id": "539ffbea",
   "metadata": {},
   "outputs": [],
   "source": [
    "df_nc_mt['Nr4a1']"
   ]
  },
  {
   "cell_type": "markdown",
   "id": "39815633",
   "metadata": {},
   "source": [
    "## MT and MitoCarta score_genes"
   ]
  },
  {
   "cell_type": "markdown",
   "id": "c8c04022",
   "metadata": {},
   "source": [
    "**Function for looping through MT and Mitocarta gene list for sc.tl.score_genes()**"
   ]
  },
  {
   "cell_type": "code",
   "execution_count": null,
   "id": "03703aaf",
   "metadata": {},
   "outputs": [],
   "source": [
    "help(sc.tl.score_genes_cell_cycle)"
   ]
  },
  {
   "cell_type": "markdown",
   "id": "ab3cbe43",
   "metadata": {},
   "source": [
    "**Save MT score_genes result** (unhash if doing for the first time)\n",
    "\n",
    "* score_genes_cell_cycle(adata, s_genes, g2m_genes)\n",
    "* mt_genes -> s_genes\n",
    "* mt_nc_genes -> g2m_genes"
   ]
  },
  {
   "cell_type": "code",
   "execution_count": 186,
   "id": "8de5be73",
   "metadata": {},
   "outputs": [
    {
     "name": "stdout",
     "output_type": "stream",
     "text": [
      "calculating cell cycle phase\n",
      "computing score 'S_score'\n",
      "    finished: added\n",
      "    'S_score', score of gene set (adata.obs).\n",
      "    234 total control genes are used. (0:00:00)\n",
      "computing score 'G2M_score'\n",
      "WARNING: genes are not in var_names and ignored: ['Gatd3a', 'Micos10', 'Fdx2', 'Mmut', 'Atp5pb', 'Mtarc2', 'Micos13', 'Mtres1', 'Coa8', 'Tmlhe', 'Mtarc1', 'Prxl2a', 'Marchf5', 'Dmac2l', 'Atp5md', 'Antkmt', 'Atpsckmt', 'Septin4', 'Prorp', 'Htd2', 'Pigbos1']\n",
      "    finished: added\n",
      "    'G2M_score', score of gene set (adata.obs).\n",
      "    505 total control genes are used. (0:00:00)\n",
      "-->     'phase', cell cycle phase (adata.obs)\n"
     ]
    }
   ],
   "source": [
    "#tissue_score_genes = sc.tl.score_genes_cell_cycle(tissue, mt_genes, mt_nc_genes, copy = True)"
   ]
  },
  {
   "cell_type": "code",
   "execution_count": 187,
   "id": "b810b72a",
   "metadata": {},
   "outputs": [],
   "source": [
    "tissue_score_genes_path = \"/mnt/ibm_sm/home/lea.mcgeever/ms/notebooks/adata_files/tissue_sg1_02172022.h5ad\"\n",
    "#tissue_sg1.write(tissue_score_genes_path)"
   ]
  },
  {
   "cell_type": "code",
   "execution_count": 188,
   "id": "c5beb0e9",
   "metadata": {},
   "outputs": [],
   "source": [
    "tissue_sg1 = sc.read_h5ad(tissue_score_genes_path)"
   ]
  },
  {
   "cell_type": "code",
   "execution_count": null,
   "id": "8a116b5d",
   "metadata": {},
   "outputs": [],
   "source": [
    "tissue_sg1.obs[['age','cell_ontology_class','S_score','G2M_score']]"
   ]
  },
  {
   "cell_type": "markdown",
   "id": "86be7c88",
   "metadata": {},
   "source": [
    "Checking out the distribution gene_score for \"mt-Nd4\" gene"
   ]
  },
  {
   "cell_type": "code",
   "execution_count": 191,
   "id": "d3ec8251",
   "metadata": {},
   "outputs": [
    {
     "data": {
      "text/plain": [
       "<AxesSubplot:ylabel='Count'>"
      ]
     },
     "execution_count": 191,
     "metadata": {},
     "output_type": "execute_result"
    },
    {
     "data": {
      "image/png": "[encoded data removed]",
      "text/plain": [
       "<Figure size 320x320 with 1 Axes>"
      ]
     },
     "metadata": {
      "image/png": {
       "height": 285,
       "width": 316
      }
     },
     "output_type": "display_data"
    }
   ],
   "source": [
    "sns.histplot(list(tissue_sg1.obs[\"S_score\"]))#mitochondria\n",
    "sns.histplot(list(tissue_sg1.obs[\"G2M_score\"]), color = 'orchid')#nuclear"
   ]
  },
  {
   "cell_type": "markdown",
   "id": "48c8ec4f",
   "metadata": {},
   "source": [
    "A function to make a dataframe of gene_scores and gene expression score by cell"
   ]
  },
  {
   "cell_type": "code",
   "execution_count": 148,
   "id": "9eb84dfe",
   "metadata": {},
   "outputs": [],
   "source": [
    "def cell_gene_exp_df(gene, adata):\n",
    "    ''' Input is gene name that has an obs.gene_score. \n",
    "    Output is a pandas DataFrame with two columns: cell index and gene's gene_score'''\n",
    "    \n",
    "    data = defaultdict(list)\n",
    "    \n",
    "    for d in list(adata.obs['cell']):\n",
    "        data[\"Cell\"].append(d)\n",
    "        \n",
    "        cg = adata[adata.obs.cell == d, adata.var.index == gene]\n",
    "        data[\"Gene Expression\"].append(cg.X[0,0]) \n",
    "    \n",
    "    #for g in list(adata.obs[gene]):\n",
    "    #    data[\"gene_score\"].append(g)\n",
    "       \n",
    "    df = pd.DataFrame(data)\n",
    "    return df"
   ]
  },
  {
   "cell_type": "markdown",
   "id": "680fe59e",
   "metadata": {},
   "source": [
    "* Check this out!  \n",
    "\n",
    "tissue_sg1 is after using it. sc.tl.score_genes_cell_cycle seems to change the Gene Expression values. \n",
    "\n",
    "tissue is the adata before using sc.tl.score_genes_cell_cycle."
   ]
  },
  {
   "cell_type": "code",
   "execution_count": 189,
   "id": "6c873eb9",
   "metadata": {},
   "outputs": [
    {
     "data": {
      "text/html": [
       "<div>\n",
       "<style scoped>\n",
       "    .dataframe tbody tr th:only-of-type {\n",
       "        vertical-align: middle;\n",
       "    }\n",
       "\n",
       "    .dataframe tbody tr th {\n",
       "        vertical-align: top;\n",
       "    }\n",
       "\n",
       "    .dataframe thead th {\n",
       "        text-align: right;\n",
       "    }\n",
       "</style>\n",
       "<table border=\"1\" class=\"dataframe\">\n",
       "  <thead>\n",
       "    <tr style=\"text-align: right;\">\n",
       "      <th></th>\n",
       "      <th>Cell</th>\n",
       "      <th>Gene Expression</th>\n",
       "    </tr>\n",
       "  </thead>\n",
       "  <tbody>\n",
       "    <tr>\n",
       "      <th>0</th>\n",
       "      <td>A10.MAA000609.3_8_M.1.1</td>\n",
       "      <td>-0.625617</td>\n",
       "    </tr>\n",
       "    <tr>\n",
       "      <th>1</th>\n",
       "      <td>A13.MAA000609.3_8_M.1.1</td>\n",
       "      <td>-0.640107</td>\n",
       "    </tr>\n",
       "    <tr>\n",
       "      <th>2</th>\n",
       "      <td>A21.MAA000609.3_8_M.1.1</td>\n",
       "      <td>-0.624484</td>\n",
       "    </tr>\n",
       "    <tr>\n",
       "      <th>3</th>\n",
       "      <td>A22.MAA000609.3_8_M.1.1</td>\n",
       "      <td>-0.640107</td>\n",
       "    </tr>\n",
       "    <tr>\n",
       "      <th>4</th>\n",
       "      <td>A3.MAA000609.3_8_M.1.1</td>\n",
       "      <td>-0.635712</td>\n",
       "    </tr>\n",
       "    <tr>\n",
       "      <th>...</th>\n",
       "      <td>...</td>\n",
       "      <td>...</td>\n",
       "    </tr>\n",
       "    <tr>\n",
       "      <th>4027</th>\n",
       "      <td>M20_B000235</td>\n",
       "      <td>-0.640107</td>\n",
       "    </tr>\n",
       "    <tr>\n",
       "      <th>4028</th>\n",
       "      <td>M21_B000235</td>\n",
       "      <td>-0.640107</td>\n",
       "    </tr>\n",
       "    <tr>\n",
       "      <th>4029</th>\n",
       "      <td>M22_B000235</td>\n",
       "      <td>-0.640107</td>\n",
       "    </tr>\n",
       "    <tr>\n",
       "      <th>4030</th>\n",
       "      <td>N18_B000235</td>\n",
       "      <td>-0.217686</td>\n",
       "    </tr>\n",
       "    <tr>\n",
       "      <th>4031</th>\n",
       "      <td>N19_B000235</td>\n",
       "      <td>1.343076</td>\n",
       "    </tr>\n",
       "  </tbody>\n",
       "</table>\n",
       "<p>4032 rows × 2 columns</p>\n",
       "</div>"
      ],
      "text/plain": [
       "                         Cell  Gene Expression\n",
       "0     A10.MAA000609.3_8_M.1.1        -0.625617\n",
       "1     A13.MAA000609.3_8_M.1.1        -0.640107\n",
       "2     A21.MAA000609.3_8_M.1.1        -0.624484\n",
       "3     A22.MAA000609.3_8_M.1.1        -0.640107\n",
       "4      A3.MAA000609.3_8_M.1.1        -0.635712\n",
       "...                       ...              ...\n",
       "4027              M20_B000235        -0.640107\n",
       "4028              M21_B000235        -0.640107\n",
       "4029              M22_B000235        -0.640107\n",
       "4030              N18_B000235        -0.217686\n",
       "4031              N19_B000235         1.343076\n",
       "\n",
       "[4032 rows x 2 columns]"
      ]
     },
     "execution_count": 189,
     "metadata": {},
     "output_type": "execute_result"
    }
   ],
   "source": [
    "cell_gene_exp_df('Nr4a1',tissue_sg1)"
   ]
  },
  {
   "cell_type": "code",
   "execution_count": 190,
   "id": "2c784733",
   "metadata": {},
   "outputs": [
    {
     "data": {
      "text/html": [
       "<div>\n",
       "<style scoped>\n",
       "    .dataframe tbody tr th:only-of-type {\n",
       "        vertical-align: middle;\n",
       "    }\n",
       "\n",
       "    .dataframe tbody tr th {\n",
       "        vertical-align: top;\n",
       "    }\n",
       "\n",
       "    .dataframe thead th {\n",
       "        text-align: right;\n",
       "    }\n",
       "</style>\n",
       "<table border=\"1\" class=\"dataframe\">\n",
       "  <thead>\n",
       "    <tr style=\"text-align: right;\">\n",
       "      <th></th>\n",
       "      <th>Cell</th>\n",
       "      <th>Gene Expression</th>\n",
       "    </tr>\n",
       "  </thead>\n",
       "  <tbody>\n",
       "    <tr>\n",
       "      <th>0</th>\n",
       "      <td>A10.MAA000609.3_8_M.1.1</td>\n",
       "      <td>0.017852</td>\n",
       "    </tr>\n",
       "    <tr>\n",
       "      <th>1</th>\n",
       "      <td>A13.MAA000609.3_8_M.1.1</td>\n",
       "      <td>0.000000</td>\n",
       "    </tr>\n",
       "    <tr>\n",
       "      <th>2</th>\n",
       "      <td>A21.MAA000609.3_8_M.1.1</td>\n",
       "      <td>0.019248</td>\n",
       "    </tr>\n",
       "    <tr>\n",
       "      <th>3</th>\n",
       "      <td>A22.MAA000609.3_8_M.1.1</td>\n",
       "      <td>0.000000</td>\n",
       "    </tr>\n",
       "    <tr>\n",
       "      <th>4</th>\n",
       "      <td>A3.MAA000609.3_8_M.1.1</td>\n",
       "      <td>0.005416</td>\n",
       "    </tr>\n",
       "    <tr>\n",
       "      <th>...</th>\n",
       "      <td>...</td>\n",
       "      <td>...</td>\n",
       "    </tr>\n",
       "    <tr>\n",
       "      <th>4027</th>\n",
       "      <td>M20_B000235</td>\n",
       "      <td>0.000000</td>\n",
       "    </tr>\n",
       "    <tr>\n",
       "      <th>4028</th>\n",
       "      <td>M21_B000235</td>\n",
       "      <td>0.000000</td>\n",
       "    </tr>\n",
       "    <tr>\n",
       "      <th>4029</th>\n",
       "      <td>M22_B000235</td>\n",
       "      <td>0.000000</td>\n",
       "    </tr>\n",
       "    <tr>\n",
       "      <th>4030</th>\n",
       "      <td>N18_B000235</td>\n",
       "      <td>0.520420</td>\n",
       "    </tr>\n",
       "    <tr>\n",
       "      <th>4031</th>\n",
       "      <td>N19_B000235</td>\n",
       "      <td>2.443268</td>\n",
       "    </tr>\n",
       "  </tbody>\n",
       "</table>\n",
       "<p>4032 rows × 2 columns</p>\n",
       "</div>"
      ],
      "text/plain": [
       "                         Cell  Gene Expression\n",
       "0     A10.MAA000609.3_8_M.1.1         0.017852\n",
       "1     A13.MAA000609.3_8_M.1.1         0.000000\n",
       "2     A21.MAA000609.3_8_M.1.1         0.019248\n",
       "3     A22.MAA000609.3_8_M.1.1         0.000000\n",
       "4      A3.MAA000609.3_8_M.1.1         0.005416\n",
       "...                       ...              ...\n",
       "4027              M20_B000235         0.000000\n",
       "4028              M21_B000235         0.000000\n",
       "4029              M22_B000235         0.000000\n",
       "4030              N18_B000235         0.520420\n",
       "4031              N19_B000235         2.443268\n",
       "\n",
       "[4032 rows x 2 columns]"
      ]
     },
     "execution_count": 190,
     "metadata": {},
     "output_type": "execute_result"
    }
   ],
   "source": [
    "cell_gene_exp_df('Nr4a1',tissue)"
   ]
  },
  {
   "cell_type": "markdown",
   "id": "0e300932",
   "metadata": {},
   "source": [
    "gene_score:\n",
    "\n",
    "The score is the average expression of a set of genes subtracted with the\n",
    "    average expression of a reference set of genes. The reference set is\n",
    "    randomly sampled from the `gene_pool` for each binned expression value."
   ]
  },
  {
   "cell_type": "markdown",
   "id": "73377d2a",
   "metadata": {},
   "source": [
    "**tissue_gene_scores** had 50 genes for score_genes and no random state set."
   ]
  },
  {
   "cell_type": "markdown",
   "id": "f9e62606",
   "metadata": {},
   "source": [
    "* Get mean of scored genes and see what's most varied.\n",
    "* Compare ages of mean scores against all ages\n",
    "* subset by age, see how genes score and vary within age groups and compare that against other ages\n",
    "* Redo score_genes with a few diff random seeds and more genes to make sure results still hold\n"
   ]
  },
  {
   "cell_type": "markdown",
   "id": "e49b1f30",
   "metadata": {},
   "source": [
    "## score_genes analysis"
   ]
  },
  {
   "cell_type": "markdown",
   "id": "068e5aaf",
   "metadata": {},
   "source": [
    "Load Thymus adata w/ S_score & G2M_score"
   ]
  },
  {
   "cell_type": "code",
   "execution_count": null,
   "id": "e21b29f4",
   "metadata": {},
   "outputs": [],
   "source": [
    "tissue_score_genes_path = \"/mnt/ibm_sm/home/lea.mcgeever/ms/notebooks/adata_files/tissue_sg1_02172022.h5ad\"\n",
    "tissue_sg1 = sc.read_h5ad(tissue_score_genes_path)"
   ]
  },
  {
   "cell_type": "markdown",
   "id": "a777b628",
   "metadata": {},
   "source": [
    "Comparing ages of mean scores against all ages"
   ]
  },
  {
   "cell_type": "markdown",
   "id": "fb6dc4cc",
   "metadata": {},
   "source": [
    "**Lists**"
   ]
  },
  {
   "cell_type": "markdown",
   "id": "e451115a",
   "metadata": {},
   "source": [
    "* tis_cells (thymus cell types)\n",
    "* ages \n",
    "* mt_genes (only mt)\n",
    "* mt_nc_genes (only nc)\n",
    "\n",
    "mt_genes -> s_genes\n",
    "\n",
    "mt_nc_genes -> g2m_genes"
   ]
  },
  {
   "cell_type": "markdown",
   "id": "612ce87f",
   "metadata": {},
   "source": [
    "## Statistics tests on gene expression"
   ]
  },
  {
   "cell_type": "code",
   "execution_count": null,
   "id": "71214091",
   "metadata": {},
   "outputs": [],
   "source": [
    "#I think I need to use a dataframe that has ALL the genes as columns, not just my genes of interest."
   ]
  },
  {
   "cell_type": "code",
   "execution_count": 195,
   "id": "d84c5ec1",
   "metadata": {},
   "outputs": [],
   "source": [
    "df_nc_mt = gene_expression_df(tissue,genes)"
   ]
  },
  {
   "cell_type": "code",
   "execution_count": 196,
   "id": "e2293c74",
   "metadata": {},
   "outputs": [
    {
     "name": "stdout",
     "output_type": "stream",
     "text": [
      "p-value annotation legend:\n",
      "ns: 5.00e-02 < p <= 1.00e+00\n",
      "*: 1.00e-02 < p <= 5.00e-02\n",
      "**: 1.00e-03 < p <= 1.00e-02\n",
      "***: 1.00e-04 < p <= 1.00e-03\n",
      "****: p <= 1.00e-04\n",
      "\n",
      "macrophage_3m v.s. macrophage_18m: Mann-Whitney-Wilcoxon test two-sided with Bonferroni correction, P_val=1.000e+00 U_stat=8.610e+02\n",
      "macrophage_18m v.s. macrophage_24m: Mann-Whitney-Wilcoxon test two-sided with Bonferroni correction, P_val=1.340e-03 U_stat=1.033e+04\n",
      "endothelial cell_18m v.s. endothelial cell_24m: Mann-Whitney-Wilcoxon test two-sided with Bonferroni correction, P_val=1.000e+00 U_stat=2.210e+02\n",
      "epithelial cell of thymus_3m v.s. epithelial cell of thymus_18m: Mann-Whitney-Wilcoxon test two-sided with Bonferroni correction, P_val=1.000e+00 U_stat=5.880e+02\n",
      "epithelial cell of thymus_18m v.s. epithelial cell of thymus_24m: Mann-Whitney-Wilcoxon test two-sided with Bonferroni correction, P_val=1.396e-01 U_stat=2.127e+03\n",
      "fibroblast_3m v.s. fibroblast_18m: Mann-Whitney-Wilcoxon test two-sided with Bonferroni correction, P_val=8.462e-02 U_stat=2.000e+00\n",
      "fibroblast_18m v.s. fibroblast_24m: Mann-Whitney-Wilcoxon test two-sided with Bonferroni correction, P_val=1.358e-01 U_stat=5.460e+02\n",
      "thymocyte_3m v.s. thymocyte_18m: Mann-Whitney-Wilcoxon test two-sided with Bonferroni correction, P_val=1.079e-45 U_stat=1.087e+05\n",
      "thymocyte_18m v.s. thymocyte_24m: Mann-Whitney-Wilcoxon test two-sided with Bonferroni correction, P_val=2.540e-32 U_stat=4.729e+04\n",
      "DN4 thymocyte_3m v.s. DN4 thymocyte_18m: Mann-Whitney-Wilcoxon test two-sided with Bonferroni correction, P_val=6.583e-09 U_stat=2.144e+05\n",
      "DN4 thymocyte_18m v.s. DN4 thymocyte_24m: Mann-Whitney-Wilcoxon test two-sided with Bonferroni correction, P_val=5.393e-60 U_stat=7.547e+04\n",
      "endothelial cell_3m v.s. endothelial cell_18m: Mann-Whitney-Wilcoxon test two-sided with Bonferroni correction, P_val=1.000e+00 U_stat=6.900e+01\n",
      "macrophage_3m v.s. macrophage_24m: Mann-Whitney-Wilcoxon test two-sided with Bonferroni correction, P_val=3.168e-02 U_stat=1.263e+03\n",
      "epithelial cell of thymus_3m v.s. epithelial cell of thymus_24m: Mann-Whitney-Wilcoxon test two-sided with Bonferroni correction, P_val=1.000e+00 U_stat=3.460e+02\n",
      "fibroblast_3m v.s. fibroblast_24m: Mann-Whitney-Wilcoxon test two-sided with Bonferroni correction, P_val=1.000e+00 U_stat=1.150e+01\n",
      "thymocyte_3m v.s. thymocyte_24m: Mann-Whitney-Wilcoxon test two-sided with Bonferroni correction, P_val=2.428e-92 U_stat=2.596e+04\n",
      "endothelial cell_3m v.s. endothelial cell_24m: Mann-Whitney-Wilcoxon test two-sided with Bonferroni correction, P_val=1.000e+00 U_stat=1.070e+02\n",
      "DN4 thymocyte_3m v.s. DN4 thymocyte_24m: Mann-Whitney-Wilcoxon test two-sided with Bonferroni correction, P_val=2.677e-46 U_stat=8.208e+04\n"
     ]
    },
    {
     "data": {
      "text/plain": [
       "(array([0, 1, 2, 3, 4, 5]),\n",
       " [Text(0, 0, 'DN4 thymocyte'),\n",
       "  Text(1, 0, 'endothelial cell'),\n",
       "  Text(2, 0, 'epithelial cell of thymus'),\n",
       "  Text(3, 0, 'fibroblast'),\n",
       "  Text(4, 0, 'macrophage'),\n",
       "  Text(5, 0, 'thymocyte')])"
      ]
     },
     "execution_count": 196,
     "metadata": {},
     "output_type": "execute_result"
    },
    {
     "data": {
      "image/png": "[encoded data removed]",
      "text/plain": [
       "<Figure size 800x400 with 1 Axes>"
      ]
     },
     "metadata": {
      "image/png": {
       "height": 496,
       "width": 748
      }
     },
     "output_type": "display_data"
    }
   ],
   "source": [
    "df = df_nc_mt[['age','cell_ontology_class','mt-Atp6']]\n",
    "\n",
    "x = \"cell_ontology_class\" \n",
    "y = \"mt-Atp6\" \n",
    "hue = 'age'\n",
    "hue_order = ['3m', '18m', '24m']\n",
    "\n",
    "box_pairs=[\n",
    "    ((\"macrophage\", \"3m\"), (\"macrophage\", \"18m\")),\n",
    "    ((\"macrophage\", \"3m\"), (\"macrophage\", \"24m\")),\n",
    "    ((\"macrophage\", \"18m\"), (\"macrophage\", \"24m\")),\n",
    "    \n",
    "    ((\"DN4 thymocyte\", \"3m\"), (\"DN4 thymocyte\", \"18m\")),\n",
    "    ((\"DN4 thymocyte\", \"3m\"), (\"DN4 thymocyte\", \"24m\")),\n",
    "    ((\"DN4 thymocyte\", \"18m\"), (\"DN4 thymocyte\", \"24m\")),\n",
    "    \n",
    "    ((\"endothelial cell\", \"3m\"), (\"endothelial cell\", \"18m\")),\n",
    "    ((\"endothelial cell\", \"3m\"), (\"endothelial cell\", \"24m\")),\n",
    "    ((\"endothelial cell\", \"18m\"), (\"endothelial cell\", \"24m\")),\n",
    "    \n",
    "    ((\"epithelial cell of thymus\", \"3m\"), (\"epithelial cell of thymus\", \"18m\")),\n",
    "    ((\"epithelial cell of thymus\", \"3m\"), (\"epithelial cell of thymus\", \"24m\")),\n",
    "    ((\"epithelial cell of thymus\", \"18m\"), (\"epithelial cell of thymus\", \"24m\")),\n",
    "    \n",
    "    ((\"fibroblast\", \"3m\"), (\"fibroblast\", \"18m\")),\n",
    "    ((\"fibroblast\", \"3m\"), (\"fibroblast\", \"24m\")),\n",
    "    ((\"fibroblast\", \"18m\"), (\"fibroblast\", \"24m\")),\n",
    "    \n",
    "    ((\"thymocyte\", \"3m\"), (\"thymocyte\", \"18m\")),\n",
    "    ((\"thymocyte\", \"3m\"), (\"thymocyte\", \"24m\")),\n",
    "    ((\"thymocyte\", \"18m\"), (\"thymocyte\", \"24m\")),\n",
    "    ]\n",
    "fig = plt.figure(figsize=(10, 5))\n",
    "ax = sns.boxplot(data=df, x=x, y=y, hue=hue)\n",
    "add_stat_annotation(ax, data=df, x=x, y=y,hue=hue,box_pairs=box_pairs,\n",
    "                    test='Mann-Whitney',loc='inside',verbose=2)\n",
    "\n",
    "plt.legend(loc='upper left', bbox_to_anchor=(1.03, 1))\n",
    "plt.xticks(rotation=90)\n"
   ]
  },
  {
   "cell_type": "code",
   "execution_count": null,
   "id": "4642e03c",
   "metadata": {},
   "outputs": [],
   "source": [
    "df = df_nc_mt[['age','cell_ontology_class','mt-Atp8']]\n",
    "\n",
    "x = \"cell_ontology_class\" \n",
    "y = \"mt-Atp8\" \n",
    "hue = 'age'\n",
    "hue_order = ['3m', '18m', '24m']\n",
    "\n",
    "box_pairs=[\n",
    "    ((\"macrophage\", \"3m\"), (\"macrophage\", \"18m\")),\n",
    "    ((\"macrophage\", \"3m\"), (\"macrophage\", \"24m\")),\n",
    "    ((\"macrophage\", \"18m\"), (\"macrophage\", \"24m\")),\n",
    "    \n",
    "    ((\"DN4 thymocyte\", \"3m\"), (\"DN4 thymocyte\", \"18m\")),\n",
    "    ((\"DN4 thymocyte\", \"3m\"), (\"DN4 thymocyte\", \"24m\")),\n",
    "    ((\"DN4 thymocyte\", \"18m\"), (\"DN4 thymocyte\", \"24m\")),\n",
    "    \n",
    "    ((\"endothelial cell\", \"3m\"), (\"endothelial cell\", \"18m\")),\n",
    "    ((\"endothelial cell\", \"3m\"), (\"endothelial cell\", \"24m\")),\n",
    "    ((\"endothelial cell\", \"18m\"), (\"endothelial cell\", \"24m\")),\n",
    "    \n",
    "    ((\"epithelial cell of thymus\", \"3m\"), (\"epithelial cell of thymus\", \"18m\")),\n",
    "    ((\"epithelial cell of thymus\", \"3m\"), (\"epithelial cell of thymus\", \"24m\")),\n",
    "    ((\"epithelial cell of thymus\", \"18m\"), (\"epithelial cell of thymus\", \"24m\")),\n",
    "    \n",
    "    ((\"fibroblast\", \"3m\"), (\"fibroblast\", \"18m\")),\n",
    "    ((\"fibroblast\", \"3m\"), (\"fibroblast\", \"24m\")),\n",
    "    ((\"fibroblast\", \"18m\"), (\"fibroblast\", \"24m\")),\n",
    "    \n",
    "    ((\"thymocyte\", \"3m\"), (\"thymocyte\", \"18m\")),\n",
    "    ((\"thymocyte\", \"3m\"), (\"thymocyte\", \"24m\")),\n",
    "    ((\"thymocyte\", \"18m\"), (\"thymocyte\", \"24m\")),\n",
    "    ]\n",
    "fig = plt.figure(figsize=(10, 5))\n",
    "ax = sns.boxplot(data=df, x=x, y=y, hue=hue)\n",
    "add_stat_annotation(ax, data=df, x=x, y=y,hue=hue,box_pairs=box_pairs,\n",
    "                    test='Mann-Whitney',loc='inside',verbose=2)\n",
    "\n",
    "plt.legend(loc='upper left', bbox_to_anchor=(1.03, 1))\n",
    "plt.xticks(rotation=90)\n"
   ]
  },
  {
   "cell_type": "code",
   "execution_count": null,
   "id": "c26d9139",
   "metadata": {},
   "outputs": [],
   "source": [
    "df = df_nc_mt[['age','cell_ontology_class','mt-Co1']]\n",
    "\n",
    "x = \"cell_ontology_class\" \n",
    "y = \"mt-Co1\" \n",
    "hue = 'age'\n",
    "hue_order = ['3m', '18m', '24m']\n",
    "\n",
    "box_pairs=[\n",
    "    ((\"macrophage\", \"3m\"), (\"macrophage\", \"18m\")),\n",
    "    ((\"macrophage\", \"3m\"), (\"macrophage\", \"24m\")),\n",
    "    ((\"macrophage\", \"18m\"), (\"macrophage\", \"24m\")),\n",
    "    \n",
    "    ((\"DN4 thymocyte\", \"3m\"), (\"DN4 thymocyte\", \"18m\")),\n",
    "    ((\"DN4 thymocyte\", \"3m\"), (\"DN4 thymocyte\", \"24m\")),\n",
    "    ((\"DN4 thymocyte\", \"18m\"), (\"DN4 thymocyte\", \"24m\")),\n",
    "    \n",
    "    ((\"endothelial cell\", \"3m\"), (\"endothelial cell\", \"18m\")),\n",
    "    ((\"endothelial cell\", \"3m\"), (\"endothelial cell\", \"24m\")),\n",
    "    ((\"endothelial cell\", \"18m\"), (\"endothelial cell\", \"24m\")),\n",
    "    \n",
    "    ((\"epithelial cell of thymus\", \"3m\"), (\"epithelial cell of thymus\", \"18m\")),\n",
    "    ((\"epithelial cell of thymus\", \"3m\"), (\"epithelial cell of thymus\", \"24m\")),\n",
    "    ((\"epithelial cell of thymus\", \"18m\"), (\"epithelial cell of thymus\", \"24m\")),\n",
    "    \n",
    "    ((\"fibroblast\", \"3m\"), (\"fibroblast\", \"18m\")),\n",
    "    ((\"fibroblast\", \"3m\"), (\"fibroblast\", \"24m\")),\n",
    "    ((\"fibroblast\", \"18m\"), (\"fibroblast\", \"24m\")),\n",
    "    \n",
    "    ((\"thymocyte\", \"3m\"), (\"thymocyte\", \"18m\")),\n",
    "    ((\"thymocyte\", \"3m\"), (\"thymocyte\", \"24m\")),\n",
    "    ((\"thymocyte\", \"18m\"), (\"thymocyte\", \"24m\")),\n",
    "    ]\n",
    "fig = plt.figure(figsize=(10, 5))\n",
    "ax = sns.boxplot(data=df, x=x, y=y, hue=hue)\n",
    "add_stat_annotation(ax, data=df, x=x, y=y,hue=hue,box_pairs=box_pairs,\n",
    "                    test='Mann-Whitney',loc='inside',verbose=2)\n",
    "\n",
    "plt.legend(loc='upper left', bbox_to_anchor=(1.03, 1))\n",
    "plt.xticks(rotation=90)\n"
   ]
  },
  {
   "cell_type": "code",
   "execution_count": null,
   "id": "406c1378",
   "metadata": {},
   "outputs": [],
   "source": [
    "df = df_nc_mt[['age','cell_ontology_class','mt-Co2']]\n",
    "\n",
    "x = \"cell_ontology_class\" \n",
    "y = \"mt-Co2\" \n",
    "hue = 'age'\n",
    "hue_order = ['3m', '18m', '24m']\n",
    "\n",
    "box_pairs=[\n",
    "    ((\"macrophage\", \"3m\"), (\"macrophage\", \"18m\")),\n",
    "    ((\"macrophage\", \"3m\"), (\"macrophage\", \"24m\")),\n",
    "    ((\"macrophage\", \"18m\"), (\"macrophage\", \"24m\")),\n",
    "    \n",
    "    ((\"DN4 thymocyte\", \"3m\"), (\"DN4 thymocyte\", \"18m\")),\n",
    "    ((\"DN4 thymocyte\", \"3m\"), (\"DN4 thymocyte\", \"24m\")),\n",
    "    ((\"DN4 thymocyte\", \"18m\"), (\"DN4 thymocyte\", \"24m\")),\n",
    "    \n",
    "    ((\"endothelial cell\", \"3m\"), (\"endothelial cell\", \"18m\")),\n",
    "    ((\"endothelial cell\", \"3m\"), (\"endothelial cell\", \"24m\")),\n",
    "    ((\"endothelial cell\", \"18m\"), (\"endothelial cell\", \"24m\")),\n",
    "    \n",
    "    ((\"epithelial cell of thymus\", \"3m\"), (\"epithelial cell of thymus\", \"18m\")),\n",
    "    ((\"epithelial cell of thymus\", \"3m\"), (\"epithelial cell of thymus\", \"24m\")),\n",
    "    ((\"epithelial cell of thymus\", \"18m\"), (\"epithelial cell of thymus\", \"24m\")),\n",
    "    \n",
    "    ((\"fibroblast\", \"3m\"), (\"fibroblast\", \"18m\")),\n",
    "    ((\"fibroblast\", \"3m\"), (\"fibroblast\", \"24m\")),\n",
    "    ((\"fibroblast\", \"18m\"), (\"fibroblast\", \"24m\")),\n",
    "    \n",
    "    ((\"thymocyte\", \"3m\"), (\"thymocyte\", \"18m\")),\n",
    "    ((\"thymocyte\", \"3m\"), (\"thymocyte\", \"24m\")),\n",
    "    ((\"thymocyte\", \"18m\"), (\"thymocyte\", \"24m\")),\n",
    "    ]\n",
    "fig = plt.figure(figsize=(10, 5))\n",
    "ax = sns.boxplot(data=df, x=x, y=y, hue=hue)\n",
    "add_stat_annotation(ax, data=df, x=x, y=y,hue=hue,box_pairs=box_pairs,\n",
    "                    test='Mann-Whitney',loc='inside',verbose=2)\n",
    "\n",
    "plt.legend(loc='upper left', bbox_to_anchor=(1.03, 1))\n",
    "plt.xticks(rotation=90)\n"
   ]
  },
  {
   "cell_type": "code",
   "execution_count": null,
   "id": "b651a646",
   "metadata": {},
   "outputs": [],
   "source": [
    "df = df_nc_mt[['age','cell_ontology_class','mt-Co3']]\n",
    "\n",
    "x = \"cell_ontology_class\" \n",
    "y = \"mt-Co3\" \n",
    "hue = 'age'\n",
    "hue_order = ['3m', '18m', '24m']\n",
    "\n",
    "box_pairs=[\n",
    "    ((\"macrophage\", \"3m\"), (\"macrophage\", \"18m\")),\n",
    "    ((\"macrophage\", \"3m\"), (\"macrophage\", \"24m\")),\n",
    "    ((\"macrophage\", \"18m\"), (\"macrophage\", \"24m\")),\n",
    "    \n",
    "    ((\"DN4 thymocyte\", \"3m\"), (\"DN4 thymocyte\", \"18m\")),\n",
    "    ((\"DN4 thymocyte\", \"3m\"), (\"DN4 thymocyte\", \"24m\")),\n",
    "    ((\"DN4 thymocyte\", \"18m\"), (\"DN4 thymocyte\", \"24m\")),\n",
    "    \n",
    "    ((\"endothelial cell\", \"3m\"), (\"endothelial cell\", \"18m\")),\n",
    "    ((\"endothelial cell\", \"3m\"), (\"endothelial cell\", \"24m\")),\n",
    "    ((\"endothelial cell\", \"18m\"), (\"endothelial cell\", \"24m\")),\n",
    "    \n",
    "    ((\"epithelial cell of thymus\", \"3m\"), (\"epithelial cell of thymus\", \"18m\")),\n",
    "    ((\"epithelial cell of thymus\", \"3m\"), (\"epithelial cell of thymus\", \"24m\")),\n",
    "    ((\"epithelial cell of thymus\", \"18m\"), (\"epithelial cell of thymus\", \"24m\")),\n",
    "    \n",
    "    ((\"fibroblast\", \"3m\"), (\"fibroblast\", \"18m\")),\n",
    "    ((\"fibroblast\", \"3m\"), (\"fibroblast\", \"24m\")),\n",
    "    ((\"fibroblast\", \"18m\"), (\"fibroblast\", \"24m\")),\n",
    "    \n",
    "    ((\"thymocyte\", \"3m\"), (\"thymocyte\", \"18m\")),\n",
    "    ((\"thymocyte\", \"3m\"), (\"thymocyte\", \"24m\")),\n",
    "    ((\"thymocyte\", \"18m\"), (\"thymocyte\", \"24m\")),\n",
    "    ]\n",
    "fig = plt.figure(figsize=(10, 5))\n",
    "ax = sns.boxplot(data=df, x=x, y=y, hue=hue)\n",
    "add_stat_annotation(ax, data=df, x=x, y=y,hue=hue,box_pairs=box_pairs,\n",
    "                    test='Mann-Whitney',loc='inside',verbose=2)\n",
    "\n",
    "plt.legend(loc='upper left', bbox_to_anchor=(1.03, 1))\n",
    "plt.xticks(rotation=90)\n"
   ]
  },
  {
   "cell_type": "code",
   "execution_count": null,
   "id": "76f49ccb",
   "metadata": {},
   "outputs": [],
   "source": [
    "df = df_nc_mt[['age','cell_ontology_class','mt-Cytb']]\n",
    "\n",
    "x = \"cell_ontology_class\" \n",
    "y = \"mt-Cytb\" \n",
    "hue = 'age'\n",
    "hue_order = ['3m', '18m', '24m']\n",
    "\n",
    "box_pairs=[\n",
    "    ((\"macrophage\", \"3m\"), (\"macrophage\", \"18m\")),\n",
    "    ((\"macrophage\", \"3m\"), (\"macrophage\", \"24m\")),\n",
    "    ((\"macrophage\", \"18m\"), (\"macrophage\", \"24m\")),\n",
    "    \n",
    "    ((\"DN4 thymocyte\", \"3m\"), (\"DN4 thymocyte\", \"18m\")),\n",
    "    ((\"DN4 thymocyte\", \"3m\"), (\"DN4 thymocyte\", \"24m\")),\n",
    "    ((\"DN4 thymocyte\", \"18m\"), (\"DN4 thymocyte\", \"24m\")),\n",
    "    \n",
    "    ((\"endothelial cell\", \"3m\"), (\"endothelial cell\", \"18m\")),\n",
    "    ((\"endothelial cell\", \"3m\"), (\"endothelial cell\", \"24m\")),\n",
    "    ((\"endothelial cell\", \"18m\"), (\"endothelial cell\", \"24m\")),\n",
    "    \n",
    "    ((\"epithelial cell of thymus\", \"3m\"), (\"epithelial cell of thymus\", \"18m\")),\n",
    "    ((\"epithelial cell of thymus\", \"3m\"), (\"epithelial cell of thymus\", \"24m\")),\n",
    "    ((\"epithelial cell of thymus\", \"18m\"), (\"epithelial cell of thymus\", \"24m\")),\n",
    "    \n",
    "    ((\"fibroblast\", \"3m\"), (\"fibroblast\", \"18m\")),\n",
    "    ((\"fibroblast\", \"3m\"), (\"fibroblast\", \"24m\")),\n",
    "    ((\"fibroblast\", \"18m\"), (\"fibroblast\", \"24m\")),\n",
    "    \n",
    "    ((\"thymocyte\", \"3m\"), (\"thymocyte\", \"18m\")),\n",
    "    ((\"thymocyte\", \"3m\"), (\"thymocyte\", \"24m\")),\n",
    "    ((\"thymocyte\", \"18m\"), (\"thymocyte\", \"24m\")),\n",
    "    ]\n",
    "fig = plt.figure(figsize=(10, 5))\n",
    "ax = sns.boxplot(data=df, x=x, y=y, hue=hue)\n",
    "add_stat_annotation(ax, data=df, x=x, y=y,hue=hue,box_pairs=box_pairs,\n",
    "                    test='Mann-Whitney',loc='inside',verbose=2)\n",
    "\n",
    "plt.legend(loc='upper left', bbox_to_anchor=(1.03, 1))\n",
    "plt.xticks(rotation=90)\n"
   ]
  },
  {
   "cell_type": "code",
   "execution_count": null,
   "id": "8ae7d37a",
   "metadata": {},
   "outputs": [],
   "source": [
    "df = df_nc_mt[['age','cell_ontology_class','mt-Nd1']]\n",
    "\n",
    "x = \"cell_ontology_class\" \n",
    "y = \"mt-Nd1\" \n",
    "hue = 'age'\n",
    "hue_order = ['3m', '18m', '24m']\n",
    "\n",
    "box_pairs=[\n",
    "    ((\"macrophage\", \"3m\"), (\"macrophage\", \"18m\")),\n",
    "    ((\"macrophage\", \"3m\"), (\"macrophage\", \"24m\")),\n",
    "    ((\"macrophage\", \"18m\"), (\"macrophage\", \"24m\")),\n",
    "    \n",
    "    ((\"DN4 thymocyte\", \"3m\"), (\"DN4 thymocyte\", \"18m\")),\n",
    "    ((\"DN4 thymocyte\", \"3m\"), (\"DN4 thymocyte\", \"24m\")),\n",
    "    ((\"DN4 thymocyte\", \"18m\"), (\"DN4 thymocyte\", \"24m\")),\n",
    "    \n",
    "    ((\"endothelial cell\", \"3m\"), (\"endothelial cell\", \"18m\")),\n",
    "    ((\"endothelial cell\", \"3m\"), (\"endothelial cell\", \"24m\")),\n",
    "    ((\"endothelial cell\", \"18m\"), (\"endothelial cell\", \"24m\")),\n",
    "    \n",
    "    ((\"epithelial cell of thymus\", \"3m\"), (\"epithelial cell of thymus\", \"18m\")),\n",
    "    ((\"epithelial cell of thymus\", \"3m\"), (\"epithelial cell of thymus\", \"24m\")),\n",
    "    ((\"epithelial cell of thymus\", \"18m\"), (\"epithelial cell of thymus\", \"24m\")),\n",
    "    \n",
    "    ((\"fibroblast\", \"3m\"), (\"fibroblast\", \"18m\")),\n",
    "    ((\"fibroblast\", \"3m\"), (\"fibroblast\", \"24m\")),\n",
    "    ((\"fibroblast\", \"18m\"), (\"fibroblast\", \"24m\")),\n",
    "    \n",
    "    ((\"thymocyte\", \"3m\"), (\"thymocyte\", \"18m\")),\n",
    "    ((\"thymocyte\", \"3m\"), (\"thymocyte\", \"24m\")),\n",
    "    ((\"thymocyte\", \"18m\"), (\"thymocyte\", \"24m\")),\n",
    "    ]\n",
    "fig = plt.figure(figsize=(10, 5))\n",
    "ax = sns.boxplot(data=df, x=x, y=y, hue=hue)\n",
    "add_stat_annotation(ax, data=df, x=x, y=y,hue=hue,box_pairs=box_pairs,\n",
    "                    test='Mann-Whitney',loc='inside',verbose=2)\n",
    "\n",
    "plt.legend(loc='upper left', bbox_to_anchor=(1.03, 1))\n",
    "plt.xticks(rotation=90)\n"
   ]
  },
  {
   "cell_type": "code",
   "execution_count": null,
   "id": "e2ba76f1",
   "metadata": {},
   "outputs": [],
   "source": [
    "df = df_nc_mt[['age','cell_ontology_class','mt-Nd2']]\n",
    "\n",
    "x = \"cell_ontology_class\" \n",
    "y = \"mt-Nd2\" \n",
    "hue = 'age'\n",
    "hue_order = ['3m', '18m', '24m']\n",
    "\n",
    "box_pairs=[\n",
    "    ((\"macrophage\", \"3m\"), (\"macrophage\", \"18m\")),\n",
    "    ((\"macrophage\", \"3m\"), (\"macrophage\", \"24m\")),\n",
    "    ((\"macrophage\", \"18m\"), (\"macrophage\", \"24m\")),\n",
    "    \n",
    "    ((\"DN4 thymocyte\", \"3m\"), (\"DN4 thymocyte\", \"18m\")),\n",
    "    ((\"DN4 thymocyte\", \"3m\"), (\"DN4 thymocyte\", \"24m\")),\n",
    "    ((\"DN4 thymocyte\", \"18m\"), (\"DN4 thymocyte\", \"24m\")),\n",
    "    \n",
    "    ((\"endothelial cell\", \"3m\"), (\"endothelial cell\", \"18m\")),\n",
    "    ((\"endothelial cell\", \"3m\"), (\"endothelial cell\", \"24m\")),\n",
    "    ((\"endothelial cell\", \"18m\"), (\"endothelial cell\", \"24m\")),\n",
    "    \n",
    "    ((\"epithelial cell of thymus\", \"3m\"), (\"epithelial cell of thymus\", \"18m\")),\n",
    "    ((\"epithelial cell of thymus\", \"3m\"), (\"epithelial cell of thymus\", \"24m\")),\n",
    "    ((\"epithelial cell of thymus\", \"18m\"), (\"epithelial cell of thymus\", \"24m\")),\n",
    "    \n",
    "    ((\"fibroblast\", \"3m\"), (\"fibroblast\", \"18m\")),\n",
    "    ((\"fibroblast\", \"3m\"), (\"fibroblast\", \"24m\")),\n",
    "    ((\"fibroblast\", \"18m\"), (\"fibroblast\", \"24m\")),\n",
    "    \n",
    "    ((\"thymocyte\", \"3m\"), (\"thymocyte\", \"18m\")),\n",
    "    ((\"thymocyte\", \"3m\"), (\"thymocyte\", \"24m\")),\n",
    "    ((\"thymocyte\", \"18m\"), (\"thymocyte\", \"24m\")),\n",
    "    ]\n",
    "fig = plt.figure(figsize=(10, 5))\n",
    "ax = sns.boxplot(data=df, x=x, y=y, hue=hue)\n",
    "add_stat_annotation(ax, data=df, x=x, y=y,hue=hue,box_pairs=box_pairs,\n",
    "                    test='Mann-Whitney',loc='inside',verbose=2)\n",
    "\n",
    "plt.legend(loc='upper left', bbox_to_anchor=(1.03, 1))\n",
    "plt.xticks(rotation=90)\n"
   ]
  },
  {
   "cell_type": "code",
   "execution_count": null,
   "id": "90decc9b",
   "metadata": {},
   "outputs": [],
   "source": [
    "df = df_nc_mt[['age','cell_ontology_class','mt-Nd3']]\n",
    "\n",
    "x = \"cell_ontology_class\" \n",
    "y = \"mt-Nd3\" \n",
    "hue = 'age'\n",
    "hue_order = ['3m', '18m', '24m']\n",
    "\n",
    "box_pairs=[\n",
    "    ((\"macrophage\", \"3m\"), (\"macrophage\", \"18m\")),\n",
    "    ((\"macrophage\", \"3m\"), (\"macrophage\", \"24m\")),\n",
    "    ((\"macrophage\", \"18m\"), (\"macrophage\", \"24m\")),\n",
    "    \n",
    "    ((\"DN4 thymocyte\", \"3m\"), (\"DN4 thymocyte\", \"18m\")),\n",
    "    ((\"DN4 thymocyte\", \"3m\"), (\"DN4 thymocyte\", \"24m\")),\n",
    "    ((\"DN4 thymocyte\", \"18m\"), (\"DN4 thymocyte\", \"24m\")),\n",
    "    \n",
    "    ((\"endothelial cell\", \"3m\"), (\"endothelial cell\", \"18m\")),\n",
    "    ((\"endothelial cell\", \"3m\"), (\"endothelial cell\", \"24m\")),\n",
    "    ((\"endothelial cell\", \"18m\"), (\"endothelial cell\", \"24m\")),\n",
    "    \n",
    "    ((\"epithelial cell of thymus\", \"3m\"), (\"epithelial cell of thymus\", \"18m\")),\n",
    "    ((\"epithelial cell of thymus\", \"3m\"), (\"epithelial cell of thymus\", \"24m\")),\n",
    "    ((\"epithelial cell of thymus\", \"18m\"), (\"epithelial cell of thymus\", \"24m\")),\n",
    "    \n",
    "    ((\"fibroblast\", \"3m\"), (\"fibroblast\", \"18m\")),\n",
    "    ((\"fibroblast\", \"3m\"), (\"fibroblast\", \"24m\")),\n",
    "    ((\"fibroblast\", \"18m\"), (\"fibroblast\", \"24m\")),\n",
    "    \n",
    "    ((\"thymocyte\", \"3m\"), (\"thymocyte\", \"18m\")),\n",
    "    ((\"thymocyte\", \"3m\"), (\"thymocyte\", \"24m\")),\n",
    "    ((\"thymocyte\", \"18m\"), (\"thymocyte\", \"24m\")),\n",
    "    ]\n",
    "fig = plt.figure(figsize=(10, 5))\n",
    "ax = sns.boxplot(data=df, x=x, y=y, hue=hue)\n",
    "add_stat_annotation(ax, data=df, x=x, y=y,hue=hue,box_pairs=box_pairs,\n",
    "                    test='Mann-Whitney',loc='inside',verbose=2)\n",
    "\n",
    "plt.legend(loc='upper left', bbox_to_anchor=(1.03, 1))\n",
    "plt.xticks(rotation=90)\n"
   ]
  },
  {
   "cell_type": "code",
   "execution_count": null,
   "id": "9328da13",
   "metadata": {},
   "outputs": [],
   "source": [
    "df = df_nc_mt[['age','cell_ontology_class','mt-Nd4']]\n",
    "\n",
    "x = \"cell_ontology_class\" \n",
    "y = \"mt-Nd4\" \n",
    "hue = 'age'\n",
    "hue_order = ['3m', '18m', '24m']\n",
    "\n",
    "box_pairs=[\n",
    "    ((\"macrophage\", \"3m\"), (\"macrophage\", \"18m\")),\n",
    "    ((\"macrophage\", \"3m\"), (\"macrophage\", \"24m\")),\n",
    "    ((\"macrophage\", \"18m\"), (\"macrophage\", \"24m\")),\n",
    "    \n",
    "    ((\"DN4 thymocyte\", \"3m\"), (\"DN4 thymocyte\", \"18m\")),\n",
    "    ((\"DN4 thymocyte\", \"3m\"), (\"DN4 thymocyte\", \"24m\")),\n",
    "    ((\"DN4 thymocyte\", \"18m\"), (\"DN4 thymocyte\", \"24m\")),\n",
    "    \n",
    "    ((\"endothelial cell\", \"3m\"), (\"endothelial cell\", \"18m\")),\n",
    "    ((\"endothelial cell\", \"3m\"), (\"endothelial cell\", \"24m\")),\n",
    "    ((\"endothelial cell\", \"18m\"), (\"endothelial cell\", \"24m\")),\n",
    "    \n",
    "    ((\"epithelial cell of thymus\", \"3m\"), (\"epithelial cell of thymus\", \"18m\")),\n",
    "    ((\"epithelial cell of thymus\", \"3m\"), (\"epithelial cell of thymus\", \"24m\")),\n",
    "    ((\"epithelial cell of thymus\", \"18m\"), (\"epithelial cell of thymus\", \"24m\")),\n",
    "    \n",
    "    ((\"fibroblast\", \"3m\"), (\"fibroblast\", \"18m\")),\n",
    "    ((\"fibroblast\", \"3m\"), (\"fibroblast\", \"24m\")),\n",
    "    ((\"fibroblast\", \"18m\"), (\"fibroblast\", \"24m\")),\n",
    "    \n",
    "    ((\"thymocyte\", \"3m\"), (\"thymocyte\", \"18m\")),\n",
    "    ((\"thymocyte\", \"3m\"), (\"thymocyte\", \"24m\")),\n",
    "    ((\"thymocyte\", \"18m\"), (\"thymocyte\", \"24m\")),\n",
    "    ]\n",
    "fig = plt.figure(figsize=(10, 5))\n",
    "ax = sns.boxplot(data=df, x=x, y=y, hue=hue)\n",
    "add_stat_annotation(ax, data=df, x=x, y=y,hue=hue,box_pairs=box_pairs,\n",
    "                    test='Mann-Whitney',loc='inside',verbose=2)\n",
    "\n",
    "plt.legend(loc='upper left', bbox_to_anchor=(1.03, 1))\n",
    "plt.xticks(rotation=90)\n"
   ]
  },
  {
   "cell_type": "code",
   "execution_count": null,
   "id": "7fc65a94",
   "metadata": {},
   "outputs": [],
   "source": [
    "df = df_nc_mt[['age','cell_ontology_class','mt-Nd4l']]\n",
    "\n",
    "x = \"cell_ontology_class\" \n",
    "y = \"mt-Nd4l\" \n",
    "hue = 'age'\n",
    "hue_order = ['3m', '18m', '24m']\n",
    "\n",
    "box_pairs=[\n",
    "    ((\"macrophage\", \"3m\"), (\"macrophage\", \"18m\")),\n",
    "    ((\"macrophage\", \"3m\"), (\"macrophage\", \"24m\")),\n",
    "    ((\"macrophage\", \"18m\"), (\"macrophage\", \"24m\")),\n",
    "    \n",
    "    ((\"DN4 thymocyte\", \"3m\"), (\"DN4 thymocyte\", \"18m\")),\n",
    "    ((\"DN4 thymocyte\", \"3m\"), (\"DN4 thymocyte\", \"24m\")),\n",
    "    ((\"DN4 thymocyte\", \"18m\"), (\"DN4 thymocyte\", \"24m\")),\n",
    "    \n",
    "    ((\"endothelial cell\", \"3m\"), (\"endothelial cell\", \"18m\")),\n",
    "    ((\"endothelial cell\", \"3m\"), (\"endothelial cell\", \"24m\")),\n",
    "    ((\"endothelial cell\", \"18m\"), (\"endothelial cell\", \"24m\")),\n",
    "    \n",
    "    ((\"epithelial cell of thymus\", \"3m\"), (\"epithelial cell of thymus\", \"18m\")),\n",
    "    ((\"epithelial cell of thymus\", \"3m\"), (\"epithelial cell of thymus\", \"24m\")),\n",
    "    ((\"epithelial cell of thymus\", \"18m\"), (\"epithelial cell of thymus\", \"24m\")),\n",
    "    \n",
    "    ((\"fibroblast\", \"3m\"), (\"fibroblast\", \"18m\")),\n",
    "    ((\"fibroblast\", \"3m\"), (\"fibroblast\", \"24m\")),\n",
    "    ((\"fibroblast\", \"18m\"), (\"fibroblast\", \"24m\")),\n",
    "    \n",
    "    ((\"thymocyte\", \"3m\"), (\"thymocyte\", \"18m\")),\n",
    "    ((\"thymocyte\", \"3m\"), (\"thymocyte\", \"24m\")),\n",
    "    ((\"thymocyte\", \"18m\"), (\"thymocyte\", \"24m\")),\n",
    "    ]\n",
    "fig = plt.figure(figsize=(10, 5))\n",
    "ax = sns.boxplot(data=df, x=x, y=y, hue=hue)\n",
    "add_stat_annotation(ax, data=df, x=x, y=y,hue=hue,box_pairs=box_pairs,\n",
    "                    test='Mann-Whitney',loc='inside',verbose=2)\n",
    "\n",
    "plt.legend(loc='upper left', bbox_to_anchor=(1.03, 1))\n",
    "plt.xticks(rotation=90)\n"
   ]
  },
  {
   "cell_type": "code",
   "execution_count": null,
   "id": "e8a2b159",
   "metadata": {},
   "outputs": [],
   "source": [
    "df = df_nc_mt[['age','cell_ontology_class','mt-Nd5']]\n",
    "\n",
    "x = \"cell_ontology_class\" \n",
    "y = \"mt-Nd5\" \n",
    "hue = 'age'\n",
    "hue_order = ['3m', '18m', '24m']\n",
    "\n",
    "box_pairs=[\n",
    "    ((\"macrophage\", \"3m\"), (\"macrophage\", \"18m\")),\n",
    "    ((\"macrophage\", \"3m\"), (\"macrophage\", \"24m\")),\n",
    "    ((\"macrophage\", \"18m\"), (\"macrophage\", \"24m\")),\n",
    "    \n",
    "    ((\"DN4 thymocyte\", \"3m\"), (\"DN4 thymocyte\", \"18m\")),\n",
    "    ((\"DN4 thymocyte\", \"3m\"), (\"DN4 thymocyte\", \"24m\")),\n",
    "    ((\"DN4 thymocyte\", \"18m\"), (\"DN4 thymocyte\", \"24m\")),\n",
    "    \n",
    "    ((\"endothelial cell\", \"3m\"), (\"endothelial cell\", \"18m\")),\n",
    "    ((\"endothelial cell\", \"3m\"), (\"endothelial cell\", \"24m\")),\n",
    "    ((\"endothelial cell\", \"18m\"), (\"endothelial cell\", \"24m\")),\n",
    "    \n",
    "    ((\"epithelial cell of thymus\", \"3m\"), (\"epithelial cell of thymus\", \"18m\")),\n",
    "    ((\"epithelial cell of thymus\", \"3m\"), (\"epithelial cell of thymus\", \"24m\")),\n",
    "    ((\"epithelial cell of thymus\", \"18m\"), (\"epithelial cell of thymus\", \"24m\")),\n",
    "    \n",
    "    ((\"fibroblast\", \"3m\"), (\"fibroblast\", \"18m\")),\n",
    "    ((\"fibroblast\", \"3m\"), (\"fibroblast\", \"24m\")),\n",
    "    ((\"fibroblast\", \"18m\"), (\"fibroblast\", \"24m\")),\n",
    "    \n",
    "    ((\"thymocyte\", \"3m\"), (\"thymocyte\", \"18m\")),\n",
    "    ((\"thymocyte\", \"3m\"), (\"thymocyte\", \"24m\")),\n",
    "    ((\"thymocyte\", \"18m\"), (\"thymocyte\", \"24m\")),\n",
    "    ]\n",
    "fig = plt.figure(figsize=(10, 5))\n",
    "ax = sns.boxplot(data=df, x=x, y=y, hue=hue)\n",
    "add_stat_annotation(ax, data=df, x=x, y=y,hue=hue,box_pairs=box_pairs,\n",
    "                    test='Mann-Whitney',loc='inside',verbose=2)\n",
    "\n",
    "plt.legend(loc='upper left', bbox_to_anchor=(1.03, 1))\n",
    "plt.xticks(rotation=90)\n"
   ]
  },
  {
   "cell_type": "code",
   "execution_count": null,
   "id": "49a893eb",
   "metadata": {},
   "outputs": [],
   "source": [
    "df = df_nc_mt[['age','cell_ontology_class','mt-Nd6']]\n",
    "\n",
    "x = \"cell_ontology_class\" \n",
    "y = \"mt-Nd6\" \n",
    "hue = 'age'\n",
    "hue_order = ['3m', '18m', '24m']\n",
    "\n",
    "box_pairs=[\n",
    "    ((\"macrophage\", \"3m\"), (\"macrophage\", \"18m\")),\n",
    "    ((\"macrophage\", \"3m\"), (\"macrophage\", \"24m\")),\n",
    "    ((\"macrophage\", \"18m\"), (\"macrophage\", \"24m\")),\n",
    "    \n",
    "    ((\"DN4 thymocyte\", \"3m\"), (\"DN4 thymocyte\", \"18m\")),\n",
    "    ((\"DN4 thymocyte\", \"3m\"), (\"DN4 thymocyte\", \"24m\")),\n",
    "    ((\"DN4 thymocyte\", \"18m\"), (\"DN4 thymocyte\", \"24m\")),\n",
    "    \n",
    "    ((\"endothelial cell\", \"3m\"), (\"endothelial cell\", \"18m\")),\n",
    "    ((\"endothelial cell\", \"3m\"), (\"endothelial cell\", \"24m\")),\n",
    "    ((\"endothelial cell\", \"18m\"), (\"endothelial cell\", \"24m\")),\n",
    "    \n",
    "    ((\"epithelial cell of thymus\", \"3m\"), (\"epithelial cell of thymus\", \"18m\")),\n",
    "    ((\"epithelial cell of thymus\", \"3m\"), (\"epithelial cell of thymus\", \"24m\")),\n",
    "    ((\"epithelial cell of thymus\", \"18m\"), (\"epithelial cell of thymus\", \"24m\")),\n",
    "    \n",
    "    ((\"fibroblast\", \"3m\"), (\"fibroblast\", \"18m\")),\n",
    "    ((\"fibroblast\", \"3m\"), (\"fibroblast\", \"24m\")),\n",
    "    ((\"fibroblast\", \"18m\"), (\"fibroblast\", \"24m\")),\n",
    "    \n",
    "    ((\"thymocyte\", \"3m\"), (\"thymocyte\", \"18m\")),\n",
    "    ((\"thymocyte\", \"3m\"), (\"thymocyte\", \"24m\")),\n",
    "    ((\"thymocyte\", \"18m\"), (\"thymocyte\", \"24m\")),\n",
    "    ]\n",
    "fig = plt.figure(figsize=(10, 5))\n",
    "ax = sns.boxplot(data=df, x=x, y=y, hue=hue)\n",
    "add_stat_annotation(ax, data=df, x=x, y=y,hue=hue,box_pairs=box_pairs,\n",
    "                    test='Mann-Whitney',loc='inside',verbose=2)\n",
    "\n",
    "plt.legend(loc='upper left', bbox_to_anchor=(1.03, 1))\n",
    "plt.xticks(rotation=90)\n"
   ]
  },
  {
   "cell_type": "code",
   "execution_count": null,
   "id": "af9458c0",
   "metadata": {},
   "outputs": [],
   "source": [
    "df = df_nc_mt[['age','cell_ontology_class','mt-Rnr1']]\n",
    "\n",
    "x = \"cell_ontology_class\" \n",
    "y = \"mt-Rnr1\" \n",
    "hue = 'age'\n",
    "hue_order = ['3m', '18m', '24m']\n",
    "\n",
    "box_pairs=[\n",
    "    ((\"macrophage\", \"3m\"), (\"macrophage\", \"18m\")),\n",
    "    ((\"macrophage\", \"3m\"), (\"macrophage\", \"24m\")),\n",
    "    ((\"macrophage\", \"18m\"), (\"macrophage\", \"24m\")),\n",
    "    \n",
    "    ((\"DN4 thymocyte\", \"3m\"), (\"DN4 thymocyte\", \"18m\")),\n",
    "    ((\"DN4 thymocyte\", \"3m\"), (\"DN4 thymocyte\", \"24m\")),\n",
    "    ((\"DN4 thymocyte\", \"18m\"), (\"DN4 thymocyte\", \"24m\")),\n",
    "    \n",
    "    ((\"endothelial cell\", \"3m\"), (\"endothelial cell\", \"18m\")),\n",
    "    ((\"endothelial cell\", \"3m\"), (\"endothelial cell\", \"24m\")),\n",
    "    ((\"endothelial cell\", \"18m\"), (\"endothelial cell\", \"24m\")),\n",
    "    \n",
    "    ((\"epithelial cell of thymus\", \"3m\"), (\"epithelial cell of thymus\", \"18m\")),\n",
    "    ((\"epithelial cell of thymus\", \"3m\"), (\"epithelial cell of thymus\", \"24m\")),\n",
    "    ((\"epithelial cell of thymus\", \"18m\"), (\"epithelial cell of thymus\", \"24m\")),\n",
    "    \n",
    "    ((\"fibroblast\", \"3m\"), (\"fibroblast\", \"18m\")),\n",
    "    ((\"fibroblast\", \"3m\"), (\"fibroblast\", \"24m\")),\n",
    "    ((\"fibroblast\", \"18m\"), (\"fibroblast\", \"24m\")),\n",
    "    \n",
    "    ((\"thymocyte\", \"3m\"), (\"thymocyte\", \"18m\")),\n",
    "    ((\"thymocyte\", \"3m\"), (\"thymocyte\", \"24m\")),\n",
    "    ((\"thymocyte\", \"18m\"), (\"thymocyte\", \"24m\")),\n",
    "    ]\n",
    "fig = plt.figure(figsize=(10, 5))\n",
    "ax = sns.boxplot(data=df, x=x, y=y, hue=hue)\n",
    "add_stat_annotation(ax, data=df, x=x, y=y,hue=hue,box_pairs=box_pairs,\n",
    "                    test='Mann-Whitney',loc='inside',verbose=2)\n",
    "\n",
    "plt.legend(loc='upper left', bbox_to_anchor=(1.03, 1))\n",
    "plt.xticks(rotation=90)\n"
   ]
  },
  {
   "cell_type": "code",
   "execution_count": null,
   "id": "0952047d",
   "metadata": {},
   "outputs": [],
   "source": [
    "df = df_nc_mt[['age','cell_ontology_class','mt-Rnr2']]\n",
    "\n",
    "x = \"cell_ontology_class\" \n",
    "y = \"mt-Rnr2\" \n",
    "hue = 'age'\n",
    "hue_order = ['3m', '18m', '24m']\n",
    "\n",
    "box_pairs=[\n",
    "    ((\"macrophage\", \"3m\"), (\"macrophage\", \"18m\")),\n",
    "    ((\"macrophage\", \"3m\"), (\"macrophage\", \"24m\")),\n",
    "    ((\"macrophage\", \"18m\"), (\"macrophage\", \"24m\")),\n",
    "    \n",
    "    ((\"DN4 thymocyte\", \"3m\"), (\"DN4 thymocyte\", \"18m\")),\n",
    "    ((\"DN4 thymocyte\", \"3m\"), (\"DN4 thymocyte\", \"24m\")),\n",
    "    ((\"DN4 thymocyte\", \"18m\"), (\"DN4 thymocyte\", \"24m\")),\n",
    "    \n",
    "    ((\"endothelial cell\", \"3m\"), (\"endothelial cell\", \"18m\")),\n",
    "    ((\"endothelial cell\", \"3m\"), (\"endothelial cell\", \"24m\")),\n",
    "    ((\"endothelial cell\", \"18m\"), (\"endothelial cell\", \"24m\")),\n",
    "    \n",
    "    ((\"epithelial cell of thymus\", \"3m\"), (\"epithelial cell of thymus\", \"18m\")),\n",
    "    ((\"epithelial cell of thymus\", \"3m\"), (\"epithelial cell of thymus\", \"24m\")),\n",
    "    ((\"epithelial cell of thymus\", \"18m\"), (\"epithelial cell of thymus\", \"24m\")),\n",
    "    \n",
    "    ((\"fibroblast\", \"3m\"), (\"fibroblast\", \"18m\")),\n",
    "    ((\"fibroblast\", \"3m\"), (\"fibroblast\", \"24m\")),\n",
    "    ((\"fibroblast\", \"18m\"), (\"fibroblast\", \"24m\")),\n",
    "    \n",
    "    ((\"thymocyte\", \"3m\"), (\"thymocyte\", \"18m\")),\n",
    "    ((\"thymocyte\", \"3m\"), (\"thymocyte\", \"24m\")),\n",
    "    ((\"thymocyte\", \"18m\"), (\"thymocyte\", \"24m\")),\n",
    "    ]\n",
    "fig = plt.figure(figsize=(10, 5))\n",
    "ax = sns.boxplot(data=df, x=x, y=y, hue=hue)\n",
    "add_stat_annotation(ax, data=df, x=x, y=y,hue=hue,box_pairs=box_pairs,\n",
    "                    test='Mann-Whitney',loc='inside',verbose=2)\n",
    "\n",
    "plt.legend(loc='upper left', bbox_to_anchor=(1.03, 1))\n",
    "plt.xticks(rotation=90)\n"
   ]
  },
  {
   "cell_type": "markdown",
   "id": "0c9942a0",
   "metadata": {
    "heading_collapsed": true
   },
   "source": [
    "## Will probably delete funtions below"
   ]
  },
  {
   "cell_type": "code",
   "execution_count": null,
   "id": "8f39de0c",
   "metadata": {
    "hidden": true
   },
   "outputs": [],
   "source": [
    "#mt_genes -> s_genes\n",
    "#mt_nc_genes -> g2m_genes\n",
    "\n",
    "def S_G2M_score_dy(adata):\n",
    "    ''' Input is adata. Output is a dictionary with keys: \n",
    "        Age, Cell Type, N (number of cells), \n",
    "        \"mt scores\": value of list of score_genes for S_genes (mt genes) and\n",
    "        \"nc scores\": value of G2M_genes(nc encoded mt genes)'''\n",
    "    \n",
    "    data = defaultdict(list)\n",
    "    \n",
    "    for a in ages:\n",
    "        b = adata[adata.obs['age']== a]#filter by age\n",
    "        for e in tis_cells:#going through keys/tissue types       \n",
    "            c = b[b.obs['cell_ontology_class']== e]#have adata filtered by cell types in list\n",
    "            f = list(c.obs['S_score'])\n",
    "            g = list(c.obs['G2M_score'])\n",
    "            \n",
    "            data[\"Age\"].append(a)\n",
    "            data[\"Cell Type\"].append(e)\n",
    "            data['N'].append(c.n_obs) \n",
    "            data[\"mt scores\"].append(f) \n",
    "            data[\"nc scores\"].append(g)\n",
    "    \n",
    "    return data"
   ]
  },
  {
   "cell_type": "code",
   "execution_count": null,
   "id": "f79b061b",
   "metadata": {
    "hidden": true
   },
   "outputs": [],
   "source": [
    "scores_dy = S_G2M_score_dy(tissue_sg1)"
   ]
  },
  {
   "cell_type": "code",
   "execution_count": null,
   "id": "af598f72",
   "metadata": {
    "hidden": true
   },
   "outputs": [],
   "source": []
  },
  {
   "cell_type": "markdown",
   "id": "a70b9256",
   "metadata": {
    "hidden": true
   },
   "source": [
    "**Function for dictionary for individual MT gene t-test**"
   ]
  },
  {
   "cell_type": "code",
   "execution_count": null,
   "id": "f9fa8a99",
   "metadata": {
    "hidden": true
   },
   "outputs": [],
   "source": [
    "def MT_score_dy(adata):\n",
    "    ''' Input is adata. Output is a dictionary with columns: \n",
    "        Age, Cell Type, N (number of cells), \n",
    "        MT genes with list of score per cell type.'''\n",
    "    \n",
    "    data = defaultdict(list)\n",
    "    \n",
    "    for a in ages:\n",
    "        b = adata[adata.obs['age']== a]#filter by age\n",
    "        for e in tis_cells:#going through keys/tissue types       \n",
    "            c = b[b.obs['cell_ontology_class']== e]#have adata filtered by cell types in list\n",
    "            \n",
    "            data[\"Age\"].append(a)\n",
    "            data[\"Cell Type\"].append(e)\n",
    "            data['N'].append(c.n_obs) \n",
    "            data['mt-Atp6'].append(list(set(c.obs['mt-Atp6'])))\n",
    "            data['mt-Atp8'].append(list(set(c.obs['mt-Atp8'])))\n",
    "            data['mt-Co1'].append(list(set(c.obs['mt-Co1'])))\n",
    "            data['mt-Co2'].append(list(set(c.obs['mt-Co2'])))\n",
    "            data['mt-Co3'].append(list(set(c.obs['mt-Co3'])))\n",
    "            data['mt-Cytb'].append(list(set(c.obs['mt-Cytb'])))\n",
    "            data['mt-Nd1'].append(list(set(c.obs['mt-Nd1'])))\n",
    "            data['mt-Nd2'].append(list(set(c.obs['mt-Nd2'])))\n",
    "            data['mt-Nd3'].append(list(set(c.obs['mt-Nd3'])))\n",
    "            data['mt-Nd4'].append(list(set(c.obs['mt-Nd4'])))\n",
    "            data['mt-Nd4l'].append(list(set(c.obs['mt-Nd4l'])))\n",
    "            data['mt-Nd5'].append(list(set(c.obs['mt-Nd5'])))\n",
    "            data['mt-Nd6'].append(list(set(c.obs['mt-Nd6'])))\n",
    "            data['mt-Rnr1'].append(list(set(c.obs['mt-Rnr1'])))\n",
    "            data['mt-Rnr2'].append(list(set(c.obs['mt-Rnr2'])))\n",
    "            data['mt-Ta'].append(list(set(c.obs['mt-Ta'])))\n",
    "            data['mt-Te'].append(list(set(c.obs['mt-Te'])))\n",
    "            data['mt-Tf'].append(list(set(c.obs['mt-Tf'])))\n",
    "            data['mt-Ti'].append(list(set(c.obs['mt-Ti'])))\n",
    "            data['mt-Tl1'].append(list(set(c.obs['mt-Tl1'])))\n",
    "            data['mt-Tl2'].append(list(set(c.obs['mt-Tl2'])))\n",
    "            data['mt-Tm'].append(list(set(c.obs['mt-Tm'])))\n",
    "            data['mt-Tp'].append(list(set(c.obs['mt-Tp'])))\n",
    "            data['mt-Tq'].append(list(set(c.obs['mt-Tq'])))\n",
    "            data['mt-Tt'].append(list(set(c.obs['mt-Tt'])))\n",
    "            data['mt-Tv'].append(list(set(c.obs['mt-Tv'])))\n",
    "        \n",
    "    \n",
    "    return data"
   ]
  },
  {
   "cell_type": "code",
   "execution_count": null,
   "id": "154f5c14",
   "metadata": {
    "hidden": true
   },
   "outputs": [],
   "source": [
    "mf_dic = MT_score_dy(tissue_mtsg)"
   ]
  },
  {
   "cell_type": "markdown",
   "id": "351faf55",
   "metadata": {
    "hidden": true
   },
   "source": [
    "**Function for mt gene list t-test**"
   ]
  },
  {
   "cell_type": "code",
   "execution_count": null,
   "id": "9c8664db",
   "metadata": {
    "hidden": true
   },
   "outputs": [],
   "source": [
    "def ttest_scores_mt(dictionary):\n",
    "    '''Input is a dictionary with 'mt scores' for score_genes of mt_genes,  \n",
    "    \n",
    "    associated 'Age' and 'Cell Type' columns.\n",
    "    \n",
    "    T-test is done between 3m vs. 18m, 3m vs. 24m, and 18m vs. 24m.\n",
    "    \n",
    "    Results that have a pvalue equal or less than 0.05 are added to a dictionary.\n",
    "    \n",
    "    That dictionary of significant results is returned.'''\n",
    "    \n",
    "    data = defaultdict(list)\n",
    "    \n",
    "    for i in range(0,6):\n",
    "        #3m vs 18m\n",
    "        a = (dictionary.get(\"mt scores\")[i])\n",
    "        b = (dictionary.get(\"mt scores\")[i+6])\n",
    "        c = stats.ttest_ind(a,b)\n",
    "        #print(c)\n",
    "        if c[1] <= 0.05:\n",
    "        \n",
    "            data['Significant'].append([(dictionary.get(\"Age\")[i]),(dictionary.get(\"Age\")[i+6]),(dictionary.get(\"Cell Type\")[i]), (dictionary.get(\"Cell Type\")[i+6]),c[1]])\n",
    "            \n",
    "    for i in range(0,6):\n",
    "        #3m vs 24m\n",
    "        a = (dictionary.get(\"mt scores\")[i])\n",
    "        b = (dictionary.get(\"mt scores\")[i+12])\n",
    "        c = stats.ttest_ind(a,b)\n",
    "        #print(c)\n",
    "        if c[1] <= 0.05:\n",
    "        \n",
    "            data['Significant'].append([(dictionary.get(\"Age\")[i]),(dictionary.get(\"Age\")[i+12]),(dictionary.get(\"Cell Type\")[i]), (dictionary.get(\"Cell Type\")[i+12]),c[1]])\n",
    "    for i in range(6,12):\n",
    "        #18m vs 24m\n",
    "        a = (dictionary.get(\"mt scores\")[i])\n",
    "        b = (dictionary.get(\"mt scores\")[i+6])\n",
    "        c = stats.ttest_ind(a,b)\n",
    "        #print(c)\n",
    "        if c[1] <= 0.05:\n",
    "        \n",
    "            data['Significant'].append([(dictionary.get(\"Age\")[i]),(dictionary.get(\"Age\")[i+6]),(dictionary.get(\"Cell Type\")[i]), (dictionary.get(\"Cell Type\")[i+6]),c[1]])\n",
    "    \n",
    "    \n",
    "    return data\n",
    "        "
   ]
  },
  {
   "cell_type": "code",
   "execution_count": null,
   "id": "7e075aa3",
   "metadata": {
    "hidden": true
   },
   "outputs": [],
   "source": [
    "mt_ttest = ttest_scores_mt(scores_dy)"
   ]
  },
  {
   "cell_type": "markdown",
   "id": "d02a9591",
   "metadata": {
    "hidden": true
   },
   "source": [
    "**Function for nc gene list t-test**"
   ]
  },
  {
   "cell_type": "code",
   "execution_count": null,
   "id": "e609cb50",
   "metadata": {
    "hidden": true
   },
   "outputs": [],
   "source": [
    "def ttest_scores_nc(dictionary):\n",
    "\n",
    "    '''Input is a dictionary with 'nc genes' for score_genes of mt_nc_genes \n",
    "    \n",
    "    (nuclear encoded mt genes, mitocarta3.0), associated 'Age' and 'Cell Type' columns.\n",
    "    \n",
    "    T-test is done between 3m vs. 18m, 3m vs. 24m, and 18m vs. 24m.\n",
    "    \n",
    "    Results that have a pvalue equal or less than 0.05 are added to a dictionary.\n",
    "    \n",
    "    That dictionary of significant results is returned.'''\n",
    "    \n",
    "    data = defaultdict(list)\n",
    "    \n",
    "    for i in range(0,6):\n",
    "        #3m vs 18m\n",
    "        a = (dictionary.get(\"nc scores\")[i])\n",
    "        b = (dictionary.get(\"nc scores\")[i+6])\n",
    "        c = stats.ttest_ind(a,b)\n",
    "        #print(c)\n",
    "        if c[1] <= 0.05:\n",
    "        \n",
    "            data['Significant'].append([(dictionary.get(\"Age\")[i]),(dictionary.get(\"Age\")[i+6]),(dictionary.get(\"Cell Type\")[i]), (dictionary.get(\"Cell Type\")[i+6]),c[1]])\n",
    "            \n",
    "    for i in range(0,6):\n",
    "        #3m vs 24m\n",
    "        a = (dictionary.get(\"nc scores\")[i])\n",
    "        b = (dictionary.get(\"nc scores\")[i+12])\n",
    "        c = stats.ttest_ind(a,b)\n",
    "        #print(c)\n",
    "        if c[1] <= 0.05:\n",
    "        \n",
    "            data['Significant'].append([(dictionary.get(\"Age\")[i]),(dictionary.get(\"Age\")[i+12]),(dictionary.get(\"Cell Type\")[i]), (dictionary.get(\"Cell Type\")[i+12]),c[1]])\n",
    "    for i in range(6,12):\n",
    "        #18m vs 24m\n",
    "        a = (dictionary.get(\"nc scores\")[i])\n",
    "        b = (dictionary.get(\"nc scores\")[i+6])\n",
    "        c = stats.ttest_ind(a,b)\n",
    "        #print(c)\n",
    "        if c[1] <= 0.05:\n",
    "        \n",
    "            data['Significant'].append([(dictionary.get(\"Age\")[i]),(dictionary.get(\"Age\")[i+6]),(dictionary.get(\"Cell Type\")[i]), (dictionary.get(\"Cell Type\")[i+6]),c[1]])\n",
    "    \n",
    "    \n",
    "    return data"
   ]
  },
  {
   "cell_type": "code",
   "execution_count": null,
   "id": "97e6b0a0",
   "metadata": {
    "hidden": true
   },
   "outputs": [],
   "source": [
    "nc_ttest = ttest_scores_nc(scores_dy)"
   ]
  },
  {
   "cell_type": "markdown",
   "id": "52e9df3a",
   "metadata": {
    "hidden": true
   },
   "source": [
    "**Function for individual MT genes t-test**"
   ]
  },
  {
   "cell_type": "code",
   "execution_count": null,
   "id": "67dadeb1",
   "metadata": {
    "hidden": true
   },
   "outputs": [],
   "source": [
    "def ttest_scores_MTs(dictionary):\n",
    "\n",
    "    '''Input is a dictionary with score_genes of individual mitochondrial genes, \n",
    "    associated 'Age' and 'Cell Type' columns.\n",
    "    \n",
    "    T-test is done between 3m vs. 18m, 3m vs. 24m, and 18m vs. 24m.\n",
    "    \n",
    "    Results that have a pvalue equal or less than 0.05 are added to a dictionary.\n",
    "    \n",
    "    That dictionary of significant results is returned.'''\n",
    "    \n",
    "    data = defaultdict(list)\n",
    "    for m in mt_genes:\n",
    "        for i in range(0,6):\n",
    "            #3m vs 18m\n",
    "            a = (dictionary.get(m)[i])\n",
    "            b = (dictionary.get(m)[i+6])\n",
    "            c = stats.ttest_ind(a,b)\n",
    "            #print(c)\n",
    "            if c[1] <= 0.05:\n",
    "            \n",
    "                data['Significant'].append([m,(dictionary.get(\"Age\")[i]),(dictionary.get(\"Age\")[i+6]),(dictionary.get(\"Cell Type\")[i]), (dictionary.get(\"Cell Type\")[i+6]),c[1]])\n",
    "                \n",
    "        for i in range(0,6):\n",
    "            #3m vs 24m\n",
    "            a = (dictionary.get(m)[i])\n",
    "            b = (dictionary.get(m)[i+12])\n",
    "            c = stats.ttest_ind(a,b)\n",
    "            #print(c)\n",
    "            if c[1] <= 0.05:\n",
    "            \n",
    "                data['Significant'].append([m,(dictionary.get(\"Age\")[i]),(dictionary.get(\"Age\")[i+12]),(dictionary.get(\"Cell Type\")[i]), (dictionary.get(\"Cell Type\")[i+12]),c[1]])\n",
    "        for i in range(6,12):\n",
    "            #18m vs 24m\n",
    "            a = (dictionary.get(m)[i])\n",
    "            b = (dictionary.get(m)[i+6])\n",
    "            c = stats.ttest_ind(a,b)\n",
    "            #print(c)\n",
    "            if c[1] <= 0.05:\n",
    "            \n",
    "                data['Significant'].append([m,(dictionary.get(\"Age\")[i]),(dictionary.get(\"Age\")[i+6]),(dictionary.get(\"Cell Type\")[i]), (dictionary.get(\"Cell Type\")[i+6]),c[1]])\n",
    "    \n",
    "    \n",
    "    return data"
   ]
  },
  {
   "cell_type": "code",
   "execution_count": null,
   "id": "76ff072f",
   "metadata": {
    "hidden": true
   },
   "outputs": [],
   "source": [
    "def ttest_scores_MTs0005(dictionary):\n",
    "\n",
    "    '''Input is a dictionary with score_genes of individual mitochondrial genes, \n",
    "    associated 'Age' and 'Cell Type' columns.\n",
    "    \n",
    "    T-test is done between 3m vs. 18m, 3m vs. 24m, and 18m vs. 24m.\n",
    "    \n",
    "    Results that have a pvalue equal or less than 0.05 are added to a dictionary.\n",
    "    \n",
    "    That dictionary of significant results is returned.'''\n",
    "    \n",
    "    data = defaultdict(list)\n",
    "    for m in mt_genes:\n",
    "        for i in range(0,6):\n",
    "            #3m vs 18m\n",
    "            a = (dictionary.get(m)[i])\n",
    "            b = (dictionary.get(m)[i+6])\n",
    "            c = stats.ttest_ind(a,b)\n",
    "            #print(c)\n",
    "            if c[1] <= 0.0005:\n",
    "            \n",
    "                data['Significant'].append([m,(dictionary.get(\"Age\")[i]),(dictionary.get(\"Age\")[i+6]),(dictionary.get(\"Cell Type\")[i]), (dictionary.get(\"Cell Type\")[i+6]),c[1]])\n",
    "                \n",
    "        for i in range(0,6):\n",
    "            #3m vs 24m\n",
    "            a = (dictionary.get(m)[i])\n",
    "            b = (dictionary.get(m)[i+12])\n",
    "            c = stats.ttest_ind(a,b)\n",
    "            #print(c)\n",
    "            if c[1] <= 0.0005:\n",
    "            \n",
    "                data['Significant'].append([m,(dictionary.get(\"Age\")[i]),(dictionary.get(\"Age\")[i+12]),(dictionary.get(\"Cell Type\")[i]), (dictionary.get(\"Cell Type\")[i+12]),c[1]])\n",
    "        for i in range(6,12):\n",
    "            #18m vs 24m\n",
    "            a = (dictionary.get(m)[i])\n",
    "            b = (dictionary.get(m)[i+6])\n",
    "            c = stats.ttest_ind(a,b)\n",
    "            #print(c)\n",
    "            if c[1] <= 0.0005:\n",
    "            \n",
    "                data['Significant'].append([m,(dictionary.get(\"Age\")[i]),(dictionary.get(\"Age\")[i+6]),(dictionary.get(\"Cell Type\")[i]), (dictionary.get(\"Cell Type\")[i+6]),c[1]])\n",
    "    \n",
    "    \n",
    "    return data"
   ]
  },
  {
   "cell_type": "code",
   "execution_count": null,
   "id": "0bfd9760",
   "metadata": {
    "hidden": true
   },
   "outputs": [],
   "source": [
    "mf_1x1_ttest = ttest_scores_MTs(mf_dic)"
   ]
  },
  {
   "cell_type": "code",
   "execution_count": null,
   "id": "02a543f8",
   "metadata": {
    "hidden": true
   },
   "outputs": [],
   "source": [
    "mf_1x1_ttest0005 = ttest_scores_MTs0005(mf_dic)"
   ]
  },
  {
   "cell_type": "markdown",
   "id": "c731559c",
   "metadata": {
    "heading_collapsed": true
   },
   "source": [
    "## ttest_scores results"
   ]
  },
  {
   "cell_type": "markdown",
   "id": "2adf072e",
   "metadata": {
    "hidden": true
   },
   "source": [
    "**Function to make dictionary for mt and nc gene lists t-tests**"
   ]
  },
  {
   "cell_type": "code",
   "execution_count": null,
   "id": "5bc10158",
   "metadata": {
    "hidden": true
   },
   "outputs": [],
   "source": [
    "def ttest_df(d):\n",
    "    data = defaultdict(list)\n",
    "    '''Input is dictionary from ttest_scores_mt or ttest_scores_nc.\n",
    "    Output is a pandas DataFrame of dictionary'''\n",
    "    for k in range(len(d['Significant'][0:-1])+1):       \n",
    "        \n",
    "        data['Ages'].append(d['Significant'][k][0:2])\n",
    "        data['Cell Type'].append(d['Significant'][k][2])\n",
    "        data['pvalue'].append(d['Significant'][k][4])\n",
    "    \n",
    "    \n",
    "    df = pd.DataFrame(data)\n",
    "    return df"
   ]
  },
  {
   "cell_type": "code",
   "execution_count": null,
   "id": "046c9b0b",
   "metadata": {
    "hidden": true
   },
   "outputs": [],
   "source": [
    "def ttest_df2(d):\n",
    "    '''Input is dictionary from ttest_scores_MTs or same function but with lower pvalue (ie ttest_scores_MTs0005.\n",
    "    Output is a pandas DataFrame of dictionary'''\n",
    "    data = defaultdict(list)\n",
    "    \n",
    "    for k in range(len(d['Significant'][0:-1])+1):       \n",
    "        data['MT gene'].append(d['Significant'][k][0])\n",
    "        data['Ages'].append(d['Significant'][k][1:3])\n",
    "        data['Cell Type'].append(d['Significant'][k][3])\n",
    "        data['pvalue'].append(d['Significant'][k][5])\n",
    "    \n",
    "    \n",
    "    df = pd.DataFrame(data)\n",
    "    return df"
   ]
  },
  {
   "cell_type": "code",
   "execution_count": null,
   "id": "dfe20c26",
   "metadata": {
    "hidden": true
   },
   "outputs": [],
   "source": [
    "ttest_df(nc_ttest)"
   ]
  },
  {
   "cell_type": "code",
   "execution_count": null,
   "id": "11338734",
   "metadata": {
    "hidden": true
   },
   "outputs": [],
   "source": [
    "ttest_df(mt_ttest)"
   ]
  },
  {
   "cell_type": "code",
   "execution_count": null,
   "id": "9135e671",
   "metadata": {
    "hidden": true
   },
   "outputs": [],
   "source": [
    "p = ttest_df2(mf_1x1_ttest)#pvlaue <= 0.05\n",
    "p[p['Cell Type']=='macrophage']\n"
   ]
  },
  {
   "cell_type": "code",
   "execution_count": null,
   "id": "44cfb633",
   "metadata": {
    "hidden": true
   },
   "outputs": [],
   "source": [
    "q = ttest_df2(mf_1x1_ttest0005) #pvalue <= 0.0005\n",
    "q[q['Cell Type']=='macrophage']"
   ]
  },
  {
   "cell_type": "code",
   "execution_count": null,
   "id": "dab528e7",
   "metadata": {
    "hidden": true
   },
   "outputs": [],
   "source": [
    "mf_dic['Age'][0],mf_dic['Age'][6], mf_dic['Cell Type'][0],mf_dic['Cell Type'][6]\n",
    "#refer to mf dataframe for index numbers"
   ]
  },
  {
   "cell_type": "markdown",
   "id": "379f1380",
   "metadata": {
    "heading_collapsed": true,
    "hidden": true
   },
   "source": [
    "### Mitochondria Encoded, Individual Genes, Macrophages"
   ]
  },
  {
   "cell_type": "code",
   "execution_count": null,
   "id": "8def086d",
   "metadata": {
    "hidden": true
   },
   "outputs": [],
   "source": [
    "mt1 = mf_dic.get(\"mt-Atp6\")[5]\n",
    "mt2 = mf_dic.get(\"mt-Atp6\")[17]\n",
    "\n",
    "sns.histplot(mt1, color = 'indigo', legend = True)#darker\n",
    "plt.title(\"3m vs 24m Macrophage mt-Atp6 score_genes Results\")\n",
    "sns.histplot(mt2, color = 'thistle')#lighter"
   ]
  },
  {
   "cell_type": "code",
   "execution_count": null,
   "id": "225b0adf",
   "metadata": {
    "hidden": true
   },
   "outputs": [],
   "source": [
    "mt3 = mf_dic.get(\"mt-Atp6\")[11]\n",
    "mt4 = mf_dic.get(\"mt-Atp6\")[17]\n",
    "\n",
    "sns.histplot(mt3, color = 'indigo', legend = True)#darker\n",
    "plt.title(\"18m vs 24m Macrophage mt-Atp6 score_genes Results\")\n",
    "sns.histplot(mt4, color = 'thistle')#lighter"
   ]
  },
  {
   "cell_type": "code",
   "execution_count": null,
   "id": "8615294d",
   "metadata": {
    "hidden": true
   },
   "outputs": [],
   "source": [
    "mt5 = mf_dic.get(\"mt-Atp8\")[11]\n",
    "mt6 = mf_dic.get(\"mt-Atp8\")[17]\n",
    "\n",
    "sns.histplot(mt5, color = 'indigo', legend = True)#darker\n",
    "plt.title(\"18m vs 24m Macrophage mt-Atp8 score_genes Results\")\n",
    "sns.histplot(mt6, color = 'thistle')#lighter"
   ]
  },
  {
   "cell_type": "code",
   "execution_count": null,
   "id": "1636a9e1",
   "metadata": {
    "hidden": true
   },
   "outputs": [],
   "source": [
    "mt7 = mf_dic.get(\"mt-Co1\")[11]\n",
    "mt8 = mf_dic.get(\"mt-Co1\")[17]\n",
    "\n",
    "sns.histplot(mt7, color = 'indigo', legend = True)#darker\n",
    "plt.title(\"18m vs 24m Macrophage mt-Co1 score_genes Results\")\n",
    "sns.histplot(mt8, color = 'thistle')#lighter"
   ]
  },
  {
   "cell_type": "code",
   "execution_count": null,
   "id": "5e3500fd",
   "metadata": {
    "hidden": true
   },
   "outputs": [],
   "source": [
    "mt9 = mf_dic.get(\"mt-Co2\")[5]\n",
    "mt10 = mf_dic.get(\"mt-Co2\")[11]\n",
    "\n",
    "sns.histplot(mt9, color = 'indigo', legend = True)#darker, 3m\n",
    "plt.title(\"3m vs 18m Macrophage mt-Co2 score_genes Results\")\n",
    "sns.histplot(mt10, color = 'thistle')#lighter, 18m"
   ]
  },
  {
   "cell_type": "code",
   "execution_count": null,
   "id": "b0ad7a95",
   "metadata": {
    "hidden": true
   },
   "outputs": [],
   "source": [
    "mt11 = mf_dic.get(\"mt-Co2\")[5]\n",
    "mt12 = mf_dic.get(\"mt-Co2\")[17]\n",
    "\n",
    "sns.histplot(mt11, color = 'indigo', legend = True)#darker 3m\n",
    "plt.title(\"3m vs 24m Macrophage mt-Co2 score_genes Results\")\n",
    "sns.histplot(mt12, color = 'thistle')#lighter 24m"
   ]
  },
  {
   "cell_type": "code",
   "execution_count": null,
   "id": "eb648b80",
   "metadata": {
    "hidden": true
   },
   "outputs": [],
   "source": [
    "mt11 = mf_dic.get(\"mt-Co2\")[11]\n",
    "mt12 = mf_dic.get(\"mt-Co2\")[17]\n",
    "\n",
    "sns.histplot(mt11, color = 'indigo', legend = True)#darker 18m\n",
    "plt.title(\"18m vs 24m Macrophage mt-Co2 score_genes Results\")\n",
    "sns.histplot(mt12, color = 'thistle')#lighter 24m"
   ]
  },
  {
   "cell_type": "code",
   "execution_count": null,
   "id": "67e99e56",
   "metadata": {
    "hidden": true
   },
   "outputs": [],
   "source": [
    "mt13 = mf_dic.get(\"mt-Co3\")[5]\n",
    "mt14 = mf_dic.get(\"mt-Co3\")[11]\n",
    "\n",
    "sns.histplot(mt13, color = 'indigo', legend = True)#darker 3m\n",
    "plt.title(\"3m vs 18m Macrophage mt-Co3 score_genes Results\")\n",
    "sns.histplot(mt14, color = 'thistle')#lighter 18m"
   ]
  },
  {
   "cell_type": "code",
   "execution_count": null,
   "id": "3d6fd30b",
   "metadata": {
    "hidden": true
   },
   "outputs": [],
   "source": [
    "mt15 = mf_dic.get(\"mt-Co3\")[5]\n",
    "mt16 = mf_dic.get(\"mt-Co3\")[17]\n",
    "\n",
    "sns.histplot(mt15, color = 'indigo', legend = True)#darker 3m\n",
    "plt.title(\"3m vs 24m Macrophage mt-Co3 score_genes Results\")\n",
    "sns.histplot(mt16, color = 'thistle')#lighter 24m"
   ]
  },
  {
   "cell_type": "code",
   "execution_count": null,
   "id": "74429499",
   "metadata": {
    "hidden": true
   },
   "outputs": [],
   "source": [
    "mt17 = mf_dic.get(\"mt-Cytb\")[5]\n",
    "mt18 = mf_dic.get(\"mt-Cytb\")[11]\n",
    "\n",
    "sns.histplot(mt17, color = 'indigo', legend = True)#darker 3m\n",
    "plt.title(\"3m vs 18m Macrophage mt-Cytb score_genes Results\")\n",
    "sns.histplot(mt18, color = 'thistle')#lighter 18m"
   ]
  },
  {
   "cell_type": "code",
   "execution_count": null,
   "id": "f6adc62d",
   "metadata": {
    "hidden": true
   },
   "outputs": [],
   "source": [
    "mt19 = mf_dic.get(\"mt-Cytb\")[11]\n",
    "mt20 = mf_dic.get(\"mt-Cytb\")[17]\n",
    "\n",
    "sns.histplot(mt19, color = 'indigo', legend = True)#darker 18m\n",
    "plt.title(\"18m vs 24m Macrophage mt-Cytb score_genes Results\")\n",
    "sns.histplot(mt20, color = 'thistle')#lighter 24m"
   ]
  },
  {
   "cell_type": "code",
   "execution_count": null,
   "id": "0f280182",
   "metadata": {
    "hidden": true
   },
   "outputs": [],
   "source": [
    "mt21 = mf_dic.get(\"mt-Nd1\")[11]\n",
    "mt22 = mf_dic.get(\"mt-Nd1\")[17]\n",
    "\n",
    "sns.histplot(mt21, color = 'indigo', legend = True)#darker 18m\n",
    "plt.title(\"18m vs 24m Macrophage mt-Nd1 score_genes Results\")\n",
    "sns.histplot(mt22, color = 'thistle')#lighter 24m"
   ]
  },
  {
   "cell_type": "code",
   "execution_count": null,
   "id": "f0d354a7",
   "metadata": {
    "hidden": true
   },
   "outputs": [],
   "source": [
    "mt23 = mf_dic.get(\"mt-Nd2\")[11]\n",
    "mt24 = mf_dic.get(\"mt-Nd2\")[17]\n",
    "\n",
    "sns.histplot(mt23, color = 'indigo', legend = True)#darker 18m\n",
    "plt.title(\"18m vs 24m Macrophage mt-Nd2 score_genes Results\")\n",
    "sns.histplot(mt24, color = 'thistle')#lighter 24m"
   ]
  },
  {
   "cell_type": "code",
   "execution_count": null,
   "id": "63903e82",
   "metadata": {
    "hidden": true
   },
   "outputs": [],
   "source": [
    "mt25 = mf_dic.get(\"mt-Nd3\")[11]\n",
    "mt26 = mf_dic.get(\"mt-Nd3\")[17]\n",
    "\n",
    "sns.histplot(mt25, color = 'indigo', legend = True)#darker 18m\n",
    "plt.title(\"18m vs 24m Macrophage mt-Nd3 score_genes Results\")\n",
    "sns.histplot(mt26, color = 'thistle')#lighter 24m"
   ]
  },
  {
   "cell_type": "code",
   "execution_count": null,
   "id": "a7ae531c",
   "metadata": {
    "hidden": true
   },
   "outputs": [],
   "source": [
    "mt27 = mf_dic.get(\"mt-Nd4\")[11]\n",
    "mt28 = mf_dic.get(\"mt-Nd4\")[17]\n",
    "\n",
    "sns.histplot(mt27, color = 'indigo', legend = True)#darker 18m\n",
    "plt.title(\"18m vs 24m Macrophage mt-Nd4 score_genes Results\")\n",
    "sns.histplot(mt28, color = 'thistle')#lighter 24m"
   ]
  },
  {
   "cell_type": "code",
   "execution_count": null,
   "id": "69f3117e",
   "metadata": {
    "hidden": true
   },
   "outputs": [],
   "source": [
    "#mt-Nd4l 3m vs 18m is 0.0005 < pvalue < 0.05\n",
    "mt29a = mf_dic.get(\"mt-Nd4l\")[5] \n",
    "mt30a = mf_dic.get(\"mt-Nd4l\")[11]\n",
    "\n",
    "sns.histplot(mt29a, color = 'indigo', legend = True)#darker 3m\n",
    "plt.title(\"3m vs 18m Macrophage mt-Nd1 score_genes Results\")\n",
    "sns.histplot(mt30a, color = 'thistle')#lighter 18m"
   ]
  },
  {
   "cell_type": "code",
   "execution_count": null,
   "id": "3de26f44",
   "metadata": {
    "hidden": true
   },
   "outputs": [],
   "source": [
    "#isoform mt-Nd4l decreased between 18m to 24m\n",
    "\n",
    "mt29b = mf_dic.get(\"mt-Nd4l\")[11]\n",
    "mt30b = mf_dic.get(\"mt-Nd4l\")[17]\n",
    "\n",
    "sns.histplot(mt29b, color = 'indigo', legend = True)#darker 18m\n",
    "plt.title(\"18m vs 24m Macrophage mt-Nd1 score_genes Results\")\n",
    "sns.histplot(mt30b, color = 'thistle')#lighter 24m"
   ]
  },
  {
   "cell_type": "code",
   "execution_count": null,
   "id": "2d76e901",
   "metadata": {
    "hidden": true
   },
   "outputs": [],
   "source": [
    "mt31 = mf_dic.get(\"mt-Nd5\")[5]\n",
    "mt32 = mf_dic.get(\"mt-Nd5\")[11]\n",
    "\n",
    "sns.histplot(mt31, color = 'indigo', legend = True)#darker 3m\n",
    "plt.title(\"3m vs 18m Macrophage mt-Nd1 score_genes Results\")\n",
    "sns.histplot(mt32, color = 'thistle')#lighter 18m"
   ]
  },
  {
   "cell_type": "code",
   "execution_count": null,
   "id": "b84d73d0",
   "metadata": {
    "hidden": true
   },
   "outputs": [],
   "source": [
    "mt33 = mf_dic.get(\"mt-Nd5\")[11]\n",
    "mt34 = mf_dic.get(\"mt-Nd5\")[17]\n",
    "\n",
    "sns.histplot(mt33, color = 'indigo', legend = True)#darker 18m\n",
    "plt.title(\"18m vs 24m Macrophage mt-Nd1 score_genes Results\")\n",
    "sns.histplot(mt34, color = 'thistle')#lighter 24m"
   ]
  },
  {
   "cell_type": "code",
   "execution_count": null,
   "id": "69181822",
   "metadata": {
    "hidden": true
   },
   "outputs": [],
   "source": [
    "mt35 = mf_dic.get(\"mt-Nd6\")[11]\n",
    "mt36 = mf_dic.get(\"mt-Nd6\")[17]\n",
    "\n",
    "sns.histplot(mt35, color = 'indigo', legend = True)#darker 18m\n",
    "plt.title(\"18m vs 24m Macrophage mt-Nd6 score_genes Results\")\n",
    "sns.histplot(mt36, color = 'thistle')#lighter 24m"
   ]
  },
  {
   "cell_type": "code",
   "execution_count": null,
   "id": "b88f0b4d",
   "metadata": {
    "hidden": true
   },
   "outputs": [],
   "source": [
    "#Increase in mt ribosome (Rnr1) from 3m to 24m\n",
    "\n",
    "mt37 = mf_dic.get(\"mt-Rnr1\")[5]\n",
    "mt38 = mf_dic.get(\"mt-Rnr1\")[17]\n",
    "\n",
    "sns.histplot(mt37, color = 'indigo', legend = True)#darker 3m\n",
    "plt.title(\"3m vs 24m Macrophage mt-Rnr1 score_genes Results\")\n",
    "sns.histplot(mt38, color = 'thistle')#lighter 24m"
   ]
  },
  {
   "cell_type": "code",
   "execution_count": null,
   "id": "e4aa4bdb",
   "metadata": {
    "hidden": true
   },
   "outputs": [],
   "source": [
    "#Increase in mt ribosome (Rnr1) from 3m to 24m\n",
    "\n",
    "mt39 = mf_dic.get(\"mt-Rnr1\")[11]\n",
    "mt40 = mf_dic.get(\"mt-Rnr1\")[17]\n",
    "\n",
    "sns.histplot(mt39, color = 'indigo', legend = True)#darker 18m\n",
    "plt.title(\"18m vs 24m Macrophage mt-Rnr1 score_genes Results\")\n",
    "sns.histplot(mt40, color = 'thistle')#lighter 24m"
   ]
  },
  {
   "cell_type": "markdown",
   "id": "55b3db21",
   "metadata": {
    "heading_collapsed": true,
    "hidden": true
   },
   "source": [
    "### Mitochondria Encoded Genes (list)"
   ]
  },
  {
   "cell_type": "code",
   "execution_count": null,
   "id": "87da5839",
   "metadata": {
    "hidden": true
   },
   "outputs": [],
   "source": [
    "#refer to sg1 dataframe for index numbers\n",
    "aa = scores_dy.get(\"mt scores\")[4]\n",
    "ab = scores_dy.get(\"mt scores\")[10]\n",
    "\n",
    "sns.histplot(aa, color = 'indigo', legend = True)#darker\n",
    "plt.title(\"3m vs 18 DN4 Thymocyte Mitochondria Encoded Genes score_genes Results\")\n",
    "sns.histplot(ab, color = 'thistle')#lighter"
   ]
  },
  {
   "cell_type": "code",
   "execution_count": null,
   "id": "dc00a2bf",
   "metadata": {
    "hidden": true
   },
   "outputs": [],
   "source": [
    "ba = scores_dy.get(\"mt scores\")[5]\n",
    "bb = scores_dy.get(\"mt scores\")[11]\n",
    "\n",
    "sns.histplot(ba, color = 'indigo', legend = True)#darker\n",
    "plt.title(\"3m vs 18 Thymocyte Mitochondria Encoded Genes score_genes Results\")\n",
    "sns.histplot(bb, color = 'thistle')#lighter"
   ]
  },
  {
   "cell_type": "code",
   "execution_count": null,
   "id": "3d1747c7",
   "metadata": {
    "hidden": true
   },
   "outputs": [],
   "source": [
    "ca = scores_dy.get(\"mt scores\")[1]\n",
    "cb = scores_dy.get(\"mt scores\")[13]\n",
    "\n",
    "sns.histplot(ca, color = 'indigo', legend = True)#darker\n",
    "plt.title(\"3m vs 24m Endothelial Mitochondria Encoded Genes score_genes Results\")\n",
    "sns.histplot(cb, color = 'thistle')#lighter"
   ]
  },
  {
   "cell_type": "code",
   "execution_count": null,
   "id": "b9214fa9",
   "metadata": {
    "hidden": true
   },
   "outputs": [],
   "source": [
    "da = scores_dy.get(\"mt scores\")[4]\n",
    "db = scores_dy.get(\"mt scores\")[16]\n",
    "\n",
    "sns.histplot(da, color = 'indigo', legend = True)#darker\n",
    "plt.title(\"3m vs 24m DN4 Thymocyte Mitochondria Encoded Genes score_genes Results\")\n",
    "sns.histplot(db, color = 'thistle')#lighter"
   ]
  },
  {
   "cell_type": "code",
   "execution_count": null,
   "id": "bbdac580",
   "metadata": {
    "hidden": true
   },
   "outputs": [],
   "source": [
    "ea = scores_dy.get(\"mt scores\")[8]\n",
    "eb = scores_dy.get(\"mt scores\")[14]\n",
    "\n",
    "sns.histplot(ba, color = 'indigo', legend = True)#darker\n",
    "plt.title(\"18m vs 24 Fibroblast Mitochondria Encoded Genes score_genes Results\")\n",
    "sns.histplot(bb, color = 'thistle')#lighter"
   ]
  },
  {
   "cell_type": "code",
   "execution_count": null,
   "id": "f0f6b638",
   "metadata": {
    "hidden": true
   },
   "outputs": [],
   "source": [
    "fa = scores_dy.get(\"mt scores\")[9]\n",
    "fb = scores_dy.get(\"mt scores\")[15]\n",
    "\n",
    "sns.histplot(fa, color = 'indigo', legend = True)#18m darker\n",
    "plt.title(\"18m vs 24m Macrophage Mitochondria Encoded Genes score_genes Results\")\n",
    "sns.histplot(fb, color = 'thistle')#24m lighter"
   ]
  },
  {
   "cell_type": "code",
   "execution_count": null,
   "id": "dc07562b",
   "metadata": {
    "hidden": true
   },
   "outputs": [],
   "source": [
    "ga = scores_dy.get(\"mt scores\")[10]\n",
    "gb = scores_dy.get(\"mt scores\")[16]\n",
    "\n",
    "sns.histplot(ga, color = 'indigo', legend = True)# darker\n",
    "plt.title(\"18m vs 24m DN4 Thymocyte Mitochondria Encoded Genes score_genes Results\")\n",
    "sns.histplot(gb, color = 'thistle')#lighter"
   ]
  },
  {
   "cell_type": "code",
   "execution_count": null,
   "id": "b2a1f88e",
   "metadata": {
    "hidden": true
   },
   "outputs": [],
   "source": [
    "ha = scores_dy.get(\"mt scores\")[11]\n",
    "hb = scores_dy.get(\"mt scores\")[17]\n",
    "\n",
    "sns.histplot(ha, color = 'indigo', legend = True)# darker\n",
    "plt.title(\"18m vs 24m Thymocyte Mitochondria Encoded Genes score_genes Results\")\n",
    "sns.histplot(hb, color = 'thistle')#lighter"
   ]
  },
  {
   "cell_type": "markdown",
   "id": "cbbfbc09",
   "metadata": {
    "heading_collapsed": true,
    "hidden": true
   },
   "source": [
    "### Nuclear Encoded Mitochondria Associated Genes, MitoCarta3.0"
   ]
  },
  {
   "cell_type": "code",
   "execution_count": null,
   "id": "a0e23f48",
   "metadata": {
    "hidden": true
   },
   "outputs": [],
   "source": [
    "ia = scores_dy.get(\"nc scores\")[0]\n",
    "ib = scores_dy.get(\"nc scores\")[6]\n",
    "\n",
    "sns.histplot(ia, color = 'teal', legend = True)# darker\n",
    "plt.title(\"3m vs 18m Epithelial Nuclear Encoded MT Genes score_genes Results\")\n",
    "sns.histplot(ib, color = 'lightcyan')#lighter"
   ]
  },
  {
   "cell_type": "code",
   "execution_count": null,
   "id": "ffda4129",
   "metadata": {
    "hidden": true
   },
   "outputs": [],
   "source": [
    "ja = scores_dy.get(\"nc scores\")[1]\n",
    "jb = scores_dy.get(\"nc scores\")[7]\n",
    "\n",
    "sns.histplot(ja, color = 'teal', legend = True)# darker\n",
    "plt.title(\"3m vs 18m Endothelial Nuclear Encoded MT Genes score_genes Results\")\n",
    "sns.histplot(jb, color = 'lightcyan')#lighter"
   ]
  },
  {
   "cell_type": "code",
   "execution_count": null,
   "id": "2fe8f940",
   "metadata": {
    "hidden": true
   },
   "outputs": [],
   "source": [
    "ka = scores_dy.get(\"nc scores\")[5]\n",
    "kb = scores_dy.get(\"nc scores\")[11]\n",
    "\n",
    "sns.histplot(ka, color = 'teal', legend = True)# darker\n",
    "plt.title(\"3m vs 18m Thymocyte Nuclear Encoded MT Genes score_genes Results\")\n",
    "sns.histplot(kb, color = 'lightcyan')#lighter"
   ]
  },
  {
   "cell_type": "code",
   "execution_count": null,
   "id": "489e2207",
   "metadata": {
    "hidden": true
   },
   "outputs": [],
   "source": [
    "la = scores_dy.get(\"nc scores\")[1]\n",
    "lb = scores_dy.get(\"nc scores\")[13]\n",
    "\n",
    "sns.histplot(la, color = 'teal', legend = True)# darker\n",
    "plt.title(\"3m vs 24m Endothelial Nuclear Encoded MT Genes score_genes Results\")\n",
    "sns.histplot(lb, color = 'lightcyan')#lighter"
   ]
  },
  {
   "cell_type": "code",
   "execution_count": null,
   "id": "e6f9d98a",
   "metadata": {
    "hidden": true
   },
   "outputs": [],
   "source": [
    "ma = scores_dy.get(\"nc scores\")[2]\n",
    "mb = scores_dy.get(\"nc scores\")[14]\n",
    "\n",
    "sns.histplot(ma, color = 'teal', legend = True)# darker\n",
    "plt.title(\"3m vs 24m Fibroblast Nuclear Encoded MT Genes score_genes Results\")\n",
    "sns.histplot(mb, color = 'lightcyan')#lighter"
   ]
  },
  {
   "cell_type": "code",
   "execution_count": null,
   "id": "9ab1eb64",
   "metadata": {
    "hidden": true
   },
   "outputs": [],
   "source": [
    "na = scores_dy.get(\"nc scores\")[4]\n",
    "nb = scores_dy.get(\"nc scores\")[16]\n",
    "\n",
    "sns.histplot(na, color = 'teal', legend = True)# darker\n",
    "plt.title(\"3m vs 24m DN4 Thymocyte Nuclear Encoded MT Genes score_genes Results\")\n",
    "sns.histplot(nb, color = 'lightcyan')#lighter"
   ]
  },
  {
   "cell_type": "code",
   "execution_count": null,
   "id": "9deb7997",
   "metadata": {
    "hidden": true
   },
   "outputs": [],
   "source": [
    "oa = scores_dy.get(\"nc scores\")[5]\n",
    "ob = scores_dy.get(\"nc scores\")[17]\n",
    "\n",
    "sns.histplot(oa, color = 'teal', legend = True)# darker\n",
    "plt.title(\"3m vs 24m Thymocyte Nuclear Encoded MT Genes score_genes Results\")\n",
    "sns.histplot(ob, color = 'lightcyan')#lighter"
   ]
  },
  {
   "cell_type": "code",
   "execution_count": null,
   "id": "c8d77f12",
   "metadata": {
    "hidden": true
   },
   "outputs": [],
   "source": [
    "pa = scores_dy.get(\"nc scores\")[2]\n",
    "pb = scores_dy.get(\"nc scores\")[14]\n",
    "\n",
    "sns.histplot(pa, color = 'teal', legend = True)# darker\n",
    "plt.title(\"3m vs 24m Fibroblast Nuclear Encoded MT Genes score_genes Results\")\n",
    "sns.histplot(pb, color = 'lightcyan')#lighter"
   ]
  },
  {
   "cell_type": "code",
   "execution_count": null,
   "id": "0272c4cd",
   "metadata": {
    "hidden": true
   },
   "outputs": [],
   "source": [
    "qa = scores_dy.get(\"nc scores\")[9]\n",
    "qb = scores_dy.get(\"nc scores\")[15]\n",
    "\n",
    "sns.histplot(qa, color = 'teal', legend = True)# darker\n",
    "plt.title(\"18m vs 24m Macrophage Nuclear Encoded MT Genes score_genes Results\")\n",
    "sns.histplot(qb, color = 'lightcyan')#lighter"
   ]
  },
  {
   "cell_type": "code",
   "execution_count": null,
   "id": "b652d713",
   "metadata": {
    "hidden": true
   },
   "outputs": [],
   "source": [
    "ra = scores_dy.get(\"nc scores\")[11]\n",
    "rb = scores_dy.get(\"nc scores\")[17]\n",
    "\n",
    "sns.histplot(ra, color = 'teal', legend = True)# darker\n",
    "plt.title(\"18m vs 24m Thymocyte Nuclear Encoded MT Genes score_genes Results\")\n",
    "sns.histplot(rb, color = 'lightcyan')#lighter"
   ]
  },
  {
   "cell_type": "code",
   "execution_count": null,
   "id": "9e58eb76",
   "metadata": {
    "hidden": true
   },
   "outputs": [],
   "source": []
  },
  {
   "cell_type": "code",
   "execution_count": null,
   "id": "f23a2511",
   "metadata": {
    "hidden": true
   },
   "outputs": [],
   "source": []
  },
  {
   "cell_type": "code",
   "execution_count": null,
   "id": "2c147242",
   "metadata": {
    "hidden": true
   },
   "outputs": [],
   "source": []
  },
  {
   "cell_type": "code",
   "execution_count": null,
   "id": "cf0e0197",
   "metadata": {
    "hidden": true
   },
   "outputs": [],
   "source": [
    "\n"
   ]
  },
  {
   "cell_type": "code",
   "execution_count": null,
   "id": "9a5430fc",
   "metadata": {
    "hidden": true
   },
   "outputs": [],
   "source": []
  },
  {
   "cell_type": "code",
   "execution_count": null,
   "id": "eddfaf47",
   "metadata": {
    "hidden": true
   },
   "outputs": [],
   "source": []
  },
  {
   "cell_type": "code",
   "execution_count": null,
   "id": "d3a9d46b",
   "metadata": {
    "hidden": true
   },
   "outputs": [],
   "source": []
  },
  {
   "cell_type": "code",
   "execution_count": null,
   "id": "46198cbb",
   "metadata": {
    "hidden": true
   },
   "outputs": [],
   "source": []
  },
  {
   "cell_type": "markdown",
   "id": "37d30273",
   "metadata": {
    "hidden": true
   },
   "source": []
  },
  {
   "cell_type": "code",
   "execution_count": null,
   "id": "56c6602e",
   "metadata": {
    "hidden": true
   },
   "outputs": [],
   "source": []
  },
  {
   "cell_type": "markdown",
   "id": "c3c373fa",
   "metadata": {
    "heading_collapsed": true
   },
   "source": [
    "## examples"
   ]
  },
  {
   "cell_type": "markdown",
   "id": "1f762ffe",
   "metadata": {
    "hidden": true
   },
   "source": [
    "Some pandas DataFrame commands"
   ]
  },
  {
   "cell_type": "code",
   "execution_count": null,
   "id": "4c530612",
   "metadata": {
    "hidden": true
   },
   "outputs": [],
   "source": [
    "df.columns #to get column names"
   ]
  },
  {
   "cell_type": "code",
   "execution_count": null,
   "id": "0810ed99",
   "metadata": {
    "hidden": true
   },
   "outputs": [],
   "source": [
    "df[df.index ==\"3_9_M\"] #to just get rows with this index name"
   ]
  },
  {
   "cell_type": "code",
   "execution_count": null,
   "id": "af04b465",
   "metadata": {
    "hidden": true
   },
   "outputs": [],
   "source": [
    "tissue.obs.groupby([\"age\",'mouse.id', 'cell_ontology_class'])['cell'].count()"
   ]
  },
  {
   "cell_type": "markdown",
   "id": "c3569185",
   "metadata": {
    "hidden": true
   },
   "source": [
    "Aaron explained what this graph represents, max, min and median of y input."
   ]
  },
  {
   "cell_type": "code",
   "execution_count": null,
   "id": "bd17d5bc",
   "metadata": {
    "hidden": true
   },
   "outputs": [],
   "source": [
    "dd = df2.groupby([\"mouse.id\", \"Cell Type\"]).sum().reset_index()\n",
    "\n",
    "sns.catplot(data = dd, x = 'mouse.id', y = 'Cell Type/Tissue %', kind = \"box\")\n",
    "plt.xticks(rotation=90);"
   ]
  },
  {
   "cell_type": "code",
   "execution_count": null,
   "id": "a6a05fdd",
   "metadata": {
    "hidden": true
   },
   "outputs": [],
   "source": [
    "dd[dd['mouse.id'] == '18_45_M'].median() #can see median here is same as median in catplot graph"
   ]
  },
  {
   "cell_type": "code",
   "execution_count": null,
   "id": "550ea0f8",
   "metadata": {
    "hidden": true
   },
   "outputs": [],
   "source": []
  },
  {
   "cell_type": "markdown",
   "id": "f5b53a20",
   "metadata": {
    "hidden": true
   },
   "source": [
    "Example of creating a dataframe straight from adata object"
   ]
  },
  {
   "cell_type": "code",
   "execution_count": null,
   "id": "b874a779",
   "metadata": {
    "hidden": true
   },
   "outputs": [],
   "source": [
    "df=pd.DataFrame(tissue.obs.groupby([\"age\",'mouse.id', 'cell_ontology_class'])[\"cell\"].count()).reset_index()\n",
    "#get intermediate sums per mouse.id\n",
    "sns.catplot(data = df, x = 'cell_ontology_class', y = 'cell', hue = 'age', kind = \"box\")\n",
    "#get cell to %, to proportions"
   ]
  },
  {
   "cell_type": "markdown",
   "id": "d7263288",
   "metadata": {
    "hidden": true
   },
   "source": [
    "Example of how to look at particular genes"
   ]
  },
  {
   "cell_type": "code",
   "execution_count": null,
   "id": "a5dbfce1",
   "metadata": {
    "hidden": true
   },
   "outputs": [],
   "source": [
    "#mt-Atp6\n",
    "adata_mtAtp6 = adata[:,'mt-Atp6'].copy() \n",
    "#subsets adata object by cells that have this gene. var=mt-Atp6\n",
    "#AnnData object with n_obs × n_vars = 103180 × 1\n",
    "\n",
    "adata_mtAtp6 = adata_mtAtp6[adata_mtAtp6.obs.cell_ontology_class=='macrophage'].copy() \n",
    "#now filtering to just macrophages\n",
    "#Should loop through macrophages_in_tissues dictionary\n",
    "\n",
    "adata_mtAtp6.obs[\"mt-Atp6\"]=adata_mtAtp6.X #creates mt-Atp6 column!\n",
    "\n",
    "adata_mtAtp6 = adata_mtAtp6.obs.copy()"
   ]
  },
  {
   "cell_type": "markdown",
   "id": "131ad62a",
   "metadata": {
    "hidden": true
   },
   "source": [
    "Example of how to plot gene"
   ]
  },
  {
   "cell_type": "code",
   "execution_count": null,
   "id": "84009f6f",
   "metadata": {
    "hidden": true
   },
   "outputs": [],
   "source": [
    "\n",
    "sns.catplot(data = adata_mtAtp6, x='age', y = 'mt-Atp6', col = 'tissue',col_wrap=3, kind = 'box')"
   ]
  },
  {
   "cell_type": "markdown",
   "id": "8215fe07",
   "metadata": {
    "heading_collapsed": true
   },
   "source": [
    "# STATISTICS"
   ]
  },
  {
   "cell_type": "code",
   "execution_count": null,
   "id": "66a668b2",
   "metadata": {
    "hidden": true
   },
   "outputs": [],
   "source": []
  },
  {
   "cell_type": "code",
   "execution_count": null,
   "id": "4a03d81d",
   "metadata": {
    "hidden": true
   },
   "outputs": [],
   "source": []
  },
  {
   "cell_type": "markdown",
   "id": "77837e25",
   "metadata": {
    "heading_collapsed": true
   },
   "source": [
    "# Play Area"
   ]
  },
  {
   "cell_type": "code",
   "execution_count": null,
   "id": "45463eca",
   "metadata": {
    "hidden": true
   },
   "outputs": [],
   "source": [
    "import dash_bio"
   ]
  },
  {
   "cell_type": "code",
   "execution_count": null,
   "id": "1a505a31",
   "metadata": {
    "hidden": true
   },
   "outputs": [],
   "source": [
    "#dash_bio.VolcanoPlot(\n",
    "#    dataframe=checkin,\n",
    "#)\n",
    "help(dash_bio.VolcanoPlot)"
   ]
  },
  {
   "cell_type": "code",
   "execution_count": null,
   "id": "9e11ea95",
   "metadata": {
    "hidden": true
   },
   "outputs": [],
   "source": []
  },
  {
   "cell_type": "code",
   "execution_count": null,
   "id": "baa7c350",
   "metadata": {
    "hidden": true
   },
   "outputs": [],
   "source": [
    "tissue_gene_scores.var.index.tolist().index(\"Uqcrc1\")"
   ]
  },
  {
   "cell_type": "code",
   "execution_count": null,
   "id": "469be955",
   "metadata": {
    "hidden": true
   },
   "outputs": [],
   "source": [
    "tissue_gene_scores.obs.cell.tolist().index(\"G20_B000236\")"
   ]
  },
  {
   "cell_type": "code",
   "execution_count": null,
   "id": "70c87458",
   "metadata": {
    "hidden": true
   },
   "outputs": [],
   "source": [
    "dd = tissue_gene_scores[tissue_gene_scores.obs.cell == \"C1.B000827.3_38_F.1.1\", tissue_gene_scores.var.index == \"Uqcrc1\"]\n",
    "\n",
    "dd.X[0,0]"
   ]
  },
  {
   "cell_type": "code",
   "execution_count": null,
   "id": "23b64424",
   "metadata": {
    "hidden": true
   },
   "outputs": [],
   "source": [
    "tissue_gene_scores.X[3669, 52319]  "
   ]
  },
  {
   "cell_type": "code",
   "execution_count": null,
   "id": "d1b28604",
   "metadata": {
    "hidden": true
   },
   "outputs": [],
   "source": [
    "Uqcrc1 = tissue_gene_scores[:,'Uqcrc1'].copy()\n",
    "Uqcrc1.var"
   ]
  },
  {
   "cell_type": "code",
   "execution_count": null,
   "id": "40669c1e",
   "metadata": {
    "hidden": true
   },
   "outputs": [],
   "source": []
  },
  {
   "cell_type": "code",
   "execution_count": null,
   "id": "8de46b7c",
   "metadata": {
    "hidden": true
   },
   "outputs": [],
   "source": [
    "z = ['Nr4a1','Hmr', 'N10', 'TR3', 'Gfrp', 'Hbr1', 'NP10', 'TIS1', 'GFRP1', 'Hbr-1', 'NGFIB', 'nur77', 'NGFI-B', 'NUR77-1', 'NUR77-2']\n",
    "\n",
    "for i in z:\n",
    "    if i in list(tissue.var.index):    \n",
    "        print(i,'yup')   \n",
    "    else:       \n",
    "        print('nope')"
   ]
  }
 ],
 "metadata": {
  "kernelspec": {
   "display_name": "Python 3",
   "language": "python",
   "name": "python3"
  },
  "language_info": {
   "codemirror_mode": {
    "name": "ipython",
    "version": 3
   },
   "file_extension": ".py",
   "mimetype": "text/x-python",
   "name": "python",
   "nbconvert_exporter": "python",
   "pygments_lexer": "ipython3",
   "version": "3.8.8"
  },
  "toc": {
   "base_numbering": 1,
   "nav_menu": {},
   "number_sections": false,
   "sideBar": true,
   "skip_h1_title": false,
   "title_cell": "Table of Contents",
   "title_sidebar": "Contents",
   "toc_cell": false,
   "toc_position": {
    "height": "calc(100% - 180px)",
    "left": "10px",
    "top": "150px",
    "width": "224.4px"
   },
   "toc_section_display": true,
   "toc_window_display": true
  }
 },
 "nbformat": 4,
 "nbformat_minor": 5
}
